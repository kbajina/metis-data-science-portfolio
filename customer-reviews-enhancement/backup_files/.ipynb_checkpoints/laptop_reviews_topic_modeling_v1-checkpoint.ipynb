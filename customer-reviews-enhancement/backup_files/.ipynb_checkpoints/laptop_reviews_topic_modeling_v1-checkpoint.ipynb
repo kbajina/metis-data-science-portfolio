{
 "cells": [
  {
   "cell_type": "markdown",
   "metadata": {},
   "source": [
    "# AMAZON PC REVIEWS - NLP Topic Modeling\n",
    "---"
   ]
  },
  {
   "cell_type": "code",
   "execution_count": 93,
   "metadata": {},
   "outputs": [],
   "source": [
    "########################################\n",
    "## Standard Python Modules/ Functions ##\n",
    "########################################\n",
    "import numpy as np\n",
    "import pandas as pd\n",
    "import re\n",
    "import pprint\n",
    "from collections import defaultdict\n",
    "from collections import Counter\n",
    "import pickle\n",
    "\n",
    "\n",
    "import logging\n",
    "logging.basicConfig(format='%(asctime)s : %(levelname)s : %(message)s', level=logging.INFO)\n",
    "\n",
    "######################\n",
    "## Plotting Modules ##\n",
    "######################\n",
    "import matplotlib.pyplot as plt\n",
    "import seaborn as sns\n",
    "import plotly.graph_objects as go\n",
    "from plotly.subplots import make_subplots\n",
    "import plotly.figure_factory as ff\n",
    "\n",
    "%matplotlib inline\n",
    "\n",
    "############################\n",
    "## Classification Modules ##\n",
    "############################\n",
    "from imblearn.over_sampling import ADASYN\n",
    "from smote_variants import DBSMOTE\n",
    "from sklearn.utils import resample\n",
    "from sklearn.preprocessing import StandardScaler\n",
    "from sklearn.model_selection import train_test_split, RandomizedSearchCV, StratifiedKFold\n",
    "\n",
    "from sklearn.linear_model import LogisticRegression\n",
    "from sklearn.naive_bayes import MultinomialNB\n",
    "from sklearn.ensemble import RandomForestClassifier\n",
    "from xgboost import XGBClassifier\n",
    "\n",
    "from sklearn.metrics import precision_score, recall_score, accuracy_score, roc_auc_score, roc_curve\n",
    "from sklearn.metrics import precision_recall_curve,f1_score, fbeta_score, confusion_matrix, make_scorer\n",
    "\n",
    "#########################################\n",
    "## Natural Language Processing Modules ##\n",
    "#########################################\n",
    "import textstat\n",
    "import nltk\n",
    "from nltk import pos_tag\n",
    "from nltk.stem import WordNetLemmatizer, PorterStemmer\n",
    "from nltk.corpus import stopwords, wordnet\n",
    "from nltk.tokenize import word_tokenize\n",
    "from sklearn.feature_extraction.text import CountVectorizer, TfidfVectorizer\n",
    "from gensim import corpora, models, similarities, matutils\n",
    "from gensim.models import Word2Vec\n",
    "\n",
    "##########################################\n",
    "## Clustering & Dimensionanlity Modules ##\n",
    "##########################################\n",
    "from sklearn.decomposition import TruncatedSVD, NMF\n",
    "from sklearn.cluster import DBSCAN, KMeans, MeanShift"
   ]
  },
  {
   "cell_type": "markdown",
   "metadata": {},
   "source": [
    "---"
   ]
  },
  {
   "cell_type": "markdown",
   "metadata": {},
   "source": [
    "# Import Data:"
   ]
  },
  {
   "cell_type": "code",
   "execution_count": 4,
   "metadata": {},
   "outputs": [],
   "source": [
    "# filepath = 'amazon_pc_reviews_cleaned (v2).csv'"
   ]
  },
  {
   "cell_type": "code",
   "execution_count": 5,
   "metadata": {},
   "outputs": [],
   "source": [
    "# ## Import .csv file for PC Reviews\n",
    "# pc_df = pd.read_csv(filepath, delimiter='\\t')"
   ]
  },
  {
   "cell_type": "code",
   "execution_count": 6,
   "metadata": {},
   "outputs": [],
   "source": [
    "# ## Drop all rows that contain any null values\n",
    "# pc_df.dropna(how='any', inplace=True)"
   ]
  },
  {
   "cell_type": "code",
   "execution_count": 7,
   "metadata": {},
   "outputs": [],
   "source": [
    "# ## Reset the index after dropping null values\n",
    "# pc_df.reset_index(drop=True, inplace=True)"
   ]
  },
  {
   "cell_type": "markdown",
   "metadata": {},
   "source": [
    "---"
   ]
  },
  {
   "cell_type": "markdown",
   "metadata": {},
   "source": [
    "# TextStat Features:"
   ]
  },
  {
   "cell_type": "markdown",
   "metadata": {},
   "source": [
    "#### Sentence Count (Review Body):"
   ]
  },
  {
   "cell_type": "code",
   "execution_count": 8,
   "metadata": {},
   "outputs": [],
   "source": [
    "# pc_df['body_sentence_cnt'] = pd.Series(textstat.sentence_count(x) for x in pc_df['review_body'])"
   ]
  },
  {
   "cell_type": "markdown",
   "metadata": {},
   "source": [
    "#### Flesch Reading Ease Score (Review Body):\n",
    "\n",
    "The table below is an example of values.  \n",
    "While the maximum score is 121.22, there is no limit on how low the score can be.  \n",
    "A negative score is valid"
   ]
  },
  {
   "cell_type": "code",
   "execution_count": 9,
   "metadata": {},
   "outputs": [
    {
     "data": {
      "text/html": [
       "<style>\n",
       "table {float:left}\n",
       "</style>\n"
      ],
      "text/plain": [
       "<IPython.core.display.HTML object>"
      ]
     },
     "metadata": {},
     "output_type": "display_data"
    }
   ],
   "source": [
    "%%html\n",
    "<style>\n",
    "table {float:left}\n",
    "</style>"
   ]
  },
  {
   "cell_type": "markdown",
   "metadata": {},
   "source": [
    "|Score\t|Difficulty\n",
    "|-------|-----------|\n",
    "|90-100\t|Very Easy\n",
    "|80-89\t|Easy\n",
    "|70-79\t|Fairly Easy\n",
    "|60-69\t|Standard\n",
    "|50-59\t|Fairly Difficult\n",
    "|30-49\t|Difficult\n",
    "|0-29\t|Very Confusing"
   ]
  },
  {
   "cell_type": "code",
   "execution_count": 10,
   "metadata": {},
   "outputs": [],
   "source": [
    "# pc_df['body_flesch_reading_ease'] = pd.Series(textstat.flesch_reading_ease(x) for x in pc_df['review_body'])"
   ]
  },
  {
   "cell_type": "markdown",
   "metadata": {},
   "source": [
    "#### The Flesch-Kincaid Grade Level (Review Body):\n",
    "\n",
    "This is a grade formula in that a score of 9.3 means that a ninth grader would be able to read the document."
   ]
  },
  {
   "cell_type": "code",
   "execution_count": 11,
   "metadata": {},
   "outputs": [],
   "source": [
    "# pc_df['body_flesch_kincaid_grade'] = pd.Series(textstat.flesch_kincaid_grade(x) for x in pc_df['review_body'])"
   ]
  },
  {
   "cell_type": "markdown",
   "metadata": {},
   "source": [
    "---"
   ]
  },
  {
   "cell_type": "markdown",
   "metadata": {},
   "source": [
    "# Pickled DataFrame:\n",
    "`To avoid expensive computation performed above when re-running Notebook.`"
   ]
  },
  {
   "cell_type": "code",
   "execution_count": 12,
   "metadata": {},
   "outputs": [],
   "source": [
    "# pc_df.to_pickle('pc_reviews_data.pkl')"
   ]
  },
  {
   "cell_type": "code",
   "execution_count": 13,
   "metadata": {},
   "outputs": [],
   "source": [
    "pc_df = pd.read_pickle('pc_reviews_data.pkl')"
   ]
  },
  {
   "cell_type": "code",
   "execution_count": 14,
   "metadata": {},
   "outputs": [
    {
     "name": "stdout",
     "output_type": "stream",
     "text": [
      "<class 'pandas.core.frame.DataFrame'>\n",
      "RangeIndex: 6901412 entries, 0 to 6901411\n",
      "Data columns (total 23 columns):\n",
      "customer_id                  float64\n",
      "review_id                    object\n",
      "product_id                   object\n",
      "product_parent               float64\n",
      "product_title                object\n",
      "product_category             object\n",
      "star_rating                  float64\n",
      "helpful_votes                float64\n",
      "total_votes                  float64\n",
      "vine                         int64\n",
      "verified_purchase            int64\n",
      "review_headline              object\n",
      "review_body                  object\n",
      "review_date                  object\n",
      "clean_review_body            object\n",
      "clean_review_headline        object\n",
      "helpfullness_ratio           float64\n",
      "wc_review_headline           float64\n",
      "wc_review_body               float64\n",
      "target                       int64\n",
      "body_sentence_cnt            int64\n",
      "body_flesch_reading_ease     float64\n",
      "body_flesch_kincaid_grade    float64\n",
      "dtypes: float64(10), int64(4), object(9)\n",
      "memory usage: 1.2+ GB\n"
     ]
    }
   ],
   "source": [
    "pc_df.info()"
   ]
  },
  {
   "cell_type": "code",
   "execution_count": 15,
   "metadata": {},
   "outputs": [
    {
     "data": {
      "text/html": [
       "<div>\n",
       "<style scoped>\n",
       "    .dataframe tbody tr th:only-of-type {\n",
       "        vertical-align: middle;\n",
       "    }\n",
       "\n",
       "    .dataframe tbody tr th {\n",
       "        vertical-align: top;\n",
       "    }\n",
       "\n",
       "    .dataframe thead th {\n",
       "        text-align: right;\n",
       "    }\n",
       "</style>\n",
       "<table border=\"1\" class=\"dataframe\">\n",
       "  <thead>\n",
       "    <tr style=\"text-align: right;\">\n",
       "      <th></th>\n",
       "      <th>customer_id</th>\n",
       "      <th>review_id</th>\n",
       "      <th>product_id</th>\n",
       "      <th>product_parent</th>\n",
       "      <th>product_title</th>\n",
       "      <th>product_category</th>\n",
       "      <th>star_rating</th>\n",
       "      <th>helpful_votes</th>\n",
       "      <th>total_votes</th>\n",
       "      <th>vine</th>\n",
       "      <th>...</th>\n",
       "      <th>review_date</th>\n",
       "      <th>clean_review_body</th>\n",
       "      <th>clean_review_headline</th>\n",
       "      <th>helpfullness_ratio</th>\n",
       "      <th>wc_review_headline</th>\n",
       "      <th>wc_review_body</th>\n",
       "      <th>target</th>\n",
       "      <th>body_sentence_cnt</th>\n",
       "      <th>body_flesch_reading_ease</th>\n",
       "      <th>body_flesch_kincaid_grade</th>\n",
       "    </tr>\n",
       "  </thead>\n",
       "  <tbody>\n",
       "    <tr>\n",
       "      <th>0</th>\n",
       "      <td>51571469.0</td>\n",
       "      <td>R348IK2JAZJZ06</td>\n",
       "      <td>B004YLJNAE</td>\n",
       "      <td>805237341.0</td>\n",
       "      <td>Totoro on Branch Apple Macbook Vinyl Decal Lap...</td>\n",
       "      <td>PC</td>\n",
       "      <td>5.0</td>\n",
       "      <td>0.0</td>\n",
       "      <td>0.0</td>\n",
       "      <td>0</td>\n",
       "      <td>...</td>\n",
       "      <td>2013-06-07</td>\n",
       "      <td>this decal is as described i dont know about o...</td>\n",
       "      <td>perfect great service</td>\n",
       "      <td>0.0</td>\n",
       "      <td>3.0</td>\n",
       "      <td>20.0</td>\n",
       "      <td>0</td>\n",
       "      <td>2</td>\n",
       "      <td>69.79</td>\n",
       "      <td>6.0</td>\n",
       "    </tr>\n",
       "    <tr>\n",
       "      <th>1</th>\n",
       "      <td>29149498.0</td>\n",
       "      <td>R2RPUCGR6SR1R6</td>\n",
       "      <td>B0083PWAPW</td>\n",
       "      <td>270935683.0</td>\n",
       "      <td>Kindle Fire HD 7\", Dolby Audio, Dual-Band Wi-Fi</td>\n",
       "      <td>PC</td>\n",
       "      <td>3.0</td>\n",
       "      <td>1.0</td>\n",
       "      <td>10.0</td>\n",
       "      <td>0</td>\n",
       "      <td>...</td>\n",
       "      <td>2013-06-04</td>\n",
       "      <td>i quickly went from five star elation to an al...</td>\n",
       "      <td>short lived honeymoon period</td>\n",
       "      <td>0.1</td>\n",
       "      <td>4.0</td>\n",
       "      <td>510.0</td>\n",
       "      <td>0</td>\n",
       "      <td>1</td>\n",
       "      <td>-439.75</td>\n",
       "      <td>201.8</td>\n",
       "    </tr>\n",
       "  </tbody>\n",
       "</table>\n",
       "<p>2 rows × 23 columns</p>\n",
       "</div>"
      ],
      "text/plain": [
       "   customer_id       review_id  product_id  product_parent  \\\n",
       "0   51571469.0  R348IK2JAZJZ06  B004YLJNAE     805237341.0   \n",
       "1   29149498.0  R2RPUCGR6SR1R6  B0083PWAPW     270935683.0   \n",
       "\n",
       "                                       product_title product_category  \\\n",
       "0  Totoro on Branch Apple Macbook Vinyl Decal Lap...               PC   \n",
       "1    Kindle Fire HD 7\", Dolby Audio, Dual-Band Wi-Fi               PC   \n",
       "\n",
       "   star_rating  helpful_votes  total_votes  vine  ...  review_date  \\\n",
       "0          5.0            0.0          0.0     0  ...   2013-06-07   \n",
       "1          3.0            1.0         10.0     0  ...   2013-06-04   \n",
       "\n",
       "                                   clean_review_body  \\\n",
       "0  this decal is as described i dont know about o...   \n",
       "1  i quickly went from five star elation to an al...   \n",
       "\n",
       "          clean_review_headline helpfullness_ratio wc_review_headline  \\\n",
       "0         perfect great service                0.0                3.0   \n",
       "1  short lived honeymoon period                0.1                4.0   \n",
       "\n",
       "  wc_review_body  target  body_sentence_cnt  body_flesch_reading_ease  \\\n",
       "0           20.0       0                  2                     69.79   \n",
       "1          510.0       0                  1                   -439.75   \n",
       "\n",
       "   body_flesch_kincaid_grade  \n",
       "0                        6.0  \n",
       "1                      201.8  \n",
       "\n",
       "[2 rows x 23 columns]"
      ]
     },
     "execution_count": 15,
     "metadata": {},
     "output_type": "execute_result"
    }
   ],
   "source": [
    "pc_df.head(2)"
   ]
  },
  {
   "cell_type": "markdown",
   "metadata": {},
   "source": [
    "---"
   ]
  },
  {
   "cell_type": "markdown",
   "metadata": {},
   "source": [
    "# Text Pre-Processing:\n",
    "    1. Establish Stop Words\n",
    "    2. Define WordNet Lemmitizer with POS Tag"
   ]
  },
  {
   "cell_type": "markdown",
   "metadata": {},
   "source": [
    "### World Lemmitizer Using \"Parts of Speech\" (POS) Tag"
   ]
  },
  {
   "cell_type": "code",
   "execution_count": 16,
   "metadata": {},
   "outputs": [],
   "source": [
    "def get_pos_tag(word):\n",
    "    \"\"\" \n",
    "    Determine POS tag for a word, and return it's first character.\n",
    "    To be used in Lemmatize() function.\n",
    "    \"\"\"\n",
    "    # Dictionary for \"Parts of Speech\" Tags\n",
    "    tag_dict = {\"J\": wordnet.ADJ,\n",
    "                \"N\": wordnet.NOUN,\n",
    "                \"V\": wordnet.VERB,\n",
    "                \"R\": wordnet.ADV}\n",
    "    tag = pos_tag([word])[0][1][0].upper()\n",
    "    \n",
    "    return tag_dict.get(tag, wordnet.NOUN)\n",
    "    "
   ]
  },
  {
   "cell_type": "code",
   "execution_count": 17,
   "metadata": {},
   "outputs": [],
   "source": [
    "# ## Create class object for Lemmatization Tokenizer\n",
    "# ## Uses WordNetLemmatizer\n",
    "\n",
    "# class LemmaTokenizer(object):\n",
    "#     def __init__(self):\n",
    "#         self.wnl = WordNetLemmatizer()\n",
    "#     def __call__(self, doc):\n",
    "#         return [self.wnl.lemmatize(word, pos=get_pos_tag(word)) for word in word_tokenize(doc)]"
   ]
  },
  {
   "cell_type": "code",
   "execution_count": 18,
   "metadata": {},
   "outputs": [],
   "source": [
    "## Create class object for Lemmatization Tokenizer\n",
    "## Uses WordNetLemmatizer\n",
    "## Filter output to only include Nouns\n",
    "\n",
    "class LemmaTokenizer(object):\n",
    "    def __init__(self):\n",
    "        self.wnl = WordNetLemmatizer()\n",
    "    def __call__(self, doc):\n",
    "        return [self.wnl.lemmatize(word, pos=get_pos_tag(word)) for word in word_tokenize(doc) \n",
    "                if re.compile(r'NN').search(pos_tag([word])[0][1])]"
   ]
  },
  {
   "cell_type": "code",
   "execution_count": 19,
   "metadata": {},
   "outputs": [],
   "source": [
    "## Create class object for Stemmer Tokenizer\n",
    "## Uses PorderStemmer\n",
    "## Filter output to only include Nouns\n",
    "\n",
    "class PStemmer(object):\n",
    "    def __init__(self):\n",
    "        self.ps = PorterStemmer()\n",
    "    def __call__(self, doc):\n",
    "        return [self.ps.stem(word) for word in word_tokenize(doc) \n",
    "                if re.compile(r'NN').search(pos_tag([word])[0][1])] "
   ]
  },
  {
   "cell_type": "markdown",
   "metadata": {},
   "source": [
    "### Define All Stop Words"
   ]
  },
  {
   "cell_type": "code",
   "execution_count": 20,
   "metadata": {},
   "outputs": [],
   "source": [
    "## Define \"english\" stopwords\n",
    "stop_words = set(stopwords.words('english'))"
   ]
  },
  {
   "cell_type": "code",
   "execution_count": 21,
   "metadata": {},
   "outputs": [],
   "source": [
    "## Add additional words to stopwords set\n",
    "stop_words = stop_words.union({'pc', 'computer','laptop','macbook','notebook','ultrabook', 'mac', 'window', 'xps',\n",
    "                               'hp','asus','lenovo','acer', 'dell','apple', 'air', 'pro', 'tablet'})"
   ]
  },
  {
   "cell_type": "code",
   "execution_count": 22,
   "metadata": {},
   "outputs": [],
   "source": [
    "## New list of stop words that are Lemmatized (to match lemma-tokenized bag of words)\n",
    "stop_lem = WordNetLemmatizer()\n",
    "lem_stopwords = [stop_lem.lemmatize(word, pos=get_pos_tag(word)) for word in stop_words]"
   ]
  },
  {
   "cell_type": "code",
   "execution_count": 23,
   "metadata": {},
   "outputs": [],
   "source": [
    "stop_stem = PorterStemmer()\n",
    "stem_stopwords = [stop_stem.stem(word) for word in stop_words \n",
    "                if re.compile(r'NN').search(pos_tag([word])[0][1])]"
   ]
  },
  {
   "cell_type": "markdown",
   "metadata": {},
   "source": [
    "---"
   ]
  },
  {
   "cell_type": "markdown",
   "metadata": {},
   "source": [
    "# Amazon PC Sub-Category (Laptops):\n",
    "In order to improve results of topic modeling, focus on finding topics relevant to reviews that are for laptops only. The \"PC Category\" from Amazon Reviews data contains many PC related accessory products."
   ]
  },
  {
   "cell_type": "code",
   "execution_count": 24,
   "metadata": {},
   "outputs": [
    {
     "name": "stderr",
     "output_type": "stream",
     "text": [
      "/home/ubuntu/anaconda3/lib/python3.7/site-packages/pandas/core/strings.py:1843: UserWarning:\n",
      "\n",
      "This pattern has match groups. To actually get the groups, use str.extract.\n",
      "\n"
     ]
    }
   ],
   "source": [
    "laptops_df = pc_df.loc[(pc_df['product_title']\n",
    "                  .str.contains(r'(Apple|HP|ASUS|Lenovo|Acer|Dell).*(-inch|-Inch).*(Laptop|laptop|Notebook|notebook|Ultrabook|ultrabook)'))]\n"
   ]
  },
  {
   "cell_type": "code",
   "execution_count": 25,
   "metadata": {},
   "outputs": [],
   "source": [
    "# Separate majority and minority classes\n",
    "df_majority = laptops_df[laptops_df['target']==0]\n",
    "df_minority = laptops_df[laptops_df['target']==1]"
   ]
  },
  {
   "cell_type": "code",
   "execution_count": 26,
   "metadata": {
    "scrolled": false
   },
   "outputs": [
    {
     "data": {
      "text/plain": [
       "((80548, 23), (5344, 23))"
      ]
     },
     "execution_count": 26,
     "metadata": {},
     "output_type": "execute_result"
    }
   ],
   "source": [
    "df_majority.shape, df_minority.shape"
   ]
  },
  {
   "cell_type": "code",
   "execution_count": 27,
   "metadata": {},
   "outputs": [
    {
     "data": {
      "text/plain": [
       "1    5344\n",
       "0    5344\n",
       "Name: target, dtype: int64"
      ]
     },
     "execution_count": 27,
     "metadata": {},
     "output_type": "execute_result"
    }
   ],
   "source": [
    "# Downsample majority class\n",
    "df_majority_downsampled = resample(df_majority, \n",
    "                                 replace=False,    # sample without replacement\n",
    "                                 n_samples=5344, # to match minority class\n",
    "                                 random_state=42)  # reproducible results\n",
    "    \n",
    "# Combine minority class with downsampled majority class\n",
    "laptop_downsampled_df = pd.concat([df_majority_downsampled, df_minority])\n",
    " \n",
    "# Display new class counts\n",
    "laptop_downsampled_df['target'].value_counts()"
   ]
  },
  {
   "cell_type": "code",
   "execution_count": 28,
   "metadata": {},
   "outputs": [],
   "source": [
    "## Reset the index values after down sampling\n",
    "laptop_downsampled_df.reset_index(drop=True, inplace=True)"
   ]
  },
  {
   "cell_type": "markdown",
   "metadata": {},
   "source": [
    "---"
   ]
  },
  {
   "cell_type": "markdown",
   "metadata": {},
   "source": [
    "# Word Vectorization:"
   ]
  },
  {
   "cell_type": "code",
   "execution_count": 29,
   "metadata": {},
   "outputs": [],
   "source": [
    "helpful_laptop_reviews = laptop_downsampled_df.loc[(laptop_downsampled_df['target']==1) \n",
    "                                                  & (laptop_downsampled_df['helpfullness_ratio'] >0.8)\n",
    "                                                  & (laptop_downsampled_df['total_votes'] >50)]['clean_review_body']"
   ]
  },
  {
   "cell_type": "markdown",
   "metadata": {},
   "source": [
    "### Count Vectorizer (for LDA):"
   ]
  },
  {
   "cell_type": "code",
   "execution_count": 30,
   "metadata": {
    "scrolled": false
   },
   "outputs": [
    {
     "name": "stderr",
     "output_type": "stream",
     "text": [
      "/home/ubuntu/anaconda3/lib/python3.7/site-packages/sklearn/feature_extraction/text.py:300: UserWarning:\n",
      "\n",
      "Your stop_words may be inconsistent with your preprocessing. Tokenizing the stop words generated tokens ['appl', 'asu', 'comput', 'need', 'ourselv', 'sha', 'xp', 'yourselv'] not in stop_words.\n",
      "\n"
     ]
    }
   ],
   "source": [
    "cv1 = CountVectorizer(stop_words=stop_words, ngram_range=(1,1), tokenizer=PStemmer())\n",
    "\n",
    "doc_words = cv1.fit_transform(helpful_laptop_reviews).transpose()"
   ]
  },
  {
   "cell_type": "code",
   "execution_count": 31,
   "metadata": {},
   "outputs": [],
   "source": [
    "## Pickle cv1 CountVectorizer\n",
    "pickle_out = open('laptops_cv1.pkl', 'wb') \n",
    "\n",
    "pickle.dump(cv1, pickle_out)                      \n",
    "pickle_out.close() "
   ]
  },
  {
   "cell_type": "code",
   "execution_count": 32,
   "metadata": {},
   "outputs": [],
   "source": [
    "## Pickle doc_words Matrix\n",
    "pickle_out = open('laptops_doc_words.pkl', 'wb') \n",
    "\n",
    "pickle.dump(doc_words, pickle_out)                      \n",
    "pickle_out.close() "
   ]
  },
  {
   "cell_type": "code",
   "execution_count": 33,
   "metadata": {},
   "outputs": [],
   "source": [
    "## Open pickled cv1 CountVectorizer\n",
    "pickle_in = open('laptops_cv1.pkl', 'rb') \n",
    "\n",
    "cv1 = pickle.load(pickle_in)"
   ]
  },
  {
   "cell_type": "code",
   "execution_count": 34,
   "metadata": {},
   "outputs": [],
   "source": [
    "## Open pickled doc_words Matrix\n",
    "pickle_in = open('laptops_doc_words.pkl', 'rb') \n",
    "\n",
    "doc_words = pickle.load(pickle_in)"
   ]
  },
  {
   "cell_type": "markdown",
   "metadata": {},
   "source": [
    "### Convert to Gensim:\n",
    "Convert our `doc_words` matrix to a `gensim`-friendly object called a Corpus."
   ]
  },
  {
   "cell_type": "code",
   "execution_count": 35,
   "metadata": {},
   "outputs": [],
   "source": [
    "# Convert sparse matrix of counts to a gensim corpus\n",
    "corpus = matutils.Sparse2Corpus(doc_words)"
   ]
  },
  {
   "cell_type": "code",
   "execution_count": 36,
   "metadata": {},
   "outputs": [],
   "source": [
    "## Creating mapping of matrix row id (document) to a word\n",
    "## v = row id, k= vocab\n",
    "id2word = dict((v, k) for k, v in cv1.vocabulary_.items())"
   ]
  },
  {
   "cell_type": "markdown",
   "metadata": {},
   "source": [
    "---"
   ]
  },
  {
   "cell_type": "markdown",
   "metadata": {},
   "source": [
    "# LDA Model:"
   ]
  },
  {
   "cell_type": "markdown",
   "metadata": {},
   "source": [
    "### Create Model:"
   ]
  },
  {
   "cell_type": "code",
   "execution_count": 37,
   "metadata": {
    "scrolled": true
   },
   "outputs": [
    {
     "name": "stderr",
     "output_type": "stream",
     "text": [
      "2019-11-21 00:37:21,481 : INFO : using symmetric alpha at 0.3333333333333333\n",
      "2019-11-21 00:37:21,482 : INFO : using symmetric eta at 0.3333333333333333\n",
      "2019-11-21 00:37:21,483 : INFO : using serial LDA version on this node\n",
      "2019-11-21 00:37:21,486 : INFO : running online (multi-pass) LDA training, 3 topics, 40 passes over the supplied corpus of 851 documents, updating model once every 851 documents, evaluating perplexity every 851 documents, iterating 50x with a convergence threshold of 0.001000\n",
      "2019-11-21 00:37:22,534 : INFO : -9.661 per-word bound, 809.7 perplexity estimate based on a held-out corpus of 851 documents with 189244 words\n",
      "2019-11-21 00:37:22,534 : INFO : PROGRESS: pass 0, at document #851/851\n",
      "2019-11-21 00:37:23,034 : INFO : topic #0 (0.333): 0.013*\"screen\" + 0.009*\"batteri\" + 0.009*\"gb\" + 0.008*\"machin\" + 0.008*\"time\" + 0.007*\"keyboard\" + 0.007*\"drive\" + 0.007*\"use\" + 0.007*\"asu\" + 0.006*\"need\"\n",
      "2019-11-21 00:37:23,035 : INFO : topic #1 (0.333): 0.013*\"drive\" + 0.012*\"use\" + 0.010*\"batteri\" + 0.009*\"comput\" + 0.009*\"keyboard\" + 0.008*\"gb\" + 0.007*\"time\" + 0.007*\"screen\" + 0.006*\"price\" + 0.006*\"work\"\n",
      "2019-11-21 00:37:23,035 : INFO : topic #2 (0.333): 0.014*\"comput\" + 0.013*\"screen\" + 0.013*\"use\" + 0.009*\"keyboard\" + 0.009*\"drive\" + 0.007*\"batteri\" + 0.007*\"im\" + 0.007*\"work\" + 0.007*\"gb\" + 0.006*\"need\"\n",
      "2019-11-21 00:37:23,035 : INFO : topic diff=2.127961, rho=1.000000\n",
      "2019-11-21 00:37:24,069 : INFO : -7.307 per-word bound, 158.4 perplexity estimate based on a held-out corpus of 851 documents with 189244 words\n",
      "2019-11-21 00:37:24,070 : INFO : PROGRESS: pass 1, at document #851/851\n",
      "2019-11-21 00:37:24,553 : INFO : topic #0 (0.333): 0.013*\"screen\" + 0.010*\"batteri\" + 0.010*\"gb\" + 0.009*\"machin\" + 0.008*\"time\" + 0.007*\"keyboard\" + 0.007*\"asu\" + 0.007*\"use\" + 0.007*\"life\" + 0.006*\"need\"\n",
      "2019-11-21 00:37:24,554 : INFO : topic #1 (0.333): 0.015*\"drive\" + 0.012*\"use\" + 0.009*\"batteri\" + 0.009*\"gb\" + 0.008*\"keyboard\" + 0.008*\"comput\" + 0.007*\"screen\" + 0.007*\"price\" + 0.007*\"time\" + 0.006*\"work\"\n",
      "2019-11-21 00:37:24,554 : INFO : topic #2 (0.333): 0.014*\"comput\" + 0.013*\"screen\" + 0.013*\"use\" + 0.009*\"keyboard\" + 0.008*\"drive\" + 0.007*\"im\" + 0.007*\"work\" + 0.007*\"batteri\" + 0.006*\"updat\" + 0.006*\"thing\"\n",
      "2019-11-21 00:37:24,555 : INFO : topic diff=0.315158, rho=0.577350\n",
      "2019-11-21 00:37:25,570 : INFO : -7.273 per-word bound, 154.7 perplexity estimate based on a held-out corpus of 851 documents with 189244 words\n",
      "2019-11-21 00:37:25,571 : INFO : PROGRESS: pass 2, at document #851/851\n",
      "2019-11-21 00:37:26,039 : INFO : topic #0 (0.333): 0.012*\"screen\" + 0.011*\"batteri\" + 0.010*\"gb\" + 0.010*\"machin\" + 0.007*\"asu\" + 0.007*\"use\" + 0.007*\"time\" + 0.007*\"keyboard\" + 0.007*\"life\" + 0.007*\"appl\"\n",
      "2019-11-21 00:37:26,040 : INFO : topic #1 (0.333): 0.016*\"drive\" + 0.011*\"use\" + 0.010*\"gb\" + 0.009*\"batteri\" + 0.008*\"keyboard\" + 0.007*\"screen\" + 0.007*\"comput\" + 0.007*\"price\" + 0.006*\"time\" + 0.006*\"model\"\n",
      "2019-11-21 00:37:26,040 : INFO : topic #2 (0.333): 0.014*\"comput\" + 0.013*\"screen\" + 0.013*\"use\" + 0.010*\"keyboard\" + 0.008*\"drive\" + 0.007*\"work\" + 0.007*\"im\" + 0.007*\"batteri\" + 0.006*\"thing\" + 0.006*\"updat\"\n",
      "2019-11-21 00:37:26,041 : INFO : topic diff=0.243231, rho=0.500000\n",
      "2019-11-21 00:37:27,049 : INFO : -7.253 per-word bound, 152.5 perplexity estimate based on a held-out corpus of 851 documents with 189244 words\n",
      "2019-11-21 00:37:27,049 : INFO : PROGRESS: pass 3, at document #851/851\n",
      "2019-11-21 00:37:27,512 : INFO : topic #0 (0.333): 0.012*\"screen\" + 0.011*\"batteri\" + 0.010*\"gb\" + 0.010*\"machin\" + 0.008*\"use\" + 0.008*\"asu\" + 0.007*\"appl\" + 0.007*\"life\" + 0.007*\"time\" + 0.007*\"keyboard\"\n",
      "2019-11-21 00:37:27,512 : INFO : topic #1 (0.333): 0.016*\"drive\" + 0.011*\"use\" + 0.011*\"gb\" + 0.009*\"batteri\" + 0.008*\"screen\" + 0.008*\"keyboard\" + 0.007*\"price\" + 0.007*\"comput\" + 0.006*\"model\" + 0.006*\"time\"\n",
      "2019-11-21 00:37:27,513 : INFO : topic #2 (0.333): 0.014*\"comput\" + 0.013*\"screen\" + 0.013*\"use\" + 0.010*\"keyboard\" + 0.008*\"work\" + 0.007*\"im\" + 0.007*\"drive\" + 0.007*\"batteri\" + 0.006*\"time\" + 0.006*\"thing\"\n",
      "2019-11-21 00:37:27,513 : INFO : topic diff=0.166229, rho=0.447214\n",
      "2019-11-21 00:37:28,521 : INFO : -7.242 per-word bound, 151.4 perplexity estimate based on a held-out corpus of 851 documents with 189244 words\n",
      "2019-11-21 00:37:28,521 : INFO : PROGRESS: pass 4, at document #851/851\n",
      "2019-11-21 00:37:28,977 : INFO : topic #0 (0.333): 0.012*\"screen\" + 0.011*\"batteri\" + 0.011*\"gb\" + 0.010*\"machin\" + 0.008*\"use\" + 0.008*\"appl\" + 0.008*\"asu\" + 0.007*\"model\" + 0.007*\"life\" + 0.007*\"drive\"\n",
      "2019-11-21 00:37:28,978 : INFO : topic #1 (0.333): 0.016*\"drive\" + 0.011*\"gb\" + 0.011*\"use\" + 0.009*\"batteri\" + 0.008*\"screen\" + 0.008*\"keyboard\" + 0.007*\"price\" + 0.006*\"model\" + 0.006*\"comput\" + 0.006*\"time\"\n",
      "2019-11-21 00:37:28,978 : INFO : topic #2 (0.333): 0.014*\"comput\" + 0.013*\"screen\" + 0.012*\"use\" + 0.010*\"keyboard\" + 0.008*\"work\" + 0.007*\"im\" + 0.007*\"drive\" + 0.007*\"batteri\" + 0.007*\"time\" + 0.006*\"thing\"\n",
      "2019-11-21 00:37:28,979 : INFO : topic diff=0.115384, rho=0.408248\n",
      "2019-11-21 00:37:29,983 : INFO : -7.236 per-word bound, 150.7 perplexity estimate based on a held-out corpus of 851 documents with 189244 words\n",
      "2019-11-21 00:37:29,983 : INFO : PROGRESS: pass 5, at document #851/851\n",
      "2019-11-21 00:37:30,436 : INFO : topic #0 (0.333): 0.012*\"batteri\" + 0.011*\"screen\" + 0.011*\"gb\" + 0.010*\"machin\" + 0.008*\"appl\" + 0.008*\"use\" + 0.008*\"asu\" + 0.007*\"model\" + 0.007*\"life\" + 0.007*\"drive\"\n",
      "2019-11-21 00:37:30,436 : INFO : topic #1 (0.333): 0.017*\"drive\" + 0.011*\"gb\" + 0.010*\"use\" + 0.009*\"screen\" + 0.008*\"batteri\" + 0.008*\"keyboard\" + 0.007*\"price\" + 0.006*\"model\" + 0.006*\"usb\" + 0.006*\"time\"\n",
      "2019-11-21 00:37:30,437 : INFO : topic #2 (0.333): 0.013*\"comput\" + 0.013*\"screen\" + 0.012*\"use\" + 0.010*\"keyboard\" + 0.008*\"work\" + 0.007*\"im\" + 0.007*\"drive\" + 0.007*\"batteri\" + 0.007*\"time\" + 0.007*\"thing\"\n",
      "2019-11-21 00:37:30,437 : INFO : topic diff=0.082420, rho=0.377964\n",
      "2019-11-21 00:37:31,432 : INFO : -7.232 per-word bound, 150.3 perplexity estimate based on a held-out corpus of 851 documents with 189244 words\n",
      "2019-11-21 00:37:31,432 : INFO : PROGRESS: pass 6, at document #851/851\n",
      "2019-11-21 00:37:31,884 : INFO : topic #0 (0.333): 0.012*\"batteri\" + 0.011*\"screen\" + 0.011*\"gb\" + 0.010*\"machin\" + 0.009*\"appl\" + 0.008*\"use\" + 0.008*\"asu\" + 0.008*\"model\" + 0.007*\"life\" + 0.007*\"drive\"\n",
      "2019-11-21 00:37:31,885 : INFO : topic #1 (0.333): 0.017*\"drive\" + 0.012*\"gb\" + 0.010*\"use\" + 0.009*\"screen\" + 0.008*\"batteri\" + 0.008*\"keyboard\" + 0.007*\"price\" + 0.006*\"model\" + 0.006*\"usb\" + 0.006*\"time\"\n",
      "2019-11-21 00:37:31,886 : INFO : topic #2 (0.333): 0.013*\"comput\" + 0.013*\"screen\" + 0.012*\"use\" + 0.010*\"keyboard\" + 0.008*\"work\" + 0.007*\"im\" + 0.007*\"drive\" + 0.007*\"time\" + 0.007*\"batteri\" + 0.007*\"thing\"\n",
      "2019-11-21 00:37:31,886 : INFO : topic diff=0.061093, rho=0.353553\n",
      "2019-11-21 00:37:32,877 : INFO : -7.229 per-word bound, 150.0 perplexity estimate based on a held-out corpus of 851 documents with 189244 words\n",
      "2019-11-21 00:37:32,878 : INFO : PROGRESS: pass 7, at document #851/851\n",
      "2019-11-21 00:37:33,327 : INFO : topic #0 (0.333): 0.012*\"batteri\" + 0.011*\"gb\" + 0.011*\"screen\" + 0.010*\"machin\" + 0.009*\"appl\" + 0.008*\"use\" + 0.008*\"model\" + 0.008*\"asu\" + 0.007*\"life\" + 0.007*\"drive\"\n",
      "2019-11-21 00:37:33,328 : INFO : topic #1 (0.333): 0.017*\"drive\" + 0.012*\"gb\" + 0.010*\"use\" + 0.009*\"screen\" + 0.008*\"batteri\" + 0.007*\"keyboard\" + 0.007*\"price\" + 0.007*\"usb\" + 0.006*\"model\" + 0.006*\"ssd\"\n",
      "2019-11-21 00:37:33,328 : INFO : topic #2 (0.333): 0.013*\"comput\" + 0.013*\"screen\" + 0.012*\"use\" + 0.010*\"keyboard\" + 0.008*\"work\" + 0.007*\"im\" + 0.007*\"time\" + 0.007*\"batteri\" + 0.007*\"drive\" + 0.007*\"dont\"\n",
      "2019-11-21 00:37:33,329 : INFO : topic diff=0.047478, rho=0.333333\n",
      "2019-11-21 00:37:34,317 : INFO : -7.226 per-word bound, 149.7 perplexity estimate based on a held-out corpus of 851 documents with 189244 words\n",
      "2019-11-21 00:37:34,317 : INFO : PROGRESS: pass 8, at document #851/851\n",
      "2019-11-21 00:37:34,759 : INFO : topic #0 (0.333): 0.012*\"batteri\" + 0.011*\"gb\" + 0.011*\"screen\" + 0.010*\"machin\" + 0.010*\"appl\" + 0.008*\"use\" + 0.008*\"model\" + 0.008*\"asu\" + 0.007*\"drive\" + 0.007*\"life\"\n",
      "2019-11-21 00:37:34,760 : INFO : topic #1 (0.333): 0.017*\"drive\" + 0.012*\"gb\" + 0.010*\"use\" + 0.009*\"screen\" + 0.008*\"batteri\" + 0.007*\"keyboard\" + 0.007*\"price\" + 0.007*\"usb\" + 0.007*\"ssd\" + 0.006*\"model\"\n"
     ]
    },
    {
     "name": "stderr",
     "output_type": "stream",
     "text": [
      "2019-11-21 00:37:34,760 : INFO : topic #2 (0.333): 0.013*\"comput\" + 0.013*\"screen\" + 0.012*\"use\" + 0.010*\"keyboard\" + 0.008*\"work\" + 0.007*\"im\" + 0.007*\"time\" + 0.007*\"batteri\" + 0.007*\"drive\" + 0.007*\"dont\"\n",
      "2019-11-21 00:37:34,760 : INFO : topic diff=0.038585, rho=0.316228\n",
      "2019-11-21 00:37:35,754 : INFO : -7.224 per-word bound, 149.5 perplexity estimate based on a held-out corpus of 851 documents with 189244 words\n",
      "2019-11-21 00:37:35,755 : INFO : PROGRESS: pass 9, at document #851/851\n",
      "2019-11-21 00:37:36,198 : INFO : topic #0 (0.333): 0.012*\"batteri\" + 0.012*\"gb\" + 0.011*\"screen\" + 0.010*\"machin\" + 0.010*\"appl\" + 0.008*\"use\" + 0.008*\"model\" + 0.008*\"asu\" + 0.007*\"drive\" + 0.007*\"life\"\n",
      "2019-11-21 00:37:36,199 : INFO : topic #1 (0.333): 0.017*\"drive\" + 0.013*\"gb\" + 0.010*\"use\" + 0.009*\"screen\" + 0.008*\"batteri\" + 0.007*\"keyboard\" + 0.007*\"price\" + 0.007*\"usb\" + 0.007*\"ssd\" + 0.006*\"model\"\n",
      "2019-11-21 00:37:36,199 : INFO : topic #2 (0.333): 0.013*\"screen\" + 0.013*\"comput\" + 0.012*\"use\" + 0.010*\"keyboard\" + 0.008*\"work\" + 0.007*\"im\" + 0.007*\"time\" + 0.007*\"batteri\" + 0.007*\"dont\" + 0.007*\"thing\"\n",
      "2019-11-21 00:37:36,200 : INFO : topic diff=0.032535, rho=0.301511\n",
      "2019-11-21 00:37:37,183 : INFO : -7.223 per-word bound, 149.4 perplexity estimate based on a held-out corpus of 851 documents with 189244 words\n",
      "2019-11-21 00:37:37,183 : INFO : PROGRESS: pass 10, at document #851/851\n",
      "2019-11-21 00:37:37,621 : INFO : topic #0 (0.333): 0.012*\"batteri\" + 0.012*\"gb\" + 0.010*\"screen\" + 0.010*\"appl\" + 0.010*\"machin\" + 0.008*\"use\" + 0.008*\"model\" + 0.008*\"drive\" + 0.008*\"asu\" + 0.007*\"life\"\n",
      "2019-11-21 00:37:37,622 : INFO : topic #1 (0.333): 0.017*\"drive\" + 0.013*\"gb\" + 0.010*\"use\" + 0.009*\"screen\" + 0.008*\"batteri\" + 0.007*\"keyboard\" + 0.007*\"price\" + 0.007*\"ssd\" + 0.007*\"usb\" + 0.006*\"model\"\n",
      "2019-11-21 00:37:37,622 : INFO : topic #2 (0.333): 0.013*\"screen\" + 0.013*\"comput\" + 0.012*\"use\" + 0.011*\"keyboard\" + 0.008*\"work\" + 0.007*\"im\" + 0.007*\"time\" + 0.007*\"batteri\" + 0.007*\"dont\" + 0.007*\"thing\"\n",
      "2019-11-21 00:37:37,622 : INFO : topic diff=0.028229, rho=0.288675\n",
      "2019-11-21 00:37:38,605 : INFO : -7.221 per-word bound, 149.2 perplexity estimate based on a held-out corpus of 851 documents with 189244 words\n",
      "2019-11-21 00:37:38,606 : INFO : PROGRESS: pass 11, at document #851/851\n",
      "2019-11-21 00:37:39,049 : INFO : topic #0 (0.333): 0.012*\"batteri\" + 0.012*\"gb\" + 0.011*\"appl\" + 0.010*\"screen\" + 0.010*\"machin\" + 0.009*\"model\" + 0.008*\"use\" + 0.008*\"drive\" + 0.007*\"asu\" + 0.007*\"life\"\n",
      "2019-11-21 00:37:39,049 : INFO : topic #1 (0.333): 0.018*\"drive\" + 0.013*\"gb\" + 0.009*\"use\" + 0.009*\"screen\" + 0.008*\"batteri\" + 0.007*\"keyboard\" + 0.007*\"price\" + 0.007*\"ssd\" + 0.007*\"usb\" + 0.006*\"processor\"\n",
      "2019-11-21 00:37:39,050 : INFO : topic #2 (0.333): 0.013*\"screen\" + 0.013*\"comput\" + 0.012*\"use\" + 0.011*\"keyboard\" + 0.008*\"work\" + 0.007*\"im\" + 0.007*\"time\" + 0.007*\"batteri\" + 0.007*\"dont\" + 0.007*\"thing\"\n",
      "2019-11-21 00:37:39,050 : INFO : topic diff=0.025101, rho=0.277350\n",
      "2019-11-21 00:37:40,057 : INFO : -7.220 per-word bound, 149.1 perplexity estimate based on a held-out corpus of 851 documents with 189244 words\n",
      "2019-11-21 00:37:40,058 : INFO : PROGRESS: pass 12, at document #851/851\n",
      "2019-11-21 00:37:40,494 : INFO : topic #0 (0.333): 0.012*\"batteri\" + 0.012*\"gb\" + 0.011*\"appl\" + 0.010*\"screen\" + 0.010*\"machin\" + 0.009*\"model\" + 0.008*\"use\" + 0.008*\"drive\" + 0.007*\"life\" + 0.007*\"asu\"\n",
      "2019-11-21 00:37:40,495 : INFO : topic #1 (0.333): 0.018*\"drive\" + 0.013*\"gb\" + 0.009*\"use\" + 0.009*\"screen\" + 0.008*\"batteri\" + 0.007*\"keyboard\" + 0.007*\"ssd\" + 0.007*\"price\" + 0.007*\"usb\" + 0.006*\"processor\"\n",
      "2019-11-21 00:37:40,495 : INFO : topic #2 (0.333): 0.013*\"screen\" + 0.013*\"comput\" + 0.012*\"use\" + 0.011*\"keyboard\" + 0.008*\"work\" + 0.007*\"im\" + 0.007*\"time\" + 0.007*\"batteri\" + 0.007*\"dont\" + 0.007*\"thing\"\n",
      "2019-11-21 00:37:40,495 : INFO : topic diff=0.022632, rho=0.267261\n",
      "2019-11-21 00:37:41,476 : INFO : -7.219 per-word bound, 149.0 perplexity estimate based on a held-out corpus of 851 documents with 189244 words\n",
      "2019-11-21 00:37:41,477 : INFO : PROGRESS: pass 13, at document #851/851\n",
      "2019-11-21 00:37:41,907 : INFO : topic #0 (0.333): 0.013*\"batteri\" + 0.012*\"gb\" + 0.011*\"appl\" + 0.010*\"screen\" + 0.010*\"machin\" + 0.009*\"model\" + 0.008*\"use\" + 0.008*\"drive\" + 0.008*\"comput\" + 0.007*\"life\"\n",
      "2019-11-21 00:37:41,908 : INFO : topic #1 (0.333): 0.018*\"drive\" + 0.013*\"gb\" + 0.009*\"use\" + 0.009*\"screen\" + 0.008*\"batteri\" + 0.007*\"ssd\" + 0.007*\"keyboard\" + 0.007*\"usb\" + 0.007*\"price\" + 0.006*\"processor\"\n",
      "2019-11-21 00:37:41,909 : INFO : topic #2 (0.333): 0.013*\"screen\" + 0.013*\"comput\" + 0.012*\"use\" + 0.011*\"keyboard\" + 0.008*\"work\" + 0.007*\"im\" + 0.007*\"time\" + 0.007*\"batteri\" + 0.007*\"dont\" + 0.007*\"thing\"\n",
      "2019-11-21 00:37:41,909 : INFO : topic diff=0.020731, rho=0.258199\n",
      "2019-11-21 00:37:42,894 : INFO : -7.218 per-word bound, 148.9 perplexity estimate based on a held-out corpus of 851 documents with 189244 words\n",
      "2019-11-21 00:37:42,895 : INFO : PROGRESS: pass 14, at document #851/851\n",
      "2019-11-21 00:37:43,327 : INFO : topic #0 (0.333): 0.013*\"batteri\" + 0.012*\"gb\" + 0.011*\"appl\" + 0.010*\"screen\" + 0.010*\"machin\" + 0.009*\"model\" + 0.008*\"use\" + 0.008*\"drive\" + 0.008*\"comput\" + 0.007*\"life\"\n",
      "2019-11-21 00:37:43,328 : INFO : topic #1 (0.333): 0.018*\"drive\" + 0.014*\"gb\" + 0.009*\"use\" + 0.009*\"screen\" + 0.008*\"batteri\" + 0.007*\"ssd\" + 0.007*\"usb\" + 0.007*\"keyboard\" + 0.007*\"price\" + 0.006*\"processor\"\n",
      "2019-11-21 00:37:43,328 : INFO : topic #2 (0.333): 0.013*\"screen\" + 0.013*\"comput\" + 0.012*\"use\" + 0.011*\"keyboard\" + 0.008*\"work\" + 0.007*\"im\" + 0.007*\"time\" + 0.007*\"batteri\" + 0.007*\"dont\" + 0.007*\"thing\"\n",
      "2019-11-21 00:37:43,329 : INFO : topic diff=0.019199, rho=0.250000\n",
      "2019-11-21 00:37:44,303 : INFO : -7.218 per-word bound, 148.8 perplexity estimate based on a held-out corpus of 851 documents with 189244 words\n",
      "2019-11-21 00:37:44,304 : INFO : PROGRESS: pass 15, at document #851/851\n",
      "2019-11-21 00:37:44,732 : INFO : topic #0 (0.333): 0.013*\"batteri\" + 0.013*\"gb\" + 0.012*\"appl\" + 0.010*\"screen\" + 0.010*\"machin\" + 0.009*\"model\" + 0.008*\"use\" + 0.008*\"drive\" + 0.008*\"comput\" + 0.008*\"life\"\n",
      "2019-11-21 00:37:44,733 : INFO : topic #1 (0.333): 0.018*\"drive\" + 0.014*\"gb\" + 0.009*\"screen\" + 0.009*\"use\" + 0.008*\"batteri\" + 0.007*\"ssd\" + 0.007*\"usb\" + 0.007*\"keyboard\" + 0.007*\"price\" + 0.006*\"processor\"\n",
      "2019-11-21 00:37:44,734 : INFO : topic #2 (0.333): 0.013*\"screen\" + 0.013*\"comput\" + 0.012*\"use\" + 0.011*\"keyboard\" + 0.008*\"work\" + 0.007*\"im\" + 0.007*\"time\" + 0.007*\"batteri\" + 0.007*\"dont\" + 0.007*\"thing\"\n",
      "2019-11-21 00:37:44,734 : INFO : topic diff=0.018007, rho=0.242536\n",
      "2019-11-21 00:37:45,707 : INFO : -7.217 per-word bound, 148.8 perplexity estimate based on a held-out corpus of 851 documents with 189244 words\n",
      "2019-11-21 00:37:45,707 : INFO : PROGRESS: pass 16, at document #851/851\n",
      "2019-11-21 00:37:46,130 : INFO : topic #0 (0.333): 0.013*\"gb\" + 0.013*\"batteri\" + 0.012*\"appl\" + 0.010*\"screen\" + 0.010*\"machin\" + 0.009*\"model\" + 0.008*\"use\" + 0.008*\"drive\" + 0.008*\"comput\" + 0.008*\"life\"\n",
      "2019-11-21 00:37:46,131 : INFO : topic #1 (0.333): 0.018*\"drive\" + 0.014*\"gb\" + 0.009*\"screen\" + 0.009*\"use\" + 0.008*\"batteri\" + 0.007*\"ssd\" + 0.007*\"usb\" + 0.007*\"keyboard\" + 0.007*\"price\" + 0.007*\"game\"\n",
      "2019-11-21 00:37:46,131 : INFO : topic #2 (0.333): 0.013*\"screen\" + 0.013*\"comput\" + 0.012*\"use\" + 0.011*\"keyboard\" + 0.008*\"work\" + 0.007*\"im\" + 0.007*\"time\" + 0.007*\"batteri\" + 0.007*\"dont\" + 0.007*\"thing\"\n",
      "2019-11-21 00:37:46,132 : INFO : topic diff=0.017033, rho=0.235702\n",
      "2019-11-21 00:37:47,101 : INFO : -7.216 per-word bound, 148.7 perplexity estimate based on a held-out corpus of 851 documents with 189244 words\n",
      "2019-11-21 00:37:47,101 : INFO : PROGRESS: pass 17, at document #851/851\n",
      "2019-11-21 00:37:47,524 : INFO : topic #0 (0.333): 0.013*\"gb\" + 0.013*\"batteri\" + 0.012*\"appl\" + 0.010*\"machin\" + 0.010*\"screen\" + 0.009*\"model\" + 0.008*\"use\" + 0.008*\"drive\" + 0.008*\"comput\" + 0.008*\"life\"\n",
      "2019-11-21 00:37:47,525 : INFO : topic #1 (0.333): 0.018*\"drive\" + 0.014*\"gb\" + 0.009*\"screen\" + 0.009*\"use\" + 0.008*\"batteri\" + 0.008*\"ssd\" + 0.007*\"usb\" + 0.007*\"keyboard\" + 0.007*\"price\" + 0.007*\"game\"\n",
      "2019-11-21 00:37:47,525 : INFO : topic #2 (0.333): 0.013*\"screen\" + 0.013*\"comput\" + 0.012*\"use\" + 0.011*\"keyboard\" + 0.008*\"work\" + 0.007*\"im\" + 0.007*\"time\" + 0.007*\"batteri\" + 0.007*\"dont\" + 0.007*\"thing\"\n"
     ]
    },
    {
     "name": "stderr",
     "output_type": "stream",
     "text": [
      "2019-11-21 00:37:47,526 : INFO : topic diff=0.016169, rho=0.229416\n",
      "2019-11-21 00:37:48,494 : INFO : -7.215 per-word bound, 148.6 perplexity estimate based on a held-out corpus of 851 documents with 189244 words\n",
      "2019-11-21 00:37:48,494 : INFO : PROGRESS: pass 18, at document #851/851\n",
      "2019-11-21 00:37:48,918 : INFO : topic #0 (0.333): 0.013*\"gb\" + 0.013*\"batteri\" + 0.012*\"appl\" + 0.010*\"machin\" + 0.010*\"screen\" + 0.010*\"model\" + 0.008*\"use\" + 0.008*\"drive\" + 0.008*\"comput\" + 0.008*\"life\"\n",
      "2019-11-21 00:37:48,918 : INFO : topic #1 (0.333): 0.018*\"drive\" + 0.014*\"gb\" + 0.009*\"screen\" + 0.009*\"use\" + 0.008*\"batteri\" + 0.008*\"ssd\" + 0.007*\"usb\" + 0.007*\"keyboard\" + 0.007*\"price\" + 0.007*\"game\"\n",
      "2019-11-21 00:37:48,919 : INFO : topic #2 (0.333): 0.013*\"screen\" + 0.012*\"comput\" + 0.012*\"use\" + 0.011*\"keyboard\" + 0.008*\"work\" + 0.007*\"im\" + 0.007*\"time\" + 0.007*\"batteri\" + 0.007*\"dont\" + 0.007*\"thing\"\n",
      "2019-11-21 00:37:48,919 : INFO : topic diff=0.015361, rho=0.223607\n",
      "2019-11-21 00:37:49,892 : INFO : -7.215 per-word bound, 148.6 perplexity estimate based on a held-out corpus of 851 documents with 189244 words\n",
      "2019-11-21 00:37:49,893 : INFO : PROGRESS: pass 19, at document #851/851\n",
      "2019-11-21 00:37:50,313 : INFO : topic #0 (0.333): 0.013*\"gb\" + 0.013*\"batteri\" + 0.012*\"appl\" + 0.010*\"model\" + 0.010*\"machin\" + 0.010*\"screen\" + 0.008*\"use\" + 0.008*\"drive\" + 0.008*\"comput\" + 0.008*\"life\"\n",
      "2019-11-21 00:37:50,314 : INFO : topic #1 (0.333): 0.019*\"drive\" + 0.014*\"gb\" + 0.009*\"screen\" + 0.009*\"use\" + 0.008*\"batteri\" + 0.008*\"ssd\" + 0.007*\"usb\" + 0.007*\"keyboard\" + 0.007*\"price\" + 0.007*\"game\"\n",
      "2019-11-21 00:37:50,314 : INFO : topic #2 (0.333): 0.013*\"screen\" + 0.012*\"comput\" + 0.012*\"use\" + 0.011*\"keyboard\" + 0.008*\"work\" + 0.007*\"im\" + 0.007*\"time\" + 0.007*\"batteri\" + 0.007*\"dont\" + 0.007*\"thing\"\n",
      "2019-11-21 00:37:50,315 : INFO : topic diff=0.014646, rho=0.218218\n",
      "2019-11-21 00:37:51,280 : INFO : -7.214 per-word bound, 148.5 perplexity estimate based on a held-out corpus of 851 documents with 189244 words\n",
      "2019-11-21 00:37:51,281 : INFO : PROGRESS: pass 20, at document #851/851\n",
      "2019-11-21 00:37:51,699 : INFO : topic #0 (0.333): 0.013*\"gb\" + 0.013*\"batteri\" + 0.013*\"appl\" + 0.010*\"model\" + 0.010*\"machin\" + 0.009*\"screen\" + 0.008*\"use\" + 0.008*\"drive\" + 0.008*\"comput\" + 0.008*\"life\"\n",
      "2019-11-21 00:37:51,700 : INFO : topic #1 (0.333): 0.019*\"drive\" + 0.014*\"gb\" + 0.009*\"screen\" + 0.009*\"use\" + 0.008*\"batteri\" + 0.008*\"ssd\" + 0.007*\"usb\" + 0.007*\"keyboard\" + 0.007*\"price\" + 0.007*\"game\"\n",
      "2019-11-21 00:37:51,700 : INFO : topic #2 (0.333): 0.013*\"screen\" + 0.012*\"comput\" + 0.012*\"use\" + 0.011*\"keyboard\" + 0.008*\"work\" + 0.007*\"im\" + 0.007*\"time\" + 0.007*\"batteri\" + 0.007*\"dont\" + 0.007*\"thing\"\n",
      "2019-11-21 00:37:51,701 : INFO : topic diff=0.013964, rho=0.213201\n",
      "2019-11-21 00:37:52,665 : INFO : -7.214 per-word bound, 148.4 perplexity estimate based on a held-out corpus of 851 documents with 189244 words\n",
      "2019-11-21 00:37:52,665 : INFO : PROGRESS: pass 21, at document #851/851\n",
      "2019-11-21 00:37:53,082 : INFO : topic #0 (0.333): 0.013*\"gb\" + 0.013*\"batteri\" + 0.013*\"appl\" + 0.010*\"model\" + 0.010*\"machin\" + 0.009*\"screen\" + 0.008*\"use\" + 0.008*\"drive\" + 0.008*\"comput\" + 0.008*\"life\"\n",
      "2019-11-21 00:37:53,083 : INFO : topic #1 (0.333): 0.019*\"drive\" + 0.015*\"gb\" + 0.009*\"screen\" + 0.009*\"use\" + 0.008*\"batteri\" + 0.008*\"ssd\" + 0.008*\"usb\" + 0.007*\"price\" + 0.007*\"keyboard\" + 0.007*\"game\"\n",
      "2019-11-21 00:37:53,083 : INFO : topic #2 (0.333): 0.013*\"screen\" + 0.012*\"comput\" + 0.012*\"use\" + 0.011*\"keyboard\" + 0.008*\"work\" + 0.007*\"im\" + 0.007*\"time\" + 0.007*\"batteri\" + 0.007*\"dont\" + 0.007*\"thing\"\n",
      "2019-11-21 00:37:53,084 : INFO : topic diff=0.013388, rho=0.208514\n",
      "2019-11-21 00:37:54,048 : INFO : -7.213 per-word bound, 148.4 perplexity estimate based on a held-out corpus of 851 documents with 189244 words\n",
      "2019-11-21 00:37:54,048 : INFO : PROGRESS: pass 22, at document #851/851\n",
      "2019-11-21 00:37:54,465 : INFO : topic #0 (0.333): 0.013*\"gb\" + 0.013*\"appl\" + 0.013*\"batteri\" + 0.010*\"model\" + 0.010*\"machin\" + 0.009*\"screen\" + 0.008*\"drive\" + 0.008*\"use\" + 0.008*\"comput\" + 0.008*\"life\"\n",
      "2019-11-21 00:37:54,466 : INFO : topic #1 (0.333): 0.019*\"drive\" + 0.015*\"gb\" + 0.009*\"screen\" + 0.009*\"use\" + 0.008*\"batteri\" + 0.008*\"ssd\" + 0.008*\"usb\" + 0.007*\"price\" + 0.007*\"keyboard\" + 0.007*\"game\"\n",
      "2019-11-21 00:37:54,467 : INFO : topic #2 (0.333): 0.013*\"screen\" + 0.012*\"use\" + 0.012*\"comput\" + 0.011*\"keyboard\" + 0.008*\"work\" + 0.007*\"im\" + 0.007*\"time\" + 0.007*\"batteri\" + 0.007*\"dont\" + 0.007*\"thing\"\n",
      "2019-11-21 00:37:54,467 : INFO : topic diff=0.012889, rho=0.204124\n",
      "2019-11-21 00:37:55,423 : INFO : -7.213 per-word bound, 148.3 perplexity estimate based on a held-out corpus of 851 documents with 189244 words\n",
      "2019-11-21 00:37:55,423 : INFO : PROGRESS: pass 23, at document #851/851\n",
      "2019-11-21 00:37:55,837 : INFO : topic #0 (0.333): 0.013*\"gb\" + 0.013*\"appl\" + 0.013*\"batteri\" + 0.010*\"model\" + 0.010*\"machin\" + 0.009*\"screen\" + 0.008*\"drive\" + 0.008*\"use\" + 0.008*\"comput\" + 0.008*\"life\"\n",
      "2019-11-21 00:37:55,837 : INFO : topic #1 (0.333): 0.019*\"drive\" + 0.015*\"gb\" + 0.009*\"screen\" + 0.009*\"use\" + 0.008*\"batteri\" + 0.008*\"ssd\" + 0.008*\"usb\" + 0.007*\"price\" + 0.007*\"keyboard\" + 0.007*\"game\"\n",
      "2019-11-21 00:37:55,838 : INFO : topic #2 (0.333): 0.013*\"screen\" + 0.012*\"use\" + 0.012*\"comput\" + 0.011*\"keyboard\" + 0.008*\"work\" + 0.007*\"im\" + 0.007*\"time\" + 0.007*\"batteri\" + 0.007*\"dont\" + 0.007*\"thing\"\n",
      "2019-11-21 00:37:55,838 : INFO : topic diff=0.012443, rho=0.200000\n",
      "2019-11-21 00:37:56,793 : INFO : -7.212 per-word bound, 148.3 perplexity estimate based on a held-out corpus of 851 documents with 189244 words\n",
      "2019-11-21 00:37:56,794 : INFO : PROGRESS: pass 24, at document #851/851\n",
      "2019-11-21 00:37:57,206 : INFO : topic #0 (0.333): 0.013*\"gb\" + 0.013*\"appl\" + 0.013*\"batteri\" + 0.010*\"model\" + 0.009*\"machin\" + 0.009*\"screen\" + 0.008*\"drive\" + 0.008*\"comput\" + 0.008*\"use\" + 0.008*\"life\"\n",
      "2019-11-21 00:37:57,207 : INFO : topic #1 (0.333): 0.019*\"drive\" + 0.015*\"gb\" + 0.009*\"screen\" + 0.009*\"use\" + 0.008*\"batteri\" + 0.008*\"ssd\" + 0.008*\"usb\" + 0.007*\"price\" + 0.007*\"keyboard\" + 0.007*\"game\"\n",
      "2019-11-21 00:37:57,207 : INFO : topic #2 (0.333): 0.013*\"screen\" + 0.012*\"use\" + 0.012*\"comput\" + 0.011*\"keyboard\" + 0.008*\"work\" + 0.007*\"im\" + 0.007*\"time\" + 0.007*\"batteri\" + 0.007*\"dont\" + 0.007*\"thing\"\n",
      "2019-11-21 00:37:57,208 : INFO : topic diff=0.012007, rho=0.196116\n",
      "2019-11-21 00:37:58,163 : INFO : -7.212 per-word bound, 148.3 perplexity estimate based on a held-out corpus of 851 documents with 189244 words\n",
      "2019-11-21 00:37:58,163 : INFO : PROGRESS: pass 25, at document #851/851\n",
      "2019-11-21 00:37:58,578 : INFO : topic #0 (0.333): 0.013*\"gb\" + 0.013*\"appl\" + 0.013*\"batteri\" + 0.010*\"model\" + 0.009*\"machin\" + 0.009*\"screen\" + 0.009*\"drive\" + 0.008*\"comput\" + 0.008*\"use\" + 0.008*\"life\"\n",
      "2019-11-21 00:37:58,578 : INFO : topic #1 (0.333): 0.019*\"drive\" + 0.015*\"gb\" + 0.009*\"screen\" + 0.009*\"use\" + 0.008*\"batteri\" + 0.008*\"ssd\" + 0.008*\"usb\" + 0.007*\"price\" + 0.007*\"game\" + 0.007*\"keyboard\"\n",
      "2019-11-21 00:37:58,579 : INFO : topic #2 (0.333): 0.013*\"screen\" + 0.012*\"use\" + 0.012*\"comput\" + 0.011*\"keyboard\" + 0.008*\"work\" + 0.007*\"time\" + 0.007*\"im\" + 0.007*\"batteri\" + 0.007*\"dont\" + 0.007*\"thing\"\n",
      "2019-11-21 00:37:58,579 : INFO : topic diff=0.011566, rho=0.192450\n",
      "2019-11-21 00:37:59,539 : INFO : -7.212 per-word bound, 148.2 perplexity estimate based on a held-out corpus of 851 documents with 189244 words\n",
      "2019-11-21 00:37:59,539 : INFO : PROGRESS: pass 26, at document #851/851\n",
      "2019-11-21 00:37:59,952 : INFO : topic #0 (0.333): 0.013*\"gb\" + 0.013*\"appl\" + 0.013*\"batteri\" + 0.011*\"model\" + 0.009*\"machin\" + 0.009*\"screen\" + 0.009*\"drive\" + 0.008*\"comput\" + 0.008*\"use\" + 0.008*\"life\"\n",
      "2019-11-21 00:37:59,952 : INFO : topic #1 (0.333): 0.019*\"drive\" + 0.015*\"gb\" + 0.009*\"screen\" + 0.009*\"use\" + 0.008*\"ssd\" + 0.008*\"batteri\" + 0.008*\"usb\" + 0.007*\"game\" + 0.007*\"price\" + 0.007*\"keyboard\"\n",
      "2019-11-21 00:37:59,953 : INFO : topic #2 (0.333): 0.013*\"screen\" + 0.012*\"use\" + 0.012*\"comput\" + 0.011*\"keyboard\" + 0.008*\"work\" + 0.008*\"time\" + 0.007*\"im\" + 0.007*\"batteri\" + 0.007*\"dont\" + 0.007*\"thing\"\n",
      "2019-11-21 00:37:59,953 : INFO : topic diff=0.011112, rho=0.188982\n"
     ]
    },
    {
     "name": "stderr",
     "output_type": "stream",
     "text": [
      "2019-11-21 00:38:00,912 : INFO : -7.211 per-word bound, 148.2 perplexity estimate based on a held-out corpus of 851 documents with 189244 words\n",
      "2019-11-21 00:38:00,913 : INFO : PROGRESS: pass 27, at document #851/851\n",
      "2019-11-21 00:38:01,321 : INFO : topic #0 (0.333): 0.014*\"gb\" + 0.013*\"appl\" + 0.013*\"batteri\" + 0.011*\"model\" + 0.009*\"machin\" + 0.009*\"screen\" + 0.009*\"drive\" + 0.009*\"comput\" + 0.008*\"use\" + 0.008*\"life\"\n",
      "2019-11-21 00:38:01,322 : INFO : topic #1 (0.333): 0.019*\"drive\" + 0.015*\"gb\" + 0.009*\"screen\" + 0.009*\"use\" + 0.008*\"ssd\" + 0.008*\"batteri\" + 0.008*\"usb\" + 0.007*\"game\" + 0.007*\"price\" + 0.007*\"processor\"\n",
      "2019-11-21 00:38:01,323 : INFO : topic #2 (0.333): 0.013*\"screen\" + 0.012*\"use\" + 0.012*\"comput\" + 0.011*\"keyboard\" + 0.008*\"work\" + 0.008*\"time\" + 0.007*\"im\" + 0.007*\"batteri\" + 0.007*\"dont\" + 0.007*\"thing\"\n",
      "2019-11-21 00:38:01,323 : INFO : topic diff=0.010719, rho=0.185695\n",
      "2019-11-21 00:38:02,276 : INFO : -7.211 per-word bound, 148.2 perplexity estimate based on a held-out corpus of 851 documents with 189244 words\n",
      "2019-11-21 00:38:02,276 : INFO : PROGRESS: pass 28, at document #851/851\n",
      "2019-11-21 00:38:02,684 : INFO : topic #0 (0.333): 0.014*\"gb\" + 0.014*\"appl\" + 0.013*\"batteri\" + 0.011*\"model\" + 0.009*\"machin\" + 0.009*\"screen\" + 0.009*\"drive\" + 0.009*\"comput\" + 0.008*\"use\" + 0.008*\"life\"\n",
      "2019-11-21 00:38:02,685 : INFO : topic #1 (0.333): 0.020*\"drive\" + 0.015*\"gb\" + 0.009*\"screen\" + 0.009*\"use\" + 0.008*\"ssd\" + 0.008*\"batteri\" + 0.008*\"usb\" + 0.007*\"game\" + 0.007*\"price\" + 0.007*\"processor\"\n",
      "2019-11-21 00:38:02,685 : INFO : topic #2 (0.333): 0.013*\"screen\" + 0.012*\"use\" + 0.012*\"comput\" + 0.011*\"keyboard\" + 0.008*\"work\" + 0.008*\"time\" + 0.007*\"im\" + 0.007*\"batteri\" + 0.007*\"dont\" + 0.007*\"thing\"\n",
      "2019-11-21 00:38:02,686 : INFO : topic diff=0.010362, rho=0.182574\n",
      "2019-11-21 00:38:03,648 : INFO : -7.211 per-word bound, 148.1 perplexity estimate based on a held-out corpus of 851 documents with 189244 words\n",
      "2019-11-21 00:38:03,649 : INFO : PROGRESS: pass 29, at document #851/851\n",
      "2019-11-21 00:38:04,054 : INFO : topic #0 (0.333): 0.014*\"gb\" + 0.014*\"appl\" + 0.013*\"batteri\" + 0.011*\"model\" + 0.009*\"machin\" + 0.009*\"screen\" + 0.009*\"drive\" + 0.009*\"comput\" + 0.008*\"use\" + 0.008*\"life\"\n",
      "2019-11-21 00:38:04,055 : INFO : topic #1 (0.333): 0.020*\"drive\" + 0.015*\"gb\" + 0.009*\"screen\" + 0.009*\"use\" + 0.008*\"ssd\" + 0.008*\"batteri\" + 0.008*\"usb\" + 0.007*\"game\" + 0.007*\"price\" + 0.007*\"processor\"\n",
      "2019-11-21 00:38:04,055 : INFO : topic #2 (0.333): 0.013*\"screen\" + 0.012*\"use\" + 0.012*\"comput\" + 0.011*\"keyboard\" + 0.008*\"work\" + 0.008*\"time\" + 0.007*\"im\" + 0.007*\"batteri\" + 0.007*\"dont\" + 0.007*\"thing\"\n",
      "2019-11-21 00:38:04,056 : INFO : topic diff=0.010039, rho=0.179605\n",
      "2019-11-21 00:38:05,012 : INFO : -7.210 per-word bound, 148.1 perplexity estimate based on a held-out corpus of 851 documents with 189244 words\n",
      "2019-11-21 00:38:05,013 : INFO : PROGRESS: pass 30, at document #851/851\n",
      "2019-11-21 00:38:05,420 : INFO : topic #0 (0.333): 0.014*\"appl\" + 0.014*\"gb\" + 0.013*\"batteri\" + 0.011*\"model\" + 0.009*\"machin\" + 0.009*\"screen\" + 0.009*\"drive\" + 0.009*\"comput\" + 0.008*\"use\" + 0.008*\"life\"\n",
      "2019-11-21 00:38:05,420 : INFO : topic #1 (0.333): 0.020*\"drive\" + 0.015*\"gb\" + 0.009*\"screen\" + 0.009*\"use\" + 0.008*\"ssd\" + 0.008*\"batteri\" + 0.008*\"usb\" + 0.007*\"game\" + 0.007*\"processor\" + 0.007*\"price\"\n",
      "2019-11-21 00:38:05,421 : INFO : topic #2 (0.333): 0.013*\"screen\" + 0.012*\"use\" + 0.012*\"comput\" + 0.011*\"keyboard\" + 0.008*\"work\" + 0.008*\"time\" + 0.007*\"im\" + 0.007*\"batteri\" + 0.007*\"dont\" + 0.007*\"thing\"\n",
      "2019-11-21 00:38:05,421 : INFO : topic diff=0.009743, rho=0.176777\n",
      "2019-11-21 00:38:06,371 : INFO : -7.210 per-word bound, 148.1 perplexity estimate based on a held-out corpus of 851 documents with 189244 words\n",
      "2019-11-21 00:38:06,371 : INFO : PROGRESS: pass 31, at document #851/851\n",
      "2019-11-21 00:38:06,774 : INFO : topic #0 (0.333): 0.014*\"appl\" + 0.014*\"gb\" + 0.013*\"batteri\" + 0.011*\"model\" + 0.009*\"machin\" + 0.009*\"drive\" + 0.009*\"screen\" + 0.009*\"comput\" + 0.008*\"use\" + 0.008*\"life\"\n",
      "2019-11-21 00:38:06,774 : INFO : topic #1 (0.333): 0.020*\"drive\" + 0.016*\"gb\" + 0.009*\"screen\" + 0.008*\"use\" + 0.008*\"ssd\" + 0.008*\"batteri\" + 0.008*\"usb\" + 0.007*\"game\" + 0.007*\"processor\" + 0.007*\"price\"\n",
      "2019-11-21 00:38:06,775 : INFO : topic #2 (0.333): 0.013*\"screen\" + 0.012*\"use\" + 0.012*\"comput\" + 0.011*\"keyboard\" + 0.008*\"work\" + 0.008*\"time\" + 0.008*\"im\" + 0.007*\"batteri\" + 0.007*\"dont\" + 0.007*\"thing\"\n",
      "2019-11-21 00:38:06,775 : INFO : topic diff=0.009488, rho=0.174078\n",
      "2019-11-21 00:38:07,721 : INFO : -7.210 per-word bound, 148.0 perplexity estimate based on a held-out corpus of 851 documents with 189244 words\n",
      "2019-11-21 00:38:07,721 : INFO : PROGRESS: pass 32, at document #851/851\n",
      "2019-11-21 00:38:08,123 : INFO : topic #0 (0.333): 0.014*\"appl\" + 0.014*\"gb\" + 0.013*\"batteri\" + 0.011*\"model\" + 0.009*\"machin\" + 0.009*\"drive\" + 0.009*\"comput\" + 0.009*\"screen\" + 0.008*\"use\" + 0.008*\"life\"\n",
      "2019-11-21 00:38:08,123 : INFO : topic #1 (0.333): 0.020*\"drive\" + 0.016*\"gb\" + 0.009*\"screen\" + 0.008*\"use\" + 0.008*\"ssd\" + 0.008*\"batteri\" + 0.008*\"usb\" + 0.007*\"game\" + 0.007*\"processor\" + 0.007*\"price\"\n",
      "2019-11-21 00:38:08,124 : INFO : topic #2 (0.333): 0.013*\"screen\" + 0.012*\"use\" + 0.012*\"comput\" + 0.011*\"keyboard\" + 0.008*\"work\" + 0.008*\"time\" + 0.008*\"im\" + 0.007*\"batteri\" + 0.007*\"dont\" + 0.007*\"thing\"\n",
      "2019-11-21 00:38:08,124 : INFO : topic diff=0.009230, rho=0.171499\n",
      "2019-11-21 00:38:09,076 : INFO : -7.210 per-word bound, 148.0 perplexity estimate based on a held-out corpus of 851 documents with 189244 words\n",
      "2019-11-21 00:38:09,077 : INFO : PROGRESS: pass 33, at document #851/851\n",
      "2019-11-21 00:38:09,478 : INFO : topic #0 (0.333): 0.014*\"appl\" + 0.014*\"gb\" + 0.013*\"batteri\" + 0.011*\"model\" + 0.009*\"machin\" + 0.009*\"drive\" + 0.009*\"comput\" + 0.009*\"screen\" + 0.008*\"use\" + 0.008*\"life\"\n",
      "2019-11-21 00:38:09,479 : INFO : topic #1 (0.333): 0.020*\"drive\" + 0.016*\"gb\" + 0.009*\"screen\" + 0.008*\"use\" + 0.008*\"ssd\" + 0.008*\"batteri\" + 0.008*\"usb\" + 0.007*\"game\" + 0.007*\"processor\" + 0.007*\"price\"\n",
      "2019-11-21 00:38:09,479 : INFO : topic #2 (0.333): 0.013*\"screen\" + 0.012*\"use\" + 0.012*\"comput\" + 0.011*\"keyboard\" + 0.008*\"work\" + 0.008*\"time\" + 0.008*\"im\" + 0.007*\"batteri\" + 0.007*\"dont\" + 0.007*\"thing\"\n",
      "2019-11-21 00:38:09,480 : INFO : topic diff=0.008989, rho=0.169031\n",
      "2019-11-21 00:38:10,430 : INFO : -7.209 per-word bound, 148.0 perplexity estimate based on a held-out corpus of 851 documents with 189244 words\n",
      "2019-11-21 00:38:10,430 : INFO : PROGRESS: pass 34, at document #851/851\n",
      "2019-11-21 00:38:10,832 : INFO : topic #0 (0.333): 0.014*\"appl\" + 0.014*\"gb\" + 0.013*\"batteri\" + 0.011*\"model\" + 0.009*\"machin\" + 0.009*\"drive\" + 0.009*\"comput\" + 0.009*\"screen\" + 0.008*\"use\" + 0.008*\"life\"\n",
      "2019-11-21 00:38:10,833 : INFO : topic #1 (0.333): 0.020*\"drive\" + 0.016*\"gb\" + 0.009*\"screen\" + 0.008*\"ssd\" + 0.008*\"use\" + 0.008*\"batteri\" + 0.008*\"usb\" + 0.007*\"game\" + 0.007*\"processor\" + 0.007*\"price\"\n",
      "2019-11-21 00:38:10,833 : INFO : topic #2 (0.333): 0.013*\"screen\" + 0.012*\"use\" + 0.012*\"comput\" + 0.011*\"keyboard\" + 0.008*\"work\" + 0.008*\"time\" + 0.008*\"im\" + 0.007*\"batteri\" + 0.007*\"dont\" + 0.007*\"thing\"\n",
      "2019-11-21 00:38:10,834 : INFO : topic diff=0.008767, rho=0.166667\n",
      "2019-11-21 00:38:11,779 : INFO : -7.209 per-word bound, 148.0 perplexity estimate based on a held-out corpus of 851 documents with 189244 words\n",
      "2019-11-21 00:38:11,779 : INFO : PROGRESS: pass 35, at document #851/851\n",
      "2019-11-21 00:38:12,210 : INFO : topic #0 (0.333): 0.014*\"appl\" + 0.014*\"gb\" + 0.013*\"batteri\" + 0.011*\"model\" + 0.009*\"machin\" + 0.009*\"drive\" + 0.009*\"comput\" + 0.009*\"screen\" + 0.008*\"use\" + 0.008*\"life\"\n",
      "2019-11-21 00:38:12,210 : INFO : topic #1 (0.333): 0.020*\"drive\" + 0.016*\"gb\" + 0.009*\"screen\" + 0.009*\"ssd\" + 0.008*\"use\" + 0.008*\"usb\" + 0.008*\"batteri\" + 0.007*\"game\" + 0.007*\"processor\" + 0.007*\"memori\"\n",
      "2019-11-21 00:38:12,211 : INFO : topic #2 (0.333): 0.013*\"screen\" + 0.012*\"use\" + 0.012*\"comput\" + 0.011*\"keyboard\" + 0.008*\"work\" + 0.008*\"time\" + 0.008*\"im\" + 0.007*\"batteri\" + 0.007*\"dont\" + 0.007*\"thing\"\n",
      "2019-11-21 00:38:12,211 : INFO : topic diff=0.008571, rho=0.164399\n",
      "2019-11-21 00:38:13,158 : INFO : -7.209 per-word bound, 147.9 perplexity estimate based on a held-out corpus of 851 documents with 189244 words\n"
     ]
    },
    {
     "name": "stderr",
     "output_type": "stream",
     "text": [
      "2019-11-21 00:38:13,158 : INFO : PROGRESS: pass 36, at document #851/851\n",
      "2019-11-21 00:38:13,556 : INFO : topic #0 (0.333): 0.014*\"appl\" + 0.014*\"gb\" + 0.013*\"batteri\" + 0.011*\"model\" + 0.009*\"drive\" + 0.009*\"machin\" + 0.009*\"comput\" + 0.009*\"screen\" + 0.008*\"use\" + 0.008*\"life\"\n",
      "2019-11-21 00:38:13,557 : INFO : topic #1 (0.333): 0.020*\"drive\" + 0.016*\"gb\" + 0.009*\"screen\" + 0.009*\"ssd\" + 0.008*\"use\" + 0.008*\"usb\" + 0.008*\"batteri\" + 0.007*\"game\" + 0.007*\"processor\" + 0.007*\"memori\"\n",
      "2019-11-21 00:38:13,557 : INFO : topic #2 (0.333): 0.013*\"screen\" + 0.012*\"use\" + 0.012*\"comput\" + 0.011*\"keyboard\" + 0.008*\"work\" + 0.008*\"time\" + 0.008*\"im\" + 0.007*\"batteri\" + 0.007*\"dont\" + 0.007*\"thing\"\n",
      "2019-11-21 00:38:13,558 : INFO : topic diff=0.008354, rho=0.162221\n",
      "2019-11-21 00:38:14,501 : INFO : -7.209 per-word bound, 147.9 perplexity estimate based on a held-out corpus of 851 documents with 189244 words\n",
      "2019-11-21 00:38:14,501 : INFO : PROGRESS: pass 37, at document #851/851\n",
      "2019-11-21 00:38:14,898 : INFO : topic #0 (0.333): 0.014*\"appl\" + 0.014*\"gb\" + 0.013*\"batteri\" + 0.011*\"model\" + 0.009*\"drive\" + 0.009*\"comput\" + 0.009*\"machin\" + 0.008*\"screen\" + 0.008*\"use\" + 0.008*\"life\"\n",
      "2019-11-21 00:38:14,899 : INFO : topic #1 (0.333): 0.020*\"drive\" + 0.016*\"gb\" + 0.009*\"screen\" + 0.009*\"ssd\" + 0.008*\"use\" + 0.008*\"usb\" + 0.008*\"batteri\" + 0.007*\"game\" + 0.007*\"processor\" + 0.007*\"memori\"\n",
      "2019-11-21 00:38:14,899 : INFO : topic #2 (0.333): 0.013*\"screen\" + 0.012*\"use\" + 0.012*\"comput\" + 0.011*\"keyboard\" + 0.008*\"work\" + 0.008*\"time\" + 0.008*\"im\" + 0.007*\"batteri\" + 0.007*\"dont\" + 0.007*\"thing\"\n",
      "2019-11-21 00:38:14,900 : INFO : topic diff=0.008163, rho=0.160128\n",
      "2019-11-21 00:38:15,844 : INFO : -7.208 per-word bound, 147.9 perplexity estimate based on a held-out corpus of 851 documents with 189244 words\n",
      "2019-11-21 00:38:15,845 : INFO : PROGRESS: pass 38, at document #851/851\n",
      "2019-11-21 00:38:16,241 : INFO : topic #0 (0.333): 0.014*\"appl\" + 0.014*\"gb\" + 0.013*\"batteri\" + 0.011*\"model\" + 0.009*\"drive\" + 0.009*\"comput\" + 0.009*\"machin\" + 0.008*\"screen\" + 0.008*\"use\" + 0.008*\"life\"\n",
      "2019-11-21 00:38:16,242 : INFO : topic #1 (0.333): 0.020*\"drive\" + 0.016*\"gb\" + 0.009*\"screen\" + 0.009*\"ssd\" + 0.008*\"use\" + 0.008*\"usb\" + 0.008*\"batteri\" + 0.007*\"game\" + 0.007*\"processor\" + 0.007*\"memori\"\n",
      "2019-11-21 00:38:16,242 : INFO : topic #2 (0.333): 0.013*\"screen\" + 0.012*\"use\" + 0.012*\"comput\" + 0.011*\"keyboard\" + 0.008*\"work\" + 0.008*\"time\" + 0.008*\"im\" + 0.007*\"batteri\" + 0.007*\"dont\" + 0.007*\"thing\"\n",
      "2019-11-21 00:38:16,243 : INFO : topic diff=0.007967, rho=0.158114\n",
      "2019-11-21 00:38:17,185 : INFO : -7.208 per-word bound, 147.9 perplexity estimate based on a held-out corpus of 851 documents with 189244 words\n",
      "2019-11-21 00:38:17,186 : INFO : PROGRESS: pass 39, at document #851/851\n",
      "2019-11-21 00:38:17,579 : INFO : topic #0 (0.333): 0.015*\"appl\" + 0.014*\"gb\" + 0.013*\"batteri\" + 0.011*\"model\" + 0.009*\"drive\" + 0.009*\"comput\" + 0.009*\"machin\" + 0.008*\"screen\" + 0.008*\"use\" + 0.008*\"life\"\n",
      "2019-11-21 00:38:17,580 : INFO : topic #1 (0.333): 0.020*\"drive\" + 0.016*\"gb\" + 0.009*\"screen\" + 0.009*\"ssd\" + 0.008*\"use\" + 0.008*\"usb\" + 0.008*\"batteri\" + 0.007*\"game\" + 0.007*\"processor\" + 0.007*\"memori\"\n",
      "2019-11-21 00:38:17,581 : INFO : topic #2 (0.333): 0.013*\"screen\" + 0.012*\"use\" + 0.012*\"comput\" + 0.011*\"keyboard\" + 0.008*\"work\" + 0.008*\"time\" + 0.008*\"im\" + 0.007*\"batteri\" + 0.007*\"dont\" + 0.007*\"thing\"\n",
      "2019-11-21 00:38:17,581 : INFO : topic diff=0.007783, rho=0.156174\n"
     ]
    }
   ],
   "source": [
    "# Create lda model (equivalent to \"fit\" in sklearn)\n",
    "lda = models.LdaModel(corpus=corpus, num_topics=3, id2word=id2word, passes=40)"
   ]
  },
  {
   "cell_type": "code",
   "execution_count": 38,
   "metadata": {},
   "outputs": [],
   "source": [
    "## Pickle LDA Model\n",
    "pickle_out = open('laptop_lda_model.pkl', 'wb') \n",
    "\n",
    "pickle.dump(lda, pickle_out)                      \n",
    "pickle_out.close() "
   ]
  },
  {
   "cell_type": "code",
   "execution_count": 39,
   "metadata": {},
   "outputs": [],
   "source": [
    "## Open pickled LDA Model\n",
    "pickle_in = open('laptop_lda_model.pkl', 'rb') \n",
    "\n",
    "lda = pickle.load(pickle_in)"
   ]
  },
  {
   "cell_type": "markdown",
   "metadata": {},
   "source": [
    "### Topic Space:"
   ]
  },
  {
   "cell_type": "code",
   "execution_count": 40,
   "metadata": {
    "scrolled": true
   },
   "outputs": [
    {
     "name": "stderr",
     "output_type": "stream",
     "text": [
      "2019-11-21 00:38:17,630 : INFO : topic #0 (0.333): 0.015*\"appl\" + 0.014*\"gb\" + 0.013*\"batteri\" + 0.011*\"model\" + 0.009*\"drive\" + 0.009*\"comput\" + 0.009*\"machin\" + 0.008*\"screen\" + 0.008*\"use\" + 0.008*\"life\"\n",
      "2019-11-21 00:38:17,631 : INFO : topic #1 (0.333): 0.020*\"drive\" + 0.016*\"gb\" + 0.009*\"screen\" + 0.009*\"ssd\" + 0.008*\"use\" + 0.008*\"usb\" + 0.008*\"batteri\" + 0.007*\"game\" + 0.007*\"processor\" + 0.007*\"memori\"\n",
      "2019-11-21 00:38:17,631 : INFO : topic #2 (0.333): 0.013*\"screen\" + 0.012*\"use\" + 0.012*\"comput\" + 0.011*\"keyboard\" + 0.008*\"work\" + 0.008*\"time\" + 0.008*\"im\" + 0.007*\"batteri\" + 0.007*\"dont\" + 0.007*\"thing\"\n"
     ]
    },
    {
     "data": {
      "text/plain": [
       "[(0,\n",
       "  '0.015*\"appl\" + 0.014*\"gb\" + 0.013*\"batteri\" + 0.011*\"model\" + 0.009*\"drive\" + 0.009*\"comput\" + 0.009*\"machin\" + 0.008*\"screen\" + 0.008*\"use\" + 0.008*\"life\"'),\n",
       " (1,\n",
       "  '0.020*\"drive\" + 0.016*\"gb\" + 0.009*\"screen\" + 0.009*\"ssd\" + 0.008*\"use\" + 0.008*\"usb\" + 0.008*\"batteri\" + 0.007*\"game\" + 0.007*\"processor\" + 0.007*\"memori\"'),\n",
       " (2,\n",
       "  '0.013*\"screen\" + 0.012*\"use\" + 0.012*\"comput\" + 0.011*\"keyboard\" + 0.008*\"work\" + 0.008*\"time\" + 0.008*\"im\" + 0.007*\"batteri\" + 0.007*\"dont\" + 0.007*\"thing\"')]"
      ]
     },
     "execution_count": 40,
     "metadata": {},
     "output_type": "execute_result"
    }
   ],
   "source": [
    "lda.print_topics()"
   ]
  },
  {
   "cell_type": "markdown",
   "metadata": {},
   "source": [
    "---"
   ]
  },
  {
   "cell_type": "markdown",
   "metadata": {},
   "source": [
    "# INDIVIDUAL REVIEW TOPICS:"
   ]
  },
  {
   "cell_type": "markdown",
   "metadata": {},
   "source": [
    "## Word2Vec Model:"
   ]
  },
  {
   "cell_type": "markdown",
   "metadata": {},
   "source": [
    "### Prepare Data for Word2Vec:"
   ]
  },
  {
   "cell_type": "code",
   "execution_count": 41,
   "metadata": {},
   "outputs": [],
   "source": [
    "documents = helpful_laptop_reviews.tolist()"
   ]
  },
  {
   "cell_type": "code",
   "execution_count": 42,
   "metadata": {},
   "outputs": [],
   "source": [
    "# texts = [[WordNetLemmatizer().lemmatize(word, pos=get_pos_tag(word)) \n",
    "#               for word in word_tokenize(doc) if word not in lem_stopwords] \n",
    "#           for doc in documents]\n",
    "\n",
    "texts = [[PorterStemmer().stem(word) for word in word_tokenize(doc) \n",
    "                if re.compile(r'NN').search(pos_tag([word])[0][1]) \n",
    "                    if word not in stem_stopwords] for doc in documents]"
   ]
  },
  {
   "cell_type": "code",
   "execution_count": 43,
   "metadata": {},
   "outputs": [],
   "source": [
    "# ## Pickle word2vec_texts\n",
    "# pickle_out = open('laptop_word2vec_texts.pkl', 'wb') \n",
    "\n",
    "# pickle.dump(texts, pickle_out)                      \n",
    "# pickle_out.close() "
   ]
  },
  {
   "cell_type": "code",
   "execution_count": 44,
   "metadata": {},
   "outputs": [],
   "source": [
    "# ## Open pickled doc_words Matrix\n",
    "# pickle_in = open('word2vec_texts.pkl', 'rb') \n",
    "\n",
    "# texts = pickle.load(pickle_in)"
   ]
  },
  {
   "cell_type": "markdown",
   "metadata": {},
   "source": [
    "### Create Model:\n",
    "**`Word2Vec`** Model will contain vectors (in n-dimensional space, as defined by \"size\" argument in `Word2Vec()` function) for each word."
   ]
  },
  {
   "cell_type": "code",
   "execution_count": 45,
   "metadata": {
    "scrolled": true
   },
   "outputs": [
    {
     "name": "stderr",
     "output_type": "stream",
     "text": [
      "2019-11-21 00:39:05,398 : WARNING : consider setting layer size to a multiple of 4 for greater performance\n",
      "2019-11-21 00:39:05,399 : INFO : collecting all words and their counts\n",
      "2019-11-21 00:39:05,399 : INFO : PROGRESS: at sentence #0, processed 0 words, keeping 0 word types\n",
      "2019-11-21 00:39:05,425 : INFO : collected 9534 word types from a corpus of 194293 raw words and 851 sentences\n",
      "2019-11-21 00:39:05,425 : INFO : Loading a fresh vocabulary\n",
      "2019-11-21 00:39:05,440 : INFO : effective_min_count=1 retains 9534 unique words (100% of original 9534, drops 0)\n",
      "2019-11-21 00:39:05,440 : INFO : effective_min_count=1 leaves 194293 word corpus (100% of original 194293, drops 0)\n",
      "2019-11-21 00:39:05,460 : INFO : deleting the raw counts dictionary of 9534 items\n",
      "2019-11-21 00:39:05,460 : INFO : sample=0.001 downsamples 63 most-common words\n",
      "2019-11-21 00:39:05,460 : INFO : downsampling leaves estimated 174914 word corpus (90.0% of prior 194293)\n",
      "2019-11-21 00:39:05,473 : INFO : estimated required memory for 9534 words and 10 dimensions: 5529720 bytes\n",
      "2019-11-21 00:39:05,473 : INFO : resetting layer weights\n",
      "2019-11-21 00:39:05,531 : INFO : training model with 2 workers on 9534 vocabulary and 10 features, using sg=1 hs=0 sample=0.001 negative=5 window=10\n",
      "2019-11-21 00:39:06,594 : INFO : EPOCH 1 - PROGRESS: at 88.37% examples, 132029 words/s, in_qsize 3, out_qsize 0\n",
      "2019-11-21 00:39:06,743 : INFO : worker thread finished; awaiting finish of 1 more threads\n",
      "2019-11-21 00:39:06,800 : INFO : worker thread finished; awaiting finish of 0 more threads\n",
      "2019-11-21 00:39:06,801 : INFO : EPOCH - 1 : training on 194293 raw words (174964 effective words) took 1.3s, 138056 effective words/s\n",
      "2019-11-21 00:39:07,878 : INFO : EPOCH 2 - PROGRESS: at 88.37% examples, 130017 words/s, in_qsize 2, out_qsize 1\n",
      "2019-11-21 00:39:08,025 : INFO : worker thread finished; awaiting finish of 1 more threads\n",
      "2019-11-21 00:39:08,071 : INFO : worker thread finished; awaiting finish of 0 more threads\n",
      "2019-11-21 00:39:08,072 : INFO : EPOCH - 2 : training on 194293 raw words (174853 effective words) took 1.3s, 137692 effective words/s\n",
      "2019-11-21 00:39:09,146 : INFO : EPOCH 3 - PROGRESS: at 86.60% examples, 130383 words/s, in_qsize 3, out_qsize 0\n",
      "2019-11-21 00:39:09,310 : INFO : worker thread finished; awaiting finish of 1 more threads\n",
      "2019-11-21 00:39:09,342 : INFO : worker thread finished; awaiting finish of 0 more threads\n",
      "2019-11-21 00:39:09,343 : INFO : EPOCH - 3 : training on 194293 raw words (174982 effective words) took 1.3s, 137920 effective words/s\n",
      "2019-11-21 00:39:10,422 : INFO : EPOCH 4 - PROGRESS: at 96.71% examples, 154189 words/s, in_qsize 1, out_qsize 1\n",
      "2019-11-21 00:39:10,423 : INFO : worker thread finished; awaiting finish of 1 more threads\n",
      "2019-11-21 00:39:10,428 : INFO : worker thread finished; awaiting finish of 0 more threads\n",
      "2019-11-21 00:39:10,429 : INFO : EPOCH - 4 : training on 194293 raw words (175037 effective words) took 1.1s, 161342 effective words/s\n",
      "2019-11-21 00:39:11,509 : INFO : EPOCH 5 - PROGRESS: at 88.37% examples, 129503 words/s, in_qsize 3, out_qsize 1\n",
      "2019-11-21 00:39:11,640 : INFO : worker thread finished; awaiting finish of 1 more threads\n",
      "2019-11-21 00:39:11,705 : INFO : worker thread finished; awaiting finish of 0 more threads\n",
      "2019-11-21 00:39:11,706 : INFO : EPOCH - 5 : training on 194293 raw words (174811 effective words) took 1.3s, 137091 effective words/s\n",
      "2019-11-21 00:39:11,706 : INFO : training on a 971465 raw words (874647 effective words) took 6.2s, 141656 effective words/s\n"
     ]
    }
   ],
   "source": [
    "w2v_model = Word2Vec(texts, size=10, window=10, min_count=1, workers=2, sg=1)"
   ]
  },
  {
   "cell_type": "code",
   "execution_count": 46,
   "metadata": {
    "scrolled": true
   },
   "outputs": [
    {
     "data": {
      "text/plain": [
       "[('im', <gensim.models.keyedvectors.Vocab at 0x7f3f94525780>),\n",
       " ('re-writ', <gensim.models.keyedvectors.Vocab at 0x7f3f942af7f0>),\n",
       " ('review', <gensim.models.keyedvectors.Vocab at 0x7f3f9426def0>),\n",
       " ('includ', <gensim.models.keyedvectors.Vocab at 0x7f3f9426dfd0>),\n",
       " ('tutori', <gensim.models.keyedvectors.Vocab at 0x7f403014b5f8>),\n",
       " ('fix', <gensim.models.keyedvectors.Vocab at 0x7f3f9426fef0>),\n",
       " ('warrante', <gensim.models.keyedvectors.Vocab at 0x7f3f9426fe48>)]"
      ]
     },
     "execution_count": 46,
     "metadata": {},
     "output_type": "execute_result"
    }
   ],
   "source": [
    "list(w2v_model.wv.vocab.items())[:7]"
   ]
  },
  {
   "cell_type": "code",
   "execution_count": 47,
   "metadata": {
    "scrolled": true
   },
   "outputs": [
    {
     "name": "stderr",
     "output_type": "stream",
     "text": [
      "2019-11-21 00:39:11,717 : INFO : precomputing L2-norms of word weight vectors\n"
     ]
    },
    {
     "data": {
      "text/plain": [
       "[('press', 0.9897687435150146),\n",
       " ('backspac', 0.9845664501190186),\n",
       " ('sticki', 0.9724972248077393),\n",
       " ('button', 0.964767575263977),\n",
       " ('hit', 0.9637911319732666),\n",
       " ('spacebar', 0.963700532913208),\n",
       " ('miss', 0.960688054561615),\n",
       " ('pad', 0.9605816602706909)]"
      ]
     },
     "execution_count": 47,
     "metadata": {},
     "output_type": "execute_result"
    }
   ],
   "source": [
    "w2v_model.wv.most_similar('key' ,topn=8)"
   ]
  },
  {
   "cell_type": "code",
   "execution_count": 48,
   "metadata": {},
   "outputs": [
    {
     "data": {
      "text/plain": [
       "array([ 0.8218144 , -0.56024516, -0.36112645, -0.9073611 , -0.44240883,\n",
       "        0.71504456, -0.6014483 ,  0.31318542,  0.723151  , -0.7115324 ],\n",
       "      dtype=float32)"
      ]
     },
     "execution_count": 48,
     "metadata": {},
     "output_type": "execute_result"
    }
   ],
   "source": [
    "w2v_model.wv['netbook']"
   ]
  },
  {
   "cell_type": "markdown",
   "metadata": {},
   "source": [
    "## Clustering Word Vectors:"
   ]
  },
  {
   "cell_type": "markdown",
   "metadata": {},
   "source": [
    "### Create Sub-Sample of Word Vectors:"
   ]
  },
  {
   "cell_type": "code",
   "execution_count": 49,
   "metadata": {},
   "outputs": [
    {
     "data": {
      "text/plain": [
       "309"
      ]
     },
     "execution_count": 49,
     "metadata": {},
     "output_type": "execute_result"
    }
   ],
   "source": [
    "## Try to cluster word vectors of a similar product (ex. HP laptops)\n",
    "sample_docs_idx = list(laptop_downsampled_df.loc[(laptop_downsampled_df['target']==1) \n",
    "                      & (laptop_downsampled_df['helpfullness_ratio'] >0.95)\n",
    "                      & (laptop_downsampled_df['total_votes'] >50)].index)\n",
    "len(sample_docs_idx)                                                                        "
   ]
  },
  {
   "cell_type": "code",
   "execution_count": 50,
   "metadata": {
    "scrolled": true
   },
   "outputs": [],
   "source": [
    "doc_vector = defaultdict(list)\n",
    "\n",
    "for idx in range(0, len(texts)):\n",
    "    for word in texts[idx]:\n",
    "        doc_vector['word'].append(word)\n",
    "        for i in range(0, 10):\n",
    "            doc_vector['dim_'+str(i)].append(w2v_model.wv[word][i])\n",
    "    \n",
    "doc_vector_df = pd.DataFrame(doc_vector, columns=doc_vector.keys())\n",
    "\n",
    "doc_vector_df.drop_duplicates(subset='word', keep=\"first\", inplace=True)"
   ]
  },
  {
   "cell_type": "code",
   "execution_count": 51,
   "metadata": {},
   "outputs": [],
   "source": [
    "doc_vector_df.reset_index(drop=True, inplace=True)"
   ]
  },
  {
   "cell_type": "code",
   "execution_count": 52,
   "metadata": {},
   "outputs": [
    {
     "data": {
      "text/html": [
       "<div>\n",
       "<style scoped>\n",
       "    .dataframe tbody tr th:only-of-type {\n",
       "        vertical-align: middle;\n",
       "    }\n",
       "\n",
       "    .dataframe tbody tr th {\n",
       "        vertical-align: top;\n",
       "    }\n",
       "\n",
       "    .dataframe thead th {\n",
       "        text-align: right;\n",
       "    }\n",
       "</style>\n",
       "<table border=\"1\" class=\"dataframe\">\n",
       "  <thead>\n",
       "    <tr style=\"text-align: right;\">\n",
       "      <th></th>\n",
       "      <th>word</th>\n",
       "      <th>dim_0</th>\n",
       "      <th>dim_1</th>\n",
       "      <th>dim_2</th>\n",
       "      <th>dim_3</th>\n",
       "      <th>dim_4</th>\n",
       "      <th>dim_5</th>\n",
       "      <th>dim_6</th>\n",
       "      <th>dim_7</th>\n",
       "      <th>dim_8</th>\n",
       "      <th>dim_9</th>\n",
       "    </tr>\n",
       "  </thead>\n",
       "  <tbody>\n",
       "    <tr>\n",
       "      <th>0</th>\n",
       "      <td>im</td>\n",
       "      <td>1.129741</td>\n",
       "      <td>-0.702177</td>\n",
       "      <td>0.279348</td>\n",
       "      <td>-0.316522</td>\n",
       "      <td>-0.297098</td>\n",
       "      <td>0.457756</td>\n",
       "      <td>-0.673519</td>\n",
       "      <td>0.637736</td>\n",
       "      <td>0.271848</td>\n",
       "      <td>-0.405192</td>\n",
       "    </tr>\n",
       "    <tr>\n",
       "      <th>1</th>\n",
       "      <td>re-writ</td>\n",
       "      <td>0.346847</td>\n",
       "      <td>0.059756</td>\n",
       "      <td>0.073903</td>\n",
       "      <td>-0.001137</td>\n",
       "      <td>-0.129828</td>\n",
       "      <td>0.079862</td>\n",
       "      <td>-0.122426</td>\n",
       "      <td>0.127874</td>\n",
       "      <td>0.196570</td>\n",
       "      <td>-0.150629</td>\n",
       "    </tr>\n",
       "    <tr>\n",
       "      <th>2</th>\n",
       "      <td>review</td>\n",
       "      <td>1.571441</td>\n",
       "      <td>-0.831710</td>\n",
       "      <td>0.099910</td>\n",
       "      <td>-0.251215</td>\n",
       "      <td>-0.228294</td>\n",
       "      <td>0.229136</td>\n",
       "      <td>-0.912391</td>\n",
       "      <td>0.451590</td>\n",
       "      <td>0.526504</td>\n",
       "      <td>0.172322</td>\n",
       "    </tr>\n",
       "    <tr>\n",
       "      <th>3</th>\n",
       "      <td>includ</td>\n",
       "      <td>1.214988</td>\n",
       "      <td>0.374126</td>\n",
       "      <td>-0.497575</td>\n",
       "      <td>-0.324801</td>\n",
       "      <td>-0.410497</td>\n",
       "      <td>0.867303</td>\n",
       "      <td>-0.862879</td>\n",
       "      <td>-0.148773</td>\n",
       "      <td>0.054680</td>\n",
       "      <td>-0.633312</td>\n",
       "    </tr>\n",
       "    <tr>\n",
       "      <th>4</th>\n",
       "      <td>tutori</td>\n",
       "      <td>1.068156</td>\n",
       "      <td>0.099612</td>\n",
       "      <td>0.471823</td>\n",
       "      <td>0.094565</td>\n",
       "      <td>-0.358540</td>\n",
       "      <td>0.671510</td>\n",
       "      <td>-0.553931</td>\n",
       "      <td>0.483963</td>\n",
       "      <td>0.203880</td>\n",
       "      <td>-0.272250</td>\n",
       "    </tr>\n",
       "    <tr>\n",
       "      <th>...</th>\n",
       "      <td>...</td>\n",
       "      <td>...</td>\n",
       "      <td>...</td>\n",
       "      <td>...</td>\n",
       "      <td>...</td>\n",
       "      <td>...</td>\n",
       "      <td>...</td>\n",
       "      <td>...</td>\n",
       "      <td>...</td>\n",
       "      <td>...</td>\n",
       "      <td>...</td>\n",
       "    </tr>\n",
       "    <tr>\n",
       "      <th>9529</th>\n",
       "      <td>crapshoot</td>\n",
       "      <td>0.341425</td>\n",
       "      <td>0.077017</td>\n",
       "      <td>0.238824</td>\n",
       "      <td>-0.039666</td>\n",
       "      <td>-0.212681</td>\n",
       "      <td>0.208834</td>\n",
       "      <td>-0.230976</td>\n",
       "      <td>0.156376</td>\n",
       "      <td>0.334858</td>\n",
       "      <td>-0.178740</td>\n",
       "    </tr>\n",
       "    <tr>\n",
       "      <th>9530</th>\n",
       "      <td>blood</td>\n",
       "      <td>0.437361</td>\n",
       "      <td>0.115140</td>\n",
       "      <td>0.195601</td>\n",
       "      <td>-0.000286</td>\n",
       "      <td>-0.186952</td>\n",
       "      <td>0.209366</td>\n",
       "      <td>-0.172158</td>\n",
       "      <td>0.131707</td>\n",
       "      <td>0.379465</td>\n",
       "      <td>-0.229281</td>\n",
       "    </tr>\n",
       "    <tr>\n",
       "      <th>9531</th>\n",
       "      <td>swapper</td>\n",
       "      <td>0.463549</td>\n",
       "      <td>0.025426</td>\n",
       "      <td>0.222530</td>\n",
       "      <td>-0.010263</td>\n",
       "      <td>-0.305340</td>\n",
       "      <td>0.161444</td>\n",
       "      <td>-0.179807</td>\n",
       "      <td>0.102001</td>\n",
       "      <td>0.373872</td>\n",
       "      <td>-0.265277</td>\n",
       "    </tr>\n",
       "    <tr>\n",
       "      <th>9532</th>\n",
       "      <td>featuresolut</td>\n",
       "      <td>0.530356</td>\n",
       "      <td>-0.012866</td>\n",
       "      <td>0.046315</td>\n",
       "      <td>-0.053651</td>\n",
       "      <td>-0.250189</td>\n",
       "      <td>0.139070</td>\n",
       "      <td>-0.255477</td>\n",
       "      <td>0.199893</td>\n",
       "      <td>0.290543</td>\n",
       "      <td>-0.343284</td>\n",
       "    </tr>\n",
       "    <tr>\n",
       "      <th>9533</th>\n",
       "      <td>updoesnt</td>\n",
       "      <td>0.458339</td>\n",
       "      <td>0.061315</td>\n",
       "      <td>0.118337</td>\n",
       "      <td>0.070624</td>\n",
       "      <td>-0.265953</td>\n",
       "      <td>0.127324</td>\n",
       "      <td>-0.313549</td>\n",
       "      <td>0.249738</td>\n",
       "      <td>0.246108</td>\n",
       "      <td>-0.431838</td>\n",
       "    </tr>\n",
       "  </tbody>\n",
       "</table>\n",
       "<p>9534 rows × 11 columns</p>\n",
       "</div>"
      ],
      "text/plain": [
       "              word     dim_0     dim_1     dim_2     dim_3     dim_4  \\\n",
       "0               im  1.129741 -0.702177  0.279348 -0.316522 -0.297098   \n",
       "1          re-writ  0.346847  0.059756  0.073903 -0.001137 -0.129828   \n",
       "2           review  1.571441 -0.831710  0.099910 -0.251215 -0.228294   \n",
       "3           includ  1.214988  0.374126 -0.497575 -0.324801 -0.410497   \n",
       "4           tutori  1.068156  0.099612  0.471823  0.094565 -0.358540   \n",
       "...            ...       ...       ...       ...       ...       ...   \n",
       "9529     crapshoot  0.341425  0.077017  0.238824 -0.039666 -0.212681   \n",
       "9530         blood  0.437361  0.115140  0.195601 -0.000286 -0.186952   \n",
       "9531       swapper  0.463549  0.025426  0.222530 -0.010263 -0.305340   \n",
       "9532  featuresolut  0.530356 -0.012866  0.046315 -0.053651 -0.250189   \n",
       "9533      updoesnt  0.458339  0.061315  0.118337  0.070624 -0.265953   \n",
       "\n",
       "         dim_5     dim_6     dim_7     dim_8     dim_9  \n",
       "0     0.457756 -0.673519  0.637736  0.271848 -0.405192  \n",
       "1     0.079862 -0.122426  0.127874  0.196570 -0.150629  \n",
       "2     0.229136 -0.912391  0.451590  0.526504  0.172322  \n",
       "3     0.867303 -0.862879 -0.148773  0.054680 -0.633312  \n",
       "4     0.671510 -0.553931  0.483963  0.203880 -0.272250  \n",
       "...        ...       ...       ...       ...       ...  \n",
       "9529  0.208834 -0.230976  0.156376  0.334858 -0.178740  \n",
       "9530  0.209366 -0.172158  0.131707  0.379465 -0.229281  \n",
       "9531  0.161444 -0.179807  0.102001  0.373872 -0.265277  \n",
       "9532  0.139070 -0.255477  0.199893  0.290543 -0.343284  \n",
       "9533  0.127324 -0.313549  0.249738  0.246108 -0.431838  \n",
       "\n",
       "[9534 rows x 11 columns]"
      ]
     },
     "execution_count": 52,
     "metadata": {},
     "output_type": "execute_result"
    }
   ],
   "source": [
    "doc_vector_df"
   ]
  },
  {
   "cell_type": "markdown",
   "metadata": {},
   "source": [
    "### Standard Scale for Clustering:"
   ]
  },
  {
   "cell_type": "code",
   "execution_count": 53,
   "metadata": {},
   "outputs": [],
   "source": [
    "## Standard Scale values for clustering\n",
    "scaler = StandardScaler()\n",
    "scaler.fit(doc_vector_df.iloc[:, 1:])\n",
    "X = scaler.transform(doc_vector_df.iloc[:, 1:])"
   ]
  },
  {
   "cell_type": "code",
   "execution_count": 54,
   "metadata": {},
   "outputs": [
    {
     "data": {
      "text/plain": [
       "array([[ 1.37204008, -2.67165913,  0.4331455 , ...,  1.46824513,\n",
       "        -0.55909031,  0.08545109],\n",
       "       [-1.24939597,  0.22590927, -0.3871196 , ..., -0.64374301,\n",
       "        -0.89383422,  1.09606936],\n",
       "       [ 2.85102318, -3.16426448, -0.28328231, ...,  0.69718012,\n",
       "         0.57330545,  2.37819167],\n",
       "       ...,\n",
       "       [-0.85863157,  0.09535653,  0.20629382, ..., -0.75091371,\n",
       "        -0.10541161,  0.64091676],\n",
       "       [-0.63493466, -0.05026457, -0.4972653 , ..., -0.34541762,\n",
       "        -0.47595747,  0.33122546],\n",
       "       [-0.87607852,  0.23183971, -0.2097092 , ..., -0.13894531,\n",
       "        -0.6735493 , -0.02033236]])"
      ]
     },
     "execution_count": 54,
     "metadata": {},
     "output_type": "execute_result"
    }
   ],
   "source": [
    "X"
   ]
  },
  {
   "cell_type": "markdown",
   "metadata": {},
   "source": [
    "## DBSCAN Clustering:"
   ]
  },
  {
   "cell_type": "code",
   "execution_count": 55,
   "metadata": {},
   "outputs": [],
   "source": [
    "dbclusters = DBSCAN(eps=2, min_samples=4).fit(X)"
   ]
  },
  {
   "cell_type": "code",
   "execution_count": 56,
   "metadata": {
    "scrolled": false
   },
   "outputs": [
    {
     "data": {
      "text/plain": [
       "Counter({0: 8293, 1: 4, -1: 1221, 2: 5, 3: 3, 6: 2, 4: 3, 5: 3})"
      ]
     },
     "execution_count": 56,
     "metadata": {},
     "output_type": "execute_result"
    }
   ],
   "source": [
    "Counter(dbclusters.labels_)"
   ]
  },
  {
   "cell_type": "code",
   "execution_count": null,
   "metadata": {},
   "outputs": [],
   "source": [
    "cluster_pred = list(dbclusters.labels_)\n",
    "cluster3_idx = []\n",
    "for idx, item in enumerate(dbclusters.labels_):\n",
    "    if item == 3:\n",
    "        cluster3_idx.append(idx)\n",
    "        #cluster_pred.pop(item)"
   ]
  },
  {
   "cell_type": "code",
   "execution_count": null,
   "metadata": {
    "scrolled": true
   },
   "outputs": [],
   "source": [
    "for idx in cluster3_idx:\n",
    "    print(doc_vector_df.loc[idx]['word'])"
   ]
  },
  {
   "cell_type": "markdown",
   "metadata": {},
   "source": [
    "---"
   ]
  },
  {
   "cell_type": "markdown",
   "metadata": {},
   "source": [
    "## Latent Semantic Analysis (LSA) w/ Count Vectorizer:"
   ]
  },
  {
   "cell_type": "code",
   "execution_count": 81,
   "metadata": {
    "scrolled": false
   },
   "outputs": [
    {
     "data": {
      "text/plain": [
       "CountVectorizer(analyzer='word', binary=False, decode_error='strict',\n",
       "                dtype=<class 'numpy.int64'>, encoding='utf-8', input='content',\n",
       "                lowercase=True, max_df=851, max_features=None, min_df=3,\n",
       "                ngram_range=(1, 1), preprocessor=None,\n",
       "                stop_words=[\"mustn't\", 'doesn', 'i', \"couldn't\", \"shan't\",\n",
       "                            'window', 'd', 'didn', 'll', 't', 're', \"don't\",\n",
       "                            'weren', 'your', \"should'v\", 'ma', 'aren',\n",
       "                            \"wouldn't\", \"you'v\", 'their', 'won', 'haven',\n",
       "                            \"isn't\", 've', \"hasn't\", \"haven't\", 'comput',\n",
       "                            'tablet', 'pro', 'notebook', ...],\n",
       "                strip_accents=None, token_pattern='(?u)\\\\b\\\\w\\\\w+\\\\b',\n",
       "                tokenizer=<__main__.PStemmer object at 0x7f3f147de6d8>,\n",
       "                vocabulary=None)"
      ]
     },
     "execution_count": 81,
     "metadata": {},
     "output_type": "execute_result"
    }
   ],
   "source": [
    "cv2 = CountVectorizer(min_df=3, max_df=len(helpful_laptop_reviews),\n",
    "                                           stop_words=stem_stopwords, ngram_range=(1,1), tokenizer=PStemmer())\n",
    "cv2"
   ]
  },
  {
   "cell_type": "code",
   "execution_count": 82,
   "metadata": {
    "scrolled": true
   },
   "outputs": [
    {
     "name": "stderr",
     "output_type": "stream",
     "text": [
      "/home/ubuntu/anaconda3/lib/python3.7/site-packages/sklearn/feature_extraction/text.py:300: UserWarning:\n",
      "\n",
      "Your stop_words may be inconsistent with your preprocessing. Tokenizing the stop words generated tokens ['need', 'r', 'sha', 'v'] not in stop_words.\n",
      "\n"
     ]
    },
    {
     "data": {
      "text/plain": [
       "<851x3326 sparse matrix of type '<class 'numpy.int64'>'\n",
       "\twith 99303 stored elements in Compressed Sparse Row format>"
      ]
     },
     "execution_count": 82,
     "metadata": {},
     "output_type": "execute_result"
    }
   ],
   "source": [
    "doc_words2 = cv2.fit_transform(helpful_laptop_reviews)\n",
    "doc_words2"
   ]
  },
  {
   "cell_type": "code",
   "execution_count": 83,
   "metadata": {},
   "outputs": [
    {
     "data": {
      "text/plain": [
       "array([0.18061127, 0.04756141, 0.04182004])"
      ]
     },
     "execution_count": 83,
     "metadata": {},
     "output_type": "execute_result"
    }
   ],
   "source": [
    "lsa = TruncatedSVD(3)\n",
    "doc_topic = lsa.fit_transform(doc_words2)\n",
    "lsa.explained_variance_ratio_"
   ]
  },
  {
   "cell_type": "code",
   "execution_count": 84,
   "metadata": {},
   "outputs": [],
   "source": [
    "def display_topics(model, feature_names, no_top_words, topic_names=None):\n",
    "    for ix, topic in enumerate(model.components_):\n",
    "        if not topic_names or not topic_names[ix]:\n",
    "            print(\"\\nTopic \", ix)\n",
    "        else:\n",
    "            print(\"\\nTopic: '\",topic_names[ix],\"'\")\n",
    "        print(\", \".join([feature_names[i]\n",
    "                        for i in topic.argsort()[:-no_top_words - 1:-1]]))"
   ]
  },
  {
   "cell_type": "code",
   "execution_count": 85,
   "metadata": {
    "scrolled": false
   },
   "outputs": [
    {
     "name": "stdout",
     "output_type": "stream",
     "text": [
      "\n",
      "Topic  0\n",
      "use, screen, drive, batteri, gb, keyboard, time, work\n",
      "\n",
      "Topic  1\n",
      "x, control, mhz, set, cpu, batteri, ddr, hour\n",
      "\n",
      "Topic  2\n",
      "gb, x, drive, cpu, mhz, model, batteri, core\n"
     ]
    }
   ],
   "source": [
    "display_topics(lsa, cv2.get_feature_names(), 8)"
   ]
  },
  {
   "cell_type": "code",
   "execution_count": 86,
   "metadata": {},
   "outputs": [
    {
     "data": {
      "text/html": [
       "<div>\n",
       "<style scoped>\n",
       "    .dataframe tbody tr th:only-of-type {\n",
       "        vertical-align: middle;\n",
       "    }\n",
       "\n",
       "    .dataframe tbody tr th {\n",
       "        vertical-align: top;\n",
       "    }\n",
       "\n",
       "    .dataframe thead th {\n",
       "        text-align: right;\n",
       "    }\n",
       "</style>\n",
       "<table border=\"1\" class=\"dataframe\">\n",
       "  <thead>\n",
       "    <tr style=\"text-align: right;\">\n",
       "      <th></th>\n",
       "      <th>c1</th>\n",
       "      <th>c2</th>\n",
       "      <th>c3</th>\n",
       "    </tr>\n",
       "    <tr>\n",
       "      <th>clean_review_body</th>\n",
       "      <th></th>\n",
       "      <th></th>\n",
       "      <th></th>\n",
       "    </tr>\n",
       "  </thead>\n",
       "  <tbody>\n",
       "    <tr>\n",
       "      <th>im re-writing this review to include a tutorial on how to fix up the laptop without voiding the warrantee im upping it to stars now that ive fixed it the hardware is great the software can be fixed pros great hardware fast processor big video specs built in tutorial for windows comes with gb cloud storage for years cons windows the trackpad is awful tutorial below reduces annoyance the wireless will drop out tutorial below fixes packed with bloatware you can uninstall it webcam sucks mic is great though small hd space performance expectations you will be able to play most games at max settings if the game was released prior to you will be able to play most new releases up to current day at reduced graphics settings applications will run at a reasonably high speed hard drives the laptop comes with two small rpm hard drives c and d the os is installed to c and d is empty if you install your programs to drive d you will get significant performance gains because your motherboard can process twin data streams at capacity you must do this to make games and applications run smoothly trackpad fix the built in drivers for the trackpad add smoothing effects and whatnot that make the trackpad even harder to use they do not provide basic functions like turning off the trackpad fix it plug in a usb mouse download the synaptics driver platform for mouse windows option using the usb mouse uninstall the trackpad drivers a right click on the bottom left corner of desktop b in the context menu select device manager c in the device manager right click on the trackpads controller it is under mice and other pointing devices d select properties from the drop down menu e select the driver tab f select uninstall and follow the on-screen instructions install the new synaptics drivers you now have better mouse handling and you can right-click the trackpad icon in the desktop tray go to the device settings tab and disable the trackpad install touch-freeze this will stun the mouse while you are typing which will prevent accidental clicks from messing up your typing wireless fix the built in drivers disable the wireless card on a regular basis in order to conserve power you will need to replace the aetheros drivers with the most up-to-date drivers and disable some features in the realtek pcie driver context menu download the aetheros drivers download link site this package will install just fine follow the on-screen instructions reboot go to the device manager select network adapters and right click qualcomm atheros arwb-eg wireless network adapter select properties select the power management tab uncheck the box allow the computer to turn off this device to save power click ok go back to the device manager right click and slect properties on realtek pcie gbe family controller go to the advanced tab modify the following properties energy efficient ethernet disabled green ethernet disabled go to the power management tab unchcheck allow the computer to turn off this device to save power click ok enjoy stable internet windows fix if you miss the traditional windows layout you can install a third party start button i recommend this one obitstartmenuphp</th>\n",
       "      <td>8.14606</td>\n",
       "      <td>1.56123</td>\n",
       "      <td>-1.20793</td>\n",
       "    </tr>\n",
       "    <tr>\n",
       "      <th>i got this after a real odyssey searching for a new ultrabook i owned the samsung series npxc and my girlfriend has a macbook air mba so i can also compare them to the yoga at this price the yoga is a great product if you want a great quality ultrabook parts are solid and well made and it is not as fragile as the samsung it is not as light as others but unless you really need an ultraportable like the samsung then the yoga fares well as it weights just lbs more than the mba although it is a little bigger about the latter it is sturdier in some sense than both the mba and samsung the mba actually delivers a good solid feeling the series not much so i felt like you can break it easily especially the hinges of the screen but i feel like i could drop the yoga without having to say goodbye to it i believe this is in lenovo spirit their laptop are renowned to be sturdy and long-lasting good quality control my first the samsung came with a dead pixel the second one had a crappy trackpad which selects things at random while you move the cursor and statics from the speakers and audio output a great touchscreen also in terms of quality of the lcd display ips with decent resolution notice that touchscreens reduce battery performance the samsung has a brighter screen and more battery life especially compared if you use the screen at the same level of brightness that was a drawback for the yoga to me because i dont care about the touchscreen however overall considering features and design quality control and price the yoga wins easily a good keyboard it is not as good as the x carbon but it definitely beats the mba which has a decent keyboard but shallower than the yoga and wins hands down the series stiff shallow and noisy it is relly a great ultrabook for the price with the competition out there at the moment you can also upgrade the ram and ssd easily enough especially the ram its trivial what i would like to see improved in the future in order of importance are battery life if you use brightness and use it constantly i mostly browse type quite a bit coding for example and listening to some music you might even wipe it in just hours thats not awesome the series would last hour longer however the battery is decent dont let yourself down because of this the os and features drains the battery the mba would last hours if it had a touchscreen like this and was running win more brightness and bigger screen the mba has a slightly bigger screen but worse resolution and quality thats for sure an even better keyboard like the x carbon thinkpad with the nipple please i would prefer a metal case in terms of design it would make it just awesome back-lit keyboard note i dont use the touchscreen much but the factor forms are really useful many times you are in a vehicle or on the plane or in a situation where you need to bend the laptop and use it with the screen closer to you taking up less space and such it is really useful i love to use it on the couch and bed as tablet otherwise a little heavy even if you dont love the touchscreen and would rather have a better battery life and lighter product like i do the yoga still wins to such product like mba and samsung because of its features and quality for that competitive price</th>\n",
       "      <td>10.93385</td>\n",
       "      <td>2.50282</td>\n",
       "      <td>-1.81780</td>\n",
       "    </tr>\n",
       "    <tr>\n",
       "      <th>on paper this laptop has a lot going for it a rd generation ivy bridge i dual core processor gb ram a multi touch screen a ghz wifi adapter atheros arbwb usb ports usb hour battery life as per the product specs in reality this is about half that and a modern design aesthetic unfortunately the more i used it the more i ran into its limitations and hence my star its okay rating performance its windows experience index numbers on a scale of to are processor memory graphics gaming hard disk the v is really hurt by its anemic intel hd graphics chip only mb of dedicated video memory as well as by its rpm hard drive construction this is a handsome laptop but its cut corners soon become apparent with use it feels plastic-ky and less well finished than my other laptops usability touchpad the touchpad is located too far to the left making left clicks a challenge has a stiff click action and tends to lose sensitivity when performing click-drag operations when closing modernmetro apps touch pad drags were often ignored it supports win actions such as invoking the charm menu but these were easy to trigger inadvertently yanking me out of my thoughts usability keyboard the keyboard is firm full sized and backlit however some keys are simply too small and the capsnum lock keys provide no indication when active usability touch screen the touch screen is the perfect complement to windows s modernmetro interface and is natural to use however right click and click drag actions were harder to pull off and i kept resorting to the mouse reaching across the keyboard can be an uncomfortable action depending on user position touching the screen can also be sacrilegious for those sensitive to screen smudges screen the display was sufficiently bright with adequate color reproduction its x resolution is measly for a screen but has the benefit of making text easier to read and icons easier to click since each pixel is larger no built-in ethernetvga ports in a tragic design decision these ports are only available using a separate adapter cable that means i not only have to pack this itty bitty connector each time but i also have to worry that i will misplace it battery life even with light use the battery ran down in hours this is too short for mobile use integrated optical drive a nice touch but as expected at this price point bluray is not supported software this unit was surprisingly clear of bloatware except for nti media maker even the trial windows office is a download link unfortunately acer was just as sparing with useful software who is this for this laptop seems to be aimed at users with light to moderate usage needs it should be adequate for internet browsingstreaming general home use and for school homework the larger pixels at this resolution and screen size should also be easier on older eyes however gamers road warriors developers and other power users will likely be better served elsewhere conclusion while this may seem to be a lot of laptop for the money i found that there were some material compromises how satisfied you will be with this laptop will depend on which of these compromises matter to you happy computing</th>\n",
       "      <td>11.18435</td>\n",
       "      <td>0.83345</td>\n",
       "      <td>-1.15721</td>\n",
       "    </tr>\n",
       "    <tr>\n",
       "      <th>just bought a unit from a local store i agree with another reviewthe touch screen is a great match with win however i have noticed two issues the keyboard seems to be quite sensitive when i type normally like i would on my old laptop ive noticed that some keystrokes were registered more than once and hence causing certain letters to repeat as a result i have to use backspace often to correct typing errors alternativelyy i could let computer do auto correct butt auto-correct isnt always accurate notice the previous sentence has the extra y and extra t from repeated letters and they were not auto-corrected also the touchpad seems to be loose even with very light tapping with finger tip the touch pad makes some clacky noises as if it may come off i dont know if the touchpad is normal but i am going to stores to try out demo units to see if those touchpads have the same issue  update checked with the store clackyloose touchpad isnt normal but it was easily fixed by tighten two screws on the bottom side underneath the touchpad repeating letters issue while typing is not as severe if i place the unit firmly on a table since its an ultrabook many will do typing in a less-than-optimal position based on my research the sensitivity of the keyboard may be optimized for softtouch typist due to its shallow key travel battery life is about hours on normal mixed use although id wish its longer i can live with it since its such a thin laptop  update put the unit to sleep by closing the lid when battery indicator was at hours later it was at so hour sleep drained of power dont know if thats good or badbut my first impression is that its not as good as advertised power consumption within hours means it can only stand by for days assuming linear power consumption besides the clacky touchpad which is easily fixed the whole unit has superb fit finish edges are very sharp especially around the screen it gives an impression that one may cut oneself easily ive forced my fingertips and palms thru all edges without any cuts i cant say the same for other body parts thoughtry at your own risk high resolution screen is great however its a double-edged sword all clickable menu buttons links become so small that it is difficuult to click them using fingertips this is particularly worse around the corners eg i couuld eaislyy close the window instead of resizing it at upper right corner update i am still finding my ways around win but i can confidently say that if you dont want or dont care about win you should save yourself and look for other excellent ultrabooks that have no touch screens in addition a large responsive and accurate multi-gesture touchpad can be just as effective for win ie about so a touch screen is really just a nice-to-have for win but not a necessity this units touchpad is quite goodso i find myself using the touch screen less and less for productivity work however i use the touch screen almost exclusively for leisure browsing of web sites where typing is not really needed after a few days of using it i can confidently say that one should realistically expect the battery life to be no more than hours if you tweak the power saving configurations you may squeeze another hour or two out of it update noticed that wifi isnt reliable ie disconnected whenever i am at busy or low quality hotspots i have not experienced this with my year old sony laptop i suspect this may have to do with the power management configurationsetting after using the unit extensively for about one week id say the sensitivetouchy keyboard is the only remaining annoyance for me i alsowish it has longer battery life but its a conscious trade-off for such a thin ultrabook overall its a very gorgeous ultrabook with beautiful glass top that you can even serve sushi and sashimi on it  update the intermittent wifi disconnects while on battery can be fixed or minimized by changing the property in advanced power management for wifi adaptor change it from max battery to max performance i am starting to warm up to the win metromodern ui certain activities are just more efficient if you simply lift your armfinger to point click on a touch screen instead of a lift your armfinger onto touchpad b move the mouse cursor to the desired buttonlink and c click or tap the touchpad win definitely requires you to mix match how you use tabletphone and how you use a traditional pclaptop it just takes time to warm up to it of course you need to have a touch screen to take full advantage of win metromodern ui however a touch screen isnt a must for win because you can also change win back to the classic windows interface</th>\n",
       "      <td>13.39921</td>\n",
       "      <td>4.24578</td>\n",
       "      <td>-6.14111</td>\n",
       "    </tr>\n",
       "    <tr>\n",
       "      <th>acer isnt an unfamiliar brand around our house in fact my husbands first personally owned computer was an acer sx cira as were the first and second computers we bought together over the years acers quality has ranged from excellent for the money to dismal at best especially after buying up gateway the acer seemed to struggle with quality in more recent history theyre back on the upswing but still not wonderful so it was with some hesitation that we got the aspire v not quite knowing what to expect after a few weeks i can say that were pleasantly surprised the v is quite thin and light compared to the other laptops we have around the house lenovo g lenovo thinkpad ts compaq cq hp dv and hp dv the backlit keyboard is quite nice both in appearance and feel typing away feels good with just the right amount of tactile resistance of the models we have only the thinkpad outclasses the v in this area the inclusion of a numeric keypad was an added bonus as only our models have these for me the addition doesnt make the keyboard feel cramped but my hands are on the smaller side so this could vary the touchpad itself is very sensitive with a surface that lets your fingers glide right across it easily im not a touchpad person myself but i did check out the extensive adjustments and gesture control options that are built in just before turning them off yes i know how antiquated of me the battery life is very good with ours lasting just under hours while doing some light gaming the whole time this bested the older models we have but came in about the same as the pair of lenovos speaking of gaming the intel graphics chip inside isnt a slouch but its not going to come close to what can be had with a dedicated gaming laptop or other laptop with decent graphics chip from nvidia or amd the cpu is certainly powerful enough especially when backed by intels ivy bridge chipset but expect to be turning down the graphics options if youre into heavy gaming first person shooters rpgs etc for your typical tasks like web surfing emailing document creation watching videos playing games on facebook or pogo and the like youll be more than happy with the performance in terms of overall performance i feel the v held put itself ahead of the rest of our pack with most everything seeming to run a bit quicker and more smoothly than on any of our others yes v comes with windows but im not going to try and review that as its a whole beast in and of itself i would like to note that the v does come with a fair amount of bloatware those programs that no one really wants but the manufacturer stick in there as a value add item the v wasnt nearly as bad as the hps and compaq which are notorious for the amount of garbage they come with bummer there wasnt a full copy of office home and student instead of the trial version but i cant actually complain about that since i knew that what it came with in the first place lastly and the only thing i will say about win is that it runs very smoothly compared to some prior new major releases cough vista cough winme cough win not a single hitch to be had during this whole time and weve been putting the v through its paces lastly just a few bits on the vs other features touchscreen yes it works very well but youll likely love it or hate it depending on if you like reaching up to the screen a lot and if you dont mind cleaning the screen a lot more often than on a conventional laptop the hdmi output has come in very handy for things like gaming watching netflix and web surfing on an hdtv our son loves it for the gaming so he and his friends can all watch the action without having to crowd around the person at the keyboard sound quality is decent enough though youre not going to get qualityenough to satisfy an audiophile the webcam iswellmeh it works well enough to be sure but dont expect crystal clear and grain free image quality its simply not that great at mp overall i think the v is an excellent machine in terms of price performance and features im almost tempted to trade my g for it buti really like the bigger screen our son is loving it and as previously stated hasnt run into a single hitch yet only time will tell if the quality inside is up to snuff thoughenough to satisfy an audiophile the webcam iswellmeh it works well enough to be sure but dont expect crystal clear and grain free image quality its simply not that great at mp overall i think the v is an excellent machine in terms of price performance and features im almost tempted to trade my g for it buti really like the bigger screen our son is loving it and as previously stated hasnt run into a single hitch yet only time will tell if the quality inside is up to snuff though</th>\n",
       "      <td>10.23887</td>\n",
       "      <td>2.32986</td>\n",
       "      <td>-3.14220</td>\n",
       "    </tr>\n",
       "    <tr>\n",
       "      <th>...</th>\n",
       "      <td>...</td>\n",
       "      <td>...</td>\n",
       "      <td>...</td>\n",
       "    </tr>\n",
       "    <tr>\n",
       "      <th>asus began the netbook era with a very small computer running linux the screen was x the machine had meg of ram plus g of not so fast ssd space it ran a celeron cpu the electronics bled power the screen was tiny but it was cheap under us and it ran a customized version of a somewhat out of date distribution called xandros linux eventually manufacturers stopped making netbooks and by that time microsoft had crippled the form factor now with better electronics and a screen with its own crippled version of windows and insisting that they all come with g of ram intel finished the job by making netbooks linux hostile with their latest atom based systems now asus has returned with a sandy bridge based celeron computer with a screen running ubuntu linux behold the new netbook it has little that you can upgrade still it comes with g of ram and a decent sized hard drive g the screen while bumps the resolution to x an improvement over the x displays of previous netbooks the keyboard is usable if a bit squishy in its feel one positive is that asus put a second function key next to the arrow keys the biggest complaint typists will have is that the spacing from hand rest to screen is cramped you may miss when changing rows the touchpad is one of those with the buttons integrated the bottom of the touchpad clicks click feel is lousy the pad surface is cramped i never tested the touch aspect with the supplied ubuntu but i can say that with debian it is quite good responding well to swipes and one through three fingered taps netbooks have always featured strong connectivity these included usb ports one ethernet sd card vga out and audio this machine changes one of the usb ports to usb and adds a full sized hdmi port to the mix the cpu is more powerful than its atom cousins it also features hardware support for virtual machines the difference in speed running any virtual machine on this machine compared to a traditional netbook is dramatic unfortunately the g of ram that comes with the e cannot be upgraded somewhat limiting the machines usefulness for running virtual machines the machine will run warm in spots mostly on the left side by the exhaust vent your left leg will feel it if you cover the bottom intake vents the machine will get hot the fan however never gets noisy the better netbooks came with bulgy external batteries for better battery life so does this one some people will complain that this is one fat ugly netbook and they would be right such people should get asinbfik another asus machine its slim slightly larger runs cooler and features no unsightly bulges it also comes with the same ubuntu linux along with twice the ram plus a keyboard with better touch and spacing battery life for that machine is hours this one reaches sometimes i like bulges even better this battery can be replaced easily a couple of comments for you linux aficionados who like to experiment with other distros go right ahead i typically try to run debian here are my observations the wireless uses a broadcom chipset veteran linux users know what i mean broadcom support has gotten better over time though for debian you download the package broadcom-sta-dkms and the linux headers associated with your kernel debian will then pull in a bunch of other programs for compiling software its all automated and what you end up with is a compiled kernel module called wl it works fine and will update automatically should a kernel update call for it but good luck installing debian and expecting the installer to use your wireless connection that may hold true for other distributions too but not all its good this machine has ethernet as i used the debian netinstall disk the machine comes with the not-so-capable intel graphics video its what comes with sandy bridge computers linux support is decent though with debian you may want to disable or remove xscreensaver all told a decent machine with basic hardware that gives very good battery life if you travel want a very portable cheap machine that can still get work done without plugging in this is the one for you</th>\n",
       "      <td>13.30356</td>\n",
       "      <td>0.93076</td>\n",
       "      <td>-1.88208</td>\n",
       "    </tr>\n",
       "    <tr>\n",
       "      <th>st solid construction little to no keyboard flex and snappy keyboard with the correct amount of press and spring back plastic to made to look like annodized aluminum top but there is still some screen flex if you try to flex it but it looks very nice with the screen closed the laptop is very sturdy and solid feeling hinges have just the right amount of tension not a fan of the mouse pad but i mostly use a usb mouse anyhow and in reality the mouse pad is not that bad nd screen is very clear sharp and colorful the matte screen is a nice touch the screen is not as nice as the hps but you wont be disappointed viewing angles are not the bestbut it is a laptop and when am i ever viewing this thing off angle the screen looks great very quick and responsive black to white and white to black times rd boot time this thing has a rpm tb hdd after the necessary config boot the next boot was seconds to an open internet explorer the next few boots were secs from switch on to open internet explorer i am actually extremely pleased with that i was going to dump the hdd and put in two gig ssds but now i will keep the tb rpm drive and just put in the gig sandisk extreme in the other bay againvery impressed with the included hdd th at idle and under heavy benchmarking loads this thing runs very cool however at idle the fan is louder than i would like to see but it is not distracting even under load the fan is not instrusive th the gtm idles when the intel hd integrated graphics is in use at c when the gtm is in use and at idle the idle temp is c the cpus idle at c now for the temps under load running furmark x no aa fps were fps and after mins running the gpu temp maxed out at c this thing stays extremely cool the cpus running prime after mins highest average temp was c all temps were done with a room at f th there is the normal bloatware uninstall went smooth so if you are keeping windows then you will be fine and will be able to uninstall the bloat me personally win will be wiped off mins after writing this review ill be putting win that bought with this laptop on the hdd and putting linux mint on my sdd th this thing is very light for a laptop with installed googies lbs the ac adapter is nicely sized with plenty of cord the physical size of the laptop is perfect for me the asus gs and g have those huge cooling vents in the back which add inches to the width this doesnt need it and it still stays plenty cool th speakers are adequate they are plenty loud and sound decent enough they are not going to win any awards but then again they are just fine a little tinny but not bad i havent done a battery test yet but are you really buying a performance monster for the battery life i dont have any games installed yet for benchmarks because about to wipe out win but the fps in furmark at x is pretty good you can google the performance of the gtm they are pretty much in line with the gtxm once i get some games loaded ill update all in all this is one great laptop lots crammed into a perfect sizedweighted laptop that doesnt get hot update battery use jumped online and unplugged the cord after hr had remaining after hrs had remaining if that keeps up the battery will last over hours just surfing the internet contributing to forums and writing reviews in fact hovering over the battery icon after hours of use it says hrs mins remaining im stunned this is with me changing the settings in the nvidia control panel to prefer maximum and preferring the dedicated card instead of the integrated graphics update sept my job requires that i fly days aprox per year so after owning this for a while and beating it up extensively i can say that this laptop holds up great no issues quality wise there have been alot of questions about windows install and linux install linux mint kde installed perfectly that with nvidia and bumblebee make this an extremely happy laptop i play all my games in linux mint and most boot into linux mint without any problems the trouble was installing win acer only lists win drivers most of the drivers will work with win but not all itll look like they worked but youll get some hiccups i used linux lshw command in the terminal to find out exactly what hardware i had appaerently you can have a few diffent peices of hardware and installed the win driver for that hardware long story short i also have win running perfectly except the bluetooth no matter what i do i cant get that to work well no biggiei dont ever use it anyhow sorry not much help on the win installexcept i can confirm win does work perfectly except bluetooth when you get it right i was drinking when i reinstalled win so not sure exactly how i did it enjoy i love this laptop game comparison benchmark fyi xtc in linux mint kde min fps is fps max is fps win is min fps with a max of fps both have latest nvidia drivers</th>\n",
       "      <td>13.78395</td>\n",
       "      <td>5.54132</td>\n",
       "      <td>-2.86404</td>\n",
       "    </tr>\n",
       "    <tr>\n",
       "      <th>amazing notebook for under fast shipping from amazon ive had it for a week and it has performed flawlessly for what my wife and i use it for we wanted a small notebook that can be easily carried around the house as well as taking on trips its great for web browsing watching youtube videossearch ubuntu-restricted-extras typing documents using libreoffice etc battery lasts hours or so depending on usage it comes with ubuntu lts bit which is supported through april the initial configuration takes approximately minutes before booting into the os which then required mb of updates the notebook uses efi boot with gpt partitioning heres the partitioning mb fat boot-efi gb fat pqservices restore gb ext ubuntu os gb swap gb ntfs data you can boot from usb flash by pressing the esc key at the asus screen during boot according to a reviewer of the asus xe-dh the recovery partition can be accessed by pressing shift at boot it comes with bios ver the latest is which can be downloaded from asus support i wouldnt recommend updating the bios unless you know what youre doing im an experienced ubuntu user so didnt have any problems setting everything up for someone with little or no experience theres tons of online help especially ubuntuforumsorg the unity launcher takes a little getting used to and i recommend going into system settings appearance behaviour and setting the launcher to auto-hide and moving the sensitivity to high this will free up much needed screen space ive installed cairo dock which really isnt needed but some might prefer it over unitys launcher ubuntu isnt for everyone but the good thing is it can be tested by downloading the ubuntu iso burning it as an image to cd or dvd the livecdwhich is much slower than an install will give you the ubuntu experience without actually installing it on your present computer once ubuntu is set up personalized on the notebook there should be little or no configuring required i would highly recommend the asus e-ds to anyone who is familiar with ubuntu or is willing to put in a little effort to learn a new oswindows was new at one time im an old timer year old cooter so anyone can learn to use ubuntu its been a rewarding experience for meand my wife just wanted to add that everything worked out-of-the-box however i havent tried ethernet but wireless is fast reliable the notebook quickly suspends when the lid is closed and immediately resumes when opened i did have one time that it didnt suspendyoull know this if the wireless light remains on only the power light blinks if it suspends properly the battery discharged completely when it didnt suspend so i later went into system settings power turn off power when battery is critically low to prevent this i dont want this to be an ubuntu help review but heres a few other tweaks that i did in firefox to enable click to select all in the address bar type aboutconfigwithout quotes into the address bar type browserurlbarclickselectsall toggle from false to true to adjust fonts various other tweaks search for ubuntu-tweak online the directions will require using the command line or terminalpress the windows keytype terminal in the search box copy paste one line at a time press enter after each line in ubuntu-tweak you might also want to change to a more traditional scrollbar by disabling overlay scrollbar dont let using the terminalits easy deter you from using ubuntu this should be the last time youll use it note pressing the windows key opens the dash menu where you can find all the programs installed on the computer this paragraph isnt an actual review of the notebook but maybe itll help get anyone started who is unfamiliar with ubuntu linux</th>\n",
       "      <td>8.93409</td>\n",
       "      <td>1.37534</td>\n",
       "      <td>-0.72662</td>\n",
       "    </tr>\n",
       "    <tr>\n",
       "      <th>i was looking for a lightweight lb or less touch screen windows around the mark laptop for my mom who is a light pc user definitely requiring user support often after purchasing an asus notebook after about hours i was sure this was not the right notebook and i needed to find something better the asus had the centrino processors which turns out run hot so the fan was loud and the laptop would be hot pretty much the whole time and it only had a dual processor even after optimizing it and removing some power consuming apps the poor laptop still seemed to struggle to run plus the screen was tiny not a touch screen hence the price tag after some research attempting to remedy the asus shortcomings i purchased the acer aspire v after going to best buy and actually handling the laptop i was impressed at its weight how slick and well designed it felt and most importantly it felt like a real laptop not a toy like the asus what a great purchase after spending days configuring it and learning the new w os and all these apps ive never handled i am a windows convert and definitely considering buying an acer aspire for myself pros price what a great price for such a loaded laptop paid only a little over design solid notebook slick design with all necessary ports weight light weight about lb with the battery touchpad is a dream you have the mouse click options which are missing on some other notebooks it is sensitive just enough it is not in your way when you type it doesnt jump around your apps when you touch it best of all i did not have to load any additional drivers or updates for the touchpad touch screen although the resolution isnt super high on paper what a great crystal screen love the colors vibrant and clear from the box didnt have to adjust anything and the screen is so well designed for the touch it is sensitive just enough to get you around without many errors in the box laptop power cable basic manual for start up and warranty dongle for vga fan super happy with the low quiet fan and cool laptop all that with a quad processor laptop kudos sound speakers provide loud enough volume for my aging mom with slight hearing issues good clear sound as well unknowns battery dont know have not had the battery below so i dont know how long it would take to drain it performance not sure if this isnt due to everything being new and having to load for the first time but some apps and screens take to seconds to load hoping this would change once everything is configured and used at least once it could also be due to our w inexperience time will tell the laptop does start fast from sleep mode although when you open the top it doesnt start automatically i have to press the power button for it to wake up there is probably a setting somewhere about that but thats not a big issue right now cons probably the only tech spec that is below the rest of the components on this machine is the camera grainy images and video oh well all the rest is great so hard to complain given the price had to install app updates which took several hours the notebook was loaded in nov so by july all loaded apps had new versions pretty much this is not an acer or laptop issue though cant hold it against them since this is something we have to do regardless of what brand and laptop we purchase acercloud is a good idea but boy there was no information about what and how to use it and after loading a bunch of its related apps to the laptop and the mobile devices i had no idea how to move filesphotos from the mobile devices to the laptop just no way to do that based on the few menus in the apps it was super frustrating and even research online on the acer forums was useless after wasting about hours i moved onto skydrive after min and some research it still didnt seem intuitive enough so i did some more experimenting and settled on dropbox what a relief the app came with a short and sweet guide telling me exactly how to load my files from one device to the other and the app itself was pretty intuitive as well and didnt require different apps like the acercloud just one plus it kept giving me more and more free space the more i used it and the more devices i added hope this solves my file sharing needs long term would be great if the touch screen laptops came with a touch pen also makes it so much nicer to browse the screen i used one that came with another purchase i made on amazon again not really an acer issue just a nice to have suggestion other windows bit of a steep learning curve and there were no tutorials or instructions on the laptop or at least not that i easily spotted there is definite initial frustration with the os lasted about days but after installing windows preview version which brings back the start button of sorts after finally finding the control panel it was frustrating hunting for it or accidentally stumbling on it but not knowing how to knowingly get to it i was more and more comfortable with the os and seeing its advantages after moderately learning how to get around myself i setup up the start screen and apps for my mom i then braced myself and showed my mom how to use her new laptop expecting a long drawn session it was quite a surprise to see how well she took to using the touch screen and figured out how to get around she has always had trouble with the mouse pads and even more with the touch pads it was a relief to see that she easily handled the gestures on the screen and learned how to get around surprisingly faster than i expected she loved the screen clarity and the vibrant colors after that i knew i had the right laptop in conclusion i am very impressed with this quiet lightweight hard working crystal clear machine after a bit more tweaking and learning more about the os and the apps i am sure it will be even better will try to provide an update after some longer term use but for now we are definitely in the honeymoon phase</th>\n",
       "      <td>14.38589</td>\n",
       "      <td>2.55690</td>\n",
       "      <td>-6.33762</td>\n",
       "    </tr>\n",
       "    <tr>\n",
       "      <th>well its expensive more expensive than any tablet option that ive seen but thats also partially because its on par with a full powered ultrabook in terms of specs here are the specific pros and cons i see pros battery life really can hit hours even though its an i gb sata iii ssd with gb ram with the digitizer its powerful enough to be used as a pretty effective graphic design device rip and flip mode is actually pretty handy when using it as a tablet more so than the hinge less surface pro keyboard battery idea is well engineered and works like the asus tablets the tablets battery is always given charge priority over the keyboard docks battery so when both are plugged in the tablet charges while the kb trickle charges once the tablet is full the kb charges at full speed when docked but unplugged the kb powers the device and transfers its juice to the tablet to recharge its battery you can also plug the kb in by itself to charge the kb docks battery while you continue to use the tablet if you really wanted to you could use the tablet indefinitely and never actually plug it directly into the wall if you alternate using it with the kb dock with vpro rapid boot full hibernation takes less than seconds to restore between pressing the power button and actually getting a useable desktop cold boots pretty close to that sleep restore is instant large multitouch touchpad is actually usable and works very well its on par with the touchpad i had on my macbook pro eraser mouse also works well and is a nice alternative to have for apps that dont work well with touchpads such as games like minecraft well-built hinge design is sturdier than any other similar tablets ive used the kb dock has supplemental cooling so when docked it can run the i at full speed fans in the dock blow through vents in the tablet even when not docked its pretty fast supports intel widi so i picked up a couple adapters two usb ports on the kb dock solid overall build quality something lenovo is well known for good quality speakers loud and clear decent sized stylus and that actually goes inside the tablet when not in use unlike the surface pro intel hd isnt the fastest gpu but when paired with a halfway decent cpu itll run just about anything on the ms store flawlessly and most of my steam library on low to medium settings unlike the atom-based tablets which were always a crapshoot when trying new software ive tested it with dishonored fable skyrim far cry blood dragon assassins creed xcom enemy unknown deus ex human revolution arkham city shogun total war and several other current gen games with the exception of any games that specifically have trouble with intel integrated graphics like the swapper it can run pretty much anything i try on it at least at fps if i turn the detail down low enough mini dp instead of micro hdmi like some models such as the samsung ativ cons fully loaded it probably runs about wifi reception is a little odd it picks up g networks great but n network reception drops off significantly the further you get from the router from the other side of the house i get bars to the g network but as few as bar to the n network even though they are both hosted by the same netgear they had similar issues with the early models that my company received a few months back and the lenovo rep told us that a x version would be available sometime in the future but i have no idea specifically when that might be no sd card slot although id rather use a sata iii external usb hard drive over a slow sd card they had to cut it for space in the final design when docked its a little bit larger and heavier than some ultrabooks the only usb port on the tablet is and is covered when docked with the keyboard no usb ports on the tablet itself actually getting widi to work has been unreliable but i dont know where the problem is on that one yet probably software updates no gps on the wifi model included with mobile broadband only compared to other lenovo laptops that feature rapid charge recharging both batteries to full takes a while total charging time seems to take about to hours or to per battery as is the case with all full windows tablets the battery can drain faster than expected if you are not careful too many background apps may drain your battery prematurely but this is more of a general windows complaint than this device specifically no haswell model today and for all anyone knows there could be one in a week or a year now is a terrible time to buy any device because halfway decent haswells are showing up pretty quickly razer already has a haswell gaming laptop with a discrete gpu that weighs less than lbs really nitpicky cons these are cons that i noticed that are very minor boil down to personal preference or havent been verified as being unsolvable so there may be some equivalent featuresolution while the kb can charge when the tablet isnt attached the usb ports dont appear to charge devices plugged into them if the tablet is not present a battery charge indicator on the kb would be nice without this theres no way to know how charged the kb is without plugging the tablet into it some of the keyboard keys are laid out strangely fn in the far lower left instead of ctrl is a pet peeve of mine the bios allows you to swap ctrl and fn in the lower left to compensate for this observations neither good nor bad but interesting to know when the tablet is flipped all kb input from the docked kb is ignored as is the close lid action since folding the unit updoesnt really close it in this mode this means that if you had a specific power setting mapped to lid close then you cant do that until you flip it back around in the other direction</th>\n",
       "      <td>14.06633</td>\n",
       "      <td>2.51567</td>\n",
       "      <td>1.23604</td>\n",
       "    </tr>\n",
       "  </tbody>\n",
       "</table>\n",
       "<p>851 rows × 3 columns</p>\n",
       "</div>"
      ],
      "text/plain": [
       "                                                          c1       c2       c3\n",
       "clean_review_body                                                             \n",
       "im re-writing this review to include a tutorial...   8.14606  1.56123 -1.20793\n",
       "i got this after a real odyssey searching for a...  10.93385  2.50282 -1.81780\n",
       "on paper this laptop has a lot going for it a r...  11.18435  0.83345 -1.15721\n",
       "just bought a unit from a local store i agree w...  13.39921  4.24578 -6.14111\n",
       "acer isnt an unfamiliar brand around our house ...  10.23887  2.32986 -3.14220\n",
       "...                                                      ...      ...      ...\n",
       "asus began the netbook era with a very small co...  13.30356  0.93076 -1.88208\n",
       "st solid construction little to no keyboard fle...  13.78395  5.54132 -2.86404\n",
       "amazing notebook for under fast shipping from a...   8.93409  1.37534 -0.72662\n",
       "i was looking for a lightweight lb or less touc...  14.38589  2.55690 -6.33762\n",
       "well its expensive more expensive than any tabl...  14.06633  2.51567  1.23604\n",
       "\n",
       "[851 rows x 3 columns]"
      ]
     },
     "execution_count": 86,
     "metadata": {},
     "output_type": "execute_result"
    }
   ],
   "source": [
    "Vt = pd.DataFrame(doc_topic.round(5),\n",
    "             index = helpful_laptop_reviews,\n",
    "             columns = [\"c1\",\"c2\",\"c3\"])\n",
    "Vt"
   ]
  },
  {
   "cell_type": "markdown",
   "metadata": {},
   "source": [
    "---"
   ]
  },
  {
   "cell_type": "markdown",
   "metadata": {},
   "source": [
    "# Latent Semantic Analysis (LSA) w/ TF-IDF:"
   ]
  },
  {
   "cell_type": "code",
   "execution_count": 87,
   "metadata": {
    "scrolled": true
   },
   "outputs": [
    {
     "data": {
      "text/plain": [
       "TfidfVectorizer(analyzer='word', binary=False, decode_error='strict',\n",
       "                dtype=<class 'numpy.float64'>, encoding='utf-8',\n",
       "                input='content', lowercase=True, max_df=851, max_features=None,\n",
       "                min_df=3, ngram_range=(1, 1), norm='l2', preprocessor=None,\n",
       "                smooth_idf=True,\n",
       "                stop_words=[\"mustn't\", 'doesn', 'i', \"couldn't\", \"shan't\",\n",
       "                            'window', 'd', 'didn', 'll', 't', 're', \"don't\",\n",
       "                            'weren', 'your', \"should'v\", 'ma', 'aren',\n",
       "                            \"wouldn't\", \"you'v\", 'their', 'won', 'haven',\n",
       "                            \"isn't\", 've', \"hasn't\", \"haven't\", 'comput',\n",
       "                            'tablet', 'pro', 'notebook', ...],\n",
       "                strip_accents=None, sublinear_tf=False,\n",
       "                token_pattern='(?u)\\\\b\\\\w\\\\w+\\\\b',\n",
       "                tokenizer=<__main__.PStemmer object at 0x7f3f143c43c8>,\n",
       "                use_idf=True, vocabulary=None)"
      ]
     },
     "execution_count": 87,
     "metadata": {},
     "output_type": "execute_result"
    }
   ],
   "source": [
    "tfidf = TfidfVectorizer(min_df=3, max_df=len(helpful_laptop_reviews),\n",
    "                        stop_words=stem_stopwords, ngram_range=(1,1), tokenizer=PStemmer())\n",
    "tfidf"
   ]
  },
  {
   "cell_type": "code",
   "execution_count": 88,
   "metadata": {
    "scrolled": true
   },
   "outputs": [
    {
     "name": "stderr",
     "output_type": "stream",
     "text": [
      "/home/ubuntu/anaconda3/lib/python3.7/site-packages/sklearn/feature_extraction/text.py:300: UserWarning:\n",
      "\n",
      "Your stop_words may be inconsistent with your preprocessing. Tokenizing the stop words generated tokens ['need', 'r', 'sha', 'v'] not in stop_words.\n",
      "\n"
     ]
    },
    {
     "data": {
      "text/plain": [
       "<851x3326 sparse matrix of type '<class 'numpy.float64'>'\n",
       "\twith 99303 stored elements in Compressed Sparse Row format>"
      ]
     },
     "execution_count": 88,
     "metadata": {},
     "output_type": "execute_result"
    }
   ],
   "source": [
    "doc_words3 = tfidf.fit_transform(helpful_laptop_reviews)\n",
    "doc_words3"
   ]
  },
  {
   "cell_type": "code",
   "execution_count": 89,
   "metadata": {},
   "outputs": [
    {
     "data": {
      "text/plain": [
       "array([0.01098931, 0.01343031, 0.0094722 ])"
      ]
     },
     "execution_count": 89,
     "metadata": {},
     "output_type": "execute_result"
    }
   ],
   "source": [
    "lsa2 = TruncatedSVD(3)\n",
    "doc_topic = lsa2.fit_transform(doc_words3)\n",
    "lsa2.explained_variance_ratio_"
   ]
  },
  {
   "cell_type": "code",
   "execution_count": 90,
   "metadata": {
    "scrolled": false
   },
   "outputs": [
    {
     "name": "stdout",
     "output_type": "stream",
     "text": [
      "\n",
      "Topic  0\n",
      "screen, drive, use, gb, batteri, keyboard, machin, im, work, time\n",
      "\n",
      "Topic  1\n",
      "gb, drive, ssd, model, ram, memori, core, processor, intel, usb\n",
      "\n",
      "Topic  2\n",
      "machin, servic, custom, issu, problem, drive, amazon, support, repair, driver\n"
     ]
    }
   ],
   "source": [
    "display_topics(lsa2, tfidf.get_feature_names(), 10)"
   ]
  },
  {
   "cell_type": "code",
   "execution_count": 91,
   "metadata": {},
   "outputs": [
    {
     "data": {
      "text/html": [
       "<div>\n",
       "<style scoped>\n",
       "    .dataframe tbody tr th:only-of-type {\n",
       "        vertical-align: middle;\n",
       "    }\n",
       "\n",
       "    .dataframe tbody tr th {\n",
       "        vertical-align: top;\n",
       "    }\n",
       "\n",
       "    .dataframe thead th {\n",
       "        text-align: right;\n",
       "    }\n",
       "</style>\n",
       "<table border=\"1\" class=\"dataframe\">\n",
       "  <thead>\n",
       "    <tr style=\"text-align: right;\">\n",
       "      <th></th>\n",
       "      <th>c1</th>\n",
       "      <th>c2</th>\n",
       "      <th>c3</th>\n",
       "    </tr>\n",
       "    <tr>\n",
       "      <th>clean_review_body</th>\n",
       "      <th></th>\n",
       "      <th></th>\n",
       "      <th></th>\n",
       "    </tr>\n",
       "  </thead>\n",
       "  <tbody>\n",
       "    <tr>\n",
       "      <th>im re-writing this review to include a tutorial on how to fix up the laptop without voiding the warrantee im upping it to stars now that ive fixed it the hardware is great the software can be fixed pros great hardware fast processor big video specs built in tutorial for windows comes with gb cloud storage for years cons windows the trackpad is awful tutorial below reduces annoyance the wireless will drop out tutorial below fixes packed with bloatware you can uninstall it webcam sucks mic is great though small hd space performance expectations you will be able to play most games at max settings if the game was released prior to you will be able to play most new releases up to current day at reduced graphics settings applications will run at a reasonably high speed hard drives the laptop comes with two small rpm hard drives c and d the os is installed to c and d is empty if you install your programs to drive d you will get significant performance gains because your motherboard can process twin data streams at capacity you must do this to make games and applications run smoothly trackpad fix the built in drivers for the trackpad add smoothing effects and whatnot that make the trackpad even harder to use they do not provide basic functions like turning off the trackpad fix it plug in a usb mouse download the synaptics driver platform for mouse windows option using the usb mouse uninstall the trackpad drivers a right click on the bottom left corner of desktop b in the context menu select device manager c in the device manager right click on the trackpads controller it is under mice and other pointing devices d select properties from the drop down menu e select the driver tab f select uninstall and follow the on-screen instructions install the new synaptics drivers you now have better mouse handling and you can right-click the trackpad icon in the desktop tray go to the device settings tab and disable the trackpad install touch-freeze this will stun the mouse while you are typing which will prevent accidental clicks from messing up your typing wireless fix the built in drivers disable the wireless card on a regular basis in order to conserve power you will need to replace the aetheros drivers with the most up-to-date drivers and disable some features in the realtek pcie driver context menu download the aetheros drivers download link site this package will install just fine follow the on-screen instructions reboot go to the device manager select network adapters and right click qualcomm atheros arwb-eg wireless network adapter select properties select the power management tab uncheck the box allow the computer to turn off this device to save power click ok go back to the device manager right click and slect properties on realtek pcie gbe family controller go to the advanced tab modify the following properties energy efficient ethernet disabled green ethernet disabled go to the power management tab unchcheck allow the computer to turn off this device to save power click ok enjoy stable internet windows fix if you miss the traditional windows layout you can install a third party start button i recommend this one obitstartmenuphp</th>\n",
       "      <td>0.25544</td>\n",
       "      <td>-0.08779</td>\n",
       "      <td>0.05999</td>\n",
       "    </tr>\n",
       "    <tr>\n",
       "      <th>i got this after a real odyssey searching for a new ultrabook i owned the samsung series npxc and my girlfriend has a macbook air mba so i can also compare them to the yoga at this price the yoga is a great product if you want a great quality ultrabook parts are solid and well made and it is not as fragile as the samsung it is not as light as others but unless you really need an ultraportable like the samsung then the yoga fares well as it weights just lbs more than the mba although it is a little bigger about the latter it is sturdier in some sense than both the mba and samsung the mba actually delivers a good solid feeling the series not much so i felt like you can break it easily especially the hinges of the screen but i feel like i could drop the yoga without having to say goodbye to it i believe this is in lenovo spirit their laptop are renowned to be sturdy and long-lasting good quality control my first the samsung came with a dead pixel the second one had a crappy trackpad which selects things at random while you move the cursor and statics from the speakers and audio output a great touchscreen also in terms of quality of the lcd display ips with decent resolution notice that touchscreens reduce battery performance the samsung has a brighter screen and more battery life especially compared if you use the screen at the same level of brightness that was a drawback for the yoga to me because i dont care about the touchscreen however overall considering features and design quality control and price the yoga wins easily a good keyboard it is not as good as the x carbon but it definitely beats the mba which has a decent keyboard but shallower than the yoga and wins hands down the series stiff shallow and noisy it is relly a great ultrabook for the price with the competition out there at the moment you can also upgrade the ram and ssd easily enough especially the ram its trivial what i would like to see improved in the future in order of importance are battery life if you use brightness and use it constantly i mostly browse type quite a bit coding for example and listening to some music you might even wipe it in just hours thats not awesome the series would last hour longer however the battery is decent dont let yourself down because of this the os and features drains the battery the mba would last hours if it had a touchscreen like this and was running win more brightness and bigger screen the mba has a slightly bigger screen but worse resolution and quality thats for sure an even better keyboard like the x carbon thinkpad with the nipple please i would prefer a metal case in terms of design it would make it just awesome back-lit keyboard note i dont use the touchscreen much but the factor forms are really useful many times you are in a vehicle or on the plane or in a situation where you need to bend the laptop and use it with the screen closer to you taking up less space and such it is really useful i love to use it on the couch and bed as tablet otherwise a little heavy even if you dont love the touchscreen and would rather have a better battery life and lighter product like i do the yoga still wins to such product like mba and samsung because of its features and quality for that competitive price</th>\n",
       "      <td>0.26146</td>\n",
       "      <td>-0.01964</td>\n",
       "      <td>-0.15902</td>\n",
       "    </tr>\n",
       "    <tr>\n",
       "      <th>on paper this laptop has a lot going for it a rd generation ivy bridge i dual core processor gb ram a multi touch screen a ghz wifi adapter atheros arbwb usb ports usb hour battery life as per the product specs in reality this is about half that and a modern design aesthetic unfortunately the more i used it the more i ran into its limitations and hence my star its okay rating performance its windows experience index numbers on a scale of to are processor memory graphics gaming hard disk the v is really hurt by its anemic intel hd graphics chip only mb of dedicated video memory as well as by its rpm hard drive construction this is a handsome laptop but its cut corners soon become apparent with use it feels plastic-ky and less well finished than my other laptops usability touchpad the touchpad is located too far to the left making left clicks a challenge has a stiff click action and tends to lose sensitivity when performing click-drag operations when closing modernmetro apps touch pad drags were often ignored it supports win actions such as invoking the charm menu but these were easy to trigger inadvertently yanking me out of my thoughts usability keyboard the keyboard is firm full sized and backlit however some keys are simply too small and the capsnum lock keys provide no indication when active usability touch screen the touch screen is the perfect complement to windows s modernmetro interface and is natural to use however right click and click drag actions were harder to pull off and i kept resorting to the mouse reaching across the keyboard can be an uncomfortable action depending on user position touching the screen can also be sacrilegious for those sensitive to screen smudges screen the display was sufficiently bright with adequate color reproduction its x resolution is measly for a screen but has the benefit of making text easier to read and icons easier to click since each pixel is larger no built-in ethernetvga ports in a tragic design decision these ports are only available using a separate adapter cable that means i not only have to pack this itty bitty connector each time but i also have to worry that i will misplace it battery life even with light use the battery ran down in hours this is too short for mobile use integrated optical drive a nice touch but as expected at this price point bluray is not supported software this unit was surprisingly clear of bloatware except for nti media maker even the trial windows office is a download link unfortunately acer was just as sparing with useful software who is this for this laptop seems to be aimed at users with light to moderate usage needs it should be adequate for internet browsingstreaming general home use and for school homework the larger pixels at this resolution and screen size should also be easier on older eyes however gamers road warriors developers and other power users will likely be better served elsewhere conclusion while this may seem to be a lot of laptop for the money i found that there were some material compromises how satisfied you will be with this laptop will depend on which of these compromises matter to you happy computing</th>\n",
       "      <td>0.37315</td>\n",
       "      <td>0.02112</td>\n",
       "      <td>-0.16773</td>\n",
       "    </tr>\n",
       "    <tr>\n",
       "      <th>just bought a unit from a local store i agree with another reviewthe touch screen is a great match with win however i have noticed two issues the keyboard seems to be quite sensitive when i type normally like i would on my old laptop ive noticed that some keystrokes were registered more than once and hence causing certain letters to repeat as a result i have to use backspace often to correct typing errors alternativelyy i could let computer do auto correct butt auto-correct isnt always accurate notice the previous sentence has the extra y and extra t from repeated letters and they were not auto-corrected also the touchpad seems to be loose even with very light tapping with finger tip the touch pad makes some clacky noises as if it may come off i dont know if the touchpad is normal but i am going to stores to try out demo units to see if those touchpads have the same issue  update checked with the store clackyloose touchpad isnt normal but it was easily fixed by tighten two screws on the bottom side underneath the touchpad repeating letters issue while typing is not as severe if i place the unit firmly on a table since its an ultrabook many will do typing in a less-than-optimal position based on my research the sensitivity of the keyboard may be optimized for softtouch typist due to its shallow key travel battery life is about hours on normal mixed use although id wish its longer i can live with it since its such a thin laptop  update put the unit to sleep by closing the lid when battery indicator was at hours later it was at so hour sleep drained of power dont know if thats good or badbut my first impression is that its not as good as advertised power consumption within hours means it can only stand by for days assuming linear power consumption besides the clacky touchpad which is easily fixed the whole unit has superb fit finish edges are very sharp especially around the screen it gives an impression that one may cut oneself easily ive forced my fingertips and palms thru all edges without any cuts i cant say the same for other body parts thoughtry at your own risk high resolution screen is great however its a double-edged sword all clickable menu buttons links become so small that it is difficuult to click them using fingertips this is particularly worse around the corners eg i couuld eaislyy close the window instead of resizing it at upper right corner update i am still finding my ways around win but i can confidently say that if you dont want or dont care about win you should save yourself and look for other excellent ultrabooks that have no touch screens in addition a large responsive and accurate multi-gesture touchpad can be just as effective for win ie about so a touch screen is really just a nice-to-have for win but not a necessity this units touchpad is quite goodso i find myself using the touch screen less and less for productivity work however i use the touch screen almost exclusively for leisure browsing of web sites where typing is not really needed after a few days of using it i can confidently say that one should realistically expect the battery life to be no more than hours if you tweak the power saving configurations you may squeeze another hour or two out of it update noticed that wifi isnt reliable ie disconnected whenever i am at busy or low quality hotspots i have not experienced this with my year old sony laptop i suspect this may have to do with the power management configurationsetting after using the unit extensively for about one week id say the sensitivetouchy keyboard is the only remaining annoyance for me i alsowish it has longer battery life but its a conscious trade-off for such a thin ultrabook overall its a very gorgeous ultrabook with beautiful glass top that you can even serve sushi and sashimi on it  update the intermittent wifi disconnects while on battery can be fixed or minimized by changing the property in advanced power management for wifi adaptor change it from max battery to max performance i am starting to warm up to the win metromodern ui certain activities are just more efficient if you simply lift your armfinger to point click on a touch screen instead of a lift your armfinger onto touchpad b move the mouse cursor to the desired buttonlink and c click or tap the touchpad win definitely requires you to mix match how you use tabletphone and how you use a traditional pclaptop it just takes time to warm up to it of course you need to have a touch screen to take full advantage of win metromodern ui however a touch screen isnt a must for win because you can also change win back to the classic windows interface</th>\n",
       "      <td>0.33648</td>\n",
       "      <td>-0.17434</td>\n",
       "      <td>-0.16403</td>\n",
       "    </tr>\n",
       "    <tr>\n",
       "      <th>acer isnt an unfamiliar brand around our house in fact my husbands first personally owned computer was an acer sx cira as were the first and second computers we bought together over the years acers quality has ranged from excellent for the money to dismal at best especially after buying up gateway the acer seemed to struggle with quality in more recent history theyre back on the upswing but still not wonderful so it was with some hesitation that we got the aspire v not quite knowing what to expect after a few weeks i can say that were pleasantly surprised the v is quite thin and light compared to the other laptops we have around the house lenovo g lenovo thinkpad ts compaq cq hp dv and hp dv the backlit keyboard is quite nice both in appearance and feel typing away feels good with just the right amount of tactile resistance of the models we have only the thinkpad outclasses the v in this area the inclusion of a numeric keypad was an added bonus as only our models have these for me the addition doesnt make the keyboard feel cramped but my hands are on the smaller side so this could vary the touchpad itself is very sensitive with a surface that lets your fingers glide right across it easily im not a touchpad person myself but i did check out the extensive adjustments and gesture control options that are built in just before turning them off yes i know how antiquated of me the battery life is very good with ours lasting just under hours while doing some light gaming the whole time this bested the older models we have but came in about the same as the pair of lenovos speaking of gaming the intel graphics chip inside isnt a slouch but its not going to come close to what can be had with a dedicated gaming laptop or other laptop with decent graphics chip from nvidia or amd the cpu is certainly powerful enough especially when backed by intels ivy bridge chipset but expect to be turning down the graphics options if youre into heavy gaming first person shooters rpgs etc for your typical tasks like web surfing emailing document creation watching videos playing games on facebook or pogo and the like youll be more than happy with the performance in terms of overall performance i feel the v held put itself ahead of the rest of our pack with most everything seeming to run a bit quicker and more smoothly than on any of our others yes v comes with windows but im not going to try and review that as its a whole beast in and of itself i would like to note that the v does come with a fair amount of bloatware those programs that no one really wants but the manufacturer stick in there as a value add item the v wasnt nearly as bad as the hps and compaq which are notorious for the amount of garbage they come with bummer there wasnt a full copy of office home and student instead of the trial version but i cant actually complain about that since i knew that what it came with in the first place lastly and the only thing i will say about win is that it runs very smoothly compared to some prior new major releases cough vista cough winme cough win not a single hitch to be had during this whole time and weve been putting the v through its paces lastly just a few bits on the vs other features touchscreen yes it works very well but youll likely love it or hate it depending on if you like reaching up to the screen a lot and if you dont mind cleaning the screen a lot more often than on a conventional laptop the hdmi output has come in very handy for things like gaming watching netflix and web surfing on an hdtv our son loves it for the gaming so he and his friends can all watch the action without having to crowd around the person at the keyboard sound quality is decent enough though youre not going to get qualityenough to satisfy an audiophile the webcam iswellmeh it works well enough to be sure but dont expect crystal clear and grain free image quality its simply not that great at mp overall i think the v is an excellent machine in terms of price performance and features im almost tempted to trade my g for it buti really like the bigger screen our son is loving it and as previously stated hasnt run into a single hitch yet only time will tell if the quality inside is up to snuff thoughenough to satisfy an audiophile the webcam iswellmeh it works well enough to be sure but dont expect crystal clear and grain free image quality its simply not that great at mp overall i think the v is an excellent machine in terms of price performance and features im almost tempted to trade my g for it buti really like the bigger screen our son is loving it and as previously stated hasnt run into a single hitch yet only time will tell if the quality inside is up to snuff though</th>\n",
       "      <td>0.29625</td>\n",
       "      <td>-0.03582</td>\n",
       "      <td>-0.05707</td>\n",
       "    </tr>\n",
       "    <tr>\n",
       "      <th>...</th>\n",
       "      <td>...</td>\n",
       "      <td>...</td>\n",
       "      <td>...</td>\n",
       "    </tr>\n",
       "    <tr>\n",
       "      <th>asus began the netbook era with a very small computer running linux the screen was x the machine had meg of ram plus g of not so fast ssd space it ran a celeron cpu the electronics bled power the screen was tiny but it was cheap under us and it ran a customized version of a somewhat out of date distribution called xandros linux eventually manufacturers stopped making netbooks and by that time microsoft had crippled the form factor now with better electronics and a screen with its own crippled version of windows and insisting that they all come with g of ram intel finished the job by making netbooks linux hostile with their latest atom based systems now asus has returned with a sandy bridge based celeron computer with a screen running ubuntu linux behold the new netbook it has little that you can upgrade still it comes with g of ram and a decent sized hard drive g the screen while bumps the resolution to x an improvement over the x displays of previous netbooks the keyboard is usable if a bit squishy in its feel one positive is that asus put a second function key next to the arrow keys the biggest complaint typists will have is that the spacing from hand rest to screen is cramped you may miss when changing rows the touchpad is one of those with the buttons integrated the bottom of the touchpad clicks click feel is lousy the pad surface is cramped i never tested the touch aspect with the supplied ubuntu but i can say that with debian it is quite good responding well to swipes and one through three fingered taps netbooks have always featured strong connectivity these included usb ports one ethernet sd card vga out and audio this machine changes one of the usb ports to usb and adds a full sized hdmi port to the mix the cpu is more powerful than its atom cousins it also features hardware support for virtual machines the difference in speed running any virtual machine on this machine compared to a traditional netbook is dramatic unfortunately the g of ram that comes with the e cannot be upgraded somewhat limiting the machines usefulness for running virtual machines the machine will run warm in spots mostly on the left side by the exhaust vent your left leg will feel it if you cover the bottom intake vents the machine will get hot the fan however never gets noisy the better netbooks came with bulgy external batteries for better battery life so does this one some people will complain that this is one fat ugly netbook and they would be right such people should get asinbfik another asus machine its slim slightly larger runs cooler and features no unsightly bulges it also comes with the same ubuntu linux along with twice the ram plus a keyboard with better touch and spacing battery life for that machine is hours this one reaches sometimes i like bulges even better this battery can be replaced easily a couple of comments for you linux aficionados who like to experiment with other distros go right ahead i typically try to run debian here are my observations the wireless uses a broadcom chipset veteran linux users know what i mean broadcom support has gotten better over time though for debian you download the package broadcom-sta-dkms and the linux headers associated with your kernel debian will then pull in a bunch of other programs for compiling software its all automated and what you end up with is a compiled kernel module called wl it works fine and will update automatically should a kernel update call for it but good luck installing debian and expecting the installer to use your wireless connection that may hold true for other distributions too but not all its good this machine has ethernet as i used the debian netinstall disk the machine comes with the not-so-capable intel graphics video its what comes with sandy bridge computers linux support is decent though with debian you may want to disable or remove xscreensaver all told a decent machine with basic hardware that gives very good battery life if you travel want a very portable cheap machine that can still get work done without plugging in this is the one for you</th>\n",
       "      <td>0.32755</td>\n",
       "      <td>0.00624</td>\n",
       "      <td>-0.04542</td>\n",
       "    </tr>\n",
       "    <tr>\n",
       "      <th>st solid construction little to no keyboard flex and snappy keyboard with the correct amount of press and spring back plastic to made to look like annodized aluminum top but there is still some screen flex if you try to flex it but it looks very nice with the screen closed the laptop is very sturdy and solid feeling hinges have just the right amount of tension not a fan of the mouse pad but i mostly use a usb mouse anyhow and in reality the mouse pad is not that bad nd screen is very clear sharp and colorful the matte screen is a nice touch the screen is not as nice as the hps but you wont be disappointed viewing angles are not the bestbut it is a laptop and when am i ever viewing this thing off angle the screen looks great very quick and responsive black to white and white to black times rd boot time this thing has a rpm tb hdd after the necessary config boot the next boot was seconds to an open internet explorer the next few boots were secs from switch on to open internet explorer i am actually extremely pleased with that i was going to dump the hdd and put in two gig ssds but now i will keep the tb rpm drive and just put in the gig sandisk extreme in the other bay againvery impressed with the included hdd th at idle and under heavy benchmarking loads this thing runs very cool however at idle the fan is louder than i would like to see but it is not distracting even under load the fan is not instrusive th the gtm idles when the intel hd integrated graphics is in use at c when the gtm is in use and at idle the idle temp is c the cpus idle at c now for the temps under load running furmark x no aa fps were fps and after mins running the gpu temp maxed out at c this thing stays extremely cool the cpus running prime after mins highest average temp was c all temps were done with a room at f th there is the normal bloatware uninstall went smooth so if you are keeping windows then you will be fine and will be able to uninstall the bloat me personally win will be wiped off mins after writing this review ill be putting win that bought with this laptop on the hdd and putting linux mint on my sdd th this thing is very light for a laptop with installed googies lbs the ac adapter is nicely sized with plenty of cord the physical size of the laptop is perfect for me the asus gs and g have those huge cooling vents in the back which add inches to the width this doesnt need it and it still stays plenty cool th speakers are adequate they are plenty loud and sound decent enough they are not going to win any awards but then again they are just fine a little tinny but not bad i havent done a battery test yet but are you really buying a performance monster for the battery life i dont have any games installed yet for benchmarks because about to wipe out win but the fps in furmark at x is pretty good you can google the performance of the gtm they are pretty much in line with the gtxm once i get some games loaded ill update all in all this is one great laptop lots crammed into a perfect sizedweighted laptop that doesnt get hot update battery use jumped online and unplugged the cord after hr had remaining after hrs had remaining if that keeps up the battery will last over hours just surfing the internet contributing to forums and writing reviews in fact hovering over the battery icon after hours of use it says hrs mins remaining im stunned this is with me changing the settings in the nvidia control panel to prefer maximum and preferring the dedicated card instead of the integrated graphics update sept my job requires that i fly days aprox per year so after owning this for a while and beating it up extensively i can say that this laptop holds up great no issues quality wise there have been alot of questions about windows install and linux install linux mint kde installed perfectly that with nvidia and bumblebee make this an extremely happy laptop i play all my games in linux mint and most boot into linux mint without any problems the trouble was installing win acer only lists win drivers most of the drivers will work with win but not all itll look like they worked but youll get some hiccups i used linux lshw command in the terminal to find out exactly what hardware i had appaerently you can have a few diffent peices of hardware and installed the win driver for that hardware long story short i also have win running perfectly except the bluetooth no matter what i do i cant get that to work well no biggiei dont ever use it anyhow sorry not much help on the win installexcept i can confirm win does work perfectly except bluetooth when you get it right i was drinking when i reinstalled win so not sure exactly how i did it enjoy i love this laptop game comparison benchmark fyi xtc in linux mint kde min fps is fps max is fps win is min fps with a max of fps both have latest nvidia drivers</th>\n",
       "      <td>0.28632</td>\n",
       "      <td>-0.05072</td>\n",
       "      <td>-0.07515</td>\n",
       "    </tr>\n",
       "    <tr>\n",
       "      <th>amazing notebook for under fast shipping from amazon ive had it for a week and it has performed flawlessly for what my wife and i use it for we wanted a small notebook that can be easily carried around the house as well as taking on trips its great for web browsing watching youtube videossearch ubuntu-restricted-extras typing documents using libreoffice etc battery lasts hours or so depending on usage it comes with ubuntu lts bit which is supported through april the initial configuration takes approximately minutes before booting into the os which then required mb of updates the notebook uses efi boot with gpt partitioning heres the partitioning mb fat boot-efi gb fat pqservices restore gb ext ubuntu os gb swap gb ntfs data you can boot from usb flash by pressing the esc key at the asus screen during boot according to a reviewer of the asus xe-dh the recovery partition can be accessed by pressing shift at boot it comes with bios ver the latest is which can be downloaded from asus support i wouldnt recommend updating the bios unless you know what youre doing im an experienced ubuntu user so didnt have any problems setting everything up for someone with little or no experience theres tons of online help especially ubuntuforumsorg the unity launcher takes a little getting used to and i recommend going into system settings appearance behaviour and setting the launcher to auto-hide and moving the sensitivity to high this will free up much needed screen space ive installed cairo dock which really isnt needed but some might prefer it over unitys launcher ubuntu isnt for everyone but the good thing is it can be tested by downloading the ubuntu iso burning it as an image to cd or dvd the livecdwhich is much slower than an install will give you the ubuntu experience without actually installing it on your present computer once ubuntu is set up personalized on the notebook there should be little or no configuring required i would highly recommend the asus e-ds to anyone who is familiar with ubuntu or is willing to put in a little effort to learn a new oswindows was new at one time im an old timer year old cooter so anyone can learn to use ubuntu its been a rewarding experience for meand my wife just wanted to add that everything worked out-of-the-box however i havent tried ethernet but wireless is fast reliable the notebook quickly suspends when the lid is closed and immediately resumes when opened i did have one time that it didnt suspendyoull know this if the wireless light remains on only the power light blinks if it suspends properly the battery discharged completely when it didnt suspend so i later went into system settings power turn off power when battery is critically low to prevent this i dont want this to be an ubuntu help review but heres a few other tweaks that i did in firefox to enable click to select all in the address bar type aboutconfigwithout quotes into the address bar type browserurlbarclickselectsall toggle from false to true to adjust fonts various other tweaks search for ubuntu-tweak online the directions will require using the command line or terminalpress the windows keytype terminal in the search box copy paste one line at a time press enter after each line in ubuntu-tweak you might also want to change to a more traditional scrollbar by disabling overlay scrollbar dont let using the terminalits easy deter you from using ubuntu this should be the last time youll use it note pressing the windows key opens the dash menu where you can find all the programs installed on the computer this paragraph isnt an actual review of the notebook but maybe itll help get anyone started who is unfamiliar with ubuntu linux</th>\n",
       "      <td>0.23115</td>\n",
       "      <td>-0.03983</td>\n",
       "      <td>0.04384</td>\n",
       "    </tr>\n",
       "    <tr>\n",
       "      <th>i was looking for a lightweight lb or less touch screen windows around the mark laptop for my mom who is a light pc user definitely requiring user support often after purchasing an asus notebook after about hours i was sure this was not the right notebook and i needed to find something better the asus had the centrino processors which turns out run hot so the fan was loud and the laptop would be hot pretty much the whole time and it only had a dual processor even after optimizing it and removing some power consuming apps the poor laptop still seemed to struggle to run plus the screen was tiny not a touch screen hence the price tag after some research attempting to remedy the asus shortcomings i purchased the acer aspire v after going to best buy and actually handling the laptop i was impressed at its weight how slick and well designed it felt and most importantly it felt like a real laptop not a toy like the asus what a great purchase after spending days configuring it and learning the new w os and all these apps ive never handled i am a windows convert and definitely considering buying an acer aspire for myself pros price what a great price for such a loaded laptop paid only a little over design solid notebook slick design with all necessary ports weight light weight about lb with the battery touchpad is a dream you have the mouse click options which are missing on some other notebooks it is sensitive just enough it is not in your way when you type it doesnt jump around your apps when you touch it best of all i did not have to load any additional drivers or updates for the touchpad touch screen although the resolution isnt super high on paper what a great crystal screen love the colors vibrant and clear from the box didnt have to adjust anything and the screen is so well designed for the touch it is sensitive just enough to get you around without many errors in the box laptop power cable basic manual for start up and warranty dongle for vga fan super happy with the low quiet fan and cool laptop all that with a quad processor laptop kudos sound speakers provide loud enough volume for my aging mom with slight hearing issues good clear sound as well unknowns battery dont know have not had the battery below so i dont know how long it would take to drain it performance not sure if this isnt due to everything being new and having to load for the first time but some apps and screens take to seconds to load hoping this would change once everything is configured and used at least once it could also be due to our w inexperience time will tell the laptop does start fast from sleep mode although when you open the top it doesnt start automatically i have to press the power button for it to wake up there is probably a setting somewhere about that but thats not a big issue right now cons probably the only tech spec that is below the rest of the components on this machine is the camera grainy images and video oh well all the rest is great so hard to complain given the price had to install app updates which took several hours the notebook was loaded in nov so by july all loaded apps had new versions pretty much this is not an acer or laptop issue though cant hold it against them since this is something we have to do regardless of what brand and laptop we purchase acercloud is a good idea but boy there was no information about what and how to use it and after loading a bunch of its related apps to the laptop and the mobile devices i had no idea how to move filesphotos from the mobile devices to the laptop just no way to do that based on the few menus in the apps it was super frustrating and even research online on the acer forums was useless after wasting about hours i moved onto skydrive after min and some research it still didnt seem intuitive enough so i did some more experimenting and settled on dropbox what a relief the app came with a short and sweet guide telling me exactly how to load my files from one device to the other and the app itself was pretty intuitive as well and didnt require different apps like the acercloud just one plus it kept giving me more and more free space the more i used it and the more devices i added hope this solves my file sharing needs long term would be great if the touch screen laptops came with a touch pen also makes it so much nicer to browse the screen i used one that came with another purchase i made on amazon again not really an acer issue just a nice to have suggestion other windows bit of a steep learning curve and there were no tutorials or instructions on the laptop or at least not that i easily spotted there is definite initial frustration with the os lasted about days but after installing windows preview version which brings back the start button of sorts after finally finding the control panel it was frustrating hunting for it or accidentally stumbling on it but not knowing how to knowingly get to it i was more and more comfortable with the os and seeing its advantages after moderately learning how to get around myself i setup up the start screen and apps for my mom i then braced myself and showed my mom how to use her new laptop expecting a long drawn session it was quite a surprise to see how well she took to using the touch screen and figured out how to get around she has always had trouble with the mouse pads and even more with the touch pads it was a relief to see that she easily handled the gestures on the screen and learned how to get around surprisingly faster than i expected she loved the screen clarity and the vibrant colors after that i knew i had the right laptop in conclusion i am very impressed with this quiet lightweight hard working crystal clear machine after a bit more tweaking and learning more about the os and the apps i am sure it will be even better will try to provide an update after some longer term use but for now we are definitely in the honeymoon phase</th>\n",
       "      <td>0.38504</td>\n",
       "      <td>-0.14942</td>\n",
       "      <td>-0.07069</td>\n",
       "    </tr>\n",
       "    <tr>\n",
       "      <th>well its expensive more expensive than any tablet option that ive seen but thats also partially because its on par with a full powered ultrabook in terms of specs here are the specific pros and cons i see pros battery life really can hit hours even though its an i gb sata iii ssd with gb ram with the digitizer its powerful enough to be used as a pretty effective graphic design device rip and flip mode is actually pretty handy when using it as a tablet more so than the hinge less surface pro keyboard battery idea is well engineered and works like the asus tablets the tablets battery is always given charge priority over the keyboard docks battery so when both are plugged in the tablet charges while the kb trickle charges once the tablet is full the kb charges at full speed when docked but unplugged the kb powers the device and transfers its juice to the tablet to recharge its battery you can also plug the kb in by itself to charge the kb docks battery while you continue to use the tablet if you really wanted to you could use the tablet indefinitely and never actually plug it directly into the wall if you alternate using it with the kb dock with vpro rapid boot full hibernation takes less than seconds to restore between pressing the power button and actually getting a useable desktop cold boots pretty close to that sleep restore is instant large multitouch touchpad is actually usable and works very well its on par with the touchpad i had on my macbook pro eraser mouse also works well and is a nice alternative to have for apps that dont work well with touchpads such as games like minecraft well-built hinge design is sturdier than any other similar tablets ive used the kb dock has supplemental cooling so when docked it can run the i at full speed fans in the dock blow through vents in the tablet even when not docked its pretty fast supports intel widi so i picked up a couple adapters two usb ports on the kb dock solid overall build quality something lenovo is well known for good quality speakers loud and clear decent sized stylus and that actually goes inside the tablet when not in use unlike the surface pro intel hd isnt the fastest gpu but when paired with a halfway decent cpu itll run just about anything on the ms store flawlessly and most of my steam library on low to medium settings unlike the atom-based tablets which were always a crapshoot when trying new software ive tested it with dishonored fable skyrim far cry blood dragon assassins creed xcom enemy unknown deus ex human revolution arkham city shogun total war and several other current gen games with the exception of any games that specifically have trouble with intel integrated graphics like the swapper it can run pretty much anything i try on it at least at fps if i turn the detail down low enough mini dp instead of micro hdmi like some models such as the samsung ativ cons fully loaded it probably runs about wifi reception is a little odd it picks up g networks great but n network reception drops off significantly the further you get from the router from the other side of the house i get bars to the g network but as few as bar to the n network even though they are both hosted by the same netgear they had similar issues with the early models that my company received a few months back and the lenovo rep told us that a x version would be available sometime in the future but i have no idea specifically when that might be no sd card slot although id rather use a sata iii external usb hard drive over a slow sd card they had to cut it for space in the final design when docked its a little bit larger and heavier than some ultrabooks the only usb port on the tablet is and is covered when docked with the keyboard no usb ports on the tablet itself actually getting widi to work has been unreliable but i dont know where the problem is on that one yet probably software updates no gps on the wifi model included with mobile broadband only compared to other lenovo laptops that feature rapid charge recharging both batteries to full takes a while total charging time seems to take about to hours or to per battery as is the case with all full windows tablets the battery can drain faster than expected if you are not careful too many background apps may drain your battery prematurely but this is more of a general windows complaint than this device specifically no haswell model today and for all anyone knows there could be one in a week or a year now is a terrible time to buy any device because halfway decent haswells are showing up pretty quickly razer already has a haswell gaming laptop with a discrete gpu that weighs less than lbs really nitpicky cons these are cons that i noticed that are very minor boil down to personal preference or havent been verified as being unsolvable so there may be some equivalent featuresolution while the kb can charge when the tablet isnt attached the usb ports dont appear to charge devices plugged into them if the tablet is not present a battery charge indicator on the kb would be nice without this theres no way to know how charged the kb is without plugging the tablet into it some of the keyboard keys are laid out strangely fn in the far lower left instead of ctrl is a pet peeve of mine the bios allows you to swap ctrl and fn in the lower left to compensate for this observations neither good nor bad but interesting to know when the tablet is flipped all kb input from the docked kb is ignored as is the close lid action since folding the unit updoesnt really close it in this mode this means that if you had a specific power setting mapped to lid close then you cant do that until you flip it back around in the other direction</th>\n",
       "      <td>0.26148</td>\n",
       "      <td>-0.00019</td>\n",
       "      <td>-0.08608</td>\n",
       "    </tr>\n",
       "  </tbody>\n",
       "</table>\n",
       "<p>851 rows × 3 columns</p>\n",
       "</div>"
      ],
      "text/plain": [
       "                                                         c1       c2       c3\n",
       "clean_review_body                                                            \n",
       "im re-writing this review to include a tutorial...  0.25544 -0.08779  0.05999\n",
       "i got this after a real odyssey searching for a...  0.26146 -0.01964 -0.15902\n",
       "on paper this laptop has a lot going for it a r...  0.37315  0.02112 -0.16773\n",
       "just bought a unit from a local store i agree w...  0.33648 -0.17434 -0.16403\n",
       "acer isnt an unfamiliar brand around our house ...  0.29625 -0.03582 -0.05707\n",
       "...                                                     ...      ...      ...\n",
       "asus began the netbook era with a very small co...  0.32755  0.00624 -0.04542\n",
       "st solid construction little to no keyboard fle...  0.28632 -0.05072 -0.07515\n",
       "amazing notebook for under fast shipping from a...  0.23115 -0.03983  0.04384\n",
       "i was looking for a lightweight lb or less touc...  0.38504 -0.14942 -0.07069\n",
       "well its expensive more expensive than any tabl...  0.26148 -0.00019 -0.08608\n",
       "\n",
       "[851 rows x 3 columns]"
      ]
     },
     "execution_count": 91,
     "metadata": {},
     "output_type": "execute_result"
    }
   ],
   "source": [
    "Vt = pd.DataFrame(doc_topic.round(5),\n",
    "             index = helpful_laptop_reviews,\n",
    "             columns = [\"c1\",\"c2\",\"c3\"])\n",
    "Vt"
   ]
  },
  {
   "cell_type": "markdown",
   "metadata": {},
   "source": [
    "---"
   ]
  },
  {
   "cell_type": "markdown",
   "metadata": {},
   "source": [
    "# Non-Matrix Factorization (NMF) w/ Count Vectorizer:"
   ]
  },
  {
   "cell_type": "code",
   "execution_count": 94,
   "metadata": {},
   "outputs": [],
   "source": [
    "nmf_model = NMF(3)\n",
    "doc_topics = nmf_model.fit_transform(doc_words2)"
   ]
  },
  {
   "cell_type": "code",
   "execution_count": 95,
   "metadata": {},
   "outputs": [
    {
     "data": {
      "text/html": [
       "<div>\n",
       "<style scoped>\n",
       "    .dataframe tbody tr th:only-of-type {\n",
       "        vertical-align: middle;\n",
       "    }\n",
       "\n",
       "    .dataframe tbody tr th {\n",
       "        vertical-align: top;\n",
       "    }\n",
       "\n",
       "    .dataframe thead th {\n",
       "        text-align: right;\n",
       "    }\n",
       "</style>\n",
       "<table border=\"1\" class=\"dataframe\">\n",
       "  <thead>\n",
       "    <tr style=\"text-align: right;\">\n",
       "      <th></th>\n",
       "      <th>a-m</th>\n",
       "      <th>aa</th>\n",
       "      <th>aback</th>\n",
       "      <th>abg</th>\n",
       "      <th>abgn</th>\n",
       "      <th>abil</th>\n",
       "      <th>abit</th>\n",
       "      <th>absolut</th>\n",
       "      <th>abstract</th>\n",
       "      <th>absurd</th>\n",
       "      <th>...</th>\n",
       "      <th>yr</th>\n",
       "      <th>z</th>\n",
       "      <th>zenbook</th>\n",
       "      <th>zero</th>\n",
       "      <th>zillion</th>\n",
       "      <th>zip</th>\n",
       "      <th>zippi</th>\n",
       "      <th>zombi</th>\n",
       "      <th>zone</th>\n",
       "      <th>zoom</th>\n",
       "    </tr>\n",
       "  </thead>\n",
       "  <tbody>\n",
       "    <tr>\n",
       "      <th>c1</th>\n",
       "      <td>0.002</td>\n",
       "      <td>0.046</td>\n",
       "      <td>0.005</td>\n",
       "      <td>0.001</td>\n",
       "      <td>0.022</td>\n",
       "      <td>0.176</td>\n",
       "      <td>0.000</td>\n",
       "      <td>0.026</td>\n",
       "      <td>0.00</td>\n",
       "      <td>0.019</td>\n",
       "      <td>...</td>\n",
       "      <td>0.000</td>\n",
       "      <td>0.251</td>\n",
       "      <td>0.401</td>\n",
       "      <td>0.159</td>\n",
       "      <td>0.006</td>\n",
       "      <td>0.006</td>\n",
       "      <td>0.000</td>\n",
       "      <td>0.006</td>\n",
       "      <td>0.016</td>\n",
       "      <td>0.165</td>\n",
       "    </tr>\n",
       "    <tr>\n",
       "      <th>c2</th>\n",
       "      <td>0.004</td>\n",
       "      <td>0.029</td>\n",
       "      <td>0.001</td>\n",
       "      <td>0.000</td>\n",
       "      <td>0.001</td>\n",
       "      <td>0.020</td>\n",
       "      <td>0.127</td>\n",
       "      <td>0.004</td>\n",
       "      <td>0.00</td>\n",
       "      <td>0.000</td>\n",
       "      <td>...</td>\n",
       "      <td>0.000</td>\n",
       "      <td>0.067</td>\n",
       "      <td>0.023</td>\n",
       "      <td>0.000</td>\n",
       "      <td>0.000</td>\n",
       "      <td>0.003</td>\n",
       "      <td>0.000</td>\n",
       "      <td>0.000</td>\n",
       "      <td>0.000</td>\n",
       "      <td>0.001</td>\n",
       "    </tr>\n",
       "    <tr>\n",
       "      <th>c3</th>\n",
       "      <td>0.014</td>\n",
       "      <td>0.000</td>\n",
       "      <td>0.004</td>\n",
       "      <td>0.021</td>\n",
       "      <td>0.018</td>\n",
       "      <td>0.024</td>\n",
       "      <td>0.000</td>\n",
       "      <td>0.000</td>\n",
       "      <td>0.03</td>\n",
       "      <td>0.000</td>\n",
       "      <td>...</td>\n",
       "      <td>0.036</td>\n",
       "      <td>0.000</td>\n",
       "      <td>0.043</td>\n",
       "      <td>0.000</td>\n",
       "      <td>0.001</td>\n",
       "      <td>0.008</td>\n",
       "      <td>0.108</td>\n",
       "      <td>0.000</td>\n",
       "      <td>0.008</td>\n",
       "      <td>0.000</td>\n",
       "    </tr>\n",
       "  </tbody>\n",
       "</table>\n",
       "<p>3 rows × 3326 columns</p>\n",
       "</div>"
      ],
      "text/plain": [
       "      a-m     aa  aback    abg   abgn   abil   abit  absolut  abstract  \\\n",
       "c1  0.002  0.046  0.005  0.001  0.022  0.176  0.000    0.026      0.00   \n",
       "c2  0.004  0.029  0.001  0.000  0.001  0.020  0.127    0.004      0.00   \n",
       "c3  0.014  0.000  0.004  0.021  0.018  0.024  0.000    0.000      0.03   \n",
       "\n",
       "    absurd  ...     yr      z  zenbook   zero  zillion    zip  zippi  zombi  \\\n",
       "c1   0.019  ...  0.000  0.251    0.401  0.159    0.006  0.006  0.000  0.006   \n",
       "c2   0.000  ...  0.000  0.067    0.023  0.000    0.000  0.003  0.000  0.000   \n",
       "c3   0.000  ...  0.036  0.000    0.043  0.000    0.001  0.008  0.108  0.000   \n",
       "\n",
       "     zone   zoom  \n",
       "c1  0.016  0.165  \n",
       "c2  0.000  0.001  \n",
       "c3  0.008  0.000  \n",
       "\n",
       "[3 rows x 3326 columns]"
      ]
     },
     "execution_count": 95,
     "metadata": {},
     "output_type": "execute_result"
    }
   ],
   "source": [
    "topic_word = pd.DataFrame(nmf_model.components_.round(3),\n",
    "             index = [\"c1\",\"c2\",\"c3\"],\n",
    "             columns = cv2.get_feature_names())\n",
    "topic_word"
   ]
  },
  {
   "cell_type": "code",
   "execution_count": 97,
   "metadata": {},
   "outputs": [
    {
     "name": "stdout",
     "output_type": "stream",
     "text": [
      "\n",
      "Topic  0\n",
      "screen, use, keyboard, work, dont, time, machin, thing, im, review\n",
      "\n",
      "Topic  1\n",
      "x, batteri, cpu, mhz, control, ddr, set, hour, graphic, core\n",
      "\n",
      "Topic  2\n",
      "drive, gb, model, ssd, inch, port, use, usb, ram, need\n"
     ]
    }
   ],
   "source": [
    "display_topics(nmf_model, cv2.get_feature_names(), 10)"
   ]
  },
  {
   "cell_type": "code",
   "execution_count": null,
   "metadata": {},
   "outputs": [],
   "source": [
    "nmf_model."
   ]
  }
 ],
 "metadata": {
  "kernelspec": {
   "display_name": "Python 3",
   "language": "python",
   "name": "python3"
  },
  "language_info": {
   "codemirror_mode": {
    "name": "ipython",
    "version": 3
   },
   "file_extension": ".py",
   "mimetype": "text/x-python",
   "name": "python",
   "nbconvert_exporter": "python",
   "pygments_lexer": "ipython3",
   "version": "3.7.4"
  }
 },
 "nbformat": 4,
 "nbformat_minor": 2
}

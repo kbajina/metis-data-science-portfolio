{
 "cells": [
  {
   "cell_type": "markdown",
   "metadata": {
    "toc": true
   },
   "source": [
    "<h1>Table of Contents<span class=\"tocSkip\"></span></h1>\n",
    "<div class=\"toc\"><ul class=\"toc-item\"><li><span><a href=\"#Project-Summary\" data-toc-modified-id=\"Project-Summary-1\"><span class=\"toc-item-num\">1&nbsp;&nbsp;</span>Project Summary</a></span></li><li><span><a href=\"#Data-Collection-&amp;-Prep\" data-toc-modified-id=\"Data-Collection-&amp;-Prep-2\"><span class=\"toc-item-num\">2&nbsp;&nbsp;</span>Data Collection &amp; Prep</a></span><ul class=\"toc-item\"><li><ul class=\"toc-item\"><li><span><a href=\"#Sales-Data\" data-toc-modified-id=\"Sales-Data-2.0.1\"><span class=\"toc-item-num\">2.0.1&nbsp;&nbsp;</span>Sales Data</a></span></li><li><span><a href=\"#Store-Region-Data\" data-toc-modified-id=\"Store-Region-Data-2.0.2\"><span class=\"toc-item-num\">2.0.2&nbsp;&nbsp;</span>Store Region Data</a></span></li><li><span><a href=\"#Sales-Data-Table-w/-Store-Features\" data-toc-modified-id=\"Sales-Data-Table-w/-Store-Features-2.0.3\"><span class=\"toc-item-num\">2.0.3&nbsp;&nbsp;</span>Sales Data Table w/ Store Features</a></span></li><li><span><a href=\"#Train-&amp;-Test-Split\" data-toc-modified-id=\"Train-&amp;-Test-Split-2.0.4\"><span class=\"toc-item-num\">2.0.4&nbsp;&nbsp;</span>Train &amp; Test Split</a></span></li></ul></li><li><span><a href=\"#Retail-Store-(Region)-Clusters\" data-toc-modified-id=\"Retail-Store-(Region)-Clusters-2.1\"><span class=\"toc-item-num\">2.1&nbsp;&nbsp;</span>Retail Store (Region) Clusters</a></span><ul class=\"toc-item\"><li><span><a href=\"#Cluster-Regional-Store-Locations\" data-toc-modified-id=\"Cluster-Regional-Store-Locations-2.1.1\"><span class=\"toc-item-num\">2.1.1&nbsp;&nbsp;</span>Cluster Regional Store Locations</a></span><ul class=\"toc-item\"><li><span><a href=\"#Interpreting-the-Region-Clusters\" data-toc-modified-id=\"Interpreting-the-Region-Clusters-2.1.1.1\"><span class=\"toc-item-num\">2.1.1.1&nbsp;&nbsp;</span>Interpreting the Region Clusters</a></span></li></ul></li><li><span><a href=\"#Updated-Sales-Train-DataFrame\" data-toc-modified-id=\"Updated-Sales-Train-DataFrame-2.1.2\"><span class=\"toc-item-num\">2.1.2&nbsp;&nbsp;</span>Updated Sales Train DataFrame</a></span><ul class=\"toc-item\"><li><span><a href=\"#Include-Regional-Cluster\" data-toc-modified-id=\"Include-Regional-Cluster-2.1.2.1\"><span class=\"toc-item-num\">2.1.2.1&nbsp;&nbsp;</span>Include Regional Cluster</a></span></li><li><span><a href=\"#Unstack-region_cluster\" data-toc-modified-id=\"Unstack-region_cluster-2.1.2.2\"><span class=\"toc-item-num\">2.1.2.2&nbsp;&nbsp;</span>Unstack region_cluster</a></span></li><li><span><a href=\"#Date-Index-Frequency\" data-toc-modified-id=\"Date-Index-Frequency-2.1.2.3\"><span class=\"toc-item-num\">2.1.2.3&nbsp;&nbsp;</span>Date Index Frequency</a></span></li></ul></li><li><span><a href=\"#Updated-Sales-Test-DataFrame\" data-toc-modified-id=\"Updated-Sales-Test-DataFrame-2.1.3\"><span class=\"toc-item-num\">2.1.3&nbsp;&nbsp;</span>Updated Sales Test DataFrame</a></span><ul class=\"toc-item\"><li><span><a href=\"#Predict-Regional-Store-Clusters\" data-toc-modified-id=\"Predict-Regional-Store-Clusters-2.1.3.1\"><span class=\"toc-item-num\">2.1.3.1&nbsp;&nbsp;</span>Predict Regional Store Clusters</a></span></li><li><span><a href=\"#Unstack-region_cluster\" data-toc-modified-id=\"Unstack-region_cluster-2.1.3.2\"><span class=\"toc-item-num\">2.1.3.2&nbsp;&nbsp;</span>Unstack region_cluster</a></span></li><li><span><a href=\"#Date-Index-Frequency\" data-toc-modified-id=\"Date-Index-Frequency-2.1.3.3\"><span class=\"toc-item-num\">2.1.3.3&nbsp;&nbsp;</span>Date Index Frequency</a></span></li></ul></li></ul></li></ul></li><li><span><a href=\"#Exploratory-Data-Analysis-(EDA)\" data-toc-modified-id=\"Exploratory-Data-Analysis-(EDA)-3\"><span class=\"toc-item-num\">3&nbsp;&nbsp;</span>Exploratory Data Analysis (EDA)</a></span><ul class=\"toc-item\"><li><span><a href=\"#Weekly-Sales-Stats\" data-toc-modified-id=\"Weekly-Sales-Stats-3.1\"><span class=\"toc-item-num\">3.1&nbsp;&nbsp;</span>Weekly Sales Stats</a></span></li><li><span><a href=\"#Monthly-Sales-Stats\" data-toc-modified-id=\"Monthly-Sales-Stats-3.2\"><span class=\"toc-item-num\">3.2&nbsp;&nbsp;</span>Monthly Sales Stats</a></span></li><li><span><a href=\"#Take-Aways-on-Cluster-Stats\" data-toc-modified-id=\"Take-Aways-on-Cluster-Stats-3.3\"><span class=\"toc-item-num\">3.3&nbsp;&nbsp;</span>Take-Aways on Cluster Stats</a></span></li></ul></li><li><span><a href=\"#Exogenous-Variable\" data-toc-modified-id=\"Exogenous-Variable-4\"><span class=\"toc-item-num\">4&nbsp;&nbsp;</span>Exogenous Variable</a></span><ul class=\"toc-item\"><li><span><a href=\"#Train-Data\" data-toc-modified-id=\"Train-Data-4.1\"><span class=\"toc-item-num\">4.1&nbsp;&nbsp;</span>Train Data</a></span></li><li><span><a href=\"#Test-Data\" data-toc-modified-id=\"Test-Data-4.2\"><span class=\"toc-item-num\">4.2&nbsp;&nbsp;</span>Test Data</a></span></li></ul></li><li><span><a href=\"#Pickle-DataFrames\" data-toc-modified-id=\"Pickle-DataFrames-5\"><span class=\"toc-item-num\">5&nbsp;&nbsp;</span>Pickle DataFrames</a></span><ul class=\"toc-item\"><li><span><a href=\"#Training-Data\" data-toc-modified-id=\"Training-Data-5.1\"><span class=\"toc-item-num\">5.1&nbsp;&nbsp;</span>Training Data</a></span></li><li><span><a href=\"#Testing-Data\" data-toc-modified-id=\"Testing-Data-5.2\"><span class=\"toc-item-num\">5.2&nbsp;&nbsp;</span>Testing Data</a></span></li></ul></li></ul></div>"
   ]
  },
  {
   "cell_type": "markdown",
   "metadata": {},
   "source": [
    "# Project Summary"
   ]
  },
  {
   "cell_type": "markdown",
   "metadata": {},
   "source": [
    "**WALMART SALES FORECASTING:**\n",
    "- Collect Data\n",
    "- Perform EDA\n",
    "- SARIMA Model on cumulative Walmart Sales (all branches)\n",
    "- SARIMA Model on Clusters of Retail Stores\n",
    "    - Based on \"Week\" and \"Weekly Sales\"\n",
    "    - Want to see which Branches are very similar, and forecast for these as a group\n",
    "- SARIMA Model on Clusters of Retail Departments\n",
    "    - Based on \"Week\" and \"Weekly Sales\"\n",
    "    - Want to see which Departments are very similar, and forecast for these as a group"
   ]
  },
  {
   "cell_type": "code",
   "execution_count": 373,
   "metadata": {},
   "outputs": [],
   "source": [
    "##############################\n",
    "#### Basic Python Imports ####\n",
    "##############################\n",
    "\n",
    "import pandas as pd\n",
    "import numpy as np\n",
    "import pickle\n",
    "\n",
    "\n",
    "##########################\n",
    "#### Sklearn Packages ####\n",
    "##########################\n",
    "\n",
    "from sklearn.cluster import KMeans\n"
   ]
  },
  {
   "cell_type": "markdown",
   "metadata": {},
   "source": [
    "---"
   ]
  },
  {
   "cell_type": "markdown",
   "metadata": {},
   "source": [
    "# Data Collection & Prep"
   ]
  },
  {
   "cell_type": "markdown",
   "metadata": {},
   "source": [
    "### Sales Data"
   ]
  },
  {
   "cell_type": "code",
   "execution_count": 60,
   "metadata": {},
   "outputs": [],
   "source": [
    "## Import main sales data into a dataframe\n",
    "data = 'data_files/walmart-recruiting-store-sales-forecasting/train.csv'\n",
    "df = pd.read_csv(data)\n",
    "\n",
    "## Variable pointing to additional data features\n",
    "## To be used further down in data prep\n",
    "features = 'data_files/walmart-recruiting-store-sales-forecasting/features.csv'"
   ]
  },
  {
   "cell_type": "code",
   "execution_count": 61,
   "metadata": {
    "scrolled": true
   },
   "outputs": [
    {
     "name": "stdout",
     "output_type": "stream",
     "text": [
      "<class 'pandas.core.frame.DataFrame'>\n",
      "RangeIndex: 421570 entries, 0 to 421569\n",
      "Data columns (total 5 columns):\n",
      "Store           421570 non-null int64\n",
      "Dept            421570 non-null int64\n",
      "Date            421570 non-null object\n",
      "Weekly_Sales    421570 non-null float64\n",
      "IsHoliday       421570 non-null bool\n",
      "dtypes: bool(1), float64(1), int64(2), object(1)\n",
      "memory usage: 13.3+ MB\n"
     ]
    }
   ],
   "source": [
    "df.info()"
   ]
  },
  {
   "cell_type": "code",
   "execution_count": 62,
   "metadata": {},
   "outputs": [],
   "source": [
    "## Binary field to flag dates that are holidays in time series\n",
    "holiday_map = {True:1, False:0}\n",
    "df['IsHoliday'] = df['IsHoliday'].map(holiday_map)"
   ]
  },
  {
   "cell_type": "code",
   "execution_count": 63,
   "metadata": {
    "scrolled": true
   },
   "outputs": [
    {
     "data": {
      "text/html": [
       "<div>\n",
       "<style scoped>\n",
       "    .dataframe tbody tr th:only-of-type {\n",
       "        vertical-align: middle;\n",
       "    }\n",
       "\n",
       "    .dataframe tbody tr th {\n",
       "        vertical-align: top;\n",
       "    }\n",
       "\n",
       "    .dataframe thead th {\n",
       "        text-align: right;\n",
       "    }\n",
       "</style>\n",
       "<table border=\"1\" class=\"dataframe\">\n",
       "  <thead>\n",
       "    <tr style=\"text-align: right;\">\n",
       "      <th></th>\n",
       "      <th>Store</th>\n",
       "      <th>Dept</th>\n",
       "      <th>Date</th>\n",
       "      <th>Weekly_Sales</th>\n",
       "      <th>IsHoliday</th>\n",
       "    </tr>\n",
       "  </thead>\n",
       "  <tbody>\n",
       "    <tr>\n",
       "      <td>0</td>\n",
       "      <td>1</td>\n",
       "      <td>1</td>\n",
       "      <td>2010-02-05</td>\n",
       "      <td>24924.50</td>\n",
       "      <td>0</td>\n",
       "    </tr>\n",
       "    <tr>\n",
       "      <td>1</td>\n",
       "      <td>1</td>\n",
       "      <td>1</td>\n",
       "      <td>2010-02-12</td>\n",
       "      <td>46039.49</td>\n",
       "      <td>1</td>\n",
       "    </tr>\n",
       "    <tr>\n",
       "      <td>2</td>\n",
       "      <td>1</td>\n",
       "      <td>1</td>\n",
       "      <td>2010-02-19</td>\n",
       "      <td>41595.55</td>\n",
       "      <td>0</td>\n",
       "    </tr>\n",
       "    <tr>\n",
       "      <td>3</td>\n",
       "      <td>1</td>\n",
       "      <td>1</td>\n",
       "      <td>2010-02-26</td>\n",
       "      <td>19403.54</td>\n",
       "      <td>0</td>\n",
       "    </tr>\n",
       "    <tr>\n",
       "      <td>4</td>\n",
       "      <td>1</td>\n",
       "      <td>1</td>\n",
       "      <td>2010-03-05</td>\n",
       "      <td>21827.90</td>\n",
       "      <td>0</td>\n",
       "    </tr>\n",
       "  </tbody>\n",
       "</table>\n",
       "</div>"
      ],
      "text/plain": [
       "   Store  Dept        Date  Weekly_Sales  IsHoliday\n",
       "0      1     1  2010-02-05      24924.50          0\n",
       "1      1     1  2010-02-12      46039.49          1\n",
       "2      1     1  2010-02-19      41595.55          0\n",
       "3      1     1  2010-02-26      19403.54          0\n",
       "4      1     1  2010-03-05      21827.90          0"
      ]
     },
     "execution_count": 63,
     "metadata": {},
     "output_type": "execute_result"
    }
   ],
   "source": [
    "df.head()"
   ]
  },
  {
   "cell_type": "markdown",
   "metadata": {},
   "source": [
    "### Store Region Data"
   ]
  },
  {
   "cell_type": "code",
   "execution_count": 88,
   "metadata": {},
   "outputs": [],
   "source": [
    "## Additonal data containing external features related to location/region of each store in data set\n",
    "store_data = pd.read_csv(features)\n",
    "store_data.drop(columns=['MarkDown1', 'MarkDown2', 'MarkDown3', 'MarkDown4', 'MarkDown5', 'IsHoliday'],\n",
    "                inplace=True)"
   ]
  },
  {
   "cell_type": "code",
   "execution_count": 91,
   "metadata": {},
   "outputs": [
    {
     "data": {
      "text/html": [
       "<div>\n",
       "<style scoped>\n",
       "    .dataframe tbody tr th:only-of-type {\n",
       "        vertical-align: middle;\n",
       "    }\n",
       "\n",
       "    .dataframe tbody tr th {\n",
       "        vertical-align: top;\n",
       "    }\n",
       "\n",
       "    .dataframe thead th {\n",
       "        text-align: right;\n",
       "    }\n",
       "</style>\n",
       "<table border=\"1\" class=\"dataframe\">\n",
       "  <thead>\n",
       "    <tr style=\"text-align: right;\">\n",
       "      <th></th>\n",
       "      <th>Store</th>\n",
       "      <th>Date</th>\n",
       "      <th>Temperature</th>\n",
       "      <th>Fuel_Price</th>\n",
       "      <th>CPI</th>\n",
       "      <th>Unemployment</th>\n",
       "    </tr>\n",
       "  </thead>\n",
       "  <tbody>\n",
       "    <tr>\n",
       "      <td>0</td>\n",
       "      <td>1</td>\n",
       "      <td>2010-02-05</td>\n",
       "      <td>42.31</td>\n",
       "      <td>2.572</td>\n",
       "      <td>211.096358</td>\n",
       "      <td>8.106</td>\n",
       "    </tr>\n",
       "    <tr>\n",
       "      <td>1</td>\n",
       "      <td>1</td>\n",
       "      <td>2010-02-12</td>\n",
       "      <td>38.51</td>\n",
       "      <td>2.548</td>\n",
       "      <td>211.242170</td>\n",
       "      <td>8.106</td>\n",
       "    </tr>\n",
       "    <tr>\n",
       "      <td>2</td>\n",
       "      <td>1</td>\n",
       "      <td>2010-02-19</td>\n",
       "      <td>39.93</td>\n",
       "      <td>2.514</td>\n",
       "      <td>211.289143</td>\n",
       "      <td>8.106</td>\n",
       "    </tr>\n",
       "    <tr>\n",
       "      <td>3</td>\n",
       "      <td>1</td>\n",
       "      <td>2010-02-26</td>\n",
       "      <td>46.63</td>\n",
       "      <td>2.561</td>\n",
       "      <td>211.319643</td>\n",
       "      <td>8.106</td>\n",
       "    </tr>\n",
       "    <tr>\n",
       "      <td>4</td>\n",
       "      <td>1</td>\n",
       "      <td>2010-03-05</td>\n",
       "      <td>46.50</td>\n",
       "      <td>2.625</td>\n",
       "      <td>211.350143</td>\n",
       "      <td>8.106</td>\n",
       "    </tr>\n",
       "  </tbody>\n",
       "</table>\n",
       "</div>"
      ],
      "text/plain": [
       "   Store        Date  Temperature  Fuel_Price         CPI  Unemployment\n",
       "0      1  2010-02-05        42.31       2.572  211.096358         8.106\n",
       "1      1  2010-02-12        38.51       2.548  211.242170         8.106\n",
       "2      1  2010-02-19        39.93       2.514  211.289143         8.106\n",
       "3      1  2010-02-26        46.63       2.561  211.319643         8.106\n",
       "4      1  2010-03-05        46.50       2.625  211.350143         8.106"
      ]
     },
     "execution_count": 91,
     "metadata": {},
     "output_type": "execute_result"
    }
   ],
   "source": [
    "store_data.head()"
   ]
  },
  {
   "cell_type": "markdown",
   "metadata": {},
   "source": [
    "### Sales Data Table w/ Store Features"
   ]
  },
  {
   "cell_type": "code",
   "execution_count": 93,
   "metadata": {},
   "outputs": [],
   "source": [
    "## Join sales data and store region data tables around Store number and Date\n",
    "sales_data = pd.merge(df, store_data, how='left', left_on=['Store', 'Date'], right_on=['Store', 'Date'])"
   ]
  },
  {
   "cell_type": "code",
   "execution_count": 94,
   "metadata": {
    "scrolled": true
   },
   "outputs": [
    {
     "data": {
      "text/html": [
       "<div>\n",
       "<style scoped>\n",
       "    .dataframe tbody tr th:only-of-type {\n",
       "        vertical-align: middle;\n",
       "    }\n",
       "\n",
       "    .dataframe tbody tr th {\n",
       "        vertical-align: top;\n",
       "    }\n",
       "\n",
       "    .dataframe thead th {\n",
       "        text-align: right;\n",
       "    }\n",
       "</style>\n",
       "<table border=\"1\" class=\"dataframe\">\n",
       "  <thead>\n",
       "    <tr style=\"text-align: right;\">\n",
       "      <th></th>\n",
       "      <th>Store</th>\n",
       "      <th>Dept</th>\n",
       "      <th>Date</th>\n",
       "      <th>Weekly_Sales</th>\n",
       "      <th>IsHoliday</th>\n",
       "      <th>Temperature</th>\n",
       "      <th>Fuel_Price</th>\n",
       "      <th>CPI</th>\n",
       "      <th>Unemployment</th>\n",
       "    </tr>\n",
       "  </thead>\n",
       "  <tbody>\n",
       "    <tr>\n",
       "      <td>0</td>\n",
       "      <td>1</td>\n",
       "      <td>1</td>\n",
       "      <td>2010-02-05</td>\n",
       "      <td>24924.50</td>\n",
       "      <td>0</td>\n",
       "      <td>42.31</td>\n",
       "      <td>2.572</td>\n",
       "      <td>211.096358</td>\n",
       "      <td>8.106</td>\n",
       "    </tr>\n",
       "    <tr>\n",
       "      <td>1</td>\n",
       "      <td>1</td>\n",
       "      <td>1</td>\n",
       "      <td>2010-02-12</td>\n",
       "      <td>46039.49</td>\n",
       "      <td>1</td>\n",
       "      <td>38.51</td>\n",
       "      <td>2.548</td>\n",
       "      <td>211.242170</td>\n",
       "      <td>8.106</td>\n",
       "    </tr>\n",
       "    <tr>\n",
       "      <td>2</td>\n",
       "      <td>1</td>\n",
       "      <td>1</td>\n",
       "      <td>2010-02-19</td>\n",
       "      <td>41595.55</td>\n",
       "      <td>0</td>\n",
       "      <td>39.93</td>\n",
       "      <td>2.514</td>\n",
       "      <td>211.289143</td>\n",
       "      <td>8.106</td>\n",
       "    </tr>\n",
       "    <tr>\n",
       "      <td>3</td>\n",
       "      <td>1</td>\n",
       "      <td>1</td>\n",
       "      <td>2010-02-26</td>\n",
       "      <td>19403.54</td>\n",
       "      <td>0</td>\n",
       "      <td>46.63</td>\n",
       "      <td>2.561</td>\n",
       "      <td>211.319643</td>\n",
       "      <td>8.106</td>\n",
       "    </tr>\n",
       "    <tr>\n",
       "      <td>4</td>\n",
       "      <td>1</td>\n",
       "      <td>1</td>\n",
       "      <td>2010-03-05</td>\n",
       "      <td>21827.90</td>\n",
       "      <td>0</td>\n",
       "      <td>46.50</td>\n",
       "      <td>2.625</td>\n",
       "      <td>211.350143</td>\n",
       "      <td>8.106</td>\n",
       "    </tr>\n",
       "  </tbody>\n",
       "</table>\n",
       "</div>"
      ],
      "text/plain": [
       "   Store  Dept        Date  Weekly_Sales  IsHoliday  Temperature  Fuel_Price  \\\n",
       "0      1     1  2010-02-05      24924.50          0        42.31       2.572   \n",
       "1      1     1  2010-02-12      46039.49          1        38.51       2.548   \n",
       "2      1     1  2010-02-19      41595.55          0        39.93       2.514   \n",
       "3      1     1  2010-02-26      19403.54          0        46.63       2.561   \n",
       "4      1     1  2010-03-05      21827.90          0        46.50       2.625   \n",
       "\n",
       "          CPI  Unemployment  \n",
       "0  211.096358         8.106  \n",
       "1  211.242170         8.106  \n",
       "2  211.289143         8.106  \n",
       "3  211.319643         8.106  \n",
       "4  211.350143         8.106  "
      ]
     },
     "execution_count": 94,
     "metadata": {},
     "output_type": "execute_result"
    }
   ],
   "source": [
    "sales_data.head()"
   ]
  },
  {
   "cell_type": "markdown",
   "metadata": {},
   "source": [
    "### Train & Test Split"
   ]
  },
  {
   "cell_type": "code",
   "execution_count": 114,
   "metadata": {},
   "outputs": [],
   "source": [
    "## Determine how many unique weeks captures 80% of time series\n",
    "week_count = int(len(sales_data['Date'].unique())*0.8)"
   ]
  },
  {
   "cell_type": "code",
   "execution_count": 115,
   "metadata": {},
   "outputs": [],
   "source": [
    "## Determine value of max week for training data set\n",
    "max_test_week = sales_data['Date'].unique()[week_count]"
   ]
  },
  {
   "cell_type": "code",
   "execution_count": 128,
   "metadata": {},
   "outputs": [],
   "source": [
    "# Use above week metrics to create train/test split of 80/20\n",
    "train_sales_data = sales_data.loc[sales_data['Date'] < max_test_week].reset_index(drop=True)"
   ]
  },
  {
   "cell_type": "code",
   "execution_count": 125,
   "metadata": {
    "scrolled": true
   },
   "outputs": [
    {
     "name": "stdout",
     "output_type": "stream",
     "text": [
      "<class 'pandas.core.frame.DataFrame'>\n",
      "RangeIndex: 335761 entries, 0 to 335760\n",
      "Data columns (total 9 columns):\n",
      "Store           335761 non-null int64\n",
      "Dept            335761 non-null int64\n",
      "Date            335761 non-null object\n",
      "Weekly_Sales    335761 non-null float64\n",
      "IsHoliday       335761 non-null int64\n",
      "Temperature     335761 non-null float64\n",
      "Fuel_Price      335761 non-null float64\n",
      "CPI             335761 non-null float64\n",
      "Unemployment    335761 non-null float64\n",
      "dtypes: float64(5), int64(3), object(1)\n",
      "memory usage: 23.1+ MB\n"
     ]
    }
   ],
   "source": [
    "train_sales_data.info()"
   ]
  },
  {
   "cell_type": "code",
   "execution_count": 126,
   "metadata": {},
   "outputs": [],
   "source": [
    "# Use above week metrics to create train/test split of 80/20\n",
    "test_sales_data = sales_data.loc[sales_data['Date'] >= max_test_week].reset_index(drop=True)"
   ]
  },
  {
   "cell_type": "code",
   "execution_count": 127,
   "metadata": {},
   "outputs": [
    {
     "name": "stdout",
     "output_type": "stream",
     "text": [
      "<class 'pandas.core.frame.DataFrame'>\n",
      "RangeIndex: 85809 entries, 0 to 85808\n",
      "Data columns (total 9 columns):\n",
      "Store           85809 non-null int64\n",
      "Dept            85809 non-null int64\n",
      "Date            85809 non-null object\n",
      "Weekly_Sales    85809 non-null float64\n",
      "IsHoliday       85809 non-null int64\n",
      "Temperature     85809 non-null float64\n",
      "Fuel_Price      85809 non-null float64\n",
      "CPI             85809 non-null float64\n",
      "Unemployment    85809 non-null float64\n",
      "dtypes: float64(5), int64(3), object(1)\n",
      "memory usage: 5.9+ MB\n"
     ]
    }
   ],
   "source": [
    "test_sales_data.info()"
   ]
  },
  {
   "cell_type": "markdown",
   "metadata": {},
   "source": [
    "## Retail Store (Region) Clusters"
   ]
  },
  {
   "cell_type": "markdown",
   "metadata": {},
   "source": [
    "### Cluster Regional Store Locations\n",
    "- Using the following Store features (relevant to the region the store is located in):\n",
    "    - Temperature - average temperature in the region\n",
    "    - Fuel_Price - cost of fuel in the region\n",
    "    - CPI - the consumer price index\n",
    "    - Unemployment - the unemployment rate\n",
    "- Make forecast predictions for each distinct cluster (\"REGION\")"
   ]
  },
  {
   "cell_type": "code",
   "execution_count": 214,
   "metadata": {},
   "outputs": [],
   "source": [
    "## Determine mean for each store feature, for each store\n",
    "region_data = train_sales_data.groupby(['Store'])\\\n",
    "                        .agg(\n",
    "                              avg_temp=pd.NamedAgg(column='Temperature', aggfunc='mean'),\n",
    "                              avg_fuel_price=pd.NamedAgg(column='Fuel_Price', aggfunc='mean'),\n",
    "                              avg_cpi=pd.NamedAgg(column='CPI', aggfunc='mean'),\n",
    "                              avg_unemployment=pd.NamedAgg(column='Unemployment', aggfunc='mean')\n",
    "                             )"
   ]
  },
  {
   "cell_type": "code",
   "execution_count": 215,
   "metadata": {},
   "outputs": [
    {
     "data": {
      "text/html": [
       "<div>\n",
       "<style scoped>\n",
       "    .dataframe tbody tr th:only-of-type {\n",
       "        vertical-align: middle;\n",
       "    }\n",
       "\n",
       "    .dataframe tbody tr th {\n",
       "        vertical-align: top;\n",
       "    }\n",
       "\n",
       "    .dataframe thead th {\n",
       "        text-align: right;\n",
       "    }\n",
       "</style>\n",
       "<table border=\"1\" class=\"dataframe\">\n",
       "  <thead>\n",
       "    <tr style=\"text-align: right;\">\n",
       "      <th></th>\n",
       "      <th>avg_temp</th>\n",
       "      <th>avg_fuel_price</th>\n",
       "      <th>avg_cpi</th>\n",
       "      <th>avg_unemployment</th>\n",
       "    </tr>\n",
       "    <tr>\n",
       "      <th>Store</th>\n",
       "      <th></th>\n",
       "      <th></th>\n",
       "      <th></th>\n",
       "      <th></th>\n",
       "    </tr>\n",
       "  </thead>\n",
       "  <tbody>\n",
       "    <tr>\n",
       "      <td>1</td>\n",
       "      <td>66.219069</td>\n",
       "      <td>3.131914</td>\n",
       "      <td>214.432038</td>\n",
       "      <td>7.776293</td>\n",
       "    </tr>\n",
       "    <tr>\n",
       "      <td>2</td>\n",
       "      <td>65.728215</td>\n",
       "      <td>3.132959</td>\n",
       "      <td>214.088152</td>\n",
       "      <td>7.872071</td>\n",
       "    </tr>\n",
       "    <tr>\n",
       "      <td>3</td>\n",
       "      <td>69.234016</td>\n",
       "      <td>3.131978</td>\n",
       "      <td>217.809262</td>\n",
       "      <td>7.365169</td>\n",
       "    </tr>\n",
       "    <tr>\n",
       "      <td>4</td>\n",
       "      <td>58.969789</td>\n",
       "      <td>3.131861</td>\n",
       "      <td>128.103189</td>\n",
       "      <td>6.430340</td>\n",
       "    </tr>\n",
       "    <tr>\n",
       "      <td>5</td>\n",
       "      <td>67.025708</td>\n",
       "      <td>3.135249</td>\n",
       "      <td>215.029493</td>\n",
       "      <td>6.455855</td>\n",
       "    </tr>\n",
       "  </tbody>\n",
       "</table>\n",
       "</div>"
      ],
      "text/plain": [
       "        avg_temp  avg_fuel_price     avg_cpi  avg_unemployment\n",
       "Store                                                         \n",
       "1      66.219069        3.131914  214.432038          7.776293\n",
       "2      65.728215        3.132959  214.088152          7.872071\n",
       "3      69.234016        3.131978  217.809262          7.365169\n",
       "4      58.969789        3.131861  128.103189          6.430340\n",
       "5      67.025708        3.135249  215.029493          6.455855"
      ]
     },
     "execution_count": 215,
     "metadata": {},
     "output_type": "execute_result"
    }
   ],
   "source": [
    "region_data.head()"
   ]
  },
  {
   "cell_type": "code",
   "execution_count": 216,
   "metadata": {},
   "outputs": [],
   "source": [
    "## Cluster stores using KMeans algorithm\n",
    "kmeans = KMeans(n_clusters=4, random_state=40, init='random').fit(region_data)\n",
    "\n",
    "## Create field to indicate cluster the store belongs to\n",
    "region_data['region_cluster'] = kmeans.labels_\n",
    "\n",
    "## Sort DataFrame by Clusters\n",
    "clusters_df = region_data.sort_values(by=['region_cluster'])"
   ]
  },
  {
   "cell_type": "code",
   "execution_count": 217,
   "metadata": {},
   "outputs": [
    {
     "data": {
      "text/html": [
       "<div>\n",
       "<style scoped>\n",
       "    .dataframe tbody tr th:only-of-type {\n",
       "        vertical-align: middle;\n",
       "    }\n",
       "\n",
       "    .dataframe tbody tr th {\n",
       "        vertical-align: top;\n",
       "    }\n",
       "\n",
       "    .dataframe thead th {\n",
       "        text-align: right;\n",
       "    }\n",
       "</style>\n",
       "<table border=\"1\" class=\"dataframe\">\n",
       "  <thead>\n",
       "    <tr style=\"text-align: right;\">\n",
       "      <th></th>\n",
       "      <th>avg_temp</th>\n",
       "      <th>avg_fuel_price</th>\n",
       "      <th>avg_cpi</th>\n",
       "      <th>avg_unemployment</th>\n",
       "      <th>region_cluster</th>\n",
       "    </tr>\n",
       "    <tr>\n",
       "      <th>Store</th>\n",
       "      <th></th>\n",
       "      <th></th>\n",
       "      <th></th>\n",
       "      <th></th>\n",
       "      <th></th>\n",
       "    </tr>\n",
       "  </thead>\n",
       "  <tbody>\n",
       "    <tr>\n",
       "      <td>23</td>\n",
       "      <td>45.807012</td>\n",
       "      <td>3.341281</td>\n",
       "      <td>134.292168</td>\n",
       "      <td>4.959175</td>\n",
       "      <td>0</td>\n",
       "    </tr>\n",
       "    <tr>\n",
       "      <td>26</td>\n",
       "      <td>40.527679</td>\n",
       "      <td>3.340232</td>\n",
       "      <td>134.294649</td>\n",
       "      <td>7.988596</td>\n",
       "      <td>0</td>\n",
       "    </tr>\n",
       "    <tr>\n",
       "      <td>29</td>\n",
       "      <td>52.214908</td>\n",
       "      <td>3.339093</td>\n",
       "      <td>134.284673</td>\n",
       "      <td>9.942679</td>\n",
       "      <td>0</td>\n",
       "    </tr>\n",
       "    <tr>\n",
       "      <td>24</td>\n",
       "      <td>51.202332</td>\n",
       "      <td>3.478629</td>\n",
       "      <td>134.281934</td>\n",
       "      <td>8.324762</td>\n",
       "      <td>0</td>\n",
       "    </tr>\n",
       "    <tr>\n",
       "      <td>44</td>\n",
       "      <td>50.175602</td>\n",
       "      <td>3.180606</td>\n",
       "      <td>128.124114</td>\n",
       "      <td>7.048311</td>\n",
       "      <td>0</td>\n",
       "    </tr>\n",
       "  </tbody>\n",
       "</table>\n",
       "</div>"
      ],
      "text/plain": [
       "        avg_temp  avg_fuel_price     avg_cpi  avg_unemployment  region_cluster\n",
       "Store                                                                         \n",
       "23     45.807012        3.341281  134.292168          4.959175               0\n",
       "26     40.527679        3.340232  134.294649          7.988596               0\n",
       "29     52.214908        3.339093  134.284673          9.942679               0\n",
       "24     51.202332        3.478629  134.281934          8.324762               0\n",
       "44     50.175602        3.180606  128.124114          7.048311               0"
      ]
     },
     "execution_count": 217,
     "metadata": {},
     "output_type": "execute_result"
    }
   ],
   "source": [
    "clusters_df.head()"
   ]
  },
  {
   "cell_type": "code",
   "execution_count": 218,
   "metadata": {
    "scrolled": true
   },
   "outputs": [
    {
     "data": {
      "text/html": [
       "<div>\n",
       "<style scoped>\n",
       "    .dataframe tbody tr th:only-of-type {\n",
       "        vertical-align: middle;\n",
       "    }\n",
       "\n",
       "    .dataframe tbody tr th {\n",
       "        vertical-align: top;\n",
       "    }\n",
       "\n",
       "    .dataframe thead th {\n",
       "        text-align: right;\n",
       "    }\n",
       "</style>\n",
       "<table border=\"1\" class=\"dataframe\">\n",
       "  <thead>\n",
       "    <tr style=\"text-align: right;\">\n",
       "      <th></th>\n",
       "      <th>avg_temp</th>\n",
       "      <th>avg_fuel_price</th>\n",
       "      <th>avg_cpi</th>\n",
       "      <th>avg_unemployment</th>\n",
       "    </tr>\n",
       "    <tr>\n",
       "      <th>region_cluster</th>\n",
       "      <th></th>\n",
       "      <th></th>\n",
       "      <th></th>\n",
       "      <th></th>\n",
       "    </tr>\n",
       "  </thead>\n",
       "  <tbody>\n",
       "    <tr>\n",
       "      <td>0</td>\n",
       "      <td>49.524641</td>\n",
       "      <td>3.328669</td>\n",
       "      <td>133.417428</td>\n",
       "      <td>7.803468</td>\n",
       "    </tr>\n",
       "    <tr>\n",
       "      <td>1</td>\n",
       "      <td>67.563938</td>\n",
       "      <td>3.428535</td>\n",
       "      <td>128.124194</td>\n",
       "      <td>10.488059</td>\n",
       "    </tr>\n",
       "    <tr>\n",
       "      <td>2</td>\n",
       "      <td>66.907291</td>\n",
       "      <td>3.133578</td>\n",
       "      <td>214.622362</td>\n",
       "      <td>7.623981</td>\n",
       "    </tr>\n",
       "    <tr>\n",
       "      <td>3</td>\n",
       "      <td>47.990138</td>\n",
       "      <td>3.220048</td>\n",
       "      <td>194.422331</td>\n",
       "      <td>7.914222</td>\n",
       "    </tr>\n",
       "  </tbody>\n",
       "</table>\n",
       "</div>"
      ],
      "text/plain": [
       "                 avg_temp  avg_fuel_price     avg_cpi  avg_unemployment\n",
       "region_cluster                                                         \n",
       "0               49.524641        3.328669  133.417428          7.803468\n",
       "1               67.563938        3.428535  128.124194         10.488059\n",
       "2               66.907291        3.133578  214.622362          7.623981\n",
       "3               47.990138        3.220048  194.422331          7.914222"
      ]
     },
     "execution_count": 218,
     "metadata": {},
     "output_type": "execute_result"
    }
   ],
   "source": [
    "## Aggregate cluster features; mean values of the stores within the cluster\n",
    "cluster_summary = clusters_df.groupby(['region_cluster']).agg({'avg_temp':'mean', \n",
    "                                      'avg_fuel_price':'mean',\n",
    "                                      'avg_cpi':'mean',\n",
    "                                      'avg_unemployment':'mean'})\n",
    "cluster_summary"
   ]
  },
  {
   "cell_type": "code",
   "execution_count": 219,
   "metadata": {},
   "outputs": [],
   "source": [
    "## Create fields to rank the value of each feature for each cluster (high rank = high relative value)\n",
    "cluster_summary['temp_rank'] = cluster_summary['avg_temp'].rank(ascending=False)\n",
    "cluster_summary['feul_rank'] = cluster_summary['avg_fuel_price'].rank(ascending=False)\n",
    "cluster_summary['cpi_rank'] = cluster_summary['avg_cpi'].rank(ascending=False)\n",
    "cluster_summary['unemp_rank'] = cluster_summary['avg_unemployment'].rank(ascending=False)"
   ]
  },
  {
   "cell_type": "code",
   "execution_count": 220,
   "metadata": {},
   "outputs": [
    {
     "data": {
      "text/html": [
       "<div>\n",
       "<style scoped>\n",
       "    .dataframe tbody tr th:only-of-type {\n",
       "        vertical-align: middle;\n",
       "    }\n",
       "\n",
       "    .dataframe tbody tr th {\n",
       "        vertical-align: top;\n",
       "    }\n",
       "\n",
       "    .dataframe thead th {\n",
       "        text-align: right;\n",
       "    }\n",
       "</style>\n",
       "<table border=\"1\" class=\"dataframe\">\n",
       "  <thead>\n",
       "    <tr style=\"text-align: right;\">\n",
       "      <th></th>\n",
       "      <th>avg_temp</th>\n",
       "      <th>avg_fuel_price</th>\n",
       "      <th>avg_cpi</th>\n",
       "      <th>avg_unemployment</th>\n",
       "      <th>temp_rank</th>\n",
       "      <th>feul_rank</th>\n",
       "      <th>cpi_rank</th>\n",
       "      <th>unemp_rank</th>\n",
       "    </tr>\n",
       "    <tr>\n",
       "      <th>region_cluster</th>\n",
       "      <th></th>\n",
       "      <th></th>\n",
       "      <th></th>\n",
       "      <th></th>\n",
       "      <th></th>\n",
       "      <th></th>\n",
       "      <th></th>\n",
       "      <th></th>\n",
       "    </tr>\n",
       "  </thead>\n",
       "  <tbody>\n",
       "    <tr>\n",
       "      <td>0</td>\n",
       "      <td>49.524641</td>\n",
       "      <td>3.328669</td>\n",
       "      <td>133.417428</td>\n",
       "      <td>7.803468</td>\n",
       "      <td>3.0</td>\n",
       "      <td>2.0</td>\n",
       "      <td>3.0</td>\n",
       "      <td>3.0</td>\n",
       "    </tr>\n",
       "    <tr>\n",
       "      <td>1</td>\n",
       "      <td>67.563938</td>\n",
       "      <td>3.428535</td>\n",
       "      <td>128.124194</td>\n",
       "      <td>10.488059</td>\n",
       "      <td>1.0</td>\n",
       "      <td>1.0</td>\n",
       "      <td>4.0</td>\n",
       "      <td>1.0</td>\n",
       "    </tr>\n",
       "    <tr>\n",
       "      <td>2</td>\n",
       "      <td>66.907291</td>\n",
       "      <td>3.133578</td>\n",
       "      <td>214.622362</td>\n",
       "      <td>7.623981</td>\n",
       "      <td>2.0</td>\n",
       "      <td>4.0</td>\n",
       "      <td>1.0</td>\n",
       "      <td>4.0</td>\n",
       "    </tr>\n",
       "    <tr>\n",
       "      <td>3</td>\n",
       "      <td>47.990138</td>\n",
       "      <td>3.220048</td>\n",
       "      <td>194.422331</td>\n",
       "      <td>7.914222</td>\n",
       "      <td>4.0</td>\n",
       "      <td>3.0</td>\n",
       "      <td>2.0</td>\n",
       "      <td>2.0</td>\n",
       "    </tr>\n",
       "  </tbody>\n",
       "</table>\n",
       "</div>"
      ],
      "text/plain": [
       "                 avg_temp  avg_fuel_price     avg_cpi  avg_unemployment  \\\n",
       "region_cluster                                                            \n",
       "0               49.524641        3.328669  133.417428          7.803468   \n",
       "1               67.563938        3.428535  128.124194         10.488059   \n",
       "2               66.907291        3.133578  214.622362          7.623981   \n",
       "3               47.990138        3.220048  194.422331          7.914222   \n",
       "\n",
       "                temp_rank  feul_rank  cpi_rank  unemp_rank  \n",
       "region_cluster                                              \n",
       "0                     3.0        2.0       3.0         3.0  \n",
       "1                     1.0        1.0       4.0         1.0  \n",
       "2                     2.0        4.0       1.0         4.0  \n",
       "3                     4.0        3.0       2.0         2.0  "
      ]
     },
     "execution_count": 220,
     "metadata": {},
     "output_type": "execute_result"
    }
   ],
   "source": [
    "cluster_summary"
   ]
  },
  {
   "cell_type": "markdown",
   "metadata": {},
   "source": [
    "#### Interpreting the Region Clusters"
   ]
  },
  {
   "cell_type": "markdown",
   "metadata": {},
   "source": [
    ">Key differentiating factors (with the largest distribution of values) were: `Avg Temp` and `Avg CPI`\n",
    "- **Cluster 0** —> Low Temp, Low CPI\n",
    "- **Cluster 1** —> High Temp, Low CPI, High Unemployment\n",
    "- **Cluster 2** —> High Temp, High CPI\n",
    "- **Cluster 3** —> Low Temp, High CPI"
   ]
  },
  {
   "cell_type": "markdown",
   "metadata": {},
   "source": [
    "### Updated Sales Train DataFrame"
   ]
  },
  {
   "cell_type": "markdown",
   "metadata": {},
   "source": [
    "#### Include Regional Cluster"
   ]
  },
  {
   "cell_type": "code",
   "execution_count": 246,
   "metadata": {},
   "outputs": [],
   "source": [
    "## Create cluster mapping dataframe\n",
    "store_cluster_mapping = clusters_df.loc[:, ['region_cluster']].reset_index()"
   ]
  },
  {
   "cell_type": "code",
   "execution_count": 322,
   "metadata": {},
   "outputs": [],
   "source": [
    "## Left join cluster mapping table to training data set\n",
    "train_sales_data_final = train_sales_data.merge(store_cluster_mapping, how='left', on='Store')"
   ]
  },
  {
   "cell_type": "code",
   "execution_count": 323,
   "metadata": {
    "scrolled": false
   },
   "outputs": [],
   "source": [
    "## Final train data should groupy by region_clust and date, aggregating on the sum of Sales\n",
    "train_sales_data_final = train_sales_data_final.groupby(['region_cluster', 'Date'])\\\n",
    "                                               .agg(Sales=pd.NamedAgg(column='Weekly_Sales', aggfunc='sum'))\\\n",
    "                                               .reset_index()"
   ]
  },
  {
   "cell_type": "code",
   "execution_count": 324,
   "metadata": {},
   "outputs": [],
   "source": [
    "## Re-lablel region_cluster categorical values\n",
    "## Required for unstacking\n",
    "cluster_labels = {0:'cluster_1', 1:'cluster_2', 2:'cluster_3', 3:'cluster_4'}\n",
    "\n",
    "train_sales_data_final['region_cluster'] = train_sales_data_final['region_cluster'].map(cluster_labels)"
   ]
  },
  {
   "cell_type": "code",
   "execution_count": 325,
   "metadata": {},
   "outputs": [
    {
     "data": {
      "text/html": [
       "<div>\n",
       "<style scoped>\n",
       "    .dataframe tbody tr th:only-of-type {\n",
       "        vertical-align: middle;\n",
       "    }\n",
       "\n",
       "    .dataframe tbody tr th {\n",
       "        vertical-align: top;\n",
       "    }\n",
       "\n",
       "    .dataframe thead th {\n",
       "        text-align: right;\n",
       "    }\n",
       "</style>\n",
       "<table border=\"1\" class=\"dataframe\">\n",
       "  <thead>\n",
       "    <tr style=\"text-align: right;\">\n",
       "      <th></th>\n",
       "      <th>region_cluster</th>\n",
       "      <th>Date</th>\n",
       "      <th>Sales</th>\n",
       "    </tr>\n",
       "  </thead>\n",
       "  <tbody>\n",
       "    <tr>\n",
       "      <td>0</td>\n",
       "      <td>cluster_1</td>\n",
       "      <td>2010-02-05</td>\n",
       "      <td>16824708.91</td>\n",
       "    </tr>\n",
       "    <tr>\n",
       "      <td>1</td>\n",
       "      <td>cluster_1</td>\n",
       "      <td>2010-02-12</td>\n",
       "      <td>16793675.03</td>\n",
       "    </tr>\n",
       "    <tr>\n",
       "      <td>2</td>\n",
       "      <td>cluster_1</td>\n",
       "      <td>2010-02-19</td>\n",
       "      <td>16717570.22</td>\n",
       "    </tr>\n",
       "    <tr>\n",
       "      <td>3</td>\n",
       "      <td>cluster_1</td>\n",
       "      <td>2010-02-26</td>\n",
       "      <td>14629045.69</td>\n",
       "    </tr>\n",
       "    <tr>\n",
       "      <td>4</td>\n",
       "      <td>cluster_1</td>\n",
       "      <td>2010-03-05</td>\n",
       "      <td>15947116.34</td>\n",
       "    </tr>\n",
       "  </tbody>\n",
       "</table>\n",
       "</div>"
      ],
      "text/plain": [
       "  region_cluster        Date        Sales\n",
       "0      cluster_1  2010-02-05  16824708.91\n",
       "1      cluster_1  2010-02-12  16793675.03\n",
       "2      cluster_1  2010-02-19  16717570.22\n",
       "3      cluster_1  2010-02-26  14629045.69\n",
       "4      cluster_1  2010-03-05  15947116.34"
      ]
     },
     "execution_count": 325,
     "metadata": {},
     "output_type": "execute_result"
    }
   ],
   "source": [
    "train_sales_data_final.head()"
   ]
  },
  {
   "cell_type": "markdown",
   "metadata": {},
   "source": [
    "#### Unstack region_cluster\n",
    "Create separate column to indicate sales for each cluster."
   ]
  },
  {
   "cell_type": "code",
   "execution_count": 326,
   "metadata": {
    "scrolled": true
   },
   "outputs": [],
   "source": [
    "train_sales_data_final.set_index(['Date', 'region_cluster'], inplace=True)"
   ]
  },
  {
   "cell_type": "code",
   "execution_count": 327,
   "metadata": {},
   "outputs": [],
   "source": [
    "train_sales_data_final = train_sales_data_final.unstack(['region_cluster'], fill_value=0)"
   ]
  },
  {
   "cell_type": "code",
   "execution_count": 328,
   "metadata": {},
   "outputs": [
    {
     "data": {
      "text/html": [
       "<div>\n",
       "<style scoped>\n",
       "    .dataframe tbody tr th:only-of-type {\n",
       "        vertical-align: middle;\n",
       "    }\n",
       "\n",
       "    .dataframe tbody tr th {\n",
       "        vertical-align: top;\n",
       "    }\n",
       "\n",
       "    .dataframe thead th {\n",
       "        text-align: right;\n",
       "    }\n",
       "</style>\n",
       "<table border=\"1\" class=\"dataframe\">\n",
       "  <thead>\n",
       "    <tr style=\"text-align: right;\">\n",
       "      <th></th>\n",
       "      <th>cluster_1</th>\n",
       "      <th>cluster_2</th>\n",
       "      <th>cluster_3</th>\n",
       "      <th>cluster_4</th>\n",
       "    </tr>\n",
       "    <tr>\n",
       "      <th>Date</th>\n",
       "      <th></th>\n",
       "      <th></th>\n",
       "      <th></th>\n",
       "      <th></th>\n",
       "    </tr>\n",
       "  </thead>\n",
       "  <tbody>\n",
       "    <tr>\n",
       "      <td>2010-02-05</td>\n",
       "      <td>16824708.91</td>\n",
       "      <td>8277064.86</td>\n",
       "      <td>14907896.06</td>\n",
       "      <td>9741070.67</td>\n",
       "    </tr>\n",
       "    <tr>\n",
       "      <td>2010-02-12</td>\n",
       "      <td>16793675.03</td>\n",
       "      <td>8253975.42</td>\n",
       "      <td>15039976.12</td>\n",
       "      <td>8249051.06</td>\n",
       "    </tr>\n",
       "    <tr>\n",
       "      <td>2010-02-19</td>\n",
       "      <td>16717570.22</td>\n",
       "      <td>7882898.53</td>\n",
       "      <td>14681670.82</td>\n",
       "      <td>8994854.21</td>\n",
       "    </tr>\n",
       "    <tr>\n",
       "      <td>2010-02-26</td>\n",
       "      <td>14629045.69</td>\n",
       "      <td>7633080.38</td>\n",
       "      <td>13357737.02</td>\n",
       "      <td>8348708.04</td>\n",
       "    </tr>\n",
       "    <tr>\n",
       "      <td>2010-03-05</td>\n",
       "      <td>15947116.34</td>\n",
       "      <td>7862298.45</td>\n",
       "      <td>14195870.13</td>\n",
       "      <td>8866185.38</td>\n",
       "    </tr>\n",
       "  </tbody>\n",
       "</table>\n",
       "</div>"
      ],
      "text/plain": [
       "              cluster_1   cluster_2    cluster_3   cluster_4\n",
       "Date                                                        \n",
       "2010-02-05  16824708.91  8277064.86  14907896.06  9741070.67\n",
       "2010-02-12  16793675.03  8253975.42  15039976.12  8249051.06\n",
       "2010-02-19  16717570.22  7882898.53  14681670.82  8994854.21\n",
       "2010-02-26  14629045.69  7633080.38  13357737.02  8348708.04\n",
       "2010-03-05  15947116.34  7862298.45  14195870.13  8866185.38"
      ]
     },
     "execution_count": 328,
     "metadata": {},
     "output_type": "execute_result"
    }
   ],
   "source": [
    "train_sales_data_final.columns = train_sales_data_final.columns.levels[1].rename(None)\n",
    "train_sales_data_final.head()"
   ]
  },
  {
   "cell_type": "markdown",
   "metadata": {},
   "source": [
    "#### Date Index Frequency"
   ]
  },
  {
   "cell_type": "code",
   "execution_count": 329,
   "metadata": {},
   "outputs": [],
   "source": [
    "## Convert index to datetime\n",
    "train_sales_data_final.index = pd.to_datetime(train_sales_data_final.index)"
   ]
  },
  {
   "cell_type": "code",
   "execution_count": 331,
   "metadata": {},
   "outputs": [],
   "source": [
    "## Set frequency to Weekly ending FRIDAY\n",
    "train_sales_data_final = train_sales_data_final.asfreq('W-Fri', fill_value=0)"
   ]
  },
  {
   "cell_type": "code",
   "execution_count": 332,
   "metadata": {
    "scrolled": true
   },
   "outputs": [
    {
     "data": {
      "text/plain": [
       "DatetimeIndex(['2010-02-05', '2010-02-12', '2010-02-19', '2010-02-26',\n",
       "               '2010-03-05', '2010-03-12', '2010-03-19', '2010-03-26',\n",
       "               '2010-04-02', '2010-04-09',\n",
       "               ...\n",
       "               '2012-02-03', '2012-02-10', '2012-02-17', '2012-02-24',\n",
       "               '2012-03-02', '2012-03-09', '2012-03-16', '2012-03-23',\n",
       "               '2012-03-30', '2012-04-06'],\n",
       "              dtype='datetime64[ns]', name='Date', length=114, freq='W-FRI')"
      ]
     },
     "execution_count": 332,
     "metadata": {},
     "output_type": "execute_result"
    }
   ],
   "source": [
    "train_sales_data_final.index"
   ]
  },
  {
   "cell_type": "markdown",
   "metadata": {},
   "source": [
    "### Updated Sales Test DataFrame"
   ]
  },
  {
   "cell_type": "markdown",
   "metadata": {},
   "source": [
    "#### Predict Regional Store Clusters"
   ]
  },
  {
   "cell_type": "code",
   "execution_count": 336,
   "metadata": {},
   "outputs": [],
   "source": [
    "## Left join cluster mapping table to testing data set\n",
    "## Maintain store to cluster mapping from training data\n",
    "test_sales_data_final = test_sales_data.merge(store_cluster_mapping, how='left', on='Store')"
   ]
  },
  {
   "cell_type": "code",
   "execution_count": 337,
   "metadata": {
    "scrolled": false
   },
   "outputs": [],
   "source": [
    "## Final test data should groupy by region_clust and date, aggregating on the sum of Sales\n",
    "test_sales_data_final = test_sales_data_final.groupby(['region_cluster', 'Date'])\\\n",
    "                                               .agg(Sales=pd.NamedAgg(column='Weekly_Sales', aggfunc='sum'))\\\n",
    "                                               .reset_index()"
   ]
  },
  {
   "cell_type": "code",
   "execution_count": 338,
   "metadata": {},
   "outputs": [],
   "source": [
    "## Re-lablel region_cluster categorical values\n",
    "## Required for unstacking\n",
    "cluster_labels = {0:'cluster_1', 1:'cluster_2', 2:'cluster_3', 3:'cluster_4'}\n",
    "\n",
    "test_sales_data_final['region_cluster'] = test_sales_data_final['region_cluster'].map(cluster_labels)"
   ]
  },
  {
   "cell_type": "code",
   "execution_count": 341,
   "metadata": {},
   "outputs": [
    {
     "data": {
      "text/html": [
       "<div>\n",
       "<style scoped>\n",
       "    .dataframe tbody tr th:only-of-type {\n",
       "        vertical-align: middle;\n",
       "    }\n",
       "\n",
       "    .dataframe tbody tr th {\n",
       "        vertical-align: top;\n",
       "    }\n",
       "\n",
       "    .dataframe thead th {\n",
       "        text-align: right;\n",
       "    }\n",
       "</style>\n",
       "<table border=\"1\" class=\"dataframe\">\n",
       "  <thead>\n",
       "    <tr style=\"text-align: right;\">\n",
       "      <th></th>\n",
       "      <th>region_cluster</th>\n",
       "      <th>Date</th>\n",
       "      <th>Sales</th>\n",
       "    </tr>\n",
       "  </thead>\n",
       "  <tbody>\n",
       "    <tr>\n",
       "      <td>0</td>\n",
       "      <td>cluster_1</td>\n",
       "      <td>2012-04-13</td>\n",
       "      <td>15319232.71</td>\n",
       "    </tr>\n",
       "    <tr>\n",
       "      <td>1</td>\n",
       "      <td>cluster_1</td>\n",
       "      <td>2012-04-20</td>\n",
       "      <td>15469550.24</td>\n",
       "    </tr>\n",
       "    <tr>\n",
       "      <td>2</td>\n",
       "      <td>cluster_1</td>\n",
       "      <td>2012-04-27</td>\n",
       "      <td>14907099.39</td>\n",
       "    </tr>\n",
       "    <tr>\n",
       "      <td>3</td>\n",
       "      <td>cluster_1</td>\n",
       "      <td>2012-05-04</td>\n",
       "      <td>15791465.51</td>\n",
       "    </tr>\n",
       "    <tr>\n",
       "      <td>4</td>\n",
       "      <td>cluster_1</td>\n",
       "      <td>2012-05-11</td>\n",
       "      <td>16110567.99</td>\n",
       "    </tr>\n",
       "  </tbody>\n",
       "</table>\n",
       "</div>"
      ],
      "text/plain": [
       "  region_cluster        Date        Sales\n",
       "0      cluster_1  2012-04-13  15319232.71\n",
       "1      cluster_1  2012-04-20  15469550.24\n",
       "2      cluster_1  2012-04-27  14907099.39\n",
       "3      cluster_1  2012-05-04  15791465.51\n",
       "4      cluster_1  2012-05-11  16110567.99"
      ]
     },
     "execution_count": 341,
     "metadata": {},
     "output_type": "execute_result"
    }
   ],
   "source": [
    "test_sales_data_final.head()"
   ]
  },
  {
   "cell_type": "markdown",
   "metadata": {},
   "source": [
    "#### Unstack region_cluster\n",
    "Create separate column to indicate sales for each cluster."
   ]
  },
  {
   "cell_type": "code",
   "execution_count": 342,
   "metadata": {
    "scrolled": true
   },
   "outputs": [],
   "source": [
    "test_sales_data_final.set_index(['Date', 'region_cluster'], inplace=True)"
   ]
  },
  {
   "cell_type": "code",
   "execution_count": 343,
   "metadata": {},
   "outputs": [],
   "source": [
    "test_sales_data_final = test_sales_data_final.unstack(['region_cluster'], fill_value=0)"
   ]
  },
  {
   "cell_type": "code",
   "execution_count": 344,
   "metadata": {},
   "outputs": [
    {
     "data": {
      "text/html": [
       "<div>\n",
       "<style scoped>\n",
       "    .dataframe tbody tr th:only-of-type {\n",
       "        vertical-align: middle;\n",
       "    }\n",
       "\n",
       "    .dataframe tbody tr th {\n",
       "        vertical-align: top;\n",
       "    }\n",
       "\n",
       "    .dataframe thead th {\n",
       "        text-align: right;\n",
       "    }\n",
       "</style>\n",
       "<table border=\"1\" class=\"dataframe\">\n",
       "  <thead>\n",
       "    <tr style=\"text-align: right;\">\n",
       "      <th></th>\n",
       "      <th>cluster_1</th>\n",
       "      <th>cluster_2</th>\n",
       "      <th>cluster_3</th>\n",
       "      <th>cluster_4</th>\n",
       "    </tr>\n",
       "    <tr>\n",
       "      <th>Date</th>\n",
       "      <th></th>\n",
       "      <th></th>\n",
       "      <th></th>\n",
       "      <th></th>\n",
       "    </tr>\n",
       "  </thead>\n",
       "  <tbody>\n",
       "    <tr>\n",
       "      <td>2012-04-13</td>\n",
       "      <td>15319232.71</td>\n",
       "      <td>7842097.90</td>\n",
       "      <td>14605946.75</td>\n",
       "      <td>8861984.05</td>\n",
       "    </tr>\n",
       "    <tr>\n",
       "      <td>2012-04-20</td>\n",
       "      <td>15469550.24</td>\n",
       "      <td>7324769.81</td>\n",
       "      <td>13844084.67</td>\n",
       "      <td>8434125.06</td>\n",
       "    </tr>\n",
       "    <tr>\n",
       "      <td>2012-04-27</td>\n",
       "      <td>14907099.39</td>\n",
       "      <td>7148150.77</td>\n",
       "      <td>13382099.66</td>\n",
       "      <td>8279449.07</td>\n",
       "    </tr>\n",
       "    <tr>\n",
       "      <td>2012-05-04</td>\n",
       "      <td>15791465.51</td>\n",
       "      <td>7913923.38</td>\n",
       "      <td>14387907.69</td>\n",
       "      <td>9030901.35</td>\n",
       "    </tr>\n",
       "    <tr>\n",
       "      <td>2012-05-11</td>\n",
       "      <td>16110567.99</td>\n",
       "      <td>7595937.00</td>\n",
       "      <td>14072803.73</td>\n",
       "      <td>9146570.27</td>\n",
       "    </tr>\n",
       "  </tbody>\n",
       "</table>\n",
       "</div>"
      ],
      "text/plain": [
       "              cluster_1   cluster_2    cluster_3   cluster_4\n",
       "Date                                                        \n",
       "2012-04-13  15319232.71  7842097.90  14605946.75  8861984.05\n",
       "2012-04-20  15469550.24  7324769.81  13844084.67  8434125.06\n",
       "2012-04-27  14907099.39  7148150.77  13382099.66  8279449.07\n",
       "2012-05-04  15791465.51  7913923.38  14387907.69  9030901.35\n",
       "2012-05-11  16110567.99  7595937.00  14072803.73  9146570.27"
      ]
     },
     "execution_count": 344,
     "metadata": {},
     "output_type": "execute_result"
    }
   ],
   "source": [
    "test_sales_data_final.columns = test_sales_data_final.columns.levels[1].rename(None)\n",
    "test_sales_data_final.head()"
   ]
  },
  {
   "cell_type": "markdown",
   "metadata": {},
   "source": [
    "#### Date Index Frequency"
   ]
  },
  {
   "cell_type": "code",
   "execution_count": 345,
   "metadata": {},
   "outputs": [],
   "source": [
    "## Convert index to datetime\n",
    "test_sales_data_final.index = pd.to_datetime(test_sales_data_final.index)"
   ]
  },
  {
   "cell_type": "code",
   "execution_count": 346,
   "metadata": {},
   "outputs": [],
   "source": [
    "## Set frequency to Weekly ending FRIDAY\n",
    "test_sales_data_final = test_sales_data_final.asfreq('W-Fri', fill_value=0)"
   ]
  },
  {
   "cell_type": "code",
   "execution_count": 347,
   "metadata": {
    "scrolled": true
   },
   "outputs": [
    {
     "data": {
      "text/plain": [
       "DatetimeIndex(['2012-04-13', '2012-04-20', '2012-04-27', '2012-05-04',\n",
       "               '2012-05-11', '2012-05-18', '2012-05-25', '2012-06-01',\n",
       "               '2012-06-08', '2012-06-15', '2012-06-22', '2012-06-29',\n",
       "               '2012-07-06', '2012-07-13', '2012-07-20', '2012-07-27',\n",
       "               '2012-08-03', '2012-08-10', '2012-08-17', '2012-08-24',\n",
       "               '2012-08-31', '2012-09-07', '2012-09-14', '2012-09-21',\n",
       "               '2012-09-28', '2012-10-05', '2012-10-12', '2012-10-19',\n",
       "               '2012-10-26'],\n",
       "              dtype='datetime64[ns]', name='Date', freq='W-FRI')"
      ]
     },
     "execution_count": 347,
     "metadata": {},
     "output_type": "execute_result"
    }
   ],
   "source": [
    "test_sales_data_final.index"
   ]
  },
  {
   "cell_type": "markdown",
   "metadata": {},
   "source": [
    "---"
   ]
  },
  {
   "cell_type": "markdown",
   "metadata": {},
   "source": [
    "# Exploratory Data Analysis (EDA)"
   ]
  },
  {
   "cell_type": "markdown",
   "metadata": {},
   "source": [
    "## Weekly Sales Stats"
   ]
  },
  {
   "cell_type": "code",
   "execution_count": 360,
   "metadata": {},
   "outputs": [
    {
     "data": {
      "text/html": [
       "<div>\n",
       "<style scoped>\n",
       "    .dataframe tbody tr th:only-of-type {\n",
       "        vertical-align: middle;\n",
       "    }\n",
       "\n",
       "    .dataframe tbody tr th {\n",
       "        vertical-align: top;\n",
       "    }\n",
       "\n",
       "    .dataframe thead th {\n",
       "        text-align: right;\n",
       "    }\n",
       "</style>\n",
       "<table border=\"1\" class=\"dataframe\">\n",
       "  <thead>\n",
       "    <tr style=\"text-align: right;\">\n",
       "      <th></th>\n",
       "      <th>cluster_1</th>\n",
       "      <th>cluster_2</th>\n",
       "      <th>cluster_3</th>\n",
       "      <th>cluster_4</th>\n",
       "    </tr>\n",
       "  </thead>\n",
       "  <tbody>\n",
       "    <tr>\n",
       "      <td>count</td>\n",
       "      <td>114.000000</td>\n",
       "      <td>114.000000</td>\n",
       "      <td>114.000000</td>\n",
       "      <td>114.000000</td>\n",
       "    </tr>\n",
       "    <tr>\n",
       "      <td>mean</td>\n",
       "      <td>16.313093</td>\n",
       "      <td>7.554775</td>\n",
       "      <td>14.156812</td>\n",
       "      <td>9.195112</td>\n",
       "    </tr>\n",
       "    <tr>\n",
       "      <td>std</td>\n",
       "      <td>2.353084</td>\n",
       "      <td>0.931597</td>\n",
       "      <td>1.574355</td>\n",
       "      <td>1.319337</td>\n",
       "    </tr>\n",
       "    <tr>\n",
       "      <td>min</td>\n",
       "      <td>12.975193</td>\n",
       "      <td>6.437130</td>\n",
       "      <td>12.227423</td>\n",
       "      <td>7.587900</td>\n",
       "    </tr>\n",
       "    <tr>\n",
       "      <td>25%</td>\n",
       "      <td>15.202769</td>\n",
       "      <td>7.021009</td>\n",
       "      <td>13.425909</td>\n",
       "      <td>8.577709</td>\n",
       "    </tr>\n",
       "    <tr>\n",
       "      <td>50%</td>\n",
       "      <td>15.926992</td>\n",
       "      <td>7.333967</td>\n",
       "      <td>13.831275</td>\n",
       "      <td>8.922444</td>\n",
       "    </tr>\n",
       "    <tr>\n",
       "      <td>75%</td>\n",
       "      <td>16.772979</td>\n",
       "      <td>7.821141</td>\n",
       "      <td>14.405162</td>\n",
       "      <td>9.321822</td>\n",
       "    </tr>\n",
       "    <tr>\n",
       "      <td>max</td>\n",
       "      <td>29.258883</td>\n",
       "      <td>12.243476</td>\n",
       "      <td>22.641374</td>\n",
       "      <td>16.787683</td>\n",
       "    </tr>\n",
       "  </tbody>\n",
       "</table>\n",
       "</div>"
      ],
      "text/plain": [
       "        cluster_1   cluster_2   cluster_3   cluster_4\n",
       "count  114.000000  114.000000  114.000000  114.000000\n",
       "mean    16.313093    7.554775   14.156812    9.195112\n",
       "std      2.353084    0.931597    1.574355    1.319337\n",
       "min     12.975193    6.437130   12.227423    7.587900\n",
       "25%     15.202769    7.021009   13.425909    8.577709\n",
       "50%     15.926992    7.333967   13.831275    8.922444\n",
       "75%     16.772979    7.821141   14.405162    9.321822\n",
       "max     29.258883   12.243476   22.641374   16.787683"
      ]
     },
     "execution_count": 360,
     "metadata": {},
     "output_type": "execute_result"
    }
   ],
   "source": [
    "weekly_sales = train_sales_data_final.div(1_000_000)\n",
    "weekly_sales.describe()"
   ]
  },
  {
   "cell_type": "code",
   "execution_count": 362,
   "metadata": {},
   "outputs": [],
   "source": [
    "weekly_sales_stats = weekly_sales.describe()"
   ]
  },
  {
   "cell_type": "code",
   "execution_count": 367,
   "metadata": {},
   "outputs": [
    {
     "data": {
      "text/plain": [
       "cluster_1    1.793583\n",
       "cluster_2    1.620628\n",
       "cluster_3    1.599327\n",
       "cluster_4    1.825718\n",
       "dtype: float64"
      ]
     },
     "execution_count": 367,
     "metadata": {},
     "output_type": "execute_result"
    }
   ],
   "source": [
    "## Max value as percentage of mean\n",
    "weekly_sales_stats.loc['max']/weekly_sales_stats.loc['mean']"
   ]
  },
  {
   "cell_type": "code",
   "execution_count": 368,
   "metadata": {
    "scrolled": true
   },
   "outputs": [
    {
     "data": {
      "text/plain": [
       "cluster_1    0.144245\n",
       "cluster_2    0.123312\n",
       "cluster_3    0.111208\n",
       "cluster_4    0.143482\n",
       "dtype: float64"
      ]
     },
     "execution_count": 368,
     "metadata": {},
     "output_type": "execute_result"
    }
   ],
   "source": [
    "## Standard Deviation as percentage of mean\n",
    "weekly_sales_stats.loc['std']/weekly_sales_stats.loc['mean']"
   ]
  },
  {
   "cell_type": "markdown",
   "metadata": {},
   "source": [
    "## Monthly Sales Stats"
   ]
  },
  {
   "cell_type": "code",
   "execution_count": 369,
   "metadata": {
    "scrolled": false
   },
   "outputs": [
    {
     "data": {
      "text/html": [
       "<div>\n",
       "<style scoped>\n",
       "    .dataframe tbody tr th:only-of-type {\n",
       "        vertical-align: middle;\n",
       "    }\n",
       "\n",
       "    .dataframe tbody tr th {\n",
       "        vertical-align: top;\n",
       "    }\n",
       "\n",
       "    .dataframe thead th {\n",
       "        text-align: right;\n",
       "    }\n",
       "</style>\n",
       "<table border=\"1\" class=\"dataframe\">\n",
       "  <thead>\n",
       "    <tr style=\"text-align: right;\">\n",
       "      <th></th>\n",
       "      <th>cluster_1</th>\n",
       "      <th>cluster_2</th>\n",
       "      <th>cluster_3</th>\n",
       "      <th>cluster_4</th>\n",
       "    </tr>\n",
       "  </thead>\n",
       "  <tbody>\n",
       "    <tr>\n",
       "      <td>count</td>\n",
       "      <td>27.000000</td>\n",
       "      <td>27.000000</td>\n",
       "      <td>27.000000</td>\n",
       "      <td>27.000000</td>\n",
       "    </tr>\n",
       "    <tr>\n",
       "      <td>mean</td>\n",
       "      <td>68.877503</td>\n",
       "      <td>31.897938</td>\n",
       "      <td>59.773205</td>\n",
       "      <td>38.823804</td>\n",
       "    </tr>\n",
       "    <tr>\n",
       "      <td>std</td>\n",
       "      <td>15.461681</td>\n",
       "      <td>6.605572</td>\n",
       "      <td>12.307989</td>\n",
       "      <td>8.759749</td>\n",
       "    </tr>\n",
       "    <tr>\n",
       "      <td>min</td>\n",
       "      <td>18.130939</td>\n",
       "      <td>8.749441</td>\n",
       "      <td>16.134919</td>\n",
       "      <td>10.487018</td>\n",
       "    </tr>\n",
       "    <tr>\n",
       "      <td>25%</td>\n",
       "      <td>63.175610</td>\n",
       "      <td>28.979575</td>\n",
       "      <td>55.090682</td>\n",
       "      <td>35.242392</td>\n",
       "    </tr>\n",
       "    <tr>\n",
       "      <td>50%</td>\n",
       "      <td>66.432468</td>\n",
       "      <td>31.758772</td>\n",
       "      <td>57.425873</td>\n",
       "      <td>37.353267</td>\n",
       "    </tr>\n",
       "    <tr>\n",
       "      <td>75%</td>\n",
       "      <td>76.348512</td>\n",
       "      <td>35.160264</td>\n",
       "      <td>66.682570</td>\n",
       "      <td>43.510579</td>\n",
       "    </tr>\n",
       "    <tr>\n",
       "      <td>max</td>\n",
       "      <td>102.428664</td>\n",
       "      <td>45.225528</td>\n",
       "      <td>84.068774</td>\n",
       "      <td>58.306534</td>\n",
       "    </tr>\n",
       "  </tbody>\n",
       "</table>\n",
       "</div>"
      ],
      "text/plain": [
       "        cluster_1  cluster_2  cluster_3  cluster_4\n",
       "count   27.000000  27.000000  27.000000  27.000000\n",
       "mean    68.877503  31.897938  59.773205  38.823804\n",
       "std     15.461681   6.605572  12.307989   8.759749\n",
       "min     18.130939   8.749441  16.134919  10.487018\n",
       "25%     63.175610  28.979575  55.090682  35.242392\n",
       "50%     66.432468  31.758772  57.425873  37.353267\n",
       "75%     76.348512  35.160264  66.682570  43.510579\n",
       "max    102.428664  45.225528  84.068774  58.306534"
      ]
     },
     "execution_count": 369,
     "metadata": {},
     "output_type": "execute_result"
    }
   ],
   "source": [
    "monthly_sales = train_sales_data_final.resample('M').sum().div(1_000_000)\n",
    "monthly_sales.describe()"
   ]
  },
  {
   "cell_type": "code",
   "execution_count": 370,
   "metadata": {},
   "outputs": [],
   "source": [
    "monthly_sales_stats = monthly_sales.describe()"
   ]
  },
  {
   "cell_type": "code",
   "execution_count": 371,
   "metadata": {},
   "outputs": [
    {
     "data": {
      "text/plain": [
       "cluster_1    1.487113\n",
       "cluster_2    1.417820\n",
       "cluster_3    1.406463\n",
       "cluster_4    1.501824\n",
       "dtype: float64"
      ]
     },
     "execution_count": 371,
     "metadata": {},
     "output_type": "execute_result"
    }
   ],
   "source": [
    "## Max value as percentage of mean\n",
    "monthly_sales_stats.loc['max']/monthly_sales_stats.loc['mean']"
   ]
  },
  {
   "cell_type": "code",
   "execution_count": 372,
   "metadata": {
    "scrolled": true
   },
   "outputs": [
    {
     "data": {
      "text/plain": [
       "cluster_1    0.224481\n",
       "cluster_2    0.207085\n",
       "cluster_3    0.205911\n",
       "cluster_4    0.225628\n",
       "dtype: float64"
      ]
     },
     "execution_count": 372,
     "metadata": {},
     "output_type": "execute_result"
    }
   ],
   "source": [
    "## Standard Deviation as percentage of mean\n",
    "monthly_sales_stats.loc['std']/monthly_sales_stats.loc['mean']"
   ]
  },
  {
   "cell_type": "markdown",
   "metadata": {},
   "source": [
    "## Take-Aways on Cluster Stats"
   ]
  },
  {
   "cell_type": "markdown",
   "metadata": {},
   "source": [
    ">- **cluster_1** —> Low Temp, Low CPI\n",
    "    - Highest sales cluster\n",
    "    - High population cluster?\n",
    "   \n",
    ">- **cluster_2** —> High Temp, Low CPI, High Unemployment\n",
    "    - Lowest sales cluster\n",
    " \n",
    ">- **cluster_3** —> High Temp, High CPI\n",
    "    - 2nd Highest sales cluster\n",
    "    \n",
    ">- **cluster_4** —> Low Temp, High CPI\n",
    "    - 2nd Lowest sales cluster"
   ]
  },
  {
   "cell_type": "markdown",
   "metadata": {},
   "source": [
    "Cluster 1 and 4 likely have the highest seasonality effect because on both a weekly and monthly scale, their max values are the highest percentage of their means AND their standard deviation is the highest % of their means compared to the rest of the clusters.  \n",
    "\n",
    "Going forward, **`cluster_1`** will be used for time series analysis."
   ]
  },
  {
   "cell_type": "markdown",
   "metadata": {},
   "source": [
    "---"
   ]
  },
  {
   "cell_type": "markdown",
   "metadata": {},
   "source": [
    "# Exogenous Variable\n",
    "    Include \"IsHoliday\" dummy variable in training and testing data frames."
   ]
  },
  {
   "cell_type": "markdown",
   "metadata": {},
   "source": [
    "## Train Data"
   ]
  },
  {
   "cell_type": "code",
   "execution_count": 442,
   "metadata": {},
   "outputs": [],
   "source": [
    "## Create date mapping for IsHoliday dummy variable\n",
    "## To be merge with training and testing Data Frames\n",
    "holidays = df.loc[:, ['Date', 'IsHoliday']]\n",
    "\n",
    "holidays.drop_duplicates(inplace=True)\n",
    "holidays.set_index('Date', inplace=True)\n",
    "holidays.index = pd.to_datetime(holidays.index)\n",
    "\n",
    "\n",
    "## Set frequency to Weekly ending FRIDAY\n",
    "holidays = holidays.asfreq('W-Fri', fill_value=0)"
   ]
  },
  {
   "cell_type": "code",
   "execution_count": 444,
   "metadata": {},
   "outputs": [],
   "source": [
    "train_sales_data_final_2 = pd.merge(train_sales_data_final, holidays, how='left', \n",
    "                                    left_index=True, right_index=True)\n"
   ]
  },
  {
   "cell_type": "code",
   "execution_count": 445,
   "metadata": {},
   "outputs": [
    {
     "data": {
      "text/plain": [
       "0    105\n",
       "1      9\n",
       "Name: IsHoliday, dtype: int64"
      ]
     },
     "execution_count": 445,
     "metadata": {},
     "output_type": "execute_result"
    }
   ],
   "source": [
    "train_sales_data_final_2['IsHoliday'].value_counts()"
   ]
  },
  {
   "cell_type": "markdown",
   "metadata": {},
   "source": [
    "## Test Data"
   ]
  },
  {
   "cell_type": "code",
   "execution_count": 446,
   "metadata": {},
   "outputs": [],
   "source": [
    "test_sales_data_final_2 = test_sales_data_final.merge(holidays, how='left', left_index=True, right_index=True)"
   ]
  },
  {
   "cell_type": "code",
   "execution_count": 447,
   "metadata": {},
   "outputs": [
    {
     "data": {
      "text/plain": [
       "0    28\n",
       "1     1\n",
       "Name: IsHoliday, dtype: int64"
      ]
     },
     "execution_count": 447,
     "metadata": {},
     "output_type": "execute_result"
    }
   ],
   "source": [
    "test_sales_data_final_2['IsHoliday'].value_counts()"
   ]
  },
  {
   "cell_type": "markdown",
   "metadata": {},
   "source": [
    "---"
   ]
  },
  {
   "cell_type": "markdown",
   "metadata": {},
   "source": [
    "# Pickle DataFrames"
   ]
  },
  {
   "cell_type": "markdown",
   "metadata": {},
   "source": [
    "## Training Data"
   ]
  },
  {
   "cell_type": "code",
   "execution_count": 374,
   "metadata": {},
   "outputs": [],
   "source": [
    "train_pickle = 'data_files/train_data.pkl'\n",
    "train_sales_data_final.to_pickle(train_pickle)\n"
   ]
  },
  {
   "cell_type": "code",
   "execution_count": 448,
   "metadata": {},
   "outputs": [],
   "source": [
    "train_holidays_pickle = 'data_files/train_holidays.pkl'\n",
    "train_sales_data_final_2.to_pickle(train_holidays_pickle)\n"
   ]
  },
  {
   "cell_type": "markdown",
   "metadata": {},
   "source": [
    "## Testing Data"
   ]
  },
  {
   "cell_type": "code",
   "execution_count": 375,
   "metadata": {},
   "outputs": [],
   "source": [
    "test_pickle = 'data_files/test_data.pkl'\n",
    "test_sales_data_final.to_pickle(test_pickle)\n"
   ]
  },
  {
   "cell_type": "code",
   "execution_count": 449,
   "metadata": {},
   "outputs": [],
   "source": [
    "test_holidays_pickle = 'data_files/test_holidays.pkl'\n",
    "test_sales_data_final_2.to_pickle(test_holidays_pickle)\n"
   ]
  },
  {
   "cell_type": "code",
   "execution_count": null,
   "metadata": {},
   "outputs": [],
   "source": []
  }
 ],
 "metadata": {
  "kernelspec": {
   "display_name": "Python 3",
   "language": "python",
   "name": "python3"
  },
  "language_info": {
   "codemirror_mode": {
    "name": "ipython",
    "version": 3
   },
   "file_extension": ".py",
   "mimetype": "text/x-python",
   "name": "python",
   "nbconvert_exporter": "python",
   "pygments_lexer": "ipython3",
   "version": "3.7.4"
  },
  "toc": {
   "base_numbering": 1,
   "nav_menu": {},
   "number_sections": true,
   "sideBar": true,
   "skip_h1_title": false,
   "title_cell": "Table of Contents",
   "title_sidebar": "Contents",
   "toc_cell": true,
   "toc_position": {
    "height": "calc(100% - 180px)",
    "left": "10px",
    "top": "150px",
    "width": "286px"
   },
   "toc_section_display": true,
   "toc_window_display": true
  }
 },
 "nbformat": 4,
 "nbformat_minor": 2
}

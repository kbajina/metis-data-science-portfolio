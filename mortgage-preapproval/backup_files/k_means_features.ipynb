{
 "cells": [
  {
   "cell_type": "markdown",
   "metadata": {},
   "source": [
    "# K MEANS CLUSTERING:\n",
    "Using K-Means Clustering to find similar groupings in data based on independent variables."
   ]
  },
  {
   "cell_type": "code",
   "execution_count": 1,
   "metadata": {},
   "outputs": [],
   "source": [
    "## Common Python Modules:\n",
    "import math\n",
    "import pandas as pd\n",
    "import numpy as np\n",
    "from collections import Counter\n",
    "from collections import defaultdict\n",
    "\n",
    "## Plotting Modules:\n",
    "import matplotlib.pyplot as plt\n",
    "from inspect import signature\n",
    "import seaborn as sns\n",
    "from mlxtend.plotting import plot_decision_regions\n",
    "import plotly.express as px\n",
    "import plotly.graph_objects as go\n",
    "from plotly.subplots import make_subplots\n",
    "plt.style.use('ggplot')\n",
    "plt.rcParams[\"figure.figsize\"] = (50,50)\n",
    "\n",
    "%matplotlib inline\n",
    "\n",
    "# import sklearn\n",
    "from sklearn.preprocessing import scale\n",
    "from sklearn.cluster import KMeans\n",
    "from sklearn.datasets import make_blobs\n",
    "from sklearn.datasets import fetch_mldata\n",
    "from sklearn.utils import shuffle"
   ]
  },
  {
   "cell_type": "markdown",
   "metadata": {},
   "source": [
    "## Import Data:"
   ]
  },
  {
   "cell_type": "code",
   "execution_count": 2,
   "metadata": {},
   "outputs": [],
   "source": [
    "applications_data = 'data_files/home-credit-default-risk/applications_final_v2.csv'\n",
    "applications_df = pd.read_csv(applications_data)"
   ]
  },
  {
   "cell_type": "code",
   "execution_count": 3,
   "metadata": {},
   "outputs": [],
   "source": [
    "important_features = ['applicant_years_employed',\n",
    "'applicant_completed_post_secondary',\n",
    "'current_cc_limit',\n",
    "'flag_own_car',\n",
    "'applicant_age_years',\n",
    "'days_id_publish',\n",
    "'amt_goods_price',\n",
    "'def_30_cnt_social_circle',\n",
    "'amt_annuity',\n",
    "'flag_emp_phone',\n",
    "'cash_loan_max_future_installments',\n",
    "'cash_loan',\n",
    "'flag_work_phone',\n",
    "'loan_beyond_purchase_price',\n",
    "'is_male',\n",
    "'region_rating_client',\n",
    "'recent_cc_balance']"
   ]
  },
  {
   "cell_type": "code",
   "execution_count": 4,
   "metadata": {},
   "outputs": [],
   "source": [
    "X = applications_df.loc[:, important_features]\n",
    "y = applications_df['target']"
   ]
  },
  {
   "cell_type": "code",
   "execution_count": 7,
   "metadata": {
    "scrolled": true
   },
   "outputs": [
    {
     "data": {
      "text/plain": [
       "array([7, 7, 3, ..., 7, 2, 5], dtype=int32)"
      ]
     },
     "execution_count": 7,
     "metadata": {},
     "output_type": "execute_result"
    }
   ],
   "source": [
    "\n",
    "km = KMeans(n_clusters=10)\n",
    "km.fit(X)\n",
    "km.labels_"
   ]
  },
  {
   "cell_type": "code",
   "execution_count": 8,
   "metadata": {},
   "outputs": [],
   "source": [
    "km_dict = defaultdict(int)\n",
    "for label in km.labels_:\n",
    "    km_dict[label] += 1"
   ]
  },
  {
   "cell_type": "code",
   "execution_count": 9,
   "metadata": {},
   "outputs": [
    {
     "data": {
      "text/plain": [
       "defaultdict(int,\n",
       "            {7: 68480,\n",
       "             3: 12014,\n",
       "             2: 50650,\n",
       "             6: 42575,\n",
       "             0: 72549,\n",
       "             9: 29044,\n",
       "             4: 8870,\n",
       "             1: 17380,\n",
       "             8: 4034,\n",
       "             5: 4073})"
      ]
     },
     "execution_count": 9,
     "metadata": {},
     "output_type": "execute_result"
    }
   ],
   "source": [
    "km_dict"
   ]
  },
  {
   "cell_type": "code",
   "execution_count": 11,
   "metadata": {},
   "outputs": [],
   "source": [
    "X['cluster'] = km.labels_"
   ]
  },
  {
   "cell_type": "code",
   "execution_count": 14,
   "metadata": {},
   "outputs": [
    {
     "data": {
      "text/html": [
       "<div>\n",
       "<style scoped>\n",
       "    .dataframe tbody tr th:only-of-type {\n",
       "        vertical-align: middle;\n",
       "    }\n",
       "\n",
       "    .dataframe tbody tr th {\n",
       "        vertical-align: top;\n",
       "    }\n",
       "\n",
       "    .dataframe thead th {\n",
       "        text-align: right;\n",
       "    }\n",
       "</style>\n",
       "<table border=\"1\" class=\"dataframe\">\n",
       "  <thead>\n",
       "    <tr style=\"text-align: right;\">\n",
       "      <th></th>\n",
       "      <th>applicant_years_employed</th>\n",
       "      <th>applicant_completed_post_secondary</th>\n",
       "      <th>current_cc_limit</th>\n",
       "      <th>flag_own_car</th>\n",
       "      <th>applicant_age_years</th>\n",
       "      <th>days_id_publish</th>\n",
       "      <th>amt_goods_price</th>\n",
       "      <th>def_30_cnt_social_circle</th>\n",
       "      <th>amt_annuity</th>\n",
       "      <th>flag_emp_phone</th>\n",
       "      <th>cash_loan_max_future_installments</th>\n",
       "      <th>cash_loan</th>\n",
       "      <th>flag_work_phone</th>\n",
       "      <th>loan_beyond_purchase_price</th>\n",
       "      <th>is_male</th>\n",
       "      <th>region_rating_client</th>\n",
       "      <th>recent_cc_balance</th>\n",
       "      <th>cluster</th>\n",
       "    </tr>\n",
       "  </thead>\n",
       "  <tbody>\n",
       "    <tr>\n",
       "      <td>0</td>\n",
       "      <td>2</td>\n",
       "      <td>0</td>\n",
       "      <td>0</td>\n",
       "      <td>1</td>\n",
       "      <td>39</td>\n",
       "      <td>4808</td>\n",
       "      <td>450000.0</td>\n",
       "      <td>0.0</td>\n",
       "      <td>22090.5</td>\n",
       "      <td>1</td>\n",
       "      <td>0.0</td>\n",
       "      <td>1</td>\n",
       "      <td>0</td>\n",
       "      <td>142560.0</td>\n",
       "      <td>1</td>\n",
       "      <td>4</td>\n",
       "      <td>0.000</td>\n",
       "      <td>7</td>\n",
       "    </tr>\n",
       "    <tr>\n",
       "      <td>1</td>\n",
       "      <td>8</td>\n",
       "      <td>0</td>\n",
       "      <td>0</td>\n",
       "      <td>1</td>\n",
       "      <td>37</td>\n",
       "      <td>4565</td>\n",
       "      <td>405000.0</td>\n",
       "      <td>0.0</td>\n",
       "      <td>20250.0</td>\n",
       "      <td>1</td>\n",
       "      <td>0.0</td>\n",
       "      <td>0</td>\n",
       "      <td>1</td>\n",
       "      <td>0.0</td>\n",
       "      <td>1</td>\n",
       "      <td>4</td>\n",
       "      <td>0.000</td>\n",
       "      <td>7</td>\n",
       "    </tr>\n",
       "    <tr>\n",
       "      <td>3</td>\n",
       "      <td>0</td>\n",
       "      <td>0</td>\n",
       "      <td>90000</td>\n",
       "      <td>1</td>\n",
       "      <td>43</td>\n",
       "      <td>3479</td>\n",
       "      <td>459000.0</td>\n",
       "      <td>0.0</td>\n",
       "      <td>16209.0</td>\n",
       "      <td>1</td>\n",
       "      <td>14.0</td>\n",
       "      <td>1</td>\n",
       "      <td>1</td>\n",
       "      <td>90882.0</td>\n",
       "      <td>0</td>\n",
       "      <td>4</td>\n",
       "      <td>78770.295</td>\n",
       "      <td>7</td>\n",
       "    </tr>\n",
       "    <tr>\n",
       "      <td>8</td>\n",
       "      <td>3</td>\n",
       "      <td>0</td>\n",
       "      <td>0</td>\n",
       "      <td>0</td>\n",
       "      <td>40</td>\n",
       "      <td>4315</td>\n",
       "      <td>454500.0</td>\n",
       "      <td>0.0</td>\n",
       "      <td>24462.0</td>\n",
       "      <td>1</td>\n",
       "      <td>0.0</td>\n",
       "      <td>1</td>\n",
       "      <td>0</td>\n",
       "      <td>53995.5</td>\n",
       "      <td>0</td>\n",
       "      <td>4</td>\n",
       "      <td>0.000</td>\n",
       "      <td>7</td>\n",
       "    </tr>\n",
       "    <tr>\n",
       "      <td>11</td>\n",
       "      <td>1</td>\n",
       "      <td>0</td>\n",
       "      <td>180000</td>\n",
       "      <td>0</td>\n",
       "      <td>25</td>\n",
       "      <td>1980</td>\n",
       "      <td>436500.0</td>\n",
       "      <td>1.0</td>\n",
       "      <td>37899.0</td>\n",
       "      <td>1</td>\n",
       "      <td>8.0</td>\n",
       "      <td>1</td>\n",
       "      <td>1</td>\n",
       "      <td>34569.0</td>\n",
       "      <td>1</td>\n",
       "      <td>2</td>\n",
       "      <td>75118.185</td>\n",
       "      <td>7</td>\n",
       "    </tr>\n",
       "  </tbody>\n",
       "</table>\n",
       "</div>"
      ],
      "text/plain": [
       "    applicant_years_employed  applicant_completed_post_secondary  \\\n",
       "0                          2                                   0   \n",
       "1                          8                                   0   \n",
       "3                          0                                   0   \n",
       "8                          3                                   0   \n",
       "11                         1                                   0   \n",
       "\n",
       "    current_cc_limit  flag_own_car  applicant_age_years  days_id_publish  \\\n",
       "0                  0             1                   39             4808   \n",
       "1                  0             1                   37             4565   \n",
       "3              90000             1                   43             3479   \n",
       "8                  0             0                   40             4315   \n",
       "11            180000             0                   25             1980   \n",
       "\n",
       "    amt_goods_price  def_30_cnt_social_circle  amt_annuity  flag_emp_phone  \\\n",
       "0          450000.0                       0.0      22090.5               1   \n",
       "1          405000.0                       0.0      20250.0               1   \n",
       "3          459000.0                       0.0      16209.0               1   \n",
       "8          454500.0                       0.0      24462.0               1   \n",
       "11         436500.0                       1.0      37899.0               1   \n",
       "\n",
       "    cash_loan_max_future_installments  cash_loan  flag_work_phone  \\\n",
       "0                                 0.0          1                0   \n",
       "1                                 0.0          0                1   \n",
       "3                                14.0          1                1   \n",
       "8                                 0.0          1                0   \n",
       "11                                8.0          1                1   \n",
       "\n",
       "    loan_beyond_purchase_price  is_male  region_rating_client  \\\n",
       "0                     142560.0        1                     4   \n",
       "1                          0.0        1                     4   \n",
       "3                      90882.0        0                     4   \n",
       "8                      53995.5        0                     4   \n",
       "11                     34569.0        1                     2   \n",
       "\n",
       "    recent_cc_balance  cluster  \n",
       "0               0.000        7  \n",
       "1               0.000        7  \n",
       "3           78770.295        7  \n",
       "8               0.000        7  \n",
       "11          75118.185        7  "
      ]
     },
     "execution_count": 14,
     "metadata": {},
     "output_type": "execute_result"
    }
   ],
   "source": [
    "X[X['cluster'] == 7].head()"
   ]
  },
  {
   "cell_type": "code",
   "execution_count": null,
   "metadata": {},
   "outputs": [],
   "source": [
    "X"
   ]
  }
 ],
 "metadata": {
  "kernelspec": {
   "display_name": "Python 3",
   "language": "python",
   "name": "python3"
  },
  "language_info": {
   "codemirror_mode": {
    "name": "ipython",
    "version": 3
   },
   "file_extension": ".py",
   "mimetype": "text/x-python",
   "name": "python",
   "nbconvert_exporter": "python",
   "pygments_lexer": "ipython3",
   "version": "3.7.4"
  },
  "toc": {
   "base_numbering": 1,
   "nav_menu": {},
   "number_sections": true,
   "sideBar": true,
   "skip_h1_title": false,
   "title_cell": "Table of Contents",
   "title_sidebar": "Contents",
   "toc_cell": false,
   "toc_position": {},
   "toc_section_display": true,
   "toc_window_display": false
  }
 },
 "nbformat": 4,
 "nbformat_minor": 2
}

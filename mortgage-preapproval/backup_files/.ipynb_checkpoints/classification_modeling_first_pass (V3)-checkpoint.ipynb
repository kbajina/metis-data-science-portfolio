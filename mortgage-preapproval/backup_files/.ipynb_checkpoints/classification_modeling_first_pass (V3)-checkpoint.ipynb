{
 "cells": [
  {
   "cell_type": "markdown",
   "metadata": {},
   "source": [
    "# CLASSIFICATION MODELING:\n",
    "This workbook will be used to examine the classification problem of home credit default risk. We want to detemrine how likey a specific applicant is to default on a loan based on a variety of features from to their loan application.\n"
   ]
  },
  {
   "cell_type": "code",
   "execution_count": 425,
   "metadata": {},
   "outputs": [],
   "source": [
    "## Common Python Modules:\n",
    "import math\n",
    "import pandas as pd\n",
    "import numpy as np\n",
    "from collections import Counter\n",
    "from collections import defaultdict\n",
    "\n",
    "## SQL Integration:\n",
    "#import psycopg2\n",
    "from sqlalchemy import create_engine\n",
    "\n",
    "## Class Imbalance Modules:\n",
    "from imblearn.over_sampling import RandomOverSampler\n",
    "from imblearn.over_sampling import SMOTE\n",
    "from imblearn.over_sampling import ADASYN\n",
    "\n",
    "## Classification Modules:\n",
    "from sklearn.model_selection import train_test_split\n",
    "from sklearn.preprocessing import StandardScaler\n",
    "from sklearn.linear_model import LogisticRegression\n",
    "from sklearn.neighbors import KNeighborsClassifier\n",
    "from sklearn.naive_bayes import BernoulliNB, MultinomialNB, GaussianNB\n",
    "from sklearn import svm\n",
    "from sklearn.tree import DecisionTreeClassifier\n",
    "from sklearn.ensemble import RandomForestClassifier\n",
    "import xgboost as xgb\n",
    "from xgboost import XGBClassifier\n",
    "\n",
    "\n",
    "from sklearn.metrics import precision_score, recall_score, accuracy_score, roc_auc_score, roc_curve\n",
    "from sklearn.metrics import precision_recall_curve,f1_score, fbeta_score\n",
    "from sklearn.metrics import confusion_matrix\n",
    "from sklearn.datasets import make_classification\n",
    "from sklearn.naive_bayes import GaussianNB\n",
    "\n",
    "\n",
    "## Plotting Modules:\n",
    "import matplotlib.pyplot as plt\n",
    "from inspect import signature\n",
    "import seaborn as sns\n",
    "from mlxtend.plotting import plot_decision_regions\n",
    "plt.style.use('ggplot')\n",
    "plt.rcParams[\"figure.figsize\"] = (50,50)\n",
    "\n",
    "%matplotlib inline"
   ]
  },
  {
   "cell_type": "markdown",
   "metadata": {},
   "source": [
    "---"
   ]
  },
  {
   "cell_type": "markdown",
   "metadata": {},
   "source": [
    "# 1) DATA COLLECTION:"
   ]
  },
  {
   "cell_type": "code",
   "execution_count": 95,
   "metadata": {},
   "outputs": [],
   "source": [
    "## Create engine to connect with PostgreSQL Database\n",
    "#engine = create_engine('postgresql://kbajina:@localhost/home_credit_default_risk')"
   ]
  },
  {
   "cell_type": "markdown",
   "metadata": {},
   "source": [
    "Data cleaned in PostgreSQL and exported to .csv file for use in Jupyter Notebooks."
   ]
  },
  {
   "cell_type": "markdown",
   "metadata": {},
   "source": [
    "## Import Data from .csv"
   ]
  },
  {
   "cell_type": "code",
   "execution_count": 96,
   "metadata": {},
   "outputs": [],
   "source": [
    "applications_data = '/Users/kbajina/Documents/DATA SCIENCE/Metis | Data Science Bootcamp/Metis Project Portfolio/Metis-Proj-3-classification/data_files/home-credit-default-risk/applications_cleaned.csv'\n",
    "applications_df = pd.read_csv(applications_data)"
   ]
  },
  {
   "cell_type": "code",
   "execution_count": 97,
   "metadata": {},
   "outputs": [
    {
     "name": "stdout",
     "output_type": "stream",
     "text": [
      "<class 'pandas.core.frame.DataFrame'>\n",
      "RangeIndex: 307217 entries, 0 to 307216\n",
      "Data columns (total 42 columns):\n",
      "sk_id_curr                                   307217 non-null int64\n",
      "target                                       307217 non-null int64\n",
      "is_male                                      307217 non-null int64\n",
      "flag_own_car                                 307217 non-null int64\n",
      "flag_own_realty                              307217 non-null int64\n",
      "cnt_children                                 307217 non-null int64\n",
      "amt_income_total                             307217 non-null float64\n",
      "amt_credit                                   307217 non-null float64\n",
      "amt_annuity                                  307217 non-null float64\n",
      "amt_goods_price                              307217 non-null float64\n",
      "applicant_age_years                          307217 non-null int64\n",
      "applicant_years_employed                     307217 non-null int64\n",
      "days_registration                            307217 non-null float64\n",
      "days_id_publish                              307217 non-null int64\n",
      "own_car_age                                  307217 non-null int64\n",
      "flag_mobil                                   307217 non-null int64\n",
      "flag_emp_phone                               307217 non-null int64\n",
      "flag_work_phone                              307217 non-null int64\n",
      "flag_cont_mobile                             307217 non-null int64\n",
      "flag_phone                                   307217 non-null int64\n",
      "flag_email                                   307217 non-null int64\n",
      "cnt_fam_members                              307217 non-null int64\n",
      "region_rating_client                         307217 non-null int64\n",
      "hour_appr_process_start                      307217 non-null int64\n",
      "obs_30_cnt_social_circle                     307217 non-null int64\n",
      "def_30_cnt_social_circle                     307217 non-null int64\n",
      "obs_60_cnt_social_circle                     307217 non-null int64\n",
      "def_60_cnt_social_circle                     307217 non-null int64\n",
      "cash_loan                                    307217 non-null int64\n",
      "loan_beyond_purchase_price                   307217 non-null float64\n",
      "applicant_not_working                        307217 non-null int64\n",
      "applicant_working                            307217 non-null int64\n",
      "applicant_completed_post_secondary           307217 non-null int64\n",
      "applicant_status_married                     307217 non-null int64\n",
      "applicant_status_widowed                     307217 non-null int64\n",
      "applicant_owns_house_apt                     307217 non-null int64\n",
      "applicant_currently_renting                  307217 non-null int64\n",
      "applicant_living_w_parents                   307217 non-null int64\n",
      "applicant_occupation_service_ind             307217 non-null int64\n",
      "applicant_occupation_working_professional    307217 non-null int64\n",
      "credit_bureau_enquiries_past_year            307217 non-null int64\n",
      "application_start_date_weekend               307217 non-null int64\n",
      "dtypes: float64(6), int64(36)\n",
      "memory usage: 98.4 MB\n"
     ]
    }
   ],
   "source": [
    "applications_df.info()"
   ]
  },
  {
   "cell_type": "code",
   "execution_count": 98,
   "metadata": {
    "scrolled": false
   },
   "outputs": [
    {
     "data": {
      "text/html": [
       "<div>\n",
       "<style scoped>\n",
       "    .dataframe tbody tr th:only-of-type {\n",
       "        vertical-align: middle;\n",
       "    }\n",
       "\n",
       "    .dataframe tbody tr th {\n",
       "        vertical-align: top;\n",
       "    }\n",
       "\n",
       "    .dataframe thead th {\n",
       "        text-align: right;\n",
       "    }\n",
       "</style>\n",
       "<table border=\"1\" class=\"dataframe\">\n",
       "  <thead>\n",
       "    <tr style=\"text-align: right;\">\n",
       "      <th></th>\n",
       "      <th>sk_id_curr</th>\n",
       "      <th>target</th>\n",
       "      <th>is_male</th>\n",
       "      <th>flag_own_car</th>\n",
       "      <th>flag_own_realty</th>\n",
       "      <th>cnt_children</th>\n",
       "      <th>amt_income_total</th>\n",
       "      <th>amt_credit</th>\n",
       "      <th>amt_annuity</th>\n",
       "      <th>amt_goods_price</th>\n",
       "      <th>...</th>\n",
       "      <th>applicant_completed_post_secondary</th>\n",
       "      <th>applicant_status_married</th>\n",
       "      <th>applicant_status_widowed</th>\n",
       "      <th>applicant_owns_house_apt</th>\n",
       "      <th>applicant_currently_renting</th>\n",
       "      <th>applicant_living_w_parents</th>\n",
       "      <th>applicant_occupation_service_ind</th>\n",
       "      <th>applicant_occupation_working_professional</th>\n",
       "      <th>credit_bureau_enquiries_past_year</th>\n",
       "      <th>application_start_date_weekend</th>\n",
       "    </tr>\n",
       "  </thead>\n",
       "  <tbody>\n",
       "    <tr>\n",
       "      <td>0</td>\n",
       "      <td>107904</td>\n",
       "      <td>0</td>\n",
       "      <td>0</td>\n",
       "      <td>0</td>\n",
       "      <td>0</td>\n",
       "      <td>1</td>\n",
       "      <td>135000.0</td>\n",
       "      <td>709879.5</td>\n",
       "      <td>36373.5</td>\n",
       "      <td>634500.0</td>\n",
       "      <td>...</td>\n",
       "      <td>0</td>\n",
       "      <td>1</td>\n",
       "      <td>0</td>\n",
       "      <td>1</td>\n",
       "      <td>0</td>\n",
       "      <td>0</td>\n",
       "      <td>0</td>\n",
       "      <td>0</td>\n",
       "      <td>2</td>\n",
       "      <td>0</td>\n",
       "    </tr>\n",
       "    <tr>\n",
       "      <td>1</td>\n",
       "      <td>107956</td>\n",
       "      <td>0</td>\n",
       "      <td>0</td>\n",
       "      <td>0</td>\n",
       "      <td>1</td>\n",
       "      <td>0</td>\n",
       "      <td>103500.0</td>\n",
       "      <td>263686.5</td>\n",
       "      <td>17298.0</td>\n",
       "      <td>238500.0</td>\n",
       "      <td>...</td>\n",
       "      <td>0</td>\n",
       "      <td>0</td>\n",
       "      <td>1</td>\n",
       "      <td>1</td>\n",
       "      <td>0</td>\n",
       "      <td>0</td>\n",
       "      <td>1</td>\n",
       "      <td>0</td>\n",
       "      <td>0</td>\n",
       "      <td>0</td>\n",
       "    </tr>\n",
       "    <tr>\n",
       "      <td>2</td>\n",
       "      <td>108099</td>\n",
       "      <td>0</td>\n",
       "      <td>1</td>\n",
       "      <td>0</td>\n",
       "      <td>0</td>\n",
       "      <td>0</td>\n",
       "      <td>90000.0</td>\n",
       "      <td>348264.0</td>\n",
       "      <td>27513.0</td>\n",
       "      <td>315000.0</td>\n",
       "      <td>...</td>\n",
       "      <td>0</td>\n",
       "      <td>1</td>\n",
       "      <td>0</td>\n",
       "      <td>1</td>\n",
       "      <td>0</td>\n",
       "      <td>0</td>\n",
       "      <td>0</td>\n",
       "      <td>0</td>\n",
       "      <td>0</td>\n",
       "      <td>0</td>\n",
       "    </tr>\n",
       "    <tr>\n",
       "      <td>3</td>\n",
       "      <td>108100</td>\n",
       "      <td>0</td>\n",
       "      <td>0</td>\n",
       "      <td>1</td>\n",
       "      <td>0</td>\n",
       "      <td>0</td>\n",
       "      <td>45000.0</td>\n",
       "      <td>450000.0</td>\n",
       "      <td>21888.0</td>\n",
       "      <td>450000.0</td>\n",
       "      <td>...</td>\n",
       "      <td>0</td>\n",
       "      <td>1</td>\n",
       "      <td>0</td>\n",
       "      <td>1</td>\n",
       "      <td>0</td>\n",
       "      <td>0</td>\n",
       "      <td>0</td>\n",
       "      <td>1</td>\n",
       "      <td>2</td>\n",
       "      <td>0</td>\n",
       "    </tr>\n",
       "    <tr>\n",
       "      <td>4</td>\n",
       "      <td>123398</td>\n",
       "      <td>0</td>\n",
       "      <td>0</td>\n",
       "      <td>0</td>\n",
       "      <td>1</td>\n",
       "      <td>0</td>\n",
       "      <td>135000.0</td>\n",
       "      <td>450000.0</td>\n",
       "      <td>20979.0</td>\n",
       "      <td>450000.0</td>\n",
       "      <td>...</td>\n",
       "      <td>0</td>\n",
       "      <td>1</td>\n",
       "      <td>0</td>\n",
       "      <td>1</td>\n",
       "      <td>0</td>\n",
       "      <td>0</td>\n",
       "      <td>1</td>\n",
       "      <td>0</td>\n",
       "      <td>0</td>\n",
       "      <td>1</td>\n",
       "    </tr>\n",
       "  </tbody>\n",
       "</table>\n",
       "<p>5 rows × 42 columns</p>\n",
       "</div>"
      ],
      "text/plain": [
       "   sk_id_curr  target  is_male  flag_own_car  flag_own_realty  cnt_children  \\\n",
       "0      107904       0        0             0                0             1   \n",
       "1      107956       0        0             0                1             0   \n",
       "2      108099       0        1             0                0             0   \n",
       "3      108100       0        0             1                0             0   \n",
       "4      123398       0        0             0                1             0   \n",
       "\n",
       "   amt_income_total  amt_credit  amt_annuity  amt_goods_price  ...  \\\n",
       "0          135000.0    709879.5      36373.5         634500.0  ...   \n",
       "1          103500.0    263686.5      17298.0         238500.0  ...   \n",
       "2           90000.0    348264.0      27513.0         315000.0  ...   \n",
       "3           45000.0    450000.0      21888.0         450000.0  ...   \n",
       "4          135000.0    450000.0      20979.0         450000.0  ...   \n",
       "\n",
       "   applicant_completed_post_secondary  applicant_status_married  \\\n",
       "0                                   0                         1   \n",
       "1                                   0                         0   \n",
       "2                                   0                         1   \n",
       "3                                   0                         1   \n",
       "4                                   0                         1   \n",
       "\n",
       "   applicant_status_widowed  applicant_owns_house_apt  \\\n",
       "0                         0                         1   \n",
       "1                         1                         1   \n",
       "2                         0                         1   \n",
       "3                         0                         1   \n",
       "4                         0                         1   \n",
       "\n",
       "   applicant_currently_renting  applicant_living_w_parents  \\\n",
       "0                            0                           0   \n",
       "1                            0                           0   \n",
       "2                            0                           0   \n",
       "3                            0                           0   \n",
       "4                            0                           0   \n",
       "\n",
       "   applicant_occupation_service_ind  \\\n",
       "0                                 0   \n",
       "1                                 1   \n",
       "2                                 0   \n",
       "3                                 0   \n",
       "4                                 1   \n",
       "\n",
       "   applicant_occupation_working_professional  \\\n",
       "0                                          0   \n",
       "1                                          0   \n",
       "2                                          0   \n",
       "3                                          1   \n",
       "4                                          0   \n",
       "\n",
       "   credit_bureau_enquiries_past_year  application_start_date_weekend  \n",
       "0                                  2                               0  \n",
       "1                                  0                               0  \n",
       "2                                  0                               0  \n",
       "3                                  2                               0  \n",
       "4                                  0                               1  \n",
       "\n",
       "[5 rows x 42 columns]"
      ]
     },
     "execution_count": 98,
     "metadata": {},
     "output_type": "execute_result"
    }
   ],
   "source": [
    "applications_df.head()"
   ]
  },
  {
   "cell_type": "markdown",
   "metadata": {},
   "source": [
    "---"
   ]
  },
  {
   "cell_type": "markdown",
   "metadata": {},
   "source": [
    "# 2) EDA:"
   ]
  },
  {
   "cell_type": "markdown",
   "metadata": {},
   "source": [
    "### NOTES:\n",
    "* Remove all customers with income above \\$1M\n",
    "    * Some customers are multi-millionaires - don't want to include them in this specific anaylysis\n",
    "    * high volume of customers will be sub \\$1M\n",
    "    \n",
    "* "
   ]
  },
  {
   "cell_type": "markdown",
   "metadata": {},
   "source": [
    "---"
   ]
  },
  {
   "cell_type": "markdown",
   "metadata": {},
   "source": [
    "# 3) DATA CLASS IMBALANCES:\n",
    "Fix existing imbalances in data between classes: Target = 1 (default) vs. Target = 0 (don't default). With an imbalanced dataset, the accuracy of predictions will be high because the desired result we are trying to predict (in this case applicant's who will default on their home credit) occurs in very few situations. For this type of problem we need to focus more on improving \"recall\" in order to capture as many instances of default as possible. \n",
    "\n",
    "### Attempt the following Methods:  \n",
    "    1. Random Oversampling  \n",
    "    2. Synthetic Minority Oversampling Technique (SMOTE)  \n",
    "    3. Adaptive Syntethic Oversampling (ADASYN)  \n"
   ]
  },
  {
   "cell_type": "markdown",
   "metadata": {},
   "source": [
    "### Examine Class Balance in DataFrame:"
   ]
  },
  {
   "cell_type": "code",
   "execution_count": 99,
   "metadata": {},
   "outputs": [],
   "source": [
    "## Determine target split of data\n",
    "target_count = applications_df['target'].value_counts()"
   ]
  },
  {
   "cell_type": "code",
   "execution_count": 100,
   "metadata": {},
   "outputs": [
    {
     "name": "stdout",
     "output_type": "stream",
     "text": [
      "Class \"No Default Risk\": 282413\n",
      "Class \"Default Risk\": 24804\n",
      "Proportion: 11.39 : 1\n",
      "Percentage of Majority Class: 91.93\n"
     ]
    }
   ],
   "source": [
    "## Determine class balance of dataset\n",
    "print(f'Class \"No Default Risk\": {target_count[0]}')\n",
    "print(f'Class \"Default Risk\": {target_count[1]}')\n",
    "print(f'Proportion: {round(target_count[0] / target_count[1], 2)} : 1')\n",
    "print(f'Percentage of Majority Class: {round(target_count[0] / sum(target_count), 4)*100}')"
   ]
  },
  {
   "cell_type": "code",
   "execution_count": 101,
   "metadata": {},
   "outputs": [
    {
     "data": {
      "image/png": "[encoded data removed]",
      "text/plain": [
       "<Figure size 432x288 with 1 Axes>"
      ]
     },
     "metadata": {
      "needs_background": "light"
     },
     "output_type": "display_data"
    }
   ],
   "source": [
    "target_count.plot(kind='bar', title='Class Count', rot=0);"
   ]
  },
  {
   "cell_type": "markdown",
   "metadata": {},
   "source": [
    "## Create Training/ Test Split:"
   ]
  },
  {
   "cell_type": "code",
   "execution_count": 102,
   "metadata": {},
   "outputs": [],
   "source": [
    "X = applications_df.iloc[:, 2:]\n",
    "y = applications_df['target']\n",
    "X_train, X_test, y_train, y_test = train_test_split(X, y, test_size=0.2, random_state=40, stratify=y)"
   ]
  },
  {
   "cell_type": "markdown",
   "metadata": {},
   "source": [
    "## Random Oversampling:"
   ]
  },
  {
   "cell_type": "code",
   "execution_count": 103,
   "metadata": {},
   "outputs": [
    {
     "data": {
      "text/plain": [
       "Counter({0: 225930, 1: 225930})"
      ]
     },
     "execution_count": 103,
     "metadata": {},
     "output_type": "execute_result"
    }
   ],
   "source": [
    "## Class balance of Random Oversampling\n",
    "ros = RandomOverSampler(random_state=40)\n",
    "X_ros, y_ros = ros.fit_sample(X_train,y_train)\n",
    "Counter(y_ros)"
   ]
  },
  {
   "cell_type": "markdown",
   "metadata": {},
   "source": [
    "## SMOTE (Synthetic Minority Oversampling Technique):"
   ]
  },
  {
   "cell_type": "code",
   "execution_count": 104,
   "metadata": {},
   "outputs": [
    {
     "data": {
      "text/plain": [
       "Counter({0: 225930, 1: 225930})"
      ]
     },
     "execution_count": 104,
     "metadata": {},
     "output_type": "execute_result"
    }
   ],
   "source": [
    "## Class balance of SMOTE\n",
    "X_smote, y_smote = SMOTE(random_state=40).fit_sample(X_train,y_train)\n",
    "Counter(y_smote)"
   ]
  },
  {
   "cell_type": "markdown",
   "metadata": {},
   "source": [
    "## ADASYN (Adaptive Synthetic Oversampling):"
   ]
  },
  {
   "cell_type": "code",
   "execution_count": 105,
   "metadata": {},
   "outputs": [
    {
     "data": {
      "text/plain": [
       "Counter({0: 225930, 1: 228546})"
      ]
     },
     "execution_count": 105,
     "metadata": {},
     "output_type": "execute_result"
    }
   ],
   "source": [
    "## Class balanceof ASASYN\n",
    "## Places emphasis on regions where class imbalance is greatest\n",
    "## More likely to misclassify the majority class\n",
    "X_adasyn, y_adasyn = ADASYN(random_state=40).fit_sample(X_train,y_train)\n",
    "Counter(y_adasyn)"
   ]
  },
  {
   "cell_type": "markdown",
   "metadata": {},
   "source": [
    "# 4)  TEST MODELS:\n",
    "### For each model being tested ...\n",
    "\n",
    "1) Determine the F1, ROC, Precision and Recall Scores  \n",
    "2) Derive confusion matrix for each model"
   ]
  },
  {
   "cell_type": "code",
   "execution_count": 106,
   "metadata": {},
   "outputs": [],
   "source": [
    "## Standard Scale values for logstic regression\n",
    "scaler = StandardScaler()\n",
    "scaler.fit(X_adasyn)\n",
    "X_tr = scaler.transform(X_adasyn)\n",
    "X_te = scaler.transform(X_test)\n"
   ]
  },
  {
   "cell_type": "markdown",
   "metadata": {},
   "source": [
    "## Logistic Regression"
   ]
  },
  {
   "cell_type": "code",
   "execution_count": 419,
   "metadata": {},
   "outputs": [
    {
     "data": {
      "text/plain": [
       "LogisticRegression(C=100, class_weight={0: 1, 1: 1.2}, dual=False,\n",
       "                   fit_intercept=True, intercept_scaling=1, l1_ratio=None,\n",
       "                   max_iter=100, multi_class='warn', n_jobs=None, penalty='l2',\n",
       "                   random_state=None, solver='liblinear', tol=0.0001, verbose=0,\n",
       "                   warm_start=False)"
      ]
     },
     "execution_count": 419,
     "metadata": {},
     "output_type": "execute_result"
    }
   ],
   "source": [
    "## Fit model to scaled training values\n",
    "lm1 = LogisticRegression(solver= 'liblinear', C=100, class_weight={0:1, 1:1.2})\n",
    "lm1.fit(X_tr, y_adasyn)"
   ]
  },
  {
   "cell_type": "code",
   "execution_count": 420,
   "metadata": {
    "scrolled": true
   },
   "outputs": [
    {
     "name": "stdout",
     "output_type": "stream",
     "text": [
      "The score for Logistic Regression w/ Random Oversampling ...\n",
      "Training:  63.31%\n",
      "Test Set:  52.77%\n"
     ]
    }
   ],
   "source": [
    "print(\"The score for Logistic Regression w/ Random Oversampling ...\")\n",
    "print(\"Training: {:6.2f}%\".format(100*lm1.score(X_tr, y_adasyn)))\n",
    "print(\"Test Set: {:6.2f}%\".format(100*lm1.score(X_te, y_test)))"
   ]
  },
  {
   "cell_type": "code",
   "execution_count": 421,
   "metadata": {},
   "outputs": [
    {
     "data": {
      "text/html": [
       "<div>\n",
       "<style scoped>\n",
       "    .dataframe tbody tr th:only-of-type {\n",
       "        vertical-align: middle;\n",
       "    }\n",
       "\n",
       "    .dataframe tbody tr th {\n",
       "        vertical-align: top;\n",
       "    }\n",
       "\n",
       "    .dataframe thead th {\n",
       "        text-align: right;\n",
       "    }\n",
       "</style>\n",
       "<table border=\"1\" class=\"dataframe\">\n",
       "  <thead>\n",
       "    <tr style=\"text-align: right;\">\n",
       "      <th></th>\n",
       "      <th>No Risk</th>\n",
       "      <th>Risk</th>\n",
       "    </tr>\n",
       "  </thead>\n",
       "  <tbody>\n",
       "    <tr>\n",
       "      <td>No Risk</td>\n",
       "      <td>28844</td>\n",
       "      <td>27639</td>\n",
       "    </tr>\n",
       "    <tr>\n",
       "      <td>Risk</td>\n",
       "      <td>1383</td>\n",
       "      <td>3578</td>\n",
       "    </tr>\n",
       "  </tbody>\n",
       "</table>\n",
       "</div>"
      ],
      "text/plain": [
       "         No Risk   Risk\n",
       "No Risk    28844  27639\n",
       "Risk        1383   3578"
      ]
     },
     "execution_count": 421,
     "metadata": {},
     "output_type": "execute_result"
    }
   ],
   "source": [
    "logit_prediction = lm1.predict(X_te)\n",
    "pd.DataFrame(confusion_matrix(y_test, logit_prediction), index =['No Risk', 'Risk'], columns=['No Risk', 'Risk'])"
   ]
  },
  {
   "cell_type": "code",
   "execution_count": 422,
   "metadata": {
    "scrolled": false
   },
   "outputs": [
    {
     "name": "stdout",
     "output_type": "stream",
     "text": [
      "Precision: 0.1146\n",
      "Recall: 0.7212\n",
      "F1 Score: 0.1978\n",
      "ROC AUC Score: 0.6712\n"
     ]
    }
   ],
   "source": [
    "print(\"Precision: {:6.4f}\".format(precision_score(y_test, logit_prediction)))\n",
    "print(\"Recall: {:6.4f}\".format(recall_score(y_test, logit_prediction)))\n",
    "print(\"F1 Score: {:6.4f}\".format(f1_score(y_test, logit_prediction)))\n",
    "print(\"ROC AUC Score: {:6.4f}\".format(roc_auc_score(y_test, lm1.predict_proba(X_te)[:,1])))"
   ]
  },
  {
   "cell_type": "code",
   "execution_count": 423,
   "metadata": {},
   "outputs": [
    {
     "data": {
      "image/png": "[encoded data removed]",
      "text/plain": [
       "<Figure size 432x288 with 1 Axes>"
      ]
     },
     "metadata": {
      "needs_background": "light"
     },
     "output_type": "display_data"
    }
   ],
   "source": [
    "## Precision - Recall Curve Plot:\n",
    "precision, recall, threshold = precision_recall_curve(y_test, logit_prediction)\n",
    "step_kwargs = ({'step': 'post'}\n",
    "               if 'step' in signature(plt.fill_between).parameters\n",
    "               else {})\n",
    "plt.step(recall, precision, color='b', alpha=0.2,\n",
    "         where='post')\n",
    "plt.fill_between(recall, precision, alpha=0.2, color='b', **step_kwargs)\n",
    "\n",
    "plt.xlabel('Recall');\n",
    "plt.ylabel('Precision');"
   ]
  },
  {
   "cell_type": "markdown",
   "metadata": {},
   "source": [
    "**INCLUDE PLOT OF THRESHOLD (x) VS. PRECISION/RECALL (y)**"
   ]
  },
  {
   "cell_type": "markdown",
   "metadata": {},
   "source": [
    "#### FEATURE IMPORTANCE ANALYSIS:"
   ]
  },
  {
   "cell_type": "code",
   "execution_count": 401,
   "metadata": {},
   "outputs": [],
   "source": [
    "coefs = [math.exp(coef) for coef in lm1.coef_.tolist()[0]]\n",
    "features = list(X_train.columns.values)\n",
    "\n",
    "features_df = pd.DataFrame(coefs, columns=['Coefs']).reset_index()\n",
    "features_df['index'] = features\n",
    "features_df.sort_values(by=['Coefs'], ascending=True, inplace=True)\n",
    "features_df = features_df.loc[features_df['Coefs'].abs() > 0.05, :]\n",
    "features_df.reset_index(drop=True, inplace=True)"
   ]
  },
  {
   "cell_type": "code",
   "execution_count": 402,
   "metadata": {
    "scrolled": true
   },
   "outputs": [
    {
     "data": {
      "image/png": "[encoded data removed]",
      "text/plain": [
       "<Figure size 1800x1440 with 1 Axes>"
      ]
     },
     "metadata": {
      "needs_background": "light"
     },
     "output_type": "display_data"
    }
   ],
   "source": [
    "features_df.plot.barh(x='index', figsize=(25,20), fontsize=25, legend=False);\n"
   ]
  },
  {
   "cell_type": "code",
   "execution_count": null,
   "metadata": {},
   "outputs": [],
   "source": []
  },
  {
   "cell_type": "markdown",
   "metadata": {},
   "source": [
    "## kNN (k Nearest Neighbour):"
   ]
  },
  {
   "cell_type": "code",
   "execution_count": 122,
   "metadata": {},
   "outputs": [],
   "source": [
    "X_tr_sample = pd.DataFrame(X_tr).sample(n=10000, random_state=40)\n",
    "y_adasyn_sample = pd.DataFrame(y_adasyn).sample(n=10000, random_state=40).values"
   ]
  },
  {
   "cell_type": "code",
   "execution_count": 123,
   "metadata": {},
   "outputs": [
    {
     "name": "stderr",
     "output_type": "stream",
     "text": [
      "/Users/kbajina/opt/anaconda3/lib/python3.7/site-packages/ipykernel_launcher.py:2: DataConversionWarning: A column-vector y was passed when a 1d array was expected. Please change the shape of y to (n_samples, ), for example using ravel().\n",
      "  \n"
     ]
    },
    {
     "name": "stdout",
     "output_type": "stream",
     "text": [
      "The score for kNN ...\n",
      "Training:  83.49%\n",
      "Test set:  53.54%\n"
     ]
    }
   ],
   "source": [
    "knn = KNeighborsClassifier(n_neighbors=3)\n",
    "knn.fit(X_tr_sample, y_adasyn_sample)\n",
    "\n",
    "print(\"The score for kNN ...\")\n",
    "print(\"Training: {:6.2f}%\".format(100*knn.score(X_tr_sample, y_adasyn_sample)))\n",
    "print(\"Test set: {:6.2f}%\".format(100*knn.score(X_te, y_test)))"
   ]
  },
  {
   "cell_type": "code",
   "execution_count": 124,
   "metadata": {},
   "outputs": [
    {
     "data": {
      "text/html": [
       "<div>\n",
       "<style scoped>\n",
       "    .dataframe tbody tr th:only-of-type {\n",
       "        vertical-align: middle;\n",
       "    }\n",
       "\n",
       "    .dataframe tbody tr th {\n",
       "        vertical-align: top;\n",
       "    }\n",
       "\n",
       "    .dataframe thead th {\n",
       "        text-align: right;\n",
       "    }\n",
       "</style>\n",
       "<table border=\"1\" class=\"dataframe\">\n",
       "  <thead>\n",
       "    <tr style=\"text-align: right;\">\n",
       "      <th></th>\n",
       "      <th>No Risk</th>\n",
       "      <th>Risk</th>\n",
       "    </tr>\n",
       "  </thead>\n",
       "  <tbody>\n",
       "    <tr>\n",
       "      <td>No Risk</td>\n",
       "      <td>30100</td>\n",
       "      <td>26383</td>\n",
       "    </tr>\n",
       "    <tr>\n",
       "      <td>Risk</td>\n",
       "      <td>2165</td>\n",
       "      <td>2796</td>\n",
       "    </tr>\n",
       "  </tbody>\n",
       "</table>\n",
       "</div>"
      ],
      "text/plain": [
       "         No Risk   Risk\n",
       "No Risk    30100  26383\n",
       "Risk        2165   2796"
      ]
     },
     "execution_count": 124,
     "metadata": {},
     "output_type": "execute_result"
    }
   ],
   "source": [
    "knn_prediction = knn.predict(X_te)\n",
    "pd.DataFrame(confusion_matrix(y_test, knn_prediction), index =['No Risk', 'Risk'], columns=['No Risk', 'Risk'])"
   ]
  },
  {
   "cell_type": "code",
   "execution_count": 125,
   "metadata": {
    "scrolled": true
   },
   "outputs": [
    {
     "name": "stdout",
     "output_type": "stream",
     "text": [
      "Precision: 0.0958\n",
      "Recall: 0.5636\n",
      "F1 Score: 0.1638\n",
      "ROC AUC Score: 0.5623\n"
     ]
    }
   ],
   "source": [
    "print(\"Precision: {:6.4f}\".format(precision_score(y_test, knn_prediction)))\n",
    "print(\"Recall: {:6.4f}\".format(recall_score(y_test, knn_prediction)))\n",
    "print(\"F1 Score: {:6.4f}\".format(f1_score(y_test, knn_prediction)))\n",
    "print(\"ROC AUC Score: {:6.4f}\".format(roc_auc_score(y_test, knn.predict_proba(X_te)[:,1])))"
   ]
  },
  {
   "cell_type": "code",
   "execution_count": 126,
   "metadata": {},
   "outputs": [],
   "source": [
    "precision_curve, recall_curve, threshold_curve = precision_recall_curve(y_test, knn.predict_proba(X_te)[:,1] )"
   ]
  },
  {
   "cell_type": "code",
   "execution_count": 127,
   "metadata": {},
   "outputs": [
    {
     "data": {
      "text/html": [
       "<div>\n",
       "<style scoped>\n",
       "    .dataframe tbody tr th:only-of-type {\n",
       "        vertical-align: middle;\n",
       "    }\n",
       "\n",
       "    .dataframe tbody tr th {\n",
       "        vertical-align: top;\n",
       "    }\n",
       "\n",
       "    .dataframe thead th {\n",
       "        text-align: right;\n",
       "    }\n",
       "</style>\n",
       "<table border=\"1\" class=\"dataframe\">\n",
       "  <thead>\n",
       "    <tr style=\"text-align: right;\">\n",
       "      <th></th>\n",
       "      <th>precision</th>\n",
       "      <th>recall</th>\n",
       "      <th>threshhold</th>\n",
       "    </tr>\n",
       "  </thead>\n",
       "  <tbody>\n",
       "    <tr>\n",
       "      <td>0</td>\n",
       "      <td>0.080740</td>\n",
       "      <td>1.000000</td>\n",
       "      <td>0.000000</td>\n",
       "    </tr>\n",
       "    <tr>\n",
       "      <td>1</td>\n",
       "      <td>0.086824</td>\n",
       "      <td>0.874017</td>\n",
       "      <td>0.333333</td>\n",
       "    </tr>\n",
       "    <tr>\n",
       "      <td>2</td>\n",
       "      <td>0.095822</td>\n",
       "      <td>0.563596</td>\n",
       "      <td>0.666667</td>\n",
       "    </tr>\n",
       "    <tr>\n",
       "      <td>3</td>\n",
       "      <td>0.107387</td>\n",
       "      <td>0.199557</td>\n",
       "      <td>1.000000</td>\n",
       "    </tr>\n",
       "  </tbody>\n",
       "</table>\n",
       "</div>"
      ],
      "text/plain": [
       "   precision    recall  threshhold\n",
       "0   0.080740  1.000000    0.000000\n",
       "1   0.086824  0.874017    0.333333\n",
       "2   0.095822  0.563596    0.666667\n",
       "3   0.107387  0.199557    1.000000"
      ]
     },
     "execution_count": 127,
     "metadata": {},
     "output_type": "execute_result"
    }
   ],
   "source": [
    "pd.DataFrame(list(zip(precision_curve, recall_curve, threshold_curve)),\n",
    "              columns=['precision','recall', 'threshhold'])"
   ]
  },
  {
   "cell_type": "markdown",
   "metadata": {},
   "source": [
    "## SVM (Support Vector Machines):"
   ]
  },
  {
   "cell_type": "code",
   "execution_count": 372,
   "metadata": {},
   "outputs": [
    {
     "name": "stderr",
     "output_type": "stream",
     "text": [
      "/Users/kbajina/opt/anaconda3/lib/python3.7/site-packages/sklearn/utils/validation.py:724: DataConversionWarning: A column-vector y was passed when a 1d array was expected. Please change the shape of y to (n_samples, ), for example using ravel().\n",
      "  y = column_or_1d(y, warn=True)\n"
     ]
    },
    {
     "name": "stdout",
     "output_type": "stream",
     "text": [
      "The score for SVM ...\n",
      "Training:  64.26%\n",
      "Test set:  57.23%\n"
     ]
    }
   ],
   "source": [
    "svm = svm.SVC(kernel=\"linear\", probability=True)\n",
    "svm.fit(X_tr_sample, y_adasyn_sample)\n",
    "\n",
    "print(\"The score for SVM ...\")\n",
    "print(\"Training: {:6.2f}%\".format(100*svm.score(X_tr_sample, y_adasyn_sample)))\n",
    "print(\"Test set: {:6.2f}%\".format(100*svm.score(X_te, y_test)))"
   ]
  },
  {
   "cell_type": "code",
   "execution_count": 374,
   "metadata": {},
   "outputs": [
    {
     "data": {
      "text/html": [
       "<div>\n",
       "<style scoped>\n",
       "    .dataframe tbody tr th:only-of-type {\n",
       "        vertical-align: middle;\n",
       "    }\n",
       "\n",
       "    .dataframe tbody tr th {\n",
       "        vertical-align: top;\n",
       "    }\n",
       "\n",
       "    .dataframe thead th {\n",
       "        text-align: right;\n",
       "    }\n",
       "</style>\n",
       "<table border=\"1\" class=\"dataframe\">\n",
       "  <thead>\n",
       "    <tr style=\"text-align: right;\">\n",
       "      <th></th>\n",
       "      <th>No Risk</th>\n",
       "      <th>Risk</th>\n",
       "    </tr>\n",
       "  </thead>\n",
       "  <tbody>\n",
       "    <tr>\n",
       "      <td>No Risk</td>\n",
       "      <td>31791</td>\n",
       "      <td>24692</td>\n",
       "    </tr>\n",
       "    <tr>\n",
       "      <td>Risk</td>\n",
       "      <td>1585</td>\n",
       "      <td>3376</td>\n",
       "    </tr>\n",
       "  </tbody>\n",
       "</table>\n",
       "</div>"
      ],
      "text/plain": [
       "         No Risk   Risk\n",
       "No Risk    31791  24692\n",
       "Risk        1585   3376"
      ]
     },
     "execution_count": 374,
     "metadata": {},
     "output_type": "execute_result"
    }
   ],
   "source": [
    "svm_prediction = svm.predict(X_te)\n",
    "pd.DataFrame(confusion_matrix(y_test, svm_prediction), index =['No Risk', 'Risk'], columns=['No Risk', 'Risk'])"
   ]
  },
  {
   "cell_type": "code",
   "execution_count": 375,
   "metadata": {
    "scrolled": true
   },
   "outputs": [
    {
     "name": "stdout",
     "output_type": "stream",
     "text": [
      "Precision: 0.1203\n",
      "Recall: 0.6805\n",
      "F1 Score: 0.2044\n",
      "ROC AUC Score: 0.6699\n"
     ]
    }
   ],
   "source": [
    "print(\"Precision: {:6.4f}\".format(precision_score(y_test, svm_prediction)))\n",
    "print(\"Recall: {:6.4f}\".format(recall_score(y_test, svm_prediction)))\n",
    "print(\"F1 Score: {:6.4f}\".format(f1_score(y_test, svm_prediction)))\n",
    "print(\"ROC AUC Score: {:6.4f}\".format(roc_auc_score(y_test, svm.predict_proba(X_te)[:,1])))"
   ]
  },
  {
   "cell_type": "markdown",
   "metadata": {},
   "source": [
    "## NAIVE BAYES:"
   ]
  },
  {
   "cell_type": "code",
   "execution_count": 302,
   "metadata": {},
   "outputs": [
    {
     "name": "stdout",
     "output_type": "stream",
     "text": [
      "The score for Naive Bayes ...\n",
      "Training:  49.73%\n",
      "Test set:  89.36%\n"
     ]
    }
   ],
   "source": [
    "nb = GaussianNB()\n",
    "nb.fit(X_adasyn, y_adasyn)\n",
    "\n",
    "\n",
    "print(\"The score for Naive Bayes ...\")\n",
    "print(\"Training: {:6.2f}%\".format(100*nb.score(X_adasyn, y_adasyn)))\n",
    "print(\"Test set: {:6.2f}%\".format(100*nb.score(X_test, y_test)))"
   ]
  },
  {
   "cell_type": "code",
   "execution_count": 303,
   "metadata": {},
   "outputs": [
    {
     "data": {
      "text/html": [
       "<div>\n",
       "<style scoped>\n",
       "    .dataframe tbody tr th:only-of-type {\n",
       "        vertical-align: middle;\n",
       "    }\n",
       "\n",
       "    .dataframe tbody tr th {\n",
       "        vertical-align: top;\n",
       "    }\n",
       "\n",
       "    .dataframe thead th {\n",
       "        text-align: right;\n",
       "    }\n",
       "</style>\n",
       "<table border=\"1\" class=\"dataframe\">\n",
       "  <thead>\n",
       "    <tr style=\"text-align: right;\">\n",
       "      <th></th>\n",
       "      <th>No Risk</th>\n",
       "      <th>Risk</th>\n",
       "    </tr>\n",
       "  </thead>\n",
       "  <tbody>\n",
       "    <tr>\n",
       "      <td>No Risk</td>\n",
       "      <td>54767</td>\n",
       "      <td>1716</td>\n",
       "    </tr>\n",
       "    <tr>\n",
       "      <td>Risk</td>\n",
       "      <td>4820</td>\n",
       "      <td>141</td>\n",
       "    </tr>\n",
       "  </tbody>\n",
       "</table>\n",
       "</div>"
      ],
      "text/plain": [
       "         No Risk  Risk\n",
       "No Risk    54767  1716\n",
       "Risk        4820   141"
      ]
     },
     "execution_count": 303,
     "metadata": {},
     "output_type": "execute_result"
    }
   ],
   "source": [
    "nb_prediction = nb.predict(X_test)\n",
    "pd.DataFrame(confusion_matrix(y_test, nb_prediction), index =['No Risk', 'Risk'], columns=['No Risk', 'Risk'])"
   ]
  },
  {
   "cell_type": "code",
   "execution_count": 304,
   "metadata": {},
   "outputs": [
    {
     "name": "stdout",
     "output_type": "stream",
     "text": [
      "Precision: 0.0759\n",
      "Recall: 0.0284\n",
      "F1 Score: 0.0414\n",
      "ROC AUC Score: 0.5890\n"
     ]
    }
   ],
   "source": [
    "print(\"Precision: {:6.4f}\".format(precision_score(y_test, nb_prediction)))\n",
    "print(\"Recall: {:6.4f}\".format(recall_score(y_test, nb_prediction)))\n",
    "print(\"F1 Score: {:6.4f}\".format(f1_score(y_test, nb_prediction)))\n",
    "print(\"ROC AUC Score: {:6.4f}\".format(roc_auc_score(y_test, nb.predict_proba(X_test)[:,1])))"
   ]
  },
  {
   "cell_type": "markdown",
   "metadata": {},
   "source": [
    "## RANDOM FORESTS:"
   ]
  },
  {
   "cell_type": "code",
   "execution_count": 367,
   "metadata": {},
   "outputs": [
    {
     "name": "stdout",
     "output_type": "stream",
     "text": [
      "The score for Random Forests ...\n",
      "Training:  73.23%\n",
      "Test set:  51.25%\n"
     ]
    }
   ],
   "source": [
    "rand_for = RandomForestClassifier(n_estimators=100, max_features=10, max_depth=5, random_state=40, \n",
    "                                  class_weight={0: 1, 1: 3})\n",
    "\n",
    "rand_for.fit(X_adasyn, y_adasyn)\n",
    "\n",
    "print(\"The score for Random Forests ...\")\n",
    "print(\"Training: {:6.2f}%\".format(100*rand_for.score(X_adasyn, y_adasyn)))\n",
    "print(\"Test set: {:6.2f}%\".format(100*rand_for.score(X_test, y_test)))"
   ]
  },
  {
   "cell_type": "code",
   "execution_count": 368,
   "metadata": {},
   "outputs": [
    {
     "data": {
      "text/html": [
       "<div>\n",
       "<style scoped>\n",
       "    .dataframe tbody tr th:only-of-type {\n",
       "        vertical-align: middle;\n",
       "    }\n",
       "\n",
       "    .dataframe tbody tr th {\n",
       "        vertical-align: top;\n",
       "    }\n",
       "\n",
       "    .dataframe thead th {\n",
       "        text-align: right;\n",
       "    }\n",
       "</style>\n",
       "<table border=\"1\" class=\"dataframe\">\n",
       "  <thead>\n",
       "    <tr style=\"text-align: right;\">\n",
       "      <th></th>\n",
       "      <th>No Risk</th>\n",
       "      <th>Risk</th>\n",
       "    </tr>\n",
       "  </thead>\n",
       "  <tbody>\n",
       "    <tr>\n",
       "      <td>No Risk</td>\n",
       "      <td>28179</td>\n",
       "      <td>28304</td>\n",
       "    </tr>\n",
       "    <tr>\n",
       "      <td>Risk</td>\n",
       "      <td>1653</td>\n",
       "      <td>3308</td>\n",
       "    </tr>\n",
       "  </tbody>\n",
       "</table>\n",
       "</div>"
      ],
      "text/plain": [
       "         No Risk   Risk\n",
       "No Risk    28179  28304\n",
       "Risk        1653   3308"
      ]
     },
     "execution_count": 368,
     "metadata": {},
     "output_type": "execute_result"
    }
   ],
   "source": [
    "rf_prediction = rand_for.predict(X_test)\n",
    "pd.DataFrame(confusion_matrix(y_test, rf_prediction), index =['No Risk', 'Risk'], columns=['No Risk', 'Risk'])"
   ]
  },
  {
   "cell_type": "code",
   "execution_count": 369,
   "metadata": {},
   "outputs": [
    {
     "name": "stdout",
     "output_type": "stream",
     "text": [
      "Precision: 0.1046\n",
      "Recall: 0.6668\n",
      "F1 Score: 0.1809\n",
      "ROC AUC Score: 0.5836\n"
     ]
    }
   ],
   "source": [
    "print(\"Precision: {:6.4f}\".format(precision_score(y_test, rf_prediction)))\n",
    "print(\"Recall: {:6.4f}\".format(recall_score(y_test, rf_prediction)))\n",
    "print(\"F1 Score: {:6.4f}\".format(f1_score(y_test, rf_prediction)))\n",
    "print(\"ROC AUC Score: {:6.4f}\".format(roc_auc_score(y_test, rand_for.predict_proba(X_te)[:,1])))"
   ]
  },
  {
   "cell_type": "markdown",
   "metadata": {},
   "source": [
    "## XGB BOOST:"
   ]
  },
  {
   "cell_type": "code",
   "execution_count": 391,
   "metadata": {
    "scrolled": true
   },
   "outputs": [
    {
     "data": {
      "text/plain": [
       "XGBRegressor(alpha=10, base_score=0.5, booster='gbtree', colsample_bylevel=1,\n",
       "             colsample_bynode=1, colsample_bytree=0.3, gamma=0,\n",
       "             importance_type='gain', learning_rate=0.1, max_delta_step=0,\n",
       "             max_depth=5, min_child_weight=1, missing=None, n_estimators=10,\n",
       "             n_jobs=1, nthread=None, objective='reg:logistic', random_state=0,\n",
       "             reg_alpha=0, reg_lambda=1, scale_pos_weight=1, seed=None,\n",
       "             silent=None, subsample=1, verbosity=1)"
      ]
     },
     "execution_count": 391,
     "metadata": {},
     "output_type": "execute_result"
    }
   ],
   "source": [
    "xg = xgb.XGBRegressor(objective ='reg:logistic', colsample_bytree = 0.3, learning_rate = 0.1,\n",
    "                max_depth = 5, alpha = 10, n_estimators = 10)\n",
    "\n",
    "xg.fit(X_adasyn, y_adasyn)"
   ]
  },
  {
   "cell_type": "code",
   "execution_count": 398,
   "metadata": {},
   "outputs": [
    {
     "data": {
      "text/plain": [
       "(454476, 40)"
      ]
     },
     "execution_count": 398,
     "metadata": {},
     "output_type": "execute_result"
    }
   ],
   "source": [
    "X_adasyn.shape"
   ]
  },
  {
   "cell_type": "code",
   "execution_count": 399,
   "metadata": {},
   "outputs": [
    {
     "data": {
      "text/plain": [
       "(454476,)"
      ]
     },
     "execution_count": 399,
     "metadata": {},
     "output_type": "execute_result"
    }
   ],
   "source": [
    "y_adasyn.shape"
   ]
  },
  {
   "cell_type": "code",
   "execution_count": 396,
   "metadata": {},
   "outputs": [
    {
     "ename": "ValueError",
     "evalue": "Classification metrics can't handle a mix of binary and continuous targets",
     "output_type": "error",
     "traceback": [
      "\u001b[0;31m---------------------------------------------------------------------------\u001b[0m",
      "\u001b[0;31mValueError\u001b[0m                                Traceback (most recent call last)",
      "\u001b[0;32m<ipython-input-396-474f2d8bf525>\u001b[0m in \u001b[0;36m<module>\u001b[0;34m\u001b[0m\n\u001b[1;32m      1\u001b[0m \u001b[0mxg_prediction\u001b[0m \u001b[0;34m=\u001b[0m \u001b[0mxg\u001b[0m\u001b[0;34m.\u001b[0m\u001b[0mpredict\u001b[0m\u001b[0;34m(\u001b[0m\u001b[0mnp\u001b[0m\u001b[0;34m.\u001b[0m\u001b[0marray\u001b[0m\u001b[0;34m(\u001b[0m\u001b[0mX_test\u001b[0m\u001b[0;34m)\u001b[0m\u001b[0;34m)\u001b[0m\u001b[0;34m\u001b[0m\u001b[0;34m\u001b[0m\u001b[0m\n\u001b[0;32m----> 2\u001b[0;31m \u001b[0mpd\u001b[0m\u001b[0;34m.\u001b[0m\u001b[0mDataFrame\u001b[0m\u001b[0;34m(\u001b[0m\u001b[0mconfusion_matrix\u001b[0m\u001b[0;34m(\u001b[0m\u001b[0mnp\u001b[0m\u001b[0;34m.\u001b[0m\u001b[0marray\u001b[0m\u001b[0;34m(\u001b[0m\u001b[0my_test\u001b[0m\u001b[0;34m)\u001b[0m\u001b[0;34m,\u001b[0m \u001b[0mxg_prediction\u001b[0m\u001b[0;34m)\u001b[0m\u001b[0;34m,\u001b[0m \u001b[0mindex\u001b[0m \u001b[0;34m=\u001b[0m\u001b[0;34m[\u001b[0m\u001b[0;34m'No Risk'\u001b[0m\u001b[0;34m,\u001b[0m \u001b[0;34m'Risk'\u001b[0m\u001b[0;34m]\u001b[0m\u001b[0;34m,\u001b[0m \u001b[0mcolumns\u001b[0m\u001b[0;34m=\u001b[0m\u001b[0;34m[\u001b[0m\u001b[0;34m'No Risk'\u001b[0m\u001b[0;34m,\u001b[0m \u001b[0;34m'Risk'\u001b[0m\u001b[0;34m]\u001b[0m\u001b[0;34m)\u001b[0m\u001b[0;34m\u001b[0m\u001b[0;34m\u001b[0m\u001b[0m\n\u001b[0m",
      "\u001b[0;32m~/opt/anaconda3/lib/python3.7/site-packages/sklearn/metrics/classification.py\u001b[0m in \u001b[0;36mconfusion_matrix\u001b[0;34m(y_true, y_pred, labels, sample_weight)\u001b[0m\n\u001b[1;32m    251\u001b[0m \u001b[0;34m\u001b[0m\u001b[0m\n\u001b[1;32m    252\u001b[0m     \"\"\"\n\u001b[0;32m--> 253\u001b[0;31m     \u001b[0my_type\u001b[0m\u001b[0;34m,\u001b[0m \u001b[0my_true\u001b[0m\u001b[0;34m,\u001b[0m \u001b[0my_pred\u001b[0m \u001b[0;34m=\u001b[0m \u001b[0m_check_targets\u001b[0m\u001b[0;34m(\u001b[0m\u001b[0my_true\u001b[0m\u001b[0;34m,\u001b[0m \u001b[0my_pred\u001b[0m\u001b[0;34m)\u001b[0m\u001b[0;34m\u001b[0m\u001b[0;34m\u001b[0m\u001b[0m\n\u001b[0m\u001b[1;32m    254\u001b[0m     \u001b[0;32mif\u001b[0m \u001b[0my_type\u001b[0m \u001b[0;32mnot\u001b[0m \u001b[0;32min\u001b[0m \u001b[0;34m(\u001b[0m\u001b[0;34m\"binary\"\u001b[0m\u001b[0;34m,\u001b[0m \u001b[0;34m\"multiclass\"\u001b[0m\u001b[0;34m)\u001b[0m\u001b[0;34m:\u001b[0m\u001b[0;34m\u001b[0m\u001b[0;34m\u001b[0m\u001b[0m\n\u001b[1;32m    255\u001b[0m         \u001b[0;32mraise\u001b[0m \u001b[0mValueError\u001b[0m\u001b[0;34m(\u001b[0m\u001b[0;34m\"%s is not supported\"\u001b[0m \u001b[0;34m%\u001b[0m \u001b[0my_type\u001b[0m\u001b[0;34m)\u001b[0m\u001b[0;34m\u001b[0m\u001b[0;34m\u001b[0m\u001b[0m\n",
      "\u001b[0;32m~/opt/anaconda3/lib/python3.7/site-packages/sklearn/metrics/classification.py\u001b[0m in \u001b[0;36m_check_targets\u001b[0;34m(y_true, y_pred)\u001b[0m\n\u001b[1;32m     79\u001b[0m     \u001b[0;32mif\u001b[0m \u001b[0mlen\u001b[0m\u001b[0;34m(\u001b[0m\u001b[0my_type\u001b[0m\u001b[0;34m)\u001b[0m \u001b[0;34m>\u001b[0m \u001b[0;36m1\u001b[0m\u001b[0;34m:\u001b[0m\u001b[0;34m\u001b[0m\u001b[0;34m\u001b[0m\u001b[0m\n\u001b[1;32m     80\u001b[0m         raise ValueError(\"Classification metrics can't handle a mix of {0} \"\n\u001b[0;32m---> 81\u001b[0;31m                          \"and {1} targets\".format(type_true, type_pred))\n\u001b[0m\u001b[1;32m     82\u001b[0m \u001b[0;34m\u001b[0m\u001b[0m\n\u001b[1;32m     83\u001b[0m     \u001b[0;31m# We can't have more than one value on y_type => The set is no more needed\u001b[0m\u001b[0;34m\u001b[0m\u001b[0;34m\u001b[0m\u001b[0;34m\u001b[0m\u001b[0m\n",
      "\u001b[0;31mValueError\u001b[0m: Classification metrics can't handle a mix of binary and continuous targets"
     ]
    }
   ],
   "source": [
    "xg_prediction = xg.predict(np.array(X_test))\n",
    "pd.DataFrame(confusion_matrix(np.array(y_test), xg_prediction), index =['No Risk', 'Risk'], columns=['No Risk', 'Risk'])"
   ]
  },
  {
   "cell_type": "code",
   "execution_count": 395,
   "metadata": {},
   "outputs": [
    {
     "data": {
      "text/plain": [
       "array([0.3089365 , 0.31947753, 0.474815  , ..., 0.2937806 , 0.39072573,\n",
       "       0.4111571 ], dtype=float32)"
      ]
     },
     "execution_count": 395,
     "metadata": {},
     "output_type": "execute_result"
    }
   ],
   "source": [
    "xg_prediction"
   ]
  },
  {
   "cell_type": "code",
   "execution_count": null,
   "metadata": {},
   "outputs": [],
   "source": []
  },
  {
   "cell_type": "markdown",
   "metadata": {},
   "source": [
    "**FEATURE IMPORTANCE:**\n",
    "* Tree-Based:\n",
    "    * based on Gini Impurity\n",
    "    * only indicates which features are important to the model; not which direction\n",
    "    \n",
    "* Logistic Regression:\n",
    "    * look at the beta coefficient values\n",
    "    * used to determine the importance and affect on the prediction (for each feature)\n",
    "    * beta coefficients associated with log odds (proportional to the probability of that feature \n",
    "    * could transform them back to probability scale\n",
    "    * beta coefficeint close to 0 has almost no bearing on predicting the minority or majority class"
   ]
  },
  {
   "cell_type": "markdown",
   "metadata": {},
   "source": [
    "**NEED TO IMPLEMENT KFOLD CROSS VALIDATION:**\n",
    "* StratifiedKFold (...)\n",
    "* need to implement the oversampling method during this cross validation process\n",
    "* ADASYN should only be implemented on \"training\" data, NOT \"validation\"\n",
    "* complete this within a \"for loop\"  "
   ]
  },
  {
   "cell_type": "markdown",
   "metadata": {},
   "source": [
    "**TO IMPROVE MODEL PERFORMACNE:**  \n",
    "* adjust \"class_weight\" to focus model fitting more on the minority class (to focus on recall)\n",
    "\n",
    "\n",
    "**TO IMPROVE FINAL MODEL:**\n",
    "* use predict_proba to help pick a threshold and explain the business case behind this\n",
    "* determine the various costs associated with bank credit default risks"
   ]
  },
  {
   "cell_type": "markdown",
   "metadata": {},
   "source": [
    "---"
   ]
  },
  {
   "cell_type": "markdown",
   "metadata": {},
   "source": [
    "# 5) COMPARE MODELS:\n",
    "Compare ROC curves for all the above models to determine a base-line model to work with."
   ]
  },
  {
   "cell_type": "code",
   "execution_count": 427,
   "metadata": {},
   "outputs": [
    {
     "ename": "AttributeError",
     "evalue": "module 'sklearn.svm' has no attribute 'predict_proba'",
     "output_type": "error",
     "traceback": [
      "\u001b[0;31m---------------------------------------------------------------------------\u001b[0m",
      "\u001b[0;31mAttributeError\u001b[0m                            Traceback (most recent call last)",
      "\u001b[0;32m<ipython-input-427-ee9af98c74db>\u001b[0m in \u001b[0;36m<module>\u001b[0;34m\u001b[0m\n\u001b[1;32m      4\u001b[0m \u001b[0mknn_fpr\u001b[0m\u001b[0;34m,\u001b[0m \u001b[0mknn_tpr\u001b[0m\u001b[0;34m,\u001b[0m \u001b[0mknn_thresholds\u001b[0m \u001b[0;34m=\u001b[0m \u001b[0mroc_curve\u001b[0m\u001b[0;34m(\u001b[0m\u001b[0my_test\u001b[0m\u001b[0;34m,\u001b[0m \u001b[0mknn\u001b[0m\u001b[0;34m.\u001b[0m\u001b[0mpredict_proba\u001b[0m\u001b[0;34m(\u001b[0m\u001b[0mX_te\u001b[0m\u001b[0;34m)\u001b[0m\u001b[0;34m[\u001b[0m\u001b[0;34m:\u001b[0m\u001b[0;34m,\u001b[0m\u001b[0;36m1\u001b[0m\u001b[0;34m]\u001b[0m\u001b[0;34m)\u001b[0m\u001b[0;34m\u001b[0m\u001b[0;34m\u001b[0m\u001b[0m\n\u001b[1;32m      5\u001b[0m \u001b[0;34m\u001b[0m\u001b[0m\n\u001b[0;32m----> 6\u001b[0;31m \u001b[0msvm_fpr\u001b[0m\u001b[0;34m,\u001b[0m \u001b[0msvm_tpr\u001b[0m\u001b[0;34m,\u001b[0m \u001b[0msvm_thresholds\u001b[0m \u001b[0;34m=\u001b[0m \u001b[0mroc_curve\u001b[0m\u001b[0;34m(\u001b[0m\u001b[0my_test\u001b[0m\u001b[0;34m,\u001b[0m \u001b[0msvm\u001b[0m\u001b[0;34m.\u001b[0m\u001b[0mpredict_proba\u001b[0m\u001b[0;34m(\u001b[0m\u001b[0mX_te\u001b[0m\u001b[0;34m)\u001b[0m\u001b[0;34m[\u001b[0m\u001b[0;34m:\u001b[0m\u001b[0;34m,\u001b[0m\u001b[0;36m1\u001b[0m\u001b[0;34m]\u001b[0m\u001b[0;34m)\u001b[0m\u001b[0;34m\u001b[0m\u001b[0;34m\u001b[0m\u001b[0m\n\u001b[0m\u001b[1;32m      7\u001b[0m \u001b[0;34m\u001b[0m\u001b[0m\n\u001b[1;32m      8\u001b[0m \u001b[0mnb_fpr\u001b[0m\u001b[0;34m,\u001b[0m \u001b[0mnb_tpr\u001b[0m\u001b[0;34m,\u001b[0m \u001b[0mnb_thresholds\u001b[0m \u001b[0;34m=\u001b[0m \u001b[0mroc_curve\u001b[0m\u001b[0;34m(\u001b[0m\u001b[0my_test\u001b[0m\u001b[0;34m,\u001b[0m \u001b[0mnb\u001b[0m\u001b[0;34m.\u001b[0m\u001b[0mpredict_proba\u001b[0m\u001b[0;34m(\u001b[0m\u001b[0mX_te\u001b[0m\u001b[0;34m)\u001b[0m\u001b[0;34m[\u001b[0m\u001b[0;34m:\u001b[0m\u001b[0;34m,\u001b[0m\u001b[0;36m1\u001b[0m\u001b[0;34m]\u001b[0m\u001b[0;34m)\u001b[0m\u001b[0;34m\u001b[0m\u001b[0;34m\u001b[0m\u001b[0m\n",
      "\u001b[0;31mAttributeError\u001b[0m: module 'sklearn.svm' has no attribute 'predict_proba'"
     ]
    }
   ],
   "source": [
    "## ROC Curve data for each model above\n",
    "log_fpr, log_tpr, log_thresholds = roc_curve(y_test, lm1.predict_proba(X_te)[:,1])\n",
    "\n",
    "knn_fpr, knn_tpr, knn_thresholds = roc_curve(y_test, knn.predict_proba(X_te)[:,1])\n",
    "\n",
    "svm_fpr, svm_tpr, svm_thresholds = roc_curve(y_test, svm.predict_proba(X_te)[:,1])\n",
    "\n",
    "nb_fpr, nb_tpr, nb_thresholds = roc_curve(y_test, nb.predict_proba(X_te)[:,1])\n",
    "\n",
    "rf_fpr, rf_tpr, rf_thresholds = roc_curve(y_test, rand_for.predict_proba(X_te)[:,1])"
   ]
  },
  {
   "cell_type": "code",
   "execution_count": null,
   "metadata": {},
   "outputs": [],
   "source": [
    "plt.plot(log_fpr, log_tpr, lw=2, color='red', label='Logstic')\n",
    "\n",
    "plt.plot(knn_fpr, knn_tpr, lw=2, color='green', label=\"kNN\")\n",
    "\n",
    "plt.plot(svm_fpr, svm_tpr, lw=2, color='orange', label=\"SVM\")\n",
    "\n",
    "plt.plot(nb_fpr, nb_tpr, lw=2, color='purple', label=\"Naive Bayes\")\n",
    "\n",
    "plt.plot(rf_fpr, rf_tpr, lw=2, color='blue', label=\"Random Forest\")\n",
    "\n",
    "plt.plot([0,1],[0,1],c='violet',ls='--', lw=1)\n",
    "plt.xlim([-0.05,1.05])\n",
    "plt.ylim([-0.05,1.05])\n",
    "\n",
    "\n",
    "plt.xlabel('False Positive Rate')\n",
    "plt.ylabel('True Positive Rate')\n",
    "plt.title('ROC Curve for Default Risk');\n",
    "plt.legend();"
   ]
  },
  {
   "cell_type": "code",
   "execution_count": null,
   "metadata": {},
   "outputs": [],
   "source": [
    "models = {'Logistic':logit_prediction, 'kNN':knn_prediction, 'SVM':svm_prediction, \n",
    "          'Naive Bayes':nb_prediction, 'Random Forest':rf_prediction}\n",
    "\n",
    "results_dict = defaultdict(list)\n",
    "\n",
    "for model in models:\n",
    "    results_dict['model'].append(model)\n",
    "    results_dict['precision'].append(precision_score(y_test, models[model]))\n",
    "    results_dict['recall'].append(recall_score(y_test, models[model]))\n",
    "    results_dict['f1_score'].append(f1_score(y_test, models[model]))\n",
    "    results_dict['auc_score'].append(roc_auc_score(y_test, models[model]))"
   ]
  },
  {
   "cell_type": "code",
   "execution_count": null,
   "metadata": {},
   "outputs": [],
   "source": [
    "model_results = pd.DataFrame(results_dict).sort_values('f1_score', ascending=False).reset_index(drop=True)"
   ]
  },
  {
   "cell_type": "code",
   "execution_count": null,
   "metadata": {},
   "outputs": [],
   "source": [
    "model_results"
   ]
  },
  {
   "cell_type": "markdown",
   "metadata": {},
   "source": [
    "---"
   ]
  },
  {
   "cell_type": "markdown",
   "metadata": {},
   "source": [
    "---"
   ]
  }
 ],
 "metadata": {
  "kernelspec": {
   "display_name": "Python 3",
   "language": "python",
   "name": "python3"
  },
  "language_info": {
   "codemirror_mode": {
    "name": "ipython",
    "version": 3
   },
   "file_extension": ".py",
   "mimetype": "text/x-python",
   "name": "python",
   "nbconvert_exporter": "python",
   "pygments_lexer": "ipython3",
   "version": "3.7.4"
  }
 },
 "nbformat": 4,
 "nbformat_minor": 2
}

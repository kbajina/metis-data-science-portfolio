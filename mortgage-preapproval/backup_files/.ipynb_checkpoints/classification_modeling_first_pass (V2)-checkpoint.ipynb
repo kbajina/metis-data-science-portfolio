{
 "cells": [
  {
   "cell_type": "markdown",
   "metadata": {},
   "source": [
    "# CLASSIFICATION MODELING:\n",
    "This workbook will be used to examine the classification problem of home credit default risk. We want to detemrine how likey a specific applicant is to default on a loan based on a variety of features from to their loan application.\n"
   ]
  },
  {
   "cell_type": "code",
   "execution_count": 1,
   "metadata": {},
   "outputs": [],
   "source": [
    "## Common Python Modules:\n",
    "import pandas as pd\n",
    "import numpy as np\n",
    "from collections import Counter\n",
    "\n",
    "## SQL Integration:\n",
    "#import psycopg2\n",
    "from sqlalchemy import create_engine\n",
    "\n",
    "## Class Imbalance Modules:\n",
    "from imblearn.over_sampling import RandomOverSampler\n",
    "from imblearn.over_sampling import SMOTE\n",
    "from imblearn.over_sampling import ADASYN\n",
    "\n",
    "## Classification Modules:\n",
    "from sklearn.model_selection import train_test_split\n",
    "from sklearn.preprocessing import StandardScaler\n",
    "from sklearn.linear_model import LogisticRegression\n",
    "from sklearn.neighbors import KNeighborsClassifier\n",
    "from sklearn import svm #import LinearSVC, SVC\n",
    "from xgboost import XGBClassifier\n",
    "\n",
    "from sklearn.metrics import precision_score, recall_score, accuracy_score, roc_auc_score\n",
    "from sklearn.metrics import precision_recall_curve,f1_score, fbeta_score\n",
    "from sklearn.metrics import confusion_matrix\n",
    "from sklearn.datasets import make_classification\n",
    "from sklearn.naive_bayes import GaussianNB\n",
    "\n",
    "\n",
    "## Plotting Modules:\n",
    "import matplotlib.pyplot as plt\n",
    "from inspect import signature\n",
    "import seaborn as sns\n",
    "from mlxtend.plotting import plot_decision_regions\n",
    "plt.style.use('ggplot')\n",
    "\n",
    "%matplotlib inline"
   ]
  },
  {
   "cell_type": "markdown",
   "metadata": {},
   "source": [
    "---"
   ]
  },
  {
   "cell_type": "markdown",
   "metadata": {},
   "source": [
    "# 1) DATA COLLECTION:"
   ]
  },
  {
   "cell_type": "code",
   "execution_count": 2,
   "metadata": {},
   "outputs": [],
   "source": [
    "## Create engine to connect with PostgreSQL Database\n",
    "#engine = create_engine('postgresql://kbajina:@localhost/home_credit_default_risk')"
   ]
  },
  {
   "cell_type": "markdown",
   "metadata": {},
   "source": [
    "Data cleaned in PostgreSQL and exported to .csv file for use in Jupyter Notebooks."
   ]
  },
  {
   "cell_type": "markdown",
   "metadata": {},
   "source": [
    "## Import Data from .csv"
   ]
  },
  {
   "cell_type": "code",
   "execution_count": 3,
   "metadata": {},
   "outputs": [],
   "source": [
    "applications_data = '/Users/kbajina/Documents/DATA SCIENCE/Metis | Data Science Bootcamp/Metis Project Portfolio/Metis-Proj-3-classification/data_files/home-credit-default-risk/applications_cleaned.csv'\n",
    "applications_df = pd.read_csv(applications_data)"
   ]
  },
  {
   "cell_type": "code",
   "execution_count": 4,
   "metadata": {},
   "outputs": [
    {
     "name": "stdout",
     "output_type": "stream",
     "text": [
      "<class 'pandas.core.frame.DataFrame'>\n",
      "RangeIndex: 307217 entries, 0 to 307216\n",
      "Data columns (total 42 columns):\n",
      "sk_id_curr                                   307217 non-null int64\n",
      "target                                       307217 non-null int64\n",
      "is_male                                      307217 non-null int64\n",
      "flag_own_car                                 307217 non-null int64\n",
      "flag_own_realty                              307217 non-null int64\n",
      "cnt_children                                 307217 non-null int64\n",
      "amt_income_total                             307217 non-null float64\n",
      "amt_credit                                   307217 non-null float64\n",
      "amt_annuity                                  307217 non-null float64\n",
      "amt_goods_price                              307217 non-null float64\n",
      "applicant_age_years                          307217 non-null int64\n",
      "applicant_years_employed                     307217 non-null int64\n",
      "days_registration                            307217 non-null float64\n",
      "days_id_publish                              307217 non-null int64\n",
      "own_car_age                                  307217 non-null int64\n",
      "flag_mobil                                   307217 non-null int64\n",
      "flag_emp_phone                               307217 non-null int64\n",
      "flag_work_phone                              307217 non-null int64\n",
      "flag_cont_mobile                             307217 non-null int64\n",
      "flag_phone                                   307217 non-null int64\n",
      "flag_email                                   307217 non-null int64\n",
      "cnt_fam_members                              307217 non-null int64\n",
      "region_rating_client                         307217 non-null int64\n",
      "hour_appr_process_start                      307217 non-null int64\n",
      "obs_30_cnt_social_circle                     307217 non-null int64\n",
      "def_30_cnt_social_circle                     307217 non-null int64\n",
      "obs_60_cnt_social_circle                     307217 non-null int64\n",
      "def_60_cnt_social_circle                     307217 non-null int64\n",
      "cash_loan                                    307217 non-null int64\n",
      "loan_beyond_purchase_price                   307217 non-null float64\n",
      "applicant_not_working                        307217 non-null int64\n",
      "applicant_working                            307217 non-null int64\n",
      "applicant_completed_post_secondary           307217 non-null int64\n",
      "applicant_status_married                     307217 non-null int64\n",
      "applicant_status_widowed                     307217 non-null int64\n",
      "applicant_owns_house_apt                     307217 non-null int64\n",
      "applicant_currently_renting                  307217 non-null int64\n",
      "applicant_living_w_parents                   307217 non-null int64\n",
      "applicant_occupation_service_ind             307217 non-null int64\n",
      "applicant_occupation_working_professional    307217 non-null int64\n",
      "credit_bureau_enquiries_past_year            307217 non-null int64\n",
      "application_start_date_weekend               307217 non-null int64\n",
      "dtypes: float64(6), int64(36)\n",
      "memory usage: 98.4 MB\n"
     ]
    }
   ],
   "source": [
    "applications_df.info()"
   ]
  },
  {
   "cell_type": "code",
   "execution_count": 5,
   "metadata": {
    "scrolled": false
   },
   "outputs": [
    {
     "data": {
      "text/html": [
       "<div>\n",
       "<style scoped>\n",
       "    .dataframe tbody tr th:only-of-type {\n",
       "        vertical-align: middle;\n",
       "    }\n",
       "\n",
       "    .dataframe tbody tr th {\n",
       "        vertical-align: top;\n",
       "    }\n",
       "\n",
       "    .dataframe thead th {\n",
       "        text-align: right;\n",
       "    }\n",
       "</style>\n",
       "<table border=\"1\" class=\"dataframe\">\n",
       "  <thead>\n",
       "    <tr style=\"text-align: right;\">\n",
       "      <th></th>\n",
       "      <th>sk_id_curr</th>\n",
       "      <th>target</th>\n",
       "      <th>is_male</th>\n",
       "      <th>flag_own_car</th>\n",
       "      <th>flag_own_realty</th>\n",
       "      <th>cnt_children</th>\n",
       "      <th>amt_income_total</th>\n",
       "      <th>amt_credit</th>\n",
       "      <th>amt_annuity</th>\n",
       "      <th>amt_goods_price</th>\n",
       "      <th>...</th>\n",
       "      <th>applicant_completed_post_secondary</th>\n",
       "      <th>applicant_status_married</th>\n",
       "      <th>applicant_status_widowed</th>\n",
       "      <th>applicant_owns_house_apt</th>\n",
       "      <th>applicant_currently_renting</th>\n",
       "      <th>applicant_living_w_parents</th>\n",
       "      <th>applicant_occupation_service_ind</th>\n",
       "      <th>applicant_occupation_working_professional</th>\n",
       "      <th>credit_bureau_enquiries_past_year</th>\n",
       "      <th>application_start_date_weekend</th>\n",
       "    </tr>\n",
       "  </thead>\n",
       "  <tbody>\n",
       "    <tr>\n",
       "      <td>0</td>\n",
       "      <td>107904</td>\n",
       "      <td>0</td>\n",
       "      <td>0</td>\n",
       "      <td>0</td>\n",
       "      <td>0</td>\n",
       "      <td>1</td>\n",
       "      <td>135000.0</td>\n",
       "      <td>709879.5</td>\n",
       "      <td>36373.5</td>\n",
       "      <td>634500.0</td>\n",
       "      <td>...</td>\n",
       "      <td>0</td>\n",
       "      <td>1</td>\n",
       "      <td>0</td>\n",
       "      <td>1</td>\n",
       "      <td>0</td>\n",
       "      <td>0</td>\n",
       "      <td>0</td>\n",
       "      <td>0</td>\n",
       "      <td>2</td>\n",
       "      <td>0</td>\n",
       "    </tr>\n",
       "    <tr>\n",
       "      <td>1</td>\n",
       "      <td>107956</td>\n",
       "      <td>0</td>\n",
       "      <td>0</td>\n",
       "      <td>0</td>\n",
       "      <td>1</td>\n",
       "      <td>0</td>\n",
       "      <td>103500.0</td>\n",
       "      <td>263686.5</td>\n",
       "      <td>17298.0</td>\n",
       "      <td>238500.0</td>\n",
       "      <td>...</td>\n",
       "      <td>0</td>\n",
       "      <td>0</td>\n",
       "      <td>1</td>\n",
       "      <td>1</td>\n",
       "      <td>0</td>\n",
       "      <td>0</td>\n",
       "      <td>1</td>\n",
       "      <td>0</td>\n",
       "      <td>0</td>\n",
       "      <td>0</td>\n",
       "    </tr>\n",
       "    <tr>\n",
       "      <td>2</td>\n",
       "      <td>108099</td>\n",
       "      <td>0</td>\n",
       "      <td>1</td>\n",
       "      <td>0</td>\n",
       "      <td>0</td>\n",
       "      <td>0</td>\n",
       "      <td>90000.0</td>\n",
       "      <td>348264.0</td>\n",
       "      <td>27513.0</td>\n",
       "      <td>315000.0</td>\n",
       "      <td>...</td>\n",
       "      <td>0</td>\n",
       "      <td>1</td>\n",
       "      <td>0</td>\n",
       "      <td>1</td>\n",
       "      <td>0</td>\n",
       "      <td>0</td>\n",
       "      <td>0</td>\n",
       "      <td>0</td>\n",
       "      <td>0</td>\n",
       "      <td>0</td>\n",
       "    </tr>\n",
       "    <tr>\n",
       "      <td>3</td>\n",
       "      <td>108100</td>\n",
       "      <td>0</td>\n",
       "      <td>0</td>\n",
       "      <td>1</td>\n",
       "      <td>0</td>\n",
       "      <td>0</td>\n",
       "      <td>45000.0</td>\n",
       "      <td>450000.0</td>\n",
       "      <td>21888.0</td>\n",
       "      <td>450000.0</td>\n",
       "      <td>...</td>\n",
       "      <td>0</td>\n",
       "      <td>1</td>\n",
       "      <td>0</td>\n",
       "      <td>1</td>\n",
       "      <td>0</td>\n",
       "      <td>0</td>\n",
       "      <td>0</td>\n",
       "      <td>1</td>\n",
       "      <td>2</td>\n",
       "      <td>0</td>\n",
       "    </tr>\n",
       "    <tr>\n",
       "      <td>4</td>\n",
       "      <td>123398</td>\n",
       "      <td>0</td>\n",
       "      <td>0</td>\n",
       "      <td>0</td>\n",
       "      <td>1</td>\n",
       "      <td>0</td>\n",
       "      <td>135000.0</td>\n",
       "      <td>450000.0</td>\n",
       "      <td>20979.0</td>\n",
       "      <td>450000.0</td>\n",
       "      <td>...</td>\n",
       "      <td>0</td>\n",
       "      <td>1</td>\n",
       "      <td>0</td>\n",
       "      <td>1</td>\n",
       "      <td>0</td>\n",
       "      <td>0</td>\n",
       "      <td>1</td>\n",
       "      <td>0</td>\n",
       "      <td>0</td>\n",
       "      <td>1</td>\n",
       "    </tr>\n",
       "  </tbody>\n",
       "</table>\n",
       "<p>5 rows × 42 columns</p>\n",
       "</div>"
      ],
      "text/plain": [
       "   sk_id_curr  target  is_male  flag_own_car  flag_own_realty  cnt_children  \\\n",
       "0      107904       0        0             0                0             1   \n",
       "1      107956       0        0             0                1             0   \n",
       "2      108099       0        1             0                0             0   \n",
       "3      108100       0        0             1                0             0   \n",
       "4      123398       0        0             0                1             0   \n",
       "\n",
       "   amt_income_total  amt_credit  amt_annuity  amt_goods_price  ...  \\\n",
       "0          135000.0    709879.5      36373.5         634500.0  ...   \n",
       "1          103500.0    263686.5      17298.0         238500.0  ...   \n",
       "2           90000.0    348264.0      27513.0         315000.0  ...   \n",
       "3           45000.0    450000.0      21888.0         450000.0  ...   \n",
       "4          135000.0    450000.0      20979.0         450000.0  ...   \n",
       "\n",
       "   applicant_completed_post_secondary  applicant_status_married  \\\n",
       "0                                   0                         1   \n",
       "1                                   0                         0   \n",
       "2                                   0                         1   \n",
       "3                                   0                         1   \n",
       "4                                   0                         1   \n",
       "\n",
       "   applicant_status_widowed  applicant_owns_house_apt  \\\n",
       "0                         0                         1   \n",
       "1                         1                         1   \n",
       "2                         0                         1   \n",
       "3                         0                         1   \n",
       "4                         0                         1   \n",
       "\n",
       "   applicant_currently_renting  applicant_living_w_parents  \\\n",
       "0                            0                           0   \n",
       "1                            0                           0   \n",
       "2                            0                           0   \n",
       "3                            0                           0   \n",
       "4                            0                           0   \n",
       "\n",
       "   applicant_occupation_service_ind  \\\n",
       "0                                 0   \n",
       "1                                 1   \n",
       "2                                 0   \n",
       "3                                 0   \n",
       "4                                 1   \n",
       "\n",
       "   applicant_occupation_working_professional  \\\n",
       "0                                          0   \n",
       "1                                          0   \n",
       "2                                          0   \n",
       "3                                          1   \n",
       "4                                          0   \n",
       "\n",
       "   credit_bureau_enquiries_past_year  application_start_date_weekend  \n",
       "0                                  2                               0  \n",
       "1                                  0                               0  \n",
       "2                                  0                               0  \n",
       "3                                  2                               0  \n",
       "4                                  0                               1  \n",
       "\n",
       "[5 rows x 42 columns]"
      ]
     },
     "execution_count": 5,
     "metadata": {},
     "output_type": "execute_result"
    }
   ],
   "source": [
    "applications_df.head()"
   ]
  },
  {
   "cell_type": "markdown",
   "metadata": {},
   "source": [
    "## Create Training/ Test Split:"
   ]
  },
  {
   "cell_type": "code",
   "execution_count": 6,
   "metadata": {},
   "outputs": [],
   "source": [
    "X = applications_df.iloc[:, 2:]\n",
    "y = applications_df['target']\n",
    "X_train, X_test, y_train, y_test = train_test_split(X, y, test_size=0.2, random_state=40, stratify=y)"
   ]
  },
  {
   "cell_type": "markdown",
   "metadata": {},
   "source": [
    "---"
   ]
  },
  {
   "cell_type": "markdown",
   "metadata": {},
   "source": [
    "# 2)  COMPARING MODELLING:\n",
    "### For each model being tested ...\n",
    "\n",
    "1) Determine the F1 Score and the ROC Score  \n",
    "2) Plot the ROC curve for all models to compare  \n",
    "3) Derive confusion matrix for each model"
   ]
  },
  {
   "cell_type": "code",
   "execution_count": 7,
   "metadata": {},
   "outputs": [],
   "source": [
    "## Standard Scale values for logstic regression\n",
    "scaler = StandardScaler()\n",
    "scaler.fit(X_train)\n",
    "X_tr = scaler.transform(X_train)\n",
    "X_te = scaler.transform(X_test)\n"
   ]
  },
  {
   "cell_type": "markdown",
   "metadata": {},
   "source": [
    "## Logistic Regression"
   ]
  },
  {
   "cell_type": "code",
   "execution_count": 8,
   "metadata": {},
   "outputs": [
    {
     "data": {
      "text/plain": [
       "LogisticRegression(C=100, class_weight=None, dual=False, fit_intercept=True,\n",
       "                   intercept_scaling=1, l1_ratio=None, max_iter=100,\n",
       "                   multi_class='warn', n_jobs=None, penalty='l2',\n",
       "                   random_state=None, solver='liblinear', tol=0.0001, verbose=0,\n",
       "                   warm_start=False)"
      ]
     },
     "execution_count": 8,
     "metadata": {},
     "output_type": "execute_result"
    }
   ],
   "source": [
    "## Fit model to scaled training values\n",
    "lm1 = LogisticRegression(solver= 'liblinear', C=100)\n",
    "lm1.fit(X_tr, y_train)"
   ]
  },
  {
   "cell_type": "code",
   "execution_count": 9,
   "metadata": {
    "scrolled": true
   },
   "outputs": [
    {
     "name": "stdout",
     "output_type": "stream",
     "text": [
      "The score for Logistic Regression w/ Random Oversampling ...\n",
      "Training:  91.93%\n",
      "Test Set:  91.92%\n"
     ]
    }
   ],
   "source": [
    "print(\"The score for Logistic Regression w/ Random Oversampling ...\")\n",
    "print(\"Training: {:6.2f}%\".format(100*lm1.score(X_tr, y_train)))\n",
    "print(\"Test Set: {:6.2f}%\".format(100*lm1.score(X_te, y_test)))"
   ]
  },
  {
   "cell_type": "code",
   "execution_count": 10,
   "metadata": {},
   "outputs": [
    {
     "data": {
      "text/html": [
       "<div>\n",
       "<style scoped>\n",
       "    .dataframe tbody tr th:only-of-type {\n",
       "        vertical-align: middle;\n",
       "    }\n",
       "\n",
       "    .dataframe tbody tr th {\n",
       "        vertical-align: top;\n",
       "    }\n",
       "\n",
       "    .dataframe thead th {\n",
       "        text-align: right;\n",
       "    }\n",
       "</style>\n",
       "<table border=\"1\" class=\"dataframe\">\n",
       "  <thead>\n",
       "    <tr style=\"text-align: right;\">\n",
       "      <th></th>\n",
       "      <th>No Risk</th>\n",
       "      <th>Risk</th>\n",
       "    </tr>\n",
       "  </thead>\n",
       "  <tbody>\n",
       "    <tr>\n",
       "      <td>No Risk</td>\n",
       "      <td>56482</td>\n",
       "      <td>1</td>\n",
       "    </tr>\n",
       "    <tr>\n",
       "      <td>Risk</td>\n",
       "      <td>4961</td>\n",
       "      <td>0</td>\n",
       "    </tr>\n",
       "  </tbody>\n",
       "</table>\n",
       "</div>"
      ],
      "text/plain": [
       "         No Risk  Risk\n",
       "No Risk    56482     1\n",
       "Risk        4961     0"
      ]
     },
     "execution_count": 10,
     "metadata": {},
     "output_type": "execute_result"
    }
   ],
   "source": [
    "logit_prediction = lm1.predict(X_te)\n",
    "pd.DataFrame(confusion_matrix(y_test, logit_prediction), index =['No Risk', 'Risk'], columns=['No Risk', 'Risk'])"
   ]
  },
  {
   "cell_type": "code",
   "execution_count": 11,
   "metadata": {},
   "outputs": [
    {
     "name": "stdout",
     "output_type": "stream",
     "text": [
      "Precision: 0.0000\n",
      "Recall: 0.0000\n",
      "F1 Score: 0.0000\n",
      "ROC AUC Score: 0.6724\n"
     ]
    },
    {
     "data": {
      "image/png": "[encoded data removed]",
      "text/plain": [
       "<Figure size 432x288 with 1 Axes>"
      ]
     },
     "metadata": {
      "needs_background": "light"
     },
     "output_type": "display_data"
    }
   ],
   "source": [
    "print(\"Precision: {:6.4f}\".format(precision_score(y_test, logit_prediction)))\n",
    "print(\"Recall: {:6.4f}\".format(recall_score(y_test, logit_prediction)))\n",
    "print(\"F1 Score: {:6.4f}\".format(f1_score(y_test, logit_prediction)))\n",
    "print(\"ROC AUC Score: {:6.4f}\".format(roc_auc_score(y_test, lm1.predict_proba(X_te)[:,1])))\n",
    "\n",
    "## Precision - Recall Curve Plot:\n",
    "precision, recall, threshold = precision_recall_curve(y_test, logit_prediction)\n",
    "step_kwargs = ({'step': 'post'}\n",
    "               if 'step' in signature(plt.fill_between).parameters\n",
    "               else {})\n",
    "plt.step(recall, precision, color='b', alpha=0.2,\n",
    "         where='post')\n",
    "plt.fill_between(recall, precision, alpha=0.2, color='b', **step_kwargs)\n",
    "\n",
    "plt.xlabel('Recall');\n",
    "plt.ylabel('Precision');"
   ]
  },
  {
   "cell_type": "markdown",
   "metadata": {},
   "source": [
    "## kNN (k Nearest Neighbour):"
   ]
  },
  {
   "cell_type": "code",
   "execution_count": 13,
   "metadata": {},
   "outputs": [
    {
     "name": "stdout",
     "output_type": "stream",
     "text": [
      "The score for kNN ...\n",
      "Training:  92.82%\n",
      "Test set:  91.26%\n"
     ]
    }
   ],
   "source": [
    "knn = KNeighborsClassifier(n_neighbors=2)\n",
    "knn.fit(X_tr, y_train)\n",
    "\n",
    "print(\"The score for kNN ...\")\n",
    "print(\"Training: {:6.2f}%\".format(100*knn.score(X_tr, y_train)))\n",
    "print(\"Test set: {:6.2f}%\".format(100*knn.score(X_te, y_test)))"
   ]
  },
  {
   "cell_type": "code",
   "execution_count": 14,
   "metadata": {},
   "outputs": [
    {
     "data": {
      "text/html": [
       "<div>\n",
       "<style scoped>\n",
       "    .dataframe tbody tr th:only-of-type {\n",
       "        vertical-align: middle;\n",
       "    }\n",
       "\n",
       "    .dataframe tbody tr th {\n",
       "        vertical-align: top;\n",
       "    }\n",
       "\n",
       "    .dataframe thead th {\n",
       "        text-align: right;\n",
       "    }\n",
       "</style>\n",
       "<table border=\"1\" class=\"dataframe\">\n",
       "  <thead>\n",
       "    <tr style=\"text-align: right;\">\n",
       "      <th></th>\n",
       "      <th>No Risk</th>\n",
       "      <th>Risk</th>\n",
       "    </tr>\n",
       "  </thead>\n",
       "  <tbody>\n",
       "    <tr>\n",
       "      <td>No Risk</td>\n",
       "      <td>56001</td>\n",
       "      <td>482</td>\n",
       "    </tr>\n",
       "    <tr>\n",
       "      <td>Risk</td>\n",
       "      <td>4887</td>\n",
       "      <td>74</td>\n",
       "    </tr>\n",
       "  </tbody>\n",
       "</table>\n",
       "</div>"
      ],
      "text/plain": [
       "         No Risk  Risk\n",
       "No Risk    56001   482\n",
       "Risk        4887    74"
      ]
     },
     "execution_count": 14,
     "metadata": {},
     "output_type": "execute_result"
    }
   ],
   "source": [
    "knn_prediction = knn.predict(X_te)\n",
    "pd.DataFrame(confusion_matrix(y_test, knn_prediction), index =['No Risk', 'Risk'], columns=['No Risk', 'Risk'])"
   ]
  },
  {
   "cell_type": "code",
   "execution_count": 15,
   "metadata": {},
   "outputs": [
    {
     "name": "stdout",
     "output_type": "stream",
     "text": [
      "Precision: 0.1331\n",
      "Recall: 0.0149\n",
      "F1 Score: 0.0268\n",
      "ROC AUC Score: 0.5078\n"
     ]
    }
   ],
   "source": [
    "print(\"Precision: {:6.4f}\".format(precision_score(y_test, knn_prediction)))\n",
    "print(\"Recall: {:6.4f}\".format(recall_score(y_test, knn_prediction)))\n",
    "print(\"F1 Score: {:6.4f}\".format(f1_score(y_test, knn_prediction)))\n",
    "print(\"ROC AUC Score: {:6.4f}\".format(roc_auc_score(y_test, knn.predict_proba(X_test)[:,1])))"
   ]
  },
  {
   "cell_type": "markdown",
   "metadata": {},
   "source": [
    "## SVM (Support Vector Machines):"
   ]
  },
  {
   "cell_type": "code",
   "execution_count": null,
   "metadata": {},
   "outputs": [],
   "source": [
    "svm = svm.SVC(kernel=\"linear\")\n",
    "svm.fit(X_tr, y_train)\n",
    "\n",
    "print(\"The score for SVM ...\")\n",
    "print(\"Training: {:6.2f}%\".format(100*svm.score(X_tr, y_train)))\n",
    "print(\"Test set: {:6.2f}%\".format(100*svm.score(X_te, y_test)))"
   ]
  },
  {
   "cell_type": "code",
   "execution_count": null,
   "metadata": {},
   "outputs": [],
   "source": [
    "svm_prediction = svm.predict(X_te)\n",
    "pd.DataFrame(confusion_matrix(y_test, svm_prediction), index =['No Risk', 'Risk'], columns=['No Risk', 'Risk'])"
   ]
  },
  {
   "cell_type": "code",
   "execution_count": null,
   "metadata": {},
   "outputs": [],
   "source": [
    "print(\"Precision: {:6.4f}\".format(precision_score(y_test, svm_prediction)))\n",
    "print(\"Recall: {:6.4f}\".format(recall_score(y_test, svm_prediction)))\n",
    "print(\"F1 Score: {:6.4f}\".format(f1_score(y_test, svm_prediction)))\n",
    "print(\"ROC AUC Score: {:6.4f}\".format(roc_auc_score(y_test, svm.predict_proba(X_test)[:,1])))"
   ]
  },
  {
   "cell_type": "markdown",
   "metadata": {},
   "source": [
    "## RANDOM FORESTS:"
   ]
  },
  {
   "cell_type": "code",
   "execution_count": null,
   "metadata": {},
   "outputs": [],
   "source": []
  },
  {
   "cell_type": "markdown",
   "metadata": {},
   "source": [
    "## XGB BOOST:"
   ]
  },
  {
   "cell_type": "code",
   "execution_count": null,
   "metadata": {},
   "outputs": [],
   "source": []
  },
  {
   "cell_type": "code",
   "execution_count": null,
   "metadata": {},
   "outputs": [],
   "source": []
  },
  {
   "cell_type": "markdown",
   "metadata": {},
   "source": []
  },
  {
   "cell_type": "markdown",
   "metadata": {},
   "source": [
    "---"
   ]
  },
  {
   "cell_type": "markdown",
   "metadata": {},
   "source": [
    "# 3) DATA CLASS IMBALANCES:\n",
    "Fix existing imbalances in data between classes: Target = 1 (default) vs. Target = 0 (don't default). With an imbalanced dataset, the accuracy of predictions will be high because the desired result we are trying to predict (in this case applicant's who will default on their home credit) occurs in very few situations. For this type of problem we need to focus more on improving \"recall\" in order to capture as many instances of default as possible. \n",
    "\n",
    "### Attempt the following Methods:  \n",
    "    1. Random Oversampling  \n",
    "    2. Synthetic Minority Oversampling Technique (SMOTE)  \n",
    "    3. Adaptive Syntethic Oversampling (ADASYN)  \n"
   ]
  },
  {
   "cell_type": "markdown",
   "metadata": {},
   "source": [
    "### Examine Class Balance in DataFrame:"
   ]
  },
  {
   "cell_type": "code",
   "execution_count": 26,
   "metadata": {},
   "outputs": [],
   "source": [
    "## Determine target split of data\n",
    "target_count = applications_df['target'].value_counts()"
   ]
  },
  {
   "cell_type": "code",
   "execution_count": 32,
   "metadata": {},
   "outputs": [
    {
     "name": "stdout",
     "output_type": "stream",
     "text": [
      "Class \"No Default Risk\": 282413\n",
      "Class \"Default Risk\": 24804\n",
      "Proportion: 11.39 : 1\n",
      "Percentage of Majority Class: 91.93\n"
     ]
    }
   ],
   "source": [
    "## Determine class balance of dataset\n",
    "print(f'Class \"No Default Risk\": {target_count[0]}')\n",
    "print(f'Class \"Default Risk\": {target_count[1]}')\n",
    "print(f'Proportion: {round(target_count[0] / target_count[1], 2)} : 1')\n",
    "print(f'Percentage of Majority Class: {round(target_count[0] / sum(target_count), 4)*100}')"
   ]
  },
  {
   "cell_type": "code",
   "execution_count": 40,
   "metadata": {},
   "outputs": [
    {
     "data": {
      "image/png": "[encoded data removed]",
      "text/plain": [
       "<Figure size 432x288 with 1 Axes>"
      ]
     },
     "metadata": {
      "needs_background": "light"
     },
     "output_type": "display_data"
    }
   ],
   "source": [
    "target_count.plot(kind='bar', title='Class Count', rot=0);"
   ]
  },
  {
   "cell_type": "markdown",
   "metadata": {},
   "source": [
    "## Random Oversampling:"
   ]
  },
  {
   "cell_type": "code",
   "execution_count": 43,
   "metadata": {},
   "outputs": [
    {
     "data": {
      "text/plain": [
       "Counter({0: 225930, 1: 225930})"
      ]
     },
     "execution_count": 43,
     "metadata": {},
     "output_type": "execute_result"
    }
   ],
   "source": [
    "## Class balance of Random Oversampling\n",
    "ros = RandomOverSampler(random_state=40)\n",
    "X_ros, y_ros = ros.fit_sample(X_train,y_train)\n",
    "Counter(y_ros)"
   ]
  },
  {
   "cell_type": "markdown",
   "metadata": {},
   "source": [
    "## SMOTE (Synthetic Minority Oversampling Technique):"
   ]
  },
  {
   "cell_type": "code",
   "execution_count": 45,
   "metadata": {},
   "outputs": [
    {
     "data": {
      "text/plain": [
       "Counter({0: 225930, 1: 225930})"
      ]
     },
     "execution_count": 45,
     "metadata": {},
     "output_type": "execute_result"
    }
   ],
   "source": [
    "## Class balance of SMOTE\n",
    "X_smote, y_smote = SMOTE(random_state=40).fit_sample(X_train,y_train)\n",
    "Counter(y_smote)"
   ]
  },
  {
   "cell_type": "markdown",
   "metadata": {},
   "source": [
    "## ADASYN (Adaptive Synthetic Oversampling):"
   ]
  },
  {
   "cell_type": "code",
   "execution_count": 47,
   "metadata": {},
   "outputs": [
    {
     "data": {
      "text/plain": [
       "Counter({0: 225930, 1: 228546})"
      ]
     },
     "execution_count": 47,
     "metadata": {},
     "output_type": "execute_result"
    }
   ],
   "source": [
    "## Class balanceof ASASYN\n",
    "## Places emphasis on regions where class imbalance is greatest\n",
    "## More likely to misclassify the majority class\n",
    "X_adasyn, y_adasyn = ADASYN(random_state=40).fit_sample(X_train,y_train)\n",
    "Counter(y_adasyn)"
   ]
  },
  {
   "cell_type": "markdown",
   "metadata": {},
   "source": [
    "---"
   ]
  }
 ],
 "metadata": {
  "kernelspec": {
   "display_name": "Python 3",
   "language": "python",
   "name": "python3"
  },
  "language_info": {
   "codemirror_mode": {
    "name": "ipython",
    "version": 3
   },
   "file_extension": ".py",
   "mimetype": "text/x-python",
   "name": "python",
   "nbconvert_exporter": "python",
   "pygments_lexer": "ipython3",
   "version": "3.7.4"
  }
 },
 "nbformat": 4,
 "nbformat_minor": 2
}

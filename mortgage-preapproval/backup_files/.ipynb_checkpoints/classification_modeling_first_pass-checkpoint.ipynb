{
 "cells": [
  {
   "cell_type": "markdown",
   "metadata": {},
   "source": [
    "# CLASSIFICATION MODELING:\n",
    "This workbook will be used to examine the classification problem of home credit default risk. We want to detemrine how likey a specific applicant is to default on a loan based on a variety of features from to their loan application.\n"
   ]
  },
  {
   "cell_type": "code",
   "execution_count": 142,
   "metadata": {},
   "outputs": [],
   "source": [
    "## Common Python Modules:\n",
    "import pandas as pd\n",
    "import numpy as np\n",
    "from collections import Counter\n",
    "\n",
    "## SQL Integration:\n",
    "#import psycopg2\n",
    "from sqlalchemy import create_engine\n",
    "\n",
    "## Class Imbalance Modules:\n",
    "from imblearn.over_sampling import RandomOverSampler\n",
    "from imblearn.over_sampling import SMOTE\n",
    "from imblearn.over_sampling import ADASYN\n",
    "\n",
    "## Classification Modules:\n",
    "from sklearn.model_selection import train_test_split\n",
    "from sklearn.preprocessing import StandardScaler\n",
    "from sklearn.linear_model import LogisticRegression\n",
    "from sklearn.neighbors import KNeighborsClassifier\n",
    "from sklearn.svm import LinearSVC, SVC\n",
    "from xgboost import XGBClassifier\n",
    "\n",
    "from sklearn.metrics import precision_score, recall_score, accuracy_score, roc_auc_score\n",
    "from sklearn.metrics import accuracy_score, confusion_matrix\n",
    "from sklearn.datasets import make_classification\n",
    "from sklearn.naive_bayes import GaussianNB\n",
    "\n",
    "\n",
    "## Plotting Modules:\n",
    "import matplotlib.pyplot as plt\n",
    "import seaborn as sns\n",
    "from mlxtend.plotting import plot_decision_regions\n",
    "plt.style.use('ggplot')\n",
    "\n",
    "%matplotlib inline"
   ]
  },
  {
   "cell_type": "markdown",
   "metadata": {},
   "source": [
    "---"
   ]
  },
  {
   "cell_type": "markdown",
   "metadata": {},
   "source": [
    "# 1) DATA COLLECTION:"
   ]
  },
  {
   "cell_type": "code",
   "execution_count": 4,
   "metadata": {},
   "outputs": [],
   "source": [
    "## Create engine to connect with PostgreSQL Database\n",
    "#engine = create_engine('postgresql://kbajina:@localhost/home_credit_default_risk')"
   ]
  },
  {
   "cell_type": "markdown",
   "metadata": {},
   "source": [
    "Data cleaned in PostgreSQL and exported to .csv file for use in Jupyter Notebooks."
   ]
  },
  {
   "cell_type": "markdown",
   "metadata": {},
   "source": [
    "## Import Data from .csv"
   ]
  },
  {
   "cell_type": "code",
   "execution_count": 16,
   "metadata": {},
   "outputs": [],
   "source": [
    "applications_data = '/Users/kbajina/Documents/DATA SCIENCE/Metis | Data Science Bootcamp/Metis Project Portfolio/Metis-Proj-3-classification/data_files/home-credit-default-risk/applications_cleaned.csv'\n",
    "applications_df = pd.read_csv(applications_data)"
   ]
  },
  {
   "cell_type": "code",
   "execution_count": 17,
   "metadata": {},
   "outputs": [
    {
     "name": "stdout",
     "output_type": "stream",
     "text": [
      "<class 'pandas.core.frame.DataFrame'>\n",
      "RangeIndex: 307217 entries, 0 to 307216\n",
      "Data columns (total 42 columns):\n",
      "sk_id_curr                                   307217 non-null int64\n",
      "target                                       307217 non-null int64\n",
      "is_male                                      307217 non-null int64\n",
      "flag_own_car                                 307217 non-null int64\n",
      "flag_own_realty                              307217 non-null int64\n",
      "cnt_children                                 307217 non-null int64\n",
      "amt_income_total                             307217 non-null float64\n",
      "amt_credit                                   307217 non-null float64\n",
      "amt_annuity                                  307217 non-null float64\n",
      "amt_goods_price                              307217 non-null float64\n",
      "applicant_age_years                          307217 non-null int64\n",
      "applicant_years_employed                     307217 non-null int64\n",
      "days_registration                            307217 non-null float64\n",
      "days_id_publish                              307217 non-null int64\n",
      "own_car_age                                  307217 non-null int64\n",
      "flag_mobil                                   307217 non-null int64\n",
      "flag_emp_phone                               307217 non-null int64\n",
      "flag_work_phone                              307217 non-null int64\n",
      "flag_cont_mobile                             307217 non-null int64\n",
      "flag_phone                                   307217 non-null int64\n",
      "flag_email                                   307217 non-null int64\n",
      "cnt_fam_members                              307217 non-null int64\n",
      "region_rating_client                         307217 non-null int64\n",
      "hour_appr_process_start                      307217 non-null int64\n",
      "obs_30_cnt_social_circle                     307217 non-null int64\n",
      "def_30_cnt_social_circle                     307217 non-null int64\n",
      "obs_60_cnt_social_circle                     307217 non-null int64\n",
      "def_60_cnt_social_circle                     307217 non-null int64\n",
      "cash_loan                                    307217 non-null int64\n",
      "loan_beyond_purchase_price                   307217 non-null float64\n",
      "applicant_not_working                        307217 non-null int64\n",
      "applicant_working                            307217 non-null int64\n",
      "applicant_completed_post_secondary           307217 non-null int64\n",
      "applicant_status_married                     307217 non-null int64\n",
      "applicant_status_widowed                     307217 non-null int64\n",
      "applicant_owns_house_apt                     307217 non-null int64\n",
      "applicant_currently_renting                  307217 non-null int64\n",
      "applicant_living_w_parents                   307217 non-null int64\n",
      "applicant_occupation_service_ind             307217 non-null int64\n",
      "applicant_occupation_working_professional    307217 non-null int64\n",
      "credit_bureau_enquiries_past_year            307217 non-null int64\n",
      "application_start_date_weekend               307217 non-null int64\n",
      "dtypes: float64(6), int64(36)\n",
      "memory usage: 98.4 MB\n"
     ]
    }
   ],
   "source": [
    "applications_df.info()"
   ]
  },
  {
   "cell_type": "code",
   "execution_count": 18,
   "metadata": {
    "scrolled": false
   },
   "outputs": [
    {
     "data": {
      "text/html": [
       "<div>\n",
       "<style scoped>\n",
       "    .dataframe tbody tr th:only-of-type {\n",
       "        vertical-align: middle;\n",
       "    }\n",
       "\n",
       "    .dataframe tbody tr th {\n",
       "        vertical-align: top;\n",
       "    }\n",
       "\n",
       "    .dataframe thead th {\n",
       "        text-align: right;\n",
       "    }\n",
       "</style>\n",
       "<table border=\"1\" class=\"dataframe\">\n",
       "  <thead>\n",
       "    <tr style=\"text-align: right;\">\n",
       "      <th></th>\n",
       "      <th>sk_id_curr</th>\n",
       "      <th>target</th>\n",
       "      <th>is_male</th>\n",
       "      <th>flag_own_car</th>\n",
       "      <th>flag_own_realty</th>\n",
       "      <th>cnt_children</th>\n",
       "      <th>amt_income_total</th>\n",
       "      <th>amt_credit</th>\n",
       "      <th>amt_annuity</th>\n",
       "      <th>amt_goods_price</th>\n",
       "      <th>...</th>\n",
       "      <th>applicant_completed_post_secondary</th>\n",
       "      <th>applicant_status_married</th>\n",
       "      <th>applicant_status_widowed</th>\n",
       "      <th>applicant_owns_house_apt</th>\n",
       "      <th>applicant_currently_renting</th>\n",
       "      <th>applicant_living_w_parents</th>\n",
       "      <th>applicant_occupation_service_ind</th>\n",
       "      <th>applicant_occupation_working_professional</th>\n",
       "      <th>credit_bureau_enquiries_past_year</th>\n",
       "      <th>application_start_date_weekend</th>\n",
       "    </tr>\n",
       "  </thead>\n",
       "  <tbody>\n",
       "    <tr>\n",
       "      <td>0</td>\n",
       "      <td>107904</td>\n",
       "      <td>0</td>\n",
       "      <td>0</td>\n",
       "      <td>0</td>\n",
       "      <td>0</td>\n",
       "      <td>1</td>\n",
       "      <td>135000.0</td>\n",
       "      <td>709879.5</td>\n",
       "      <td>36373.5</td>\n",
       "      <td>634500.0</td>\n",
       "      <td>...</td>\n",
       "      <td>0</td>\n",
       "      <td>1</td>\n",
       "      <td>0</td>\n",
       "      <td>1</td>\n",
       "      <td>0</td>\n",
       "      <td>0</td>\n",
       "      <td>0</td>\n",
       "      <td>0</td>\n",
       "      <td>2</td>\n",
       "      <td>0</td>\n",
       "    </tr>\n",
       "    <tr>\n",
       "      <td>1</td>\n",
       "      <td>107956</td>\n",
       "      <td>0</td>\n",
       "      <td>0</td>\n",
       "      <td>0</td>\n",
       "      <td>1</td>\n",
       "      <td>0</td>\n",
       "      <td>103500.0</td>\n",
       "      <td>263686.5</td>\n",
       "      <td>17298.0</td>\n",
       "      <td>238500.0</td>\n",
       "      <td>...</td>\n",
       "      <td>0</td>\n",
       "      <td>0</td>\n",
       "      <td>1</td>\n",
       "      <td>1</td>\n",
       "      <td>0</td>\n",
       "      <td>0</td>\n",
       "      <td>1</td>\n",
       "      <td>0</td>\n",
       "      <td>0</td>\n",
       "      <td>0</td>\n",
       "    </tr>\n",
       "    <tr>\n",
       "      <td>2</td>\n",
       "      <td>108099</td>\n",
       "      <td>0</td>\n",
       "      <td>1</td>\n",
       "      <td>0</td>\n",
       "      <td>0</td>\n",
       "      <td>0</td>\n",
       "      <td>90000.0</td>\n",
       "      <td>348264.0</td>\n",
       "      <td>27513.0</td>\n",
       "      <td>315000.0</td>\n",
       "      <td>...</td>\n",
       "      <td>0</td>\n",
       "      <td>1</td>\n",
       "      <td>0</td>\n",
       "      <td>1</td>\n",
       "      <td>0</td>\n",
       "      <td>0</td>\n",
       "      <td>0</td>\n",
       "      <td>0</td>\n",
       "      <td>0</td>\n",
       "      <td>0</td>\n",
       "    </tr>\n",
       "    <tr>\n",
       "      <td>3</td>\n",
       "      <td>108100</td>\n",
       "      <td>0</td>\n",
       "      <td>0</td>\n",
       "      <td>1</td>\n",
       "      <td>0</td>\n",
       "      <td>0</td>\n",
       "      <td>45000.0</td>\n",
       "      <td>450000.0</td>\n",
       "      <td>21888.0</td>\n",
       "      <td>450000.0</td>\n",
       "      <td>...</td>\n",
       "      <td>0</td>\n",
       "      <td>1</td>\n",
       "      <td>0</td>\n",
       "      <td>1</td>\n",
       "      <td>0</td>\n",
       "      <td>0</td>\n",
       "      <td>0</td>\n",
       "      <td>1</td>\n",
       "      <td>2</td>\n",
       "      <td>0</td>\n",
       "    </tr>\n",
       "    <tr>\n",
       "      <td>4</td>\n",
       "      <td>123398</td>\n",
       "      <td>0</td>\n",
       "      <td>0</td>\n",
       "      <td>0</td>\n",
       "      <td>1</td>\n",
       "      <td>0</td>\n",
       "      <td>135000.0</td>\n",
       "      <td>450000.0</td>\n",
       "      <td>20979.0</td>\n",
       "      <td>450000.0</td>\n",
       "      <td>...</td>\n",
       "      <td>0</td>\n",
       "      <td>1</td>\n",
       "      <td>0</td>\n",
       "      <td>1</td>\n",
       "      <td>0</td>\n",
       "      <td>0</td>\n",
       "      <td>1</td>\n",
       "      <td>0</td>\n",
       "      <td>0</td>\n",
       "      <td>1</td>\n",
       "    </tr>\n",
       "  </tbody>\n",
       "</table>\n",
       "<p>5 rows × 42 columns</p>\n",
       "</div>"
      ],
      "text/plain": [
       "   sk_id_curr  target  is_male  flag_own_car  flag_own_realty  cnt_children  \\\n",
       "0      107904       0        0             0                0             1   \n",
       "1      107956       0        0             0                1             0   \n",
       "2      108099       0        1             0                0             0   \n",
       "3      108100       0        0             1                0             0   \n",
       "4      123398       0        0             0                1             0   \n",
       "\n",
       "   amt_income_total  amt_credit  amt_annuity  amt_goods_price  ...  \\\n",
       "0          135000.0    709879.5      36373.5         634500.0  ...   \n",
       "1          103500.0    263686.5      17298.0         238500.0  ...   \n",
       "2           90000.0    348264.0      27513.0         315000.0  ...   \n",
       "3           45000.0    450000.0      21888.0         450000.0  ...   \n",
       "4          135000.0    450000.0      20979.0         450000.0  ...   \n",
       "\n",
       "   applicant_completed_post_secondary  applicant_status_married  \\\n",
       "0                                   0                         1   \n",
       "1                                   0                         0   \n",
       "2                                   0                         1   \n",
       "3                                   0                         1   \n",
       "4                                   0                         1   \n",
       "\n",
       "   applicant_status_widowed  applicant_owns_house_apt  \\\n",
       "0                         0                         1   \n",
       "1                         1                         1   \n",
       "2                         0                         1   \n",
       "3                         0                         1   \n",
       "4                         0                         1   \n",
       "\n",
       "   applicant_currently_renting  applicant_living_w_parents  \\\n",
       "0                            0                           0   \n",
       "1                            0                           0   \n",
       "2                            0                           0   \n",
       "3                            0                           0   \n",
       "4                            0                           0   \n",
       "\n",
       "   applicant_occupation_service_ind  \\\n",
       "0                                 0   \n",
       "1                                 1   \n",
       "2                                 0   \n",
       "3                                 0   \n",
       "4                                 1   \n",
       "\n",
       "   applicant_occupation_working_professional  \\\n",
       "0                                          0   \n",
       "1                                          0   \n",
       "2                                          0   \n",
       "3                                          1   \n",
       "4                                          0   \n",
       "\n",
       "   credit_bureau_enquiries_past_year  application_start_date_weekend  \n",
       "0                                  2                               0  \n",
       "1                                  0                               0  \n",
       "2                                  0                               0  \n",
       "3                                  2                               0  \n",
       "4                                  0                               1  \n",
       "\n",
       "[5 rows x 42 columns]"
      ]
     },
     "execution_count": 18,
     "metadata": {},
     "output_type": "execute_result"
    }
   ],
   "source": [
    "applications_df.head()"
   ]
  },
  {
   "cell_type": "markdown",
   "metadata": {},
   "source": [
    "---"
   ]
  },
  {
   "cell_type": "markdown",
   "metadata": {},
   "source": [
    "# 2) DATA CLASS IMBALANCES:\n",
    "Fix existing imbalances in data between classes: Target = 1 (default) vs. Target = 0 (don't default). With an imbalanced dataset, the accuracy of predictions will be high because the desired result we are trying to predict (in this case applicant's who will default on their home credit) occurs in very few situations. For this type of problem we need to focus more on improving \"recall\" in order to capture as many instances of default as possible. \n",
    "\n",
    "### Attempt the following Methods:  \n",
    "    1. Random Oversampling  \n",
    "    2. Synthetic Minority Oversampling Technique (SMOTE)  \n",
    "    3. Adaptive Syntethic Oversampling (ADASYN)  \n"
   ]
  },
  {
   "cell_type": "markdown",
   "metadata": {},
   "source": [
    "### Examine Class Balance in DataFrame:"
   ]
  },
  {
   "cell_type": "code",
   "execution_count": 26,
   "metadata": {},
   "outputs": [],
   "source": [
    "## Determine target split of data\n",
    "target_count = applications_df['target'].value_counts()"
   ]
  },
  {
   "cell_type": "code",
   "execution_count": 32,
   "metadata": {},
   "outputs": [
    {
     "name": "stdout",
     "output_type": "stream",
     "text": [
      "Class \"No Default Risk\": 282413\n",
      "Class \"Default Risk\": 24804\n",
      "Proportion: 11.39 : 1\n",
      "Percentage of Majority Class: 91.93\n"
     ]
    }
   ],
   "source": [
    "## Determine class balance of dataset\n",
    "print(f'Class \"No Default Risk\": {target_count[0]}')\n",
    "print(f'Class \"Default Risk\": {target_count[1]}')\n",
    "print(f'Proportion: {round(target_count[0] / target_count[1], 2)} : 1')\n",
    "print(f'Percentage of Majority Class: {round(target_count[0] / sum(target_count), 4)*100}')"
   ]
  },
  {
   "cell_type": "code",
   "execution_count": 40,
   "metadata": {},
   "outputs": [
    {
     "data": {
      "image/png": "[encoded data removed]",
      "text/plain": [
       "<Figure size 432x288 with 1 Axes>"
      ]
     },
     "metadata": {
      "needs_background": "light"
     },
     "output_type": "display_data"
    }
   ],
   "source": [
    "target_count.plot(kind='bar', title='Class Count', rot=0);"
   ]
  },
  {
   "cell_type": "markdown",
   "metadata": {},
   "source": [
    "## Create Training/ Test Split:"
   ]
  },
  {
   "cell_type": "code",
   "execution_count": 30,
   "metadata": {},
   "outputs": [],
   "source": [
    "X = applications_df.iloc[:, 2:]\n",
    "y = applications_df['target']\n",
    "X_train, X_test, y_train, y_test = train_test_split(X, y, test_size=0.2, random_state=40, stratify=y)"
   ]
  },
  {
   "cell_type": "markdown",
   "metadata": {},
   "source": [
    "## Random Oversampling:"
   ]
  },
  {
   "cell_type": "code",
   "execution_count": 43,
   "metadata": {},
   "outputs": [
    {
     "data": {
      "text/plain": [
       "Counter({0: 225930, 1: 225930})"
      ]
     },
     "execution_count": 43,
     "metadata": {},
     "output_type": "execute_result"
    }
   ],
   "source": [
    "## Class balance of Random Oversampling\n",
    "ros = RandomOverSampler(random_state=40)\n",
    "X_ros, y_ros = ros.fit_sample(X_train,y_train)\n",
    "Counter(y_ros)"
   ]
  },
  {
   "cell_type": "markdown",
   "metadata": {},
   "source": [
    "## SMOTE (Synthetic Minority Oversampling Technique):"
   ]
  },
  {
   "cell_type": "code",
   "execution_count": 45,
   "metadata": {},
   "outputs": [
    {
     "data": {
      "text/plain": [
       "Counter({0: 225930, 1: 225930})"
      ]
     },
     "execution_count": 45,
     "metadata": {},
     "output_type": "execute_result"
    }
   ],
   "source": [
    "## Class balance of SMOTE\n",
    "X_smote, y_smote = SMOTE(random_state=40).fit_sample(X_train,y_train)\n",
    "Counter(y_smote)"
   ]
  },
  {
   "cell_type": "markdown",
   "metadata": {},
   "source": [
    "## ADASYN (Adaptive Synthetic Oversampling):"
   ]
  },
  {
   "cell_type": "code",
   "execution_count": 47,
   "metadata": {},
   "outputs": [
    {
     "data": {
      "text/plain": [
       "Counter({0: 225930, 1: 228546})"
      ]
     },
     "execution_count": 47,
     "metadata": {},
     "output_type": "execute_result"
    }
   ],
   "source": [
    "## Class balanceof ASASYN\n",
    "## Places emphasis on regions where class imbalance is greatest\n",
    "## More likely to misclassify the majority class\n",
    "X_adasyn, y_adasyn = ADASYN(random_state=40).fit_sample(X_train,y_train)\n",
    "Counter(y_adasyn)"
   ]
  },
  {
   "cell_type": "markdown",
   "metadata": {},
   "source": [
    "---"
   ]
  },
  {
   "cell_type": "markdown",
   "metadata": {},
   "source": [
    "# 3) MODELLING:"
   ]
  },
  {
   "cell_type": "markdown",
   "metadata": {},
   "source": [
    "## Logistic Regression"
   ]
  },
  {
   "cell_type": "markdown",
   "metadata": {},
   "source": [
    "#### ROS:"
   ]
  },
  {
   "cell_type": "code",
   "execution_count": 149,
   "metadata": {},
   "outputs": [],
   "source": [
    "## Standard Scale values for logstic regression\n",
    "scaler = StandardScaler()\n",
    "scaler.fit(X_ros)\n",
    "X_tr_ros = scaler.transform(X_ros)\n",
    "X_te_ros = scaler.transform(X_test)\n"
   ]
  },
  {
   "cell_type": "code",
   "execution_count": 150,
   "metadata": {},
   "outputs": [
    {
     "data": {
      "text/plain": [
       "LogisticRegression(C=100, class_weight=None, dual=False, fit_intercept=True,\n",
       "                   intercept_scaling=1, l1_ratio=None, max_iter=100,\n",
       "                   multi_class='warn', n_jobs=None, penalty='l2',\n",
       "                   random_state=None, solver='liblinear', tol=0.0001, verbose=0,\n",
       "                   warm_start=False)"
      ]
     },
     "execution_count": 150,
     "metadata": {},
     "output_type": "execute_result"
    }
   ],
   "source": [
    "## Fit model to scaled training values\n",
    "lm1 = LogisticRegression(solver= 'liblinear', C=100)\n",
    "lm1.fit(X_tr_ros, y_ros)"
   ]
  },
  {
   "cell_type": "code",
   "execution_count": 160,
   "metadata": {},
   "outputs": [
    {
     "name": "stdout",
     "output_type": "stream",
     "text": [
      "The score for Logistic Regression w/ Random Oversampling ...\n",
      "Training:  62.50%\n",
      "Test Set:  61.50%\n"
     ]
    }
   ],
   "source": [
    "print(\"The score for Logistic Regression w/ Random Oversampling ...\")\n",
    "print(\"Training: {:6.2f}%\".format(100*lm1.score(X_tr_ros, y_ros)))\n",
    "print(\"Test Set: {:6.2f}%\".format(100*lm1.score(X_te_ros, y_test)))"
   ]
  },
  {
   "cell_type": "code",
   "execution_count": 152,
   "metadata": {},
   "outputs": [
    {
     "data": {
      "text/html": [
       "<div>\n",
       "<style scoped>\n",
       "    .dataframe tbody tr th:only-of-type {\n",
       "        vertical-align: middle;\n",
       "    }\n",
       "\n",
       "    .dataframe tbody tr th {\n",
       "        vertical-align: top;\n",
       "    }\n",
       "\n",
       "    .dataframe thead th {\n",
       "        text-align: right;\n",
       "    }\n",
       "</style>\n",
       "<table border=\"1\" class=\"dataframe\">\n",
       "  <thead>\n",
       "    <tr style=\"text-align: right;\">\n",
       "      <th></th>\n",
       "      <th>No Risk</th>\n",
       "      <th>Risk</th>\n",
       "    </tr>\n",
       "  </thead>\n",
       "  <tbody>\n",
       "    <tr>\n",
       "      <td>No Risk</td>\n",
       "      <td>34656</td>\n",
       "      <td>21827</td>\n",
       "    </tr>\n",
       "    <tr>\n",
       "      <td>Risk</td>\n",
       "      <td>1827</td>\n",
       "      <td>3134</td>\n",
       "    </tr>\n",
       "  </tbody>\n",
       "</table>\n",
       "</div>"
      ],
      "text/plain": [
       "         No Risk   Risk\n",
       "No Risk    34656  21827\n",
       "Risk        1827   3134"
      ]
     },
     "execution_count": 152,
     "metadata": {},
     "output_type": "execute_result"
    }
   ],
   "source": [
    "prediction = lm1.predict(X_te_ros)\n",
    "pd.DataFrame(confusion_matrix(y_test, prediction), index =['No Risk', 'Risk'], columns=['No Risk', 'Risk'])"
   ]
  },
  {
   "cell_type": "markdown",
   "metadata": {},
   "source": [
    "#### SMOTE:"
   ]
  },
  {
   "cell_type": "code",
   "execution_count": 154,
   "metadata": {},
   "outputs": [],
   "source": [
    "## Standard Scale values for logstic regression\n",
    "scaler = StandardScaler()\n",
    "scaler.fit(X_smote)\n",
    "X_tr_smote = scaler.transform(X_smote)\n",
    "X_te_smote = scaler.transform(X_test)"
   ]
  },
  {
   "cell_type": "code",
   "execution_count": 155,
   "metadata": {},
   "outputs": [
    {
     "data": {
      "text/plain": [
       "LogisticRegression(C=100, class_weight=None, dual=False, fit_intercept=True,\n",
       "                   intercept_scaling=1, l1_ratio=None, max_iter=100,\n",
       "                   multi_class='warn', n_jobs=None, penalty='l2',\n",
       "                   random_state=None, solver='liblinear', tol=0.0001, verbose=0,\n",
       "                   warm_start=False)"
      ]
     },
     "execution_count": 155,
     "metadata": {},
     "output_type": "execute_result"
    }
   ],
   "source": [
    "## Fit model to scaled training values\n",
    "lm2 = LogisticRegression(solver= 'liblinear', C=100)\n",
    "lm2.fit(X_tr_smote, y_smote)"
   ]
  },
  {
   "cell_type": "code",
   "execution_count": 159,
   "metadata": {},
   "outputs": [
    {
     "name": "stdout",
     "output_type": "stream",
     "text": [
      "The score for Logistic Regression w/ SMOTE ...\n",
      "Training:  63.67%\n",
      "Test Set:  61.99%\n"
     ]
    }
   ],
   "source": [
    "print(\"The score for Logistic Regression w/ SMOTE ...\")\n",
    "print(\"Training: {:6.2f}%\".format(100*lm2.score(X_tr_smote, y_smote)))\n",
    "print(\"Test Set: {:6.2f}%\".format(100*lm2.score(X_te_smote, y_test)))"
   ]
  },
  {
   "cell_type": "code",
   "execution_count": 157,
   "metadata": {},
   "outputs": [
    {
     "data": {
      "text/html": [
       "<div>\n",
       "<style scoped>\n",
       "    .dataframe tbody tr th:only-of-type {\n",
       "        vertical-align: middle;\n",
       "    }\n",
       "\n",
       "    .dataframe tbody tr th {\n",
       "        vertical-align: top;\n",
       "    }\n",
       "\n",
       "    .dataframe thead th {\n",
       "        text-align: right;\n",
       "    }\n",
       "</style>\n",
       "<table border=\"1\" class=\"dataframe\">\n",
       "  <thead>\n",
       "    <tr style=\"text-align: right;\">\n",
       "      <th></th>\n",
       "      <th>No Risk</th>\n",
       "      <th>Risk</th>\n",
       "    </tr>\n",
       "  </thead>\n",
       "  <tbody>\n",
       "    <tr>\n",
       "      <td>No Risk</td>\n",
       "      <td>34979</td>\n",
       "      <td>21504</td>\n",
       "    </tr>\n",
       "    <tr>\n",
       "      <td>Risk</td>\n",
       "      <td>1848</td>\n",
       "      <td>3113</td>\n",
       "    </tr>\n",
       "  </tbody>\n",
       "</table>\n",
       "</div>"
      ],
      "text/plain": [
       "         No Risk   Risk\n",
       "No Risk    34979  21504\n",
       "Risk        1848   3113"
      ]
     },
     "execution_count": 157,
     "metadata": {},
     "output_type": "execute_result"
    }
   ],
   "source": [
    "prediction2 = lm2.predict(X_te_smote)\n",
    "pd.DataFrame(confusion_matrix(y_test, prediction2), index =['No Risk', 'Risk'], columns=['No Risk', 'Risk'])"
   ]
  },
  {
   "cell_type": "markdown",
   "metadata": {},
   "source": [
    "#### ASASYN:"
   ]
  },
  {
   "cell_type": "code",
   "execution_count": 118,
   "metadata": {},
   "outputs": [],
   "source": [
    "## Standard Scale values for logstic regression\n",
    "scaler = StandardScaler()\n",
    "scaler.fit(X_adasyn)\n",
    "X_tr_adasyn = scaler.transform(X_adasyn)\n",
    "X_te_adasyn = scaler.transform(X_test)"
   ]
  },
  {
   "cell_type": "code",
   "execution_count": 119,
   "metadata": {},
   "outputs": [
    {
     "data": {
      "text/plain": [
       "LogisticRegression(C=100, class_weight=None, dual=False, fit_intercept=True,\n",
       "                   intercept_scaling=1, l1_ratio=None, max_iter=100,\n",
       "                   multi_class='warn', n_jobs=None, penalty='l2',\n",
       "                   random_state=None, solver='liblinear', tol=0.0001, verbose=0,\n",
       "                   warm_start=False)"
      ]
     },
     "execution_count": 119,
     "metadata": {},
     "output_type": "execute_result"
    }
   ],
   "source": [
    "## Fit model to scaled training values\n",
    "lm3 = LogisticRegression(solver= 'liblinear', C=100)\n",
    "lm3.fit(X_tr_adasyn, y_adasyn)"
   ]
  },
  {
   "cell_type": "code",
   "execution_count": 161,
   "metadata": {},
   "outputs": [
    {
     "name": "stdout",
     "output_type": "stream",
     "text": [
      "The score for Logistic Regression w/ ADASYN ...\n",
      "Training:  63.26%\n",
      "Test Set:  61.22%\n"
     ]
    }
   ],
   "source": [
    "print(\"The score for Logistic Regression w/ ADASYN ...\")\n",
    "print(\"Training: {:6.2f}%\".format(100*lm3.score(X_tr_adasyn, y_adasyn)))\n",
    "print(\"Test Set: {:6.2f}%\".format(100*lm3.score(X_te_adasyn, y_test)))"
   ]
  },
  {
   "cell_type": "code",
   "execution_count": 163,
   "metadata": {
    "scrolled": false
   },
   "outputs": [
    {
     "data": {
      "text/html": [
       "<div>\n",
       "<style scoped>\n",
       "    .dataframe tbody tr th:only-of-type {\n",
       "        vertical-align: middle;\n",
       "    }\n",
       "\n",
       "    .dataframe tbody tr th {\n",
       "        vertical-align: top;\n",
       "    }\n",
       "\n",
       "    .dataframe thead th {\n",
       "        text-align: right;\n",
       "    }\n",
       "</style>\n",
       "<table border=\"1\" class=\"dataframe\">\n",
       "  <thead>\n",
       "    <tr style=\"text-align: right;\">\n",
       "      <th></th>\n",
       "      <th>No Risk</th>\n",
       "      <th>Risk</th>\n",
       "    </tr>\n",
       "  </thead>\n",
       "  <tbody>\n",
       "    <tr>\n",
       "      <td>No Risk</td>\n",
       "      <td>34445</td>\n",
       "      <td>22038</td>\n",
       "    </tr>\n",
       "    <tr>\n",
       "      <td>Risk</td>\n",
       "      <td>1793</td>\n",
       "      <td>3168</td>\n",
       "    </tr>\n",
       "  </tbody>\n",
       "</table>\n",
       "</div>"
      ],
      "text/plain": [
       "         No Risk   Risk\n",
       "No Risk    34445  22038\n",
       "Risk        1793   3168"
      ]
     },
     "execution_count": 163,
     "metadata": {},
     "output_type": "execute_result"
    }
   ],
   "source": [
    "prediction3 = lm3.predict(X_te_adasyn)\n",
    "pd.DataFrame(confusion_matrix(y_test, prediction3), index =['No Risk', 'Risk'], columns=['No Risk', 'Risk'])"
   ]
  },
  {
   "cell_type": "markdown",
   "metadata": {},
   "source": [
    "#### Non-Scaled:"
   ]
  },
  {
   "cell_type": "code",
   "execution_count": 99,
   "metadata": {},
   "outputs": [
    {
     "data": {
      "text/plain": [
       "LogisticRegression(C=100, class_weight=None, dual=False, fit_intercept=True,\n",
       "                   intercept_scaling=1, l1_ratio=None, max_iter=100,\n",
       "                   multi_class='warn', n_jobs=None, penalty='l2',\n",
       "                   random_state=None, solver='liblinear', tol=0.0001, verbose=0,\n",
       "                   warm_start=False)"
      ]
     },
     "execution_count": 99,
     "metadata": {},
     "output_type": "execute_result"
    }
   ],
   "source": [
    "lm4 = LogisticRegression(solver= 'liblinear', C=100)\n",
    "lm4.fit(X_adasyn, y_adasyn)"
   ]
  },
  {
   "cell_type": "code",
   "execution_count": 165,
   "metadata": {},
   "outputs": [
    {
     "name": "stdout",
     "output_type": "stream",
     "text": [
      "The score for Logistic Regression w/ ADASYN (not scaled) ...\n",
      "Training:  56.31%\n",
      "Test set:  62.49%\n"
     ]
    }
   ],
   "source": [
    "print(\"The score for Logistic Regression w/ ADASYN (not scaled) ...\")\n",
    "print(\"Training: {:6.2f}%\".format(100*lm4.score(X_adasyn, y_adasyn)))\n",
    "print(\"Test set: {:6.2f}%\".format(100*lm4.score(X_test, y_test)))"
   ]
  },
  {
   "cell_type": "code",
   "execution_count": 167,
   "metadata": {
    "scrolled": false
   },
   "outputs": [
    {
     "data": {
      "text/html": [
       "<div>\n",
       "<style scoped>\n",
       "    .dataframe tbody tr th:only-of-type {\n",
       "        vertical-align: middle;\n",
       "    }\n",
       "\n",
       "    .dataframe tbody tr th {\n",
       "        vertical-align: top;\n",
       "    }\n",
       "\n",
       "    .dataframe thead th {\n",
       "        text-align: right;\n",
       "    }\n",
       "</style>\n",
       "<table border=\"1\" class=\"dataframe\">\n",
       "  <thead>\n",
       "    <tr style=\"text-align: right;\">\n",
       "      <th></th>\n",
       "      <th>No Risk</th>\n",
       "      <th>Risk</th>\n",
       "    </tr>\n",
       "  </thead>\n",
       "  <tbody>\n",
       "    <tr>\n",
       "      <td>No Risk</td>\n",
       "      <td>35980</td>\n",
       "      <td>20503</td>\n",
       "    </tr>\n",
       "    <tr>\n",
       "      <td>Risk</td>\n",
       "      <td>2545</td>\n",
       "      <td>2416</td>\n",
       "    </tr>\n",
       "  </tbody>\n",
       "</table>\n",
       "</div>"
      ],
      "text/plain": [
       "         No Risk   Risk\n",
       "No Risk    35980  20503\n",
       "Risk        2545   2416"
      ]
     },
     "execution_count": 167,
     "metadata": {},
     "output_type": "execute_result"
    }
   ],
   "source": [
    "prediction4 = lm4.predict(X_test)\n",
    "pd.DataFrame(confusion_matrix(y_test, prediction4), index =['No Risk', 'Risk'], columns=['No Risk', 'Risk'])"
   ]
  },
  {
   "cell_type": "markdown",
   "metadata": {},
   "source": [
    "## kNN (k Nearest Neighbour):"
   ]
  },
  {
   "cell_type": "markdown",
   "metadata": {},
   "source": [
    "#### ROS:"
   ]
  },
  {
   "cell_type": "code",
   "execution_count": 144,
   "metadata": {},
   "outputs": [
    {
     "name": "stdout",
     "output_type": "stream",
     "text": [
      "The score for kNN w/ Random Oversampling ...\n",
      "Training:  92.61%\n",
      "Test set:  74.99%\n"
     ]
    }
   ],
   "source": [
    "knn1 = KNeighborsClassifier(n_neighbors=5)\n",
    "knn1.fit(X_ros, y_ros)\n",
    "\n",
    "print(\"The score for kNN w/ Random Oversampling ...\")\n",
    "print(\"Training: {:6.2f}%\".format(100*knn1.score(X_ros, y_ros)))\n",
    "print(\"Test set: {:6.2f}%\".format(100*knn1.score(X_test, y_test)))"
   ]
  },
  {
   "cell_type": "code",
   "execution_count": 168,
   "metadata": {},
   "outputs": [
    {
     "data": {
      "text/html": [
       "<div>\n",
       "<style scoped>\n",
       "    .dataframe tbody tr th:only-of-type {\n",
       "        vertical-align: middle;\n",
       "    }\n",
       "\n",
       "    .dataframe tbody tr th {\n",
       "        vertical-align: top;\n",
       "    }\n",
       "\n",
       "    .dataframe thead th {\n",
       "        text-align: right;\n",
       "    }\n",
       "</style>\n",
       "<table border=\"1\" class=\"dataframe\">\n",
       "  <thead>\n",
       "    <tr style=\"text-align: right;\">\n",
       "      <th></th>\n",
       "      <th>No Risk</th>\n",
       "      <th>Risk</th>\n",
       "    </tr>\n",
       "  </thead>\n",
       "  <tbody>\n",
       "    <tr>\n",
       "      <td>No Risk</td>\n",
       "      <td>44661</td>\n",
       "      <td>11822</td>\n",
       "    </tr>\n",
       "    <tr>\n",
       "      <td>Risk</td>\n",
       "      <td>3544</td>\n",
       "      <td>1417</td>\n",
       "    </tr>\n",
       "  </tbody>\n",
       "</table>\n",
       "</div>"
      ],
      "text/plain": [
       "         No Risk   Risk\n",
       "No Risk    44661  11822\n",
       "Risk        3544   1417"
      ]
     },
     "execution_count": 168,
     "metadata": {},
     "output_type": "execute_result"
    }
   ],
   "source": [
    "prediction_knn1 = knn1.predict(X_test)\n",
    "pd.DataFrame(confusion_matrix(y_test, prediction_knn1), index =['No Risk', 'Risk'], columns=['No Risk', 'Risk'])"
   ]
  },
  {
   "cell_type": "markdown",
   "metadata": {},
   "source": [
    "#### SMOTE:"
   ]
  },
  {
   "cell_type": "code",
   "execution_count": 169,
   "metadata": {},
   "outputs": [
    {
     "name": "stdout",
     "output_type": "stream",
     "text": [
      "The score for kNN w/ SMOTE ...\n",
      "Training:  89.01%\n",
      "Test set:  70.63%\n"
     ]
    }
   ],
   "source": [
    "knn2 = KNeighborsClassifier(n_neighbors=5)\n",
    "knn2.fit(X_smote, y_smote)\n",
    "\n",
    "print(\"The score for kNN w/ SMOTE ...\")\n",
    "print(\"Training: {:6.2f}%\".format(100*knn2.score(X_smote, y_smote)))\n",
    "print(\"Test set: {:6.2f}%\".format(100*knn2.score(X_test, y_test)))"
   ]
  },
  {
   "cell_type": "code",
   "execution_count": 170,
   "metadata": {},
   "outputs": [
    {
     "data": {
      "text/html": [
       "<div>\n",
       "<style scoped>\n",
       "    .dataframe tbody tr th:only-of-type {\n",
       "        vertical-align: middle;\n",
       "    }\n",
       "\n",
       "    .dataframe tbody tr th {\n",
       "        vertical-align: top;\n",
       "    }\n",
       "\n",
       "    .dataframe thead th {\n",
       "        text-align: right;\n",
       "    }\n",
       "</style>\n",
       "<table border=\"1\" class=\"dataframe\">\n",
       "  <thead>\n",
       "    <tr style=\"text-align: right;\">\n",
       "      <th></th>\n",
       "      <th>No Risk</th>\n",
       "      <th>Risk</th>\n",
       "    </tr>\n",
       "  </thead>\n",
       "  <tbody>\n",
       "    <tr>\n",
       "      <td>No Risk</td>\n",
       "      <td>41663</td>\n",
       "      <td>14820</td>\n",
       "    </tr>\n",
       "    <tr>\n",
       "      <td>Risk</td>\n",
       "      <td>3227</td>\n",
       "      <td>1734</td>\n",
       "    </tr>\n",
       "  </tbody>\n",
       "</table>\n",
       "</div>"
      ],
      "text/plain": [
       "         No Risk   Risk\n",
       "No Risk    41663  14820\n",
       "Risk        3227   1734"
      ]
     },
     "execution_count": 170,
     "metadata": {},
     "output_type": "execute_result"
    }
   ],
   "source": [
    "prediction_knn2 = knn2.predict(X_test)\n",
    "pd.DataFrame(confusion_matrix(y_test, prediction_knn2), index =['No Risk', 'Risk'], columns=['No Risk', 'Risk'])"
   ]
  },
  {
   "cell_type": "markdown",
   "metadata": {},
   "source": [
    "#### ADASYN:"
   ]
  },
  {
   "cell_type": "code",
   "execution_count": 172,
   "metadata": {},
   "outputs": [
    {
     "name": "stdout",
     "output_type": "stream",
     "text": [
      "The score for kNN w/ ADASYN ...\n",
      "Training:  88.76%\n",
      "Test set:  69.88%\n"
     ]
    }
   ],
   "source": [
    "knn3 = KNeighborsClassifier(n_neighbors=5)\n",
    "knn3.fit(X_adasyn, y_adasyn)\n",
    "\n",
    "print(\"The score for kNN w/ ADASYN ...\")\n",
    "print(\"Training: {:6.2f}%\".format(100*knn3.score(X_adasyn, y_adasyn)))\n",
    "print(\"Test set: {:6.2f}%\".format(100*knn3.score(X_test, y_test)))"
   ]
  },
  {
   "cell_type": "code",
   "execution_count": 173,
   "metadata": {},
   "outputs": [
    {
     "data": {
      "text/html": [
       "<div>\n",
       "<style scoped>\n",
       "    .dataframe tbody tr th:only-of-type {\n",
       "        vertical-align: middle;\n",
       "    }\n",
       "\n",
       "    .dataframe tbody tr th {\n",
       "        vertical-align: top;\n",
       "    }\n",
       "\n",
       "    .dataframe thead th {\n",
       "        text-align: right;\n",
       "    }\n",
       "</style>\n",
       "<table border=\"1\" class=\"dataframe\">\n",
       "  <thead>\n",
       "    <tr style=\"text-align: right;\">\n",
       "      <th></th>\n",
       "      <th>No Risk</th>\n",
       "      <th>Risk</th>\n",
       "    </tr>\n",
       "  </thead>\n",
       "  <tbody>\n",
       "    <tr>\n",
       "      <td>No Risk</td>\n",
       "      <td>41156</td>\n",
       "      <td>15327</td>\n",
       "    </tr>\n",
       "    <tr>\n",
       "      <td>Risk</td>\n",
       "      <td>3181</td>\n",
       "      <td>1780</td>\n",
       "    </tr>\n",
       "  </tbody>\n",
       "</table>\n",
       "</div>"
      ],
      "text/plain": [
       "         No Risk   Risk\n",
       "No Risk    41156  15327\n",
       "Risk        3181   1780"
      ]
     },
     "execution_count": 173,
     "metadata": {},
     "output_type": "execute_result"
    }
   ],
   "source": [
    "prediction_knn3 = knn3.predict(X_test)\n",
    "pd.DataFrame(confusion_matrix(y_test, prediction_knn3), index =['No Risk', 'Risk'], columns=['No Risk', 'Risk'])"
   ]
  },
  {
   "cell_type": "code",
   "execution_count": 174,
   "metadata": {},
   "outputs": [
    {
     "name": "stdout",
     "output_type": "stream",
     "text": [
      "The score for kNN ...\n",
      "Training:  92.17%\n",
      "Test set:  91.33%\n"
     ]
    }
   ],
   "source": [
    "knn3 = KNeighborsClassifier(n_neighbors=5)\n",
    "knn3.fit(X_train, y_train)\n",
    "\n",
    "print(\"The score for kNN ...\")\n",
    "print(\"Training: {:6.2f}%\".format(100*knn3.score(X_train, y_train)))\n",
    "print(\"Test set: {:6.2f}%\".format(100*knn3.score(X_test, y_test)))"
   ]
  },
  {
   "cell_type": "code",
   "execution_count": null,
   "metadata": {},
   "outputs": [],
   "source": []
  }
 ],
 "metadata": {
  "kernelspec": {
   "display_name": "Python 3",
   "language": "python",
   "name": "python3"
  },
  "language_info": {
   "codemirror_mode": {
    "name": "ipython",
    "version": 3
   },
   "file_extension": ".py",
   "mimetype": "text/x-python",
   "name": "python",
   "nbconvert_exporter": "python",
   "pygments_lexer": "ipython3",
   "version": "3.7.4"
  }
 },
 "nbformat": 4,
 "nbformat_minor": 2
}

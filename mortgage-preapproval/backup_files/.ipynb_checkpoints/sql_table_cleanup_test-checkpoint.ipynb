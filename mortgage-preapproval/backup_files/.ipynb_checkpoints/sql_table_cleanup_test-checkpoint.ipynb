{
 "cells": [
  {
   "cell_type": "markdown",
   "metadata": {},
   "source": [
    "# SQL TABLES SETUP\n",
    "This notebook will be used to set up the SQL Statements for creating new database tables based on existing .csv files. Some of these files contain 100+ fields. To avoid manually typing out the table schemas, this notebook imports small segments of each .csv file and helps compose the CREATE TABLE statements."
   ]
  },
  {
   "cell_type": "code",
   "execution_count": 57,
   "metadata": {},
   "outputs": [],
   "source": [
    "## Common Python Modules:\n",
    "import pandas as pd\n",
    "import numpy as np\n",
    "\n",
    "## SQL Integration:\n",
    "import psycopg2\n",
    "from sqlalchemy import create_engine\n",
    "\n",
    "## Regression Modules:\n",
    "import matplotlib.pyplot as plt\n",
    "import seaborn as sns\n",
    "plt.style.use('ggplot')\n",
    "\n",
    "%matplotlib inline\n",
    "\n",
    "from sklearn.linear_model import LogisticRegression\n",
    "from sklearn.model_selection import train_test_split\n",
    "from sklearn.metrics import precision_score, recall_score, accuracy_score, roc_auc_score\n",
    "from sklearn.metrics import confusion_matrix\n",
    "from sklearn.preprocessing import StandardScaler"
   ]
  },
  {
   "cell_type": "markdown",
   "metadata": {},
   "source": [
    "## 1) APPLICATION TABLE"
   ]
  },
  {
   "cell_type": "markdown",
   "metadata": {},
   "source": [
    "### Import Data into Pandas:\n",
    "Errors occured with trying to import .csv file directly to PostgreSQL. For this reason, Pandas is useful for preprocessing data and casting values correctly before loading into SQL."
   ]
  },
  {
   "cell_type": "code",
   "execution_count": 77,
   "metadata": {},
   "outputs": [],
   "source": [
    "## Read application_train .csv file\n",
    "application_path = '/Users/kbajina/Documents/DATA SCIENCE/Metis | Data Science Bootcamp/Metis Project Portfolio/Metis-Proj-3-classification/data_files/home-credit-default-risk/application_train.csv'\n",
    "application_df = pd.read_csv(application_path)"
   ]
  },
  {
   "cell_type": "markdown",
   "metadata": {},
   "source": [
    "### Create new table in PostgreSQL from DataFrame:"
   ]
  },
  {
   "cell_type": "code",
   "execution_count": 95,
   "metadata": {
    "scrolled": true
   },
   "outputs": [
    {
     "name": "stdout",
     "output_type": "stream",
     "text": [
      "SK_ID_CURR INT, \n",
      "TARGET INT, \n",
      "NAME_CONTRACT_TYPE VARCHAR, \n",
      "CODE_GENDER VARCHAR, \n",
      "FLAG_OWN_CAR VARCHAR, \n",
      "FLAG_OWN_REALTY VARCHAR, \n",
      "CNT_CHILDREN INT, \n",
      "AMT_INCOME_TOTAL DECIMAL, \n",
      "AMT_CREDIT DECIMAL, \n",
      "AMT_ANNUITY DECIMAL, \n",
      "AMT_GOODS_PRICE DECIMAL, \n",
      "NAME_TYPE_SUITE VARCHAR, \n",
      "NAME_INCOME_TYPE VARCHAR, \n",
      "NAME_EDUCATION_TYPE VARCHAR, \n",
      "NAME_FAMILY_STATUS VARCHAR, \n",
      "NAME_HOUSING_TYPE VARCHAR, \n",
      "REGION_POPULATION_RELATIVE DECIMAL, \n",
      "DAYS_BIRTH INT, \n",
      "DAYS_EMPLOYED INT, \n",
      "DAYS_REGISTRATION DECIMAL, \n",
      "DAYS_ID_PUBLISH INT, \n",
      "OWN_CAR_AGE DECIMAL, \n",
      "FLAG_MOBIL INT, \n",
      "FLAG_EMP_PHONE INT, \n",
      "FLAG_WORK_PHONE INT, \n",
      "FLAG_CONT_MOBILE INT, \n",
      "FLAG_PHONE INT, \n",
      "FLAG_EMAIL INT, \n",
      "OCCUPATION_TYPE VARCHAR, \n",
      "CNT_FAM_MEMBERS DECIMAL, \n",
      "REGION_RATING_CLIENT INT, \n",
      "REGION_RATING_CLIENT_W_CITY INT, \n",
      "WEEKDAY_APPR_PROCESS_START VARCHAR, \n",
      "HOUR_APPR_PROCESS_START INT, \n",
      "REG_REGION_NOT_LIVE_REGION INT, \n",
      "REG_REGION_NOT_WORK_REGION INT, \n",
      "LIVE_REGION_NOT_WORK_REGION INT, \n",
      "REG_CITY_NOT_LIVE_CITY INT, \n",
      "REG_CITY_NOT_WORK_CITY INT, \n",
      "LIVE_CITY_NOT_WORK_CITY INT, \n",
      "ORGANIZATION_TYPE VARCHAR, \n",
      "EXT_SOURCE_1 DECIMAL, \n",
      "EXT_SOURCE_2 DECIMAL, \n",
      "EXT_SOURCE_3 DECIMAL, \n",
      "APARTMENTS_AVG DECIMAL, \n",
      "BASEMENTAREA_AVG DECIMAL, \n",
      "YEARS_BEGINEXPLUATATION_AVG DECIMAL, \n",
      "YEARS_BUILD_AVG DECIMAL, \n",
      "COMMONAREA_AVG DECIMAL, \n",
      "ELEVATORS_AVG DECIMAL, \n",
      "ENTRANCES_AVG DECIMAL, \n",
      "FLOORSMAX_AVG DECIMAL, \n",
      "FLOORSMIN_AVG DECIMAL, \n",
      "LANDAREA_AVG DECIMAL, \n",
      "LIVINGAPARTMENTS_AVG DECIMAL, \n",
      "LIVINGAREA_AVG DECIMAL, \n",
      "NONLIVINGAPARTMENTS_AVG DECIMAL, \n",
      "NONLIVINGAREA_AVG DECIMAL, \n",
      "APARTMENTS_MODE DECIMAL, \n",
      "BASEMENTAREA_MODE DECIMAL, \n",
      "YEARS_BEGINEXPLUATATION_MODE DECIMAL, \n",
      "YEARS_BUILD_MODE DECIMAL, \n",
      "COMMONAREA_MODE DECIMAL, \n",
      "ELEVATORS_MODE DECIMAL, \n",
      "ENTRANCES_MODE DECIMAL, \n",
      "FLOORSMAX_MODE DECIMAL, \n",
      "FLOORSMIN_MODE DECIMAL, \n",
      "LANDAREA_MODE DECIMAL, \n",
      "LIVINGAPARTMENTS_MODE DECIMAL, \n",
      "LIVINGAREA_MODE DECIMAL, \n",
      "NONLIVINGAPARTMENTS_MODE DECIMAL, \n",
      "NONLIVINGAREA_MODE DECIMAL, \n",
      "APARTMENTS_MEDI DECIMAL, \n",
      "BASEMENTAREA_MEDI DECIMAL, \n",
      "YEARS_BEGINEXPLUATATION_MEDI DECIMAL, \n",
      "YEARS_BUILD_MEDI DECIMAL, \n",
      "COMMONAREA_MEDI DECIMAL, \n",
      "ELEVATORS_MEDI DECIMAL, \n",
      "ENTRANCES_MEDI DECIMAL, \n",
      "FLOORSMAX_MEDI DECIMAL, \n",
      "FLOORSMIN_MEDI DECIMAL, \n",
      "LANDAREA_MEDI DECIMAL, \n",
      "LIVINGAPARTMENTS_MEDI DECIMAL, \n",
      "LIVINGAREA_MEDI DECIMAL, \n",
      "NONLIVINGAPARTMENTS_MEDI DECIMAL, \n",
      "NONLIVINGAREA_MEDI DECIMAL, \n",
      "FONDKAPREMONT_MODE VARCHAR, \n",
      "HOUSETYPE_MODE VARCHAR, \n",
      "TOTALAREA_MODE DECIMAL, \n",
      "WALLSMATERIAL_MODE VARCHAR, \n",
      "EMERGENCYSTATE_MODE VARCHAR, \n",
      "OBS_30_CNT_SOCIAL_CIRCLE DECIMAL, \n",
      "DEF_30_CNT_SOCIAL_CIRCLE DECIMAL, \n",
      "OBS_60_CNT_SOCIAL_CIRCLE DECIMAL, \n",
      "DEF_60_CNT_SOCIAL_CIRCLE DECIMAL, \n",
      "DAYS_LAST_PHONE_CHANGE DECIMAL, \n",
      "FLAG_DOCUMENT_2 INT, \n",
      "FLAG_DOCUMENT_3 INT, \n",
      "FLAG_DOCUMENT_4 INT, \n",
      "FLAG_DOCUMENT_5 INT, \n",
      "FLAG_DOCUMENT_6 INT, \n",
      "FLAG_DOCUMENT_7 INT, \n",
      "FLAG_DOCUMENT_8 INT, \n",
      "FLAG_DOCUMENT_9 INT, \n",
      "FLAG_DOCUMENT_10 INT, \n",
      "FLAG_DOCUMENT_11 INT, \n",
      "FLAG_DOCUMENT_12 INT, \n",
      "FLAG_DOCUMENT_13 INT, \n",
      "FLAG_DOCUMENT_14 INT, \n",
      "FLAG_DOCUMENT_15 INT, \n",
      "FLAG_DOCUMENT_16 INT, \n",
      "FLAG_DOCUMENT_17 INT, \n",
      "FLAG_DOCUMENT_18 INT, \n",
      "FLAG_DOCUMENT_19 INT, \n",
      "FLAG_DOCUMENT_20 INT, \n",
      "FLAG_DOCUMENT_21 INT, \n",
      "AMT_REQ_CREDIT_BUREAU_HOUR DECIMAL, \n",
      "AMT_REQ_CREDIT_BUREAU_DAY DECIMAL, \n",
      "AMT_REQ_CREDIT_BUREAU_WEEK DECIMAL, \n",
      "AMT_REQ_CREDIT_BUREAU_MON DECIMAL, \n",
      "AMT_REQ_CREDIT_BUREAU_QRT DECIMAL, \n",
      "AMT_REQ_CREDIT_BUREAU_YEAR DECIMAL, \n"
     ]
    }
   ],
   "source": [
    "for i in range(len(type_list)):\n",
    "    \n",
    "    if type_list[i][1] == 'int64':\n",
    "        print(type_list[i][0], \"INT, \")\n",
    "        \n",
    "    elif type_list[i][1] == 'O':\n",
    "        print(type_list[i][0], \"VARCHAR, \")\n",
    "        \n",
    "    elif type_list[i][1] == 'float64':\n",
    "        print(type_list[i][0], \"DECIMAL, \")"
   ]
  },
  {
   "cell_type": "markdown",
   "metadata": {},
   "source": [
    "## 2) BUREAU DATA TABLE"
   ]
  },
  {
   "cell_type": "code",
   "execution_count": 148,
   "metadata": {},
   "outputs": [],
   "source": [
    "## Read bureau.csv file\n",
    "## Limit load to first 10 rows\n",
    "## Only need this data for creating SQL schema\n",
    "\n",
    "bureau_path = '/Users/kbajina/Documents/DATA SCIENCE/Metis | Data Science Bootcamp/Metis Project Portfolio/Metis-Proj-3-classification/data_files/home-credit-default-risk/POS_CASH_balance.csv'\n",
    "bureau_df = pd.read_csv(bureau_path, nrows=10)"
   ]
  },
  {
   "cell_type": "code",
   "execution_count": 149,
   "metadata": {
    "scrolled": true
   },
   "outputs": [
    {
     "data": {
      "text/plain": [
       "SK_ID_PREV                 int64\n",
       "SK_ID_CURR                 int64\n",
       "MONTHS_BALANCE             int64\n",
       "CNT_INSTALMENT           float64\n",
       "CNT_INSTALMENT_FUTURE    float64\n",
       "NAME_CONTRACT_STATUS      object\n",
       "SK_DPD                     int64\n",
       "SK_DPD_DEF                 int64\n",
       "dtype: object"
      ]
     },
     "execution_count": 149,
     "metadata": {},
     "output_type": "execute_result"
    }
   ],
   "source": [
    "bureau_dtypes = pd.Series(bureau_df.dtypes)\n",
    "bureau_dtypes"
   ]
  },
  {
   "cell_type": "code",
   "execution_count": 150,
   "metadata": {},
   "outputs": [],
   "source": [
    "bureau_schema = list(zip(bureau_dtypes.index.values, bureau_dtypes.values))"
   ]
  },
  {
   "cell_type": "code",
   "execution_count": 151,
   "metadata": {},
   "outputs": [
    {
     "data": {
      "text/plain": [
       "dtype('int64')"
      ]
     },
     "execution_count": 151,
     "metadata": {},
     "output_type": "execute_result"
    }
   ],
   "source": [
    "bureau_schema[0][1]"
   ]
  },
  {
   "cell_type": "code",
   "execution_count": 152,
   "metadata": {
    "scrolled": true
   },
   "outputs": [
    {
     "name": "stdout",
     "output_type": "stream",
     "text": [
      "SK_ID_PREV INT, \n",
      "SK_ID_CURR INT, \n",
      "MONTHS_BALANCE INT, \n",
      "CNT_INSTALMENT DECIMAL, \n",
      "CNT_INSTALMENT_FUTURE DECIMAL, \n",
      "NAME_CONTRACT_STATUS VARCHAR, \n",
      "SK_DPD INT, \n",
      "SK_DPD_DEF INT, \n"
     ]
    }
   ],
   "source": [
    "for i in range(len(bureau_schema)):\n",
    "    \n",
    "    if bureau_schema[i][1] == 'int64':\n",
    "        print(bureau_schema[i][0], \"INT, \")\n",
    "        \n",
    "    elif bureau_schema[i][1] == 'O':\n",
    "        print(bureau_schema[i][0], \"VARCHAR, \")\n",
    "        \n",
    "    elif bureau_schema[i][1] == 'float64':\n",
    "        print(bureau_schema[i][0], \"DECIMAL, \")"
   ]
  },
  {
   "cell_type": "markdown",
   "metadata": {},
   "source": [
    "# CONNECT PYTHON WITH SQL DATABASE:"
   ]
  },
  {
   "cell_type": "code",
   "execution_count": 53,
   "metadata": {},
   "outputs": [],
   "source": [
    "## Create engine to connect with PostgreSQL Database\n",
    "engine = create_engine('postgresql://kbajina:@localhost/home_credit_default_risk')"
   ]
  },
  {
   "cell_type": "code",
   "execution_count": 54,
   "metadata": {},
   "outputs": [],
   "source": [
    "## Create table in SQL using `application_df` DataFrame\n",
    "application_df.to_sql('applications', con=engine)"
   ]
  },
  {
   "cell_type": "code",
   "execution_count": 65,
   "metadata": {},
   "outputs": [],
   "source": [
    "application_df.to_csv('applications_test.csv')"
   ]
  },
  {
   "cell_type": "markdown",
   "metadata": {},
   "source": [
    "# LOGISTIC REGRESSION:"
   ]
  },
  {
   "cell_type": "code",
   "execution_count": 55,
   "metadata": {},
   "outputs": [
    {
     "data": {
      "text/html": [
       "<div>\n",
       "<style scoped>\n",
       "    .dataframe tbody tr th:only-of-type {\n",
       "        vertical-align: middle;\n",
       "    }\n",
       "\n",
       "    .dataframe tbody tr th {\n",
       "        vertical-align: top;\n",
       "    }\n",
       "\n",
       "    .dataframe thead th {\n",
       "        text-align: right;\n",
       "    }\n",
       "</style>\n",
       "<table border=\"1\" class=\"dataframe\">\n",
       "  <thead>\n",
       "    <tr style=\"text-align: right;\">\n",
       "      <th></th>\n",
       "      <th>SK_ID_CURR</th>\n",
       "      <th>TARGET</th>\n",
       "      <th>NAME_CONTRACT_TYPE</th>\n",
       "      <th>CODE_GENDER</th>\n",
       "      <th>FLAG_OWN_CAR</th>\n",
       "      <th>FLAG_OWN_REALTY</th>\n",
       "      <th>CNT_CHILDREN</th>\n",
       "      <th>AMT_INCOME_TOTAL</th>\n",
       "      <th>AMT_CREDIT</th>\n",
       "      <th>AMT_ANNUITY</th>\n",
       "      <th>...</th>\n",
       "      <th>FLAG_DOCUMENT_18</th>\n",
       "      <th>FLAG_DOCUMENT_19</th>\n",
       "      <th>FLAG_DOCUMENT_20</th>\n",
       "      <th>FLAG_DOCUMENT_21</th>\n",
       "      <th>AMT_REQ_CREDIT_BUREAU_HOUR</th>\n",
       "      <th>AMT_REQ_CREDIT_BUREAU_DAY</th>\n",
       "      <th>AMT_REQ_CREDIT_BUREAU_WEEK</th>\n",
       "      <th>AMT_REQ_CREDIT_BUREAU_MON</th>\n",
       "      <th>AMT_REQ_CREDIT_BUREAU_QRT</th>\n",
       "      <th>AMT_REQ_CREDIT_BUREAU_YEAR</th>\n",
       "    </tr>\n",
       "  </thead>\n",
       "  <tbody>\n",
       "    <tr>\n",
       "      <th>0</th>\n",
       "      <td>100002</td>\n",
       "      <td>1</td>\n",
       "      <td>Cash loans</td>\n",
       "      <td>M</td>\n",
       "      <td>N</td>\n",
       "      <td>Y</td>\n",
       "      <td>0</td>\n",
       "      <td>202500.0</td>\n",
       "      <td>406597.5</td>\n",
       "      <td>24700.5</td>\n",
       "      <td>...</td>\n",
       "      <td>0</td>\n",
       "      <td>0</td>\n",
       "      <td>0</td>\n",
       "      <td>0</td>\n",
       "      <td>0.0</td>\n",
       "      <td>0.0</td>\n",
       "      <td>0.0</td>\n",
       "      <td>0.0</td>\n",
       "      <td>0.0</td>\n",
       "      <td>1.0</td>\n",
       "    </tr>\n",
       "    <tr>\n",
       "      <th>1</th>\n",
       "      <td>100003</td>\n",
       "      <td>0</td>\n",
       "      <td>Cash loans</td>\n",
       "      <td>F</td>\n",
       "      <td>N</td>\n",
       "      <td>N</td>\n",
       "      <td>0</td>\n",
       "      <td>270000.0</td>\n",
       "      <td>1293502.5</td>\n",
       "      <td>35698.5</td>\n",
       "      <td>...</td>\n",
       "      <td>0</td>\n",
       "      <td>0</td>\n",
       "      <td>0</td>\n",
       "      <td>0</td>\n",
       "      <td>0.0</td>\n",
       "      <td>0.0</td>\n",
       "      <td>0.0</td>\n",
       "      <td>0.0</td>\n",
       "      <td>0.0</td>\n",
       "      <td>0.0</td>\n",
       "    </tr>\n",
       "    <tr>\n",
       "      <th>2</th>\n",
       "      <td>100004</td>\n",
       "      <td>0</td>\n",
       "      <td>Revolving loans</td>\n",
       "      <td>M</td>\n",
       "      <td>Y</td>\n",
       "      <td>Y</td>\n",
       "      <td>0</td>\n",
       "      <td>67500.0</td>\n",
       "      <td>135000.0</td>\n",
       "      <td>6750.0</td>\n",
       "      <td>...</td>\n",
       "      <td>0</td>\n",
       "      <td>0</td>\n",
       "      <td>0</td>\n",
       "      <td>0</td>\n",
       "      <td>0.0</td>\n",
       "      <td>0.0</td>\n",
       "      <td>0.0</td>\n",
       "      <td>0.0</td>\n",
       "      <td>0.0</td>\n",
       "      <td>0.0</td>\n",
       "    </tr>\n",
       "    <tr>\n",
       "      <th>3</th>\n",
       "      <td>100006</td>\n",
       "      <td>0</td>\n",
       "      <td>Cash loans</td>\n",
       "      <td>F</td>\n",
       "      <td>N</td>\n",
       "      <td>Y</td>\n",
       "      <td>0</td>\n",
       "      <td>135000.0</td>\n",
       "      <td>312682.5</td>\n",
       "      <td>29686.5</td>\n",
       "      <td>...</td>\n",
       "      <td>0</td>\n",
       "      <td>0</td>\n",
       "      <td>0</td>\n",
       "      <td>0</td>\n",
       "      <td>NaN</td>\n",
       "      <td>NaN</td>\n",
       "      <td>NaN</td>\n",
       "      <td>NaN</td>\n",
       "      <td>NaN</td>\n",
       "      <td>NaN</td>\n",
       "    </tr>\n",
       "    <tr>\n",
       "      <th>4</th>\n",
       "      <td>100007</td>\n",
       "      <td>0</td>\n",
       "      <td>Cash loans</td>\n",
       "      <td>M</td>\n",
       "      <td>N</td>\n",
       "      <td>Y</td>\n",
       "      <td>0</td>\n",
       "      <td>121500.0</td>\n",
       "      <td>513000.0</td>\n",
       "      <td>21865.5</td>\n",
       "      <td>...</td>\n",
       "      <td>0</td>\n",
       "      <td>0</td>\n",
       "      <td>0</td>\n",
       "      <td>0</td>\n",
       "      <td>0.0</td>\n",
       "      <td>0.0</td>\n",
       "      <td>0.0</td>\n",
       "      <td>0.0</td>\n",
       "      <td>0.0</td>\n",
       "      <td>0.0</td>\n",
       "    </tr>\n",
       "  </tbody>\n",
       "</table>\n",
       "<p>5 rows × 122 columns</p>\n",
       "</div>"
      ],
      "text/plain": [
       "   SK_ID_CURR  TARGET NAME_CONTRACT_TYPE CODE_GENDER FLAG_OWN_CAR  \\\n",
       "0      100002       1         Cash loans           M            N   \n",
       "1      100003       0         Cash loans           F            N   \n",
       "2      100004       0    Revolving loans           M            Y   \n",
       "3      100006       0         Cash loans           F            N   \n",
       "4      100007       0         Cash loans           M            N   \n",
       "\n",
       "  FLAG_OWN_REALTY  CNT_CHILDREN  AMT_INCOME_TOTAL  AMT_CREDIT  AMT_ANNUITY  \\\n",
       "0               Y             0          202500.0    406597.5      24700.5   \n",
       "1               N             0          270000.0   1293502.5      35698.5   \n",
       "2               Y             0           67500.0    135000.0       6750.0   \n",
       "3               Y             0          135000.0    312682.5      29686.5   \n",
       "4               Y             0          121500.0    513000.0      21865.5   \n",
       "\n",
       "   ...  FLAG_DOCUMENT_18 FLAG_DOCUMENT_19 FLAG_DOCUMENT_20 FLAG_DOCUMENT_21  \\\n",
       "0  ...                 0                0                0                0   \n",
       "1  ...                 0                0                0                0   \n",
       "2  ...                 0                0                0                0   \n",
       "3  ...                 0                0                0                0   \n",
       "4  ...                 0                0                0                0   \n",
       "\n",
       "  AMT_REQ_CREDIT_BUREAU_HOUR AMT_REQ_CREDIT_BUREAU_DAY  \\\n",
       "0                        0.0                       0.0   \n",
       "1                        0.0                       0.0   \n",
       "2                        0.0                       0.0   \n",
       "3                        NaN                       NaN   \n",
       "4                        0.0                       0.0   \n",
       "\n",
       "   AMT_REQ_CREDIT_BUREAU_WEEK  AMT_REQ_CREDIT_BUREAU_MON  \\\n",
       "0                         0.0                        0.0   \n",
       "1                         0.0                        0.0   \n",
       "2                         0.0                        0.0   \n",
       "3                         NaN                        NaN   \n",
       "4                         0.0                        0.0   \n",
       "\n",
       "   AMT_REQ_CREDIT_BUREAU_QRT  AMT_REQ_CREDIT_BUREAU_YEAR  \n",
       "0                        0.0                         1.0  \n",
       "1                        0.0                         0.0  \n",
       "2                        0.0                         0.0  \n",
       "3                        NaN                         NaN  \n",
       "4                        0.0                         0.0  \n",
       "\n",
       "[5 rows x 122 columns]"
      ]
     },
     "execution_count": 55,
     "metadata": {},
     "output_type": "execute_result"
    }
   ],
   "source": [
    "application_df.head()"
   ]
  },
  {
   "cell_type": "code",
   "execution_count": 69,
   "metadata": {},
   "outputs": [],
   "source": [
    "application_df.dropna(inplace=True)"
   ]
  },
  {
   "cell_type": "code",
   "execution_count": 64,
   "metadata": {},
   "outputs": [
    {
     "data": {
      "text/plain": [
       "0    282686\n",
       "1     24825\n",
       "Name: TARGET, dtype: int64"
      ]
     },
     "execution_count": 64,
     "metadata": {},
     "output_type": "execute_result"
    }
   ],
   "source": [
    "application_df['TARGET'].value_counts()"
   ]
  },
  {
   "cell_type": "code",
   "execution_count": 72,
   "metadata": {},
   "outputs": [],
   "source": [
    "X = application_df.loc[:, ['AMT_INCOME_TOTAL', 'AMT_CREDIT', 'AMT_ANNUITY']]\n",
    "\n",
    "y = application_df.loc[:,'TARGET']\n",
    "\n",
    "X_train, X_test, y_train, y_test = train_test_split(X, y, test_size = 0.2, random_state=42)"
   ]
  },
  {
   "cell_type": "code",
   "execution_count": 73,
   "metadata": {},
   "outputs": [
    {
     "data": {
      "text/plain": [
       "LogisticRegression(C=1000, class_weight=None, dual=False, fit_intercept=True,\n",
       "                   intercept_scaling=1, l1_ratio=None, max_iter=100,\n",
       "                   multi_class='warn', n_jobs=None, penalty='l2',\n",
       "                   random_state=None, solver='liblinear', tol=0.0001, verbose=0,\n",
       "                   warm_start=False)"
      ]
     },
     "execution_count": 73,
     "metadata": {},
     "output_type": "execute_result"
    }
   ],
   "source": [
    "lm1 = LogisticRegression(solver= 'liblinear', C=1000)\n",
    "lm1.fit(X_train, y_train)\n"
   ]
  },
  {
   "cell_type": "code",
   "execution_count": 74,
   "metadata": {},
   "outputs": [
    {
     "data": {
      "text/plain": [
       "0.9372184275541345"
      ]
     },
     "execution_count": 74,
     "metadata": {},
     "output_type": "execute_result"
    }
   ],
   "source": [
    "lm1.score(X_train, y_train)"
   ]
  },
  {
   "cell_type": "code",
   "execution_count": 76,
   "metadata": {},
   "outputs": [
    {
     "data": {
      "text/plain": [
       "0.9453805926786751"
      ]
     },
     "execution_count": 76,
     "metadata": {},
     "output_type": "execute_result"
    }
   ],
   "source": [
    "y_predict = lm1.predict(X_test)  # This is a hard classifier\n",
    "lm1.score(X_test, y_test)"
   ]
  }
 ],
 "metadata": {
  "kernelspec": {
   "display_name": "Python 3",
   "language": "python",
   "name": "python3"
  },
  "language_info": {
   "codemirror_mode": {
    "name": "ipython",
    "version": 3
   },
   "file_extension": ".py",
   "mimetype": "text/x-python",
   "name": "python",
   "nbconvert_exporter": "python",
   "pygments_lexer": "ipython3",
   "version": "3.7.3"
  }
 },
 "nbformat": 4,
 "nbformat_minor": 2
}
